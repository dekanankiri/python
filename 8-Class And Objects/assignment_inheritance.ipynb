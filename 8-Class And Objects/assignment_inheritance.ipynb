{
 "cells": [
  {
   "cell_type": "markdown",
   "id": "7ab3df41",
   "metadata": {},
   "source": [
    "# Module: Inheritance Assignments\n",
    "## Lesson: Single and Multiple Inheritance\n",
    "### Assignment 1: Single Inheritance Basic\n",
    "\n",
    "Create a base class named `Animal` with attributes `name` and `species`. Create a derived class named `Dog` that inherits from `Animal` and adds an attribute `breed`. Create an object of the `Dog` class and print its attributes."
   ]
  },
  {
   "cell_type": "code",
   "execution_count": 2,
   "id": "3f658f4e",
   "metadata": {},
   "outputs": [
    {
     "name": "stdout",
     "output_type": "stream",
     "text": [
      "Cup cake Bull dawg nigger\n"
     ]
    }
   ],
   "source": [
    "class Animal:\n",
    "  def __init__(self,name,species):\n",
    "    self.name = name\n",
    "    self.species = species\n",
    "\n",
    "class Dog(Animal):\n",
    "  def __init__(self,name,species,breed):\n",
    "    super().__init__(name,species)\n",
    "    self.breed = breed\n",
    "\n",
    "dog = Dog(\"Cup cake\", \"Bull dawg\", \"nigger\")\n",
    "print(dog.name, dog.species,dog.breed)"
   ]
  },
  {
   "cell_type": "markdown",
   "id": "baab7e87",
   "metadata": {},
   "source": [
    "### Assignment 2: Method Overriding in Single Inheritance\n",
    "\n",
    "In the `Dog` class, override the `__str__` method to return a string representation of the object. Create an object of the class and print it."
   ]
  },
  {
   "cell_type": "code",
   "execution_count": 4,
   "id": "2c2429e5",
   "metadata": {},
   "outputs": [
    {
     "name": "stdout",
     "output_type": "stream",
     "text": [
      "name: Cup cake, species: Bull dawg, breed: nigger\n"
     ]
    }
   ],
   "source": [
    "class Dog(Animal):\n",
    "  def __init__(self,name,species,breed):\n",
    "    super().__init__(name,species)\n",
    "    self.breed = breed\n",
    "\n",
    "  def __str__(self):\n",
    "    return f\"name: {self.name}, species: {self.species}, breed: {self.breed}\"\n",
    "\n",
    "\n",
    "dog = Dog(\"Cup cake\", \"Bull dawg\", \"nigger\")\n",
    "print(dog)"
   ]
  },
  {
   "cell_type": "markdown",
   "id": "336dcf17",
   "metadata": {},
   "source": [
    "### Assignment 3: Single Inheritance with Additional Methods\n",
    "\n",
    "In the `Dog` class, add a method named `bark` that prints a barking sound. Create an object of the class and call the method."
   ]
  },
  {
   "cell_type": "code",
   "execution_count": 5,
   "id": "5cdf3daf",
   "metadata": {},
   "outputs": [
    {
     "name": "stdout",
     "output_type": "stream",
     "text": [
      "Cup cake says woof!\n"
     ]
    }
   ],
   "source": [
    "class Dog(Animal):\n",
    "  def __init__(self,name,species,breed):\n",
    "    super().__init__(name,species)\n",
    "    self.breed = breed\n",
    "\n",
    "  def __str__(self):\n",
    "    return f\"name: {self.name}, species: {self.species}, breed: {self.breed}\"\n",
    "\n",
    "  def bark(self):\n",
    "    return print(f\"{self.name} says woof!\")\n",
    "  \n",
    "dog = Dog(\"Cup cake\", \"Bull dawg\", \"nigger\")\n",
    "dog.bark()"
   ]
  },
  {
   "cell_type": "markdown",
   "id": "0411da74",
   "metadata": {},
   "source": [
    "### Assignment 4: Multiple Inheritance Basic\n",
    "\n",
    "Create a base class named `Walker` with a method `walk` that prints a walking message. Create another base class named `Runner` with a method `run` that prints a running message. Create a derived class named `Athlete` that inherits from both `Walker` and `Runner`. Create an object of the `Athlete` class and call both methods."
   ]
  },
  {
   "cell_type": "code",
   "execution_count": 6,
   "id": "a2648394",
   "metadata": {},
   "outputs": [
    {
     "name": "stdout",
     "output_type": "stream",
     "text": [
      "walking\n",
      "Run bitch!\n"
     ]
    }
   ],
   "source": [
    "class Walker:\n",
    "  def walk(self):\n",
    "    print(\"walking\")\n",
    "\n",
    "class Runner:\n",
    "  def run(self):\n",
    "    print(\"Run bitch!\")\n",
    "\n",
    "class Athlete(Walker,Runner):\n",
    "  pass\n",
    "\n",
    "Deka = Athlete()\n",
    "Deka.walk()\n",
    "Deka.run()\n"
   ]
  },
  {
   "cell_type": "markdown",
   "id": "3594fe5f",
   "metadata": {},
   "source": [
    "### Assignment 5: Method Resolution Order (MRO) in Multiple Inheritance\n",
    "\n",
    "In the `Athlete` class, override the `walk` method to print a different message. Create an object of the class and call the `walk` method. Use the `super()` function to call the `walk` method of the `Walker` class."
   ]
  },
  {
   "cell_type": "code",
   "execution_count": 8,
   "id": "304605bb",
   "metadata": {},
   "outputs": [
    {
     "name": "stdout",
     "output_type": "stream",
     "text": [
      "Why are you wwalking? RUNNNN BITCHHH!!!\n",
      "walking\n"
     ]
    }
   ],
   "source": [
    "class Walker:\n",
    "  def walk(self):\n",
    "    print(\"walking\")\n",
    "\n",
    "class Runner:\n",
    "  def run(self):\n",
    "    print(\"Run bitch!\")\n",
    "\n",
    "class Athlete(Walker,Runner):\n",
    "  def walk(self):\n",
    "    print(\"Why are you wwalking? RUNNNN BITCHHH!!!\")\n",
    "    super().walk()\n",
    "\n",
    "Deka = Athlete()\n",
    "Deka.walk()\n",
    "\n"
   ]
  },
  {
   "cell_type": "markdown",
   "id": "44f81d31",
   "metadata": {},
   "source": [
    "### Assignment 6: Multiple Inheritance with Additional Attributes\n",
    "\n",
    "In the `Athlete` class, add an attribute `training_hours` and a method `train` that prints the training hours. Create an object of the class and call the method."
   ]
  },
  {
   "cell_type": "code",
   "execution_count": 10,
   "id": "439a9f30",
   "metadata": {},
   "outputs": [
    {
     "name": "stdout",
     "output_type": "stream",
     "text": [
      "athlete train about 2 hours\n",
      "walking\n"
     ]
    }
   ],
   "source": [
    "class Walker:\n",
    "  def walk(self):\n",
    "    print(\"walking\")\n",
    "\n",
    "class Runner:\n",
    "  def run(self):\n",
    "    print(\"Run bitch!\")\n",
    "\n",
    "class Athlete(Walker,Runner):\n",
    "  def __init__(self,training_hours):\n",
    "    self.training_hours = training_hours\n",
    "  \n",
    "  def train(self):\n",
    "    print(f\"athlete train about {self.training_hours} hours\")\n",
    "\n",
    "Deka = Athlete(2)\n",
    "Deka.train()\n",
    "Deka.walk()\n",
    "\n",
    "\n"
   ]
  },
  {
   "cell_type": "markdown",
   "id": "69e0bdb6",
   "metadata": {},
   "source": [
    "### Assignment 7: Diamond Problem in Multiple Inheritance\n",
    "\n",
    "Create a class named `A` with a method `show` that prints a message. Create two derived classes `B` and `C` that inherit from `A` and override the `show` method. Create a class `D` that inherits from both `B` and `C`. Create an object of the `D` class and call the `show` method. Observe the method resolution order."
   ]
  },
  {
   "cell_type": "code",
   "execution_count": 13,
   "id": "8c9fe7fb",
   "metadata": {},
   "outputs": [
    {
     "name": "stdout",
     "output_type": "stream",
     "text": [
      "This is overrided show method from B\n"
     ]
    }
   ],
   "source": [
    "class A:\n",
    "  def show(self):\n",
    "    print(\"This is show method from class A\")\n",
    "\n",
    "class B(A):\n",
    "  def show(self):\n",
    "    print(\"This is overrided show method from B\")\n",
    "\n",
    "class C(A):\n",
    "  def show(self):\n",
    "    print(\"This is overrided show method from c\")\n",
    "\n",
    "class D(B,C):\n",
    "  pass\n",
    "\n",
    "d = D()\n",
    "d.show()"
   ]
  },
  {
   "cell_type": "markdown",
   "id": "a3481548",
   "metadata": {},
   "source": [
    "### Assignment 8: Using `super()` in Single Inheritance\n",
    "\n",
    "Create a base class named `Shape` with an attribute `color`. Create a derived class named `Circle` that inherits from `Shape` and adds an attribute `radius`. Use the `super()` function to initialize the attributes. Create an object of the `Circle` class and print its attributes."
   ]
  },
  {
   "cell_type": "code",
   "execution_count": 14,
   "id": "e1b5e237",
   "metadata": {},
   "outputs": [
    {
     "name": "stdout",
     "output_type": "stream",
     "text": [
      "Red 7\n"
     ]
    }
   ],
   "source": [
    "class Shape:\n",
    "  def __init__(self,color):\n",
    "    self.color = color\n",
    "\n",
    "class Circle(Shape):\n",
    "  def __init__(self,color,radius):\n",
    "    super().__init__(color)\n",
    "    self.radius = radius\n",
    "\n",
    "circle = Circle(\"Red\",7)\n",
    "print(circle.color,circle.radius)"
   ]
  },
  {
   "cell_type": "markdown",
   "id": "cdc361b7",
   "metadata": {},
   "source": [
    "### Assignment 9: Using `super()` in Multiple Inheritance\n",
    "\n",
    "Create a class named `Person` with an attribute `name`. Create a class named `Employee` with an attribute `employee_id`. Create a derived class `Manager` that inherits from both `Person` and `Employee`. Use the `super()` function to initialize the attributes. Create an object of the `Manager` class and print its attributes."
   ]
  },
  {
   "cell_type": "code",
   "execution_count": 22,
   "id": "8e9a984b",
   "metadata": {},
   "outputs": [
    {
     "name": "stdout",
     "output_type": "stream",
     "text": [
      "name: deka, employee_id: 222\n"
     ]
    }
   ],
   "source": [
    "class Person:\n",
    "  def __init__(self,name):\n",
    "    self.name = name\n",
    "\n",
    "class Employee:\n",
    "  def __init__(self,employee_id):\n",
    "    self.employee_id = employee_id\n",
    "\n",
    "class Manager(Employee,Person):\n",
    "  def __init__(self,name,employee_id):\n",
    "    super().__init__(employee_id)\n",
    "    Person.__init__(self,name)\n",
    "\n",
    "deka = Manager(\"deka\",222)\n",
    "print(f\"name: {deka.name}, employee_id: {deka.employee_id}\")"
   ]
  },
  {
   "cell_type": "markdown",
   "id": "fbf2f0bc",
   "metadata": {},
   "source": [
    "### Assignment 10: Method Overriding and `super()`\n",
    "\n",
    "Create a class named `Vehicle` with a method `start` that prints a starting message. Create a derived class `Car` that overrides the `start` method to print a different message. Use the `super()` function to call the `start` method of the `Vehicle` class. Create an object of the `Car` class and call the `start` method."
   ]
  },
  {
   "cell_type": "code",
   "execution_count": 23,
   "id": "fcdd26b9",
   "metadata": {},
   "outputs": [
    {
     "name": "stdout",
     "output_type": "stream",
     "text": [
      "Start Lambo Car\n",
      "start...\n"
     ]
    }
   ],
   "source": [
    "class Vehicle:\n",
    "  def start(self):\n",
    "    print(\"start...\")\n",
    "\n",
    "class Car(Vehicle):\n",
    "  def start(self):\n",
    "    print(\"Start Lambo Car\")\n",
    "    super().start()\n",
    "\n",
    "car = Car()\n",
    "car.start()\n"
   ]
  },
  {
   "cell_type": "markdown",
   "id": "fe0010ef",
   "metadata": {},
   "source": [
    "### Assignment 11: Multiple Inheritance with Different Methods\n",
    "\n",
    "Create a class named `Flyer` with a method `fly` that prints a flying message. Create a class named `Swimmer` with a method `swim` that prints a swimming message. Create a derived class `Superhero` that inherits from both `Flyer` and `Swimmer`. Create an object of the `Superhero` class and call both methods."
   ]
  },
  {
   "cell_type": "code",
   "execution_count": 26,
   "id": "b8eb236a",
   "metadata": {},
   "outputs": [
    {
     "name": "stdout",
     "output_type": "stream",
     "text": [
      "Yo im swim nigga\n",
      "Im flyiiiiing\n"
     ]
    }
   ],
   "source": [
    "class Flyer:\n",
    "  def fly(self):\n",
    "    print(\"Im flyiiiiing\")\n",
    "\n",
    "class Swimmer:\n",
    "  def swim(self):\n",
    "    print(\"Yo im swim nigga\")\n",
    "\n",
    "class Superhero(Flyer, Swimmer):\n",
    "  pass\n",
    "\n",
    "superman = Superhero()\n",
    "superman.swim()\n",
    "superman.fly()"
   ]
  },
  {
   "cell_type": "markdown",
   "id": "e2e82904",
   "metadata": {},
   "source": [
    "### Assignment 12: Complex Multiple Inheritance\n",
    "\n",
    "Create a class named `Base1` with an attribute `a`. Create a class named `Base2` with an attribute `b`. Create a class named `Derived` that inherits from both `Base1` and `Base2` and adds an attribute `c`. Initialize all attributes using the `super()` function. Create an object of the `Derived` class and print its attributes."
   ]
  },
  {
   "cell_type": "code",
   "execution_count": 32,
   "id": "554b3912",
   "metadata": {},
   "outputs": [
    {
     "name": "stdout",
     "output_type": "stream",
     "text": [
      "deka 2 caca\n"
     ]
    }
   ],
   "source": [
    "class Base1:\n",
    "  def __init__(self,a):\n",
    "    self.a = a\n",
    "\n",
    "class Base2:\n",
    "  def __init__(self,b):\n",
    "    self.b = b\n",
    "\n",
    "class Derived(Base1,Base2):\n",
    "  def __init__(self,a,b,c):\n",
    "    super().__init__(a)\n",
    "    Base2.__init__(self,b)\n",
    "    self.c = c\n",
    "\n",
    "derived = Derived(\"deka\", 2,\"caca\")\n",
    "print(derived.a,derived.b,derived.c)\n"
   ]
  },
  {
   "cell_type": "markdown",
   "id": "722d9360",
   "metadata": {},
   "source": [
    "### Assignment 13: Checking Instance Types with Inheritance\n",
    "\n",
    "Create a base class named `Animal` and a derived class named `Cat`. Create objects of both classes and use the `isinstance` function to check the instance types."
   ]
  },
  {
   "cell_type": "code",
   "execution_count": 42,
   "id": "f6c72ae9",
   "metadata": {},
   "outputs": [
    {
     "name": "stdout",
     "output_type": "stream",
     "text": [
      "True\n",
      "True\n",
      "True\n",
      "False\n"
     ]
    }
   ],
   "source": [
    "class Animal:\n",
    "  pass\n",
    "\n",
    "class Cat(Animal):\n",
    "  pass\n",
    "\n",
    "cat = Cat()\n",
    "animal = Animal()\n",
    "print(isinstance(cat,Cat))\n",
    "print(isinstance(cat,Animal))\n",
    "print(isinstance(animal,Animal))\n",
    "print(isinstance(animal,Cat))"
   ]
  },
  {
   "cell_type": "markdown",
   "id": "a745f9a4",
   "metadata": {},
   "source": [
    "### Assignment 14: Polymorphism with Inheritance\n",
    "\n",
    "Create a base class named `Bird` with a method `speak`. Create two derived classes `Parrot` and `Penguin` that override the `speak` method. Create a list of `Bird` objects and call the `speak` method on each object to demonstrate polymorphism."
   ]
  },
  {
   "cell_type": "code",
   "execution_count": 44,
   "id": "53a78990",
   "metadata": {},
   "outputs": [
    {
     "name": "stdout",
     "output_type": "stream",
     "text": [
      "ima parrot\n",
      "Ima Penguinn\n"
     ]
    }
   ],
   "source": [
    "class Bird:\n",
    "  def speak(self):\n",
    "    print(\"IMA BIRD\")\n",
    "\n",
    "class Parrot(Bird):\n",
    "  def speak(self):\n",
    "    print(\"ima parrot\")\n",
    "\n",
    "class Penguin(Bird):\n",
    "  def speak(self):\n",
    "    print(\"Ima Penguinn\")\n",
    "\n",
    "birds = [Parrot(), Penguin()]\n",
    "for bird in birds:\n",
    "  bird.speak()"
   ]
  },
  {
   "cell_type": "markdown",
   "id": "4f6c11e8",
   "metadata": {},
   "source": [
    "### Assignment 15: Combining Single and Multiple Inheritance\n",
    "\n",
    "Create a base class named `Device` with an attribute `brand`. Create a derived class `Phone` that inherits from `Device` and adds an attribute `model`. Create another base class `Camera` with an attribute `resolution`. Create a derived class `Smartphone` that inherits from both `Phone` and `Camera`. Create an object of the `Smartphone` class and print its attributes."
   ]
  },
  {
   "cell_type": "code",
   "execution_count": 47,
   "id": "ffa7ee61",
   "metadata": {},
   "outputs": [
    {
     "name": "stdout",
     "output_type": "stream",
     "text": [
      "iphone 16 pro max 100mpx\n"
     ]
    }
   ],
   "source": [
    "class Device:\n",
    "  def __init__(self,brand):\n",
    "    self.brand = brand\n",
    "\n",
    "class Phone(Device):\n",
    "  def __init__(self,brand,model):\n",
    "    super().__init__(brand)\n",
    "    self.model = model\n",
    "\n",
    "class Camera:\n",
    "  def __init__(self,resolution):\n",
    "    self.resolution = resolution\n",
    "\n",
    "class Smartphone(Phone,Camera):\n",
    "  def __init__(self,brand,model,resolution):\n",
    "    Phone.__init__(self,brand,model)\n",
    "    Camera.__init__(self,resolution)\n",
    "\n",
    "samsung = Smartphone(\"iphone\",\"16 pro max\",\"100mpx\")\n",
    "print(samsung.brand,samsung.model,samsung.resolution)"
   ]
  }
 ],
 "metadata": {
  "kernelspec": {
   "display_name": "Python 3",
   "language": "python",
   "name": "python3"
  },
  "language_info": {
   "codemirror_mode": {
    "name": "ipython",
    "version": 3
   },
   "file_extension": ".py",
   "mimetype": "text/x-python",
   "name": "python",
   "nbconvert_exporter": "python",
   "pygments_lexer": "ipython3",
   "version": "3.12.0"
  }
 },
 "nbformat": 4,
 "nbformat_minor": 5
}
