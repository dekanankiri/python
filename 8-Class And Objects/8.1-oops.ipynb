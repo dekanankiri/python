{
 "cells": [
  {
   "cell_type": "code",
   "execution_count": 3,
   "id": "6e563b84",
   "metadata": {},
   "outputs": [
    {
     "name": "stdout",
     "output_type": "stream",
     "text": [
      "<class '__main__.Car'>\n"
     ]
    }
   ],
   "source": [
    "### A class is a blue print for creating  objects, attributes, methods.\n",
    "class Car:\n",
    "  pass\n",
    "\n",
    "audi = Car()\n",
    "bmw = Car()\n",
    "\n",
    "print(type(audi))"
   ]
  },
  {
   "cell_type": "code",
   "execution_count": 4,
   "id": "908213b3",
   "metadata": {},
   "outputs": [
    {
     "name": "stdout",
     "output_type": "stream",
     "text": [
      "<__main__.Car object at 0x0000026602A4A2D0>\n",
      "<__main__.Car object at 0x00000266028BBB90>\n"
     ]
    }
   ],
   "source": [
    "print(audi)\n",
    "print(bmw)"
   ]
  },
  {
   "cell_type": "code",
   "execution_count": 9,
   "id": "fe5faa1f",
   "metadata": {},
   "outputs": [
    {
     "name": "stdout",
     "output_type": "stream",
     "text": [
      "Buddy\n",
      "4\n"
     ]
    }
   ],
   "source": [
    "### Instance Variable and Methods\n",
    "class Dog:\n",
    "  ## constructor\n",
    "  def __init__(self,name,age):\n",
    "    self.name=name\n",
    "    self.age=age\n",
    "\n",
    "## create objects\n",
    "dog1=Dog(\"Buddy\",4)\n",
    "print(dog1.name)\n",
    "print(dog1.age)"
   ]
  },
  {
   "cell_type": "code",
   "execution_count": 10,
   "id": "2877e0e6",
   "metadata": {},
   "outputs": [
    {
     "name": "stdout",
     "output_type": "stream",
     "text": [
      "astroid destroyer\n",
      "2\n"
     ]
    }
   ],
   "source": [
    "dog2=Dog(\"astroid destroyer\",2)\n",
    "print(dog2.name)\n",
    "print(dog2.age)"
   ]
  },
  {
   "cell_type": "code",
   "execution_count": 11,
   "id": "071d4c62",
   "metadata": {},
   "outputs": [
    {
     "name": "stdout",
     "output_type": "stream",
     "text": [
      "Astroid Destroyer says woof\n"
     ]
    }
   ],
   "source": [
    "## Define a class with instance methods\n",
    "class Dog:\n",
    "  def __init__(self,name,age):\n",
    "    self.name = name\n",
    "    self.age  = age\n",
    "  \n",
    "  def bark(self):\n",
    "    print(f\"{self.name} says woof\")\n",
    "\n",
    "Astroid_Destroyer = Dog(\"Astroid Destroyer\",3)\n",
    "Astroid_Destroyer.bark()"
   ]
  },
  {
   "cell_type": "code",
   "execution_count": 12,
   "id": "437bfaf1",
   "metadata": {},
   "outputs": [
    {
     "name": "stdout",
     "output_type": "stream",
     "text": [
      "100000\n"
     ]
    }
   ],
   "source": [
    "### Modeling a Bank Account\n",
    "\n",
    "## Define a class for bank account\n",
    "class Bankaccount:\n",
    "  def __init__(self,owner,balance):\n",
    "    self.owner = owner\n",
    "    self.balance = balance\n",
    "\n",
    "  def deposit(self,amount):\n",
    "    self.balance += amount\n",
    "    print(f\"{amount} is deposited. New balace is {self.balance}\")\n",
    "  \n",
    "  def withdraw(self,amount):\n",
    "    if self.balance<amount:\n",
    "      print(\"Insufficient funds!\")\n",
    "    else:\n",
    "      self.balance -= amount\n",
    "      print(f\"{amount} is withdraw, New Balance is {self.balance}\")\n",
    "  \n",
    "  def get_balance(self):\n",
    "    return self.balance\n",
    "\n",
    "## create an account\n",
    "\n",
    "account=Bankaccount(\"Deka\",100000)\n",
    "print(account.balance)"
   ]
  },
  {
   "cell_type": "code",
   "execution_count": 13,
   "id": "053a3816",
   "metadata": {},
   "outputs": [
    {
     "name": "stdout",
     "output_type": "stream",
     "text": [
      "100000 is deposited. New balace is 200000\n"
     ]
    }
   ],
   "source": [
    "## call instance method\n",
    "account.deposit(100000)"
   ]
  },
  {
   "cell_type": "code",
   "execution_count": 14,
   "id": "92cea846",
   "metadata": {},
   "outputs": [
    {
     "name": "stdout",
     "output_type": "stream",
     "text": [
      "1000 is withdraw, New Balance is 199000\n"
     ]
    }
   ],
   "source": [
    "account.withdraw(1000)"
   ]
  },
  {
   "cell_type": "code",
   "execution_count": 15,
   "id": "46bed433",
   "metadata": {},
   "outputs": [
    {
     "data": {
      "text/plain": [
       "199000"
      ]
     },
     "execution_count": 15,
     "metadata": {},
     "output_type": "execute_result"
    }
   ],
   "source": [
    "account.get_balance()"
   ]
  }
 ],
 "metadata": {
  "kernelspec": {
   "display_name": "Python 3",
   "language": "python",
   "name": "python3"
  },
  "language_info": {
   "codemirror_mode": {
    "name": "ipython",
    "version": 3
   },
   "file_extension": ".py",
   "mimetype": "text/x-python",
   "name": "python",
   "nbconvert_exporter": "python",
   "pygments_lexer": "ipython3",
   "version": "3.12.0"
  }
 },
 "nbformat": 4,
 "nbformat_minor": 5
}
