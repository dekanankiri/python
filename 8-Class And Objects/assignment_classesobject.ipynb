{
 "cells": [
  {
   "cell_type": "markdown",
   "id": "d02e00f7",
   "metadata": {},
   "source": [
    "# Module: Classes and Objects Assignments\n",
    "## Lesson: Creating and Working with Classes and Objects\n",
    "### Assignment 1: Basic Class and Object Creation\n",
    "\n",
    "Create a class named `Car` with attributes `make`, `model`, and `year`. Create an object of the class and print its attributes."
   ]
  },
  {
   "cell_type": "code",
   "execution_count": 1,
   "id": "dc10bc04",
   "metadata": {},
   "outputs": [
    {
     "name": "stdout",
     "output_type": "stream",
     "text": [
      "Di umur 25 nanti InsyaAllah saya akan membeli mobil Toyota Fortuner\n"
     ]
    }
   ],
   "source": [
    "class Car:\n",
    "  def __init__(self,make,model,year):\n",
    "    self.make = make\n",
    "    self.model = model\n",
    "    self.year = year\n",
    "\n",
    "mycar = Car(\"Toyota\", \"Fortuner\", 2025)\n",
    "\n",
    "print(f\"Di umur 25 nanti InsyaAllah saya akan membeli mobil {mycar.make} {mycar.model}\")"
   ]
  },
  {
   "cell_type": "markdown",
   "id": "6db33582",
   "metadata": {},
   "source": [
    "### Assignment 2: Methods in Class\n",
    "\n",
    "Add a method named `start_engine` to the `Car` class that prints a message when the engine starts. Create an object of the class and call the method."
   ]
  },
  {
   "cell_type": "code",
   "execution_count": 3,
   "id": "c596d8e2",
   "metadata": {},
   "outputs": [
    {
     "data": {
      "text/plain": [
       "'Engine start... Ready to drive!'"
      ]
     },
     "execution_count": 3,
     "metadata": {},
     "output_type": "execute_result"
    }
   ],
   "source": [
    "class Car:\n",
    "  def __init__(self,make,model,year):\n",
    "    self.make = make\n",
    "    self.model = model\n",
    "    self.year = year\n",
    "  \n",
    "  def start_engine(self):\n",
    "    return(\"Engine start... Ready to drive!\")\n",
    "\n",
    "mycar = Car(\"Toyota\", \"Fortuner\", 2025)\n",
    "mycar.start_engine()\n"
   ]
  },
  {
   "cell_type": "markdown",
   "id": "23583213",
   "metadata": {},
   "source": [
    "### Assignment 3: Class with Constructor\n",
    "\n",
    "Create a class named `Student` with attributes `name` and `age`. Use a constructor to initialize these attributes. Create an object of the class and print its attributes."
   ]
  },
  {
   "cell_type": "code",
   "execution_count": 6,
   "id": "645015ef",
   "metadata": {},
   "outputs": [
    {
     "name": "stdout",
     "output_type": "stream",
     "text": [
      "Deka 20\n"
     ]
    }
   ],
   "source": [
    "class Student:\n",
    "  def __init__(self,name,age):\n",
    "    self.name=name\n",
    "    self.age=age\n",
    "\n",
    "me = Student(\"Deka\",20)\n",
    "print(me.name, me.age)"
   ]
  },
  {
   "cell_type": "markdown",
   "id": "a0eb904f",
   "metadata": {},
   "source": [
    "### Assignment 4: Class with Private Attributes\n",
    "\n",
    "Create a class named `BankAccount` with private attributes `account_number` and `balance`. Add methods to deposit and withdraw money, and to check the balance. Create an object of the class and perform some operations."
   ]
  },
  {
   "cell_type": "code",
   "execution_count": 9,
   "id": "b939302d",
   "metadata": {},
   "outputs": [
    {
     "name": "stdout",
     "output_type": "stream",
     "text": [
      "100000 deposited to your account. New balance: 200000\n",
      "withdraw 3000 are successfull. Your New Balance is 197000\n"
     ]
    },
    {
     "data": {
      "text/plain": [
       "197000"
      ]
     },
     "execution_count": 9,
     "metadata": {},
     "output_type": "execute_result"
    }
   ],
   "source": [
    "class BankAccount:\n",
    "  def __init__(self,account_number,balance):\n",
    "    self.account_number = account_number\n",
    "    self.balance = balance\n",
    "  \n",
    "  def deposit(self,amount):\n",
    "    self.balance += amount\n",
    "    print(f\"{amount} deposited to your account. New balance: {self.balance}\")\n",
    "\n",
    "  def withdraw(self,amount):\n",
    "    if self.balance<amount:\n",
    "      print(\"insufficient fund!\")\n",
    "    else:\n",
    "      self.balance-=amount\n",
    "      print(f\"withdraw {amount} are successfull. Your New Balance is {self.balance}\")\n",
    "\n",
    "  def get_balance(self):\n",
    "    return self.balance\n",
    "\n",
    "\n",
    "DekaAccount = BankAccount(222313233,100000,)\n",
    "\n",
    "## depo\n",
    "DekaAccount.deposit(100000)\n",
    "\n",
    "## withdrawal\n",
    "DekaAccount.withdraw(3000)\n",
    "\n",
    "## balance\n",
    "DekaAccount.get_balance()"
   ]
  },
  {
   "cell_type": "markdown",
   "id": "3bf11cf7",
   "metadata": {},
   "source": [
    "### Assignment 5: Class Inheritance\n",
    "\n",
    "Create a base class named `Person` with attributes `name` and `age`. Create a derived class named `Employee` that inherits from `Person` and adds an attribute `employee_id`. Create an object of the derived class and print its attributes."
   ]
  },
  {
   "cell_type": "code",
   "execution_count": 10,
   "id": "9d4cde08",
   "metadata": {},
   "outputs": [
    {
     "name": "stdout",
     "output_type": "stream",
     "text": [
      "Deka 20 AI1121\n"
     ]
    }
   ],
   "source": [
    "class Person:\n",
    "  def __init__(self,name,age):\n",
    "    self.name=name\n",
    "    self.age=age\n",
    "\n",
    "class Employee(Person):\n",
    "  def __init__(self,name,age,employee_id):\n",
    "    super().__init__(name,age)\n",
    "    self.employee_id = employee_id\n",
    "\n",
    "employee = Employee(\"Deka\",20,\"AI1121\")\n",
    "print(employee.name,employee.age,employee.employee_id)"
   ]
  },
  {
   "cell_type": "markdown",
   "id": "95b6bf49",
   "metadata": {},
   "source": [
    "### Assignment 6: Method Overriding\n",
    "\n",
    "In the `Employee` class, override the `__str__` method to return a string representation of the object. Create an object of the class and print it."
   ]
  },
  {
   "cell_type": "code",
   "execution_count": 11,
   "id": "6296716d",
   "metadata": {},
   "outputs": [
    {
     "name": "stdout",
     "output_type": "stream",
     "text": [
      "Employee(Name: Deka, Age: 20, Employee ID: ANJAYMABAR123)\n"
     ]
    }
   ],
   "source": [
    "class Employee(Person):\n",
    "  def __init__(self,name,age,employee_id):\n",
    "    super().__init__(name,age)\n",
    "    self.employee_id = employee_id\n",
    "\n",
    "  def __str__(self):\n",
    "    return f\"Employee(Name: {self.name}, Age: {self.age}, Employee ID: {self.employee_id})\"\n",
    "  \n",
    "employee = Employee(\"Deka\", 20, \"ANJAYMABAR123\")\n",
    "print(employee)\n"
   ]
  },
  {
   "cell_type": "markdown",
   "id": "ad11a981",
   "metadata": {},
   "source": [
    "### Assignment 7: Class Composition\n",
    "\n",
    "Create a class named `Address` with attributes `street`, `city`, and `zipcode`. Create a class named `Person` that has an `Address` object as an attribute. Create an object of the `Person` class and print its address."
   ]
  },
  {
   "cell_type": "code",
   "execution_count": 13,
   "id": "3f9cff8a",
   "metadata": {},
   "outputs": [
    {
     "name": "stdout",
     "output_type": "stream",
     "text": [
      "jalan letkol muri bogor 14045\n"
     ]
    }
   ],
   "source": [
    "class Address:\n",
    "  def __init__(self,street,city,zipcode):\n",
    "    self.street = street\n",
    "    self.city = city\n",
    "    self.zipcode = zipcode\n",
    "\n",
    "class Person:\n",
    "  def __init__(self,name,age,address):\n",
    "    self.name = name\n",
    "    self.age = age\n",
    "    self.address = address\n",
    "\n",
    "\n",
    "address = Address('jalan letkol muri','bogor','14045')\n",
    "person = Person(\"Deka\",20, address)\n",
    "print(person.address.street,person.address.city,person.address.zipcode)"
   ]
  },
  {
   "cell_type": "markdown",
   "id": "f7d079f7",
   "metadata": {},
   "source": [
    "### Assignment 8: Class with Class Variables\n",
    "\n",
    "Create a class named `Counter` with a class variable `count`. Each time an object is created, increment the count. Add a method to get the current count. Create multiple objects and print the count."
   ]
  },
  {
   "cell_type": "code",
   "execution_count": 14,
   "id": "0767005e",
   "metadata": {},
   "outputs": [
    {
     "name": "stdout",
     "output_type": "stream",
     "text": [
      "3\n"
     ]
    }
   ],
   "source": [
    "class Counter:\n",
    "  count = 0\n",
    "\n",
    "  def __init__(self):\n",
    "    Counter.count +=1\n",
    "  \n",
    "  @classmethod\n",
    "  def get_count(cls):\n",
    "    return cls.count\n",
    "\n",
    "c1 = Counter()\n",
    "c2 = Counter()\n",
    "c3 = Counter()\n",
    "print(Counter.get_count())"
   ]
  },
  {
   "cell_type": "markdown",
   "id": "c73635d5",
   "metadata": {},
   "source": [
    "### Assignment 9: Static Methods\n",
    "\n",
    "Create a class named `MathOperations` with a static method to calculate the square root of a number. Call the static method without creating an object."
   ]
  },
  {
   "cell_type": "code",
   "execution_count": 15,
   "id": "78853565",
   "metadata": {},
   "outputs": [
    {
     "name": "stdout",
     "output_type": "stream",
     "text": [
      "6.0\n"
     ]
    }
   ],
   "source": [
    "import math\n",
    "\n",
    "class MathOperatios:\n",
    "  @staticmethod\n",
    "  def sqrt(x):\n",
    "    return math.sqrt(x)\n",
    "\n",
    "print(MathOperatios.sqrt(36))"
   ]
  },
  {
   "cell_type": "markdown",
   "id": "a57da973",
   "metadata": {},
   "source": [
    "### Assignment 10: Class with Properties\n",
    "\n",
    "Create a class named `Rectangle` with private attributes `length` and `width`. Use properties to get and set these attributes. Create an object of the class and test the properties."
   ]
  },
  {
   "cell_type": "code",
   "execution_count": 16,
   "id": "402a9545",
   "metadata": {},
   "outputs": [
    {
     "name": "stdout",
     "output_type": "stream",
     "text": [
      "10 5\n",
      "10 10\n"
     ]
    }
   ],
   "source": [
    "class Rectangle:\n",
    "  def __init__(self,length,width):\n",
    "    self.length = length\n",
    "    self.width = width\n",
    "\n",
    "  @property\n",
    "  def length(self):\n",
    "    return self.__length\n",
    "  \n",
    "  @length.setter\n",
    "  def length(self, length):\n",
    "    self.__length =length\n",
    "  \n",
    "  @property\n",
    "  def width(self):\n",
    "    return self.__width\n",
    "  \n",
    "  @width.setter\n",
    "  def width(self, width):\n",
    "    self.__width = width\n",
    "\n",
    "rect = Rectangle(10,5)\n",
    "print(rect.length,rect.width)\n",
    "rect.length = 10\n",
    "rect.width = 10\n",
    "print(rect.length,rect.width)"
   ]
  },
  {
   "cell_type": "markdown",
   "id": "f3ab9d9e",
   "metadata": {},
   "source": [
    "### Assignment 11: Abstract Base Class\n",
    "\n",
    "Create an abstract base class named `Shape` with an abstract method `area`. Create derived classes `Circle` and `Square` that implement the `area` method. Create objects of the derived classes and call the `area` method."
   ]
  },
  {
   "cell_type": "code",
   "execution_count": null,
   "id": "22d45c8d",
   "metadata": {},
   "outputs": [
    {
     "name": "stdout",
     "output_type": "stream",
     "text": [
      "25\n",
      "153.93804002589985\n"
     ]
    }
   ],
   "source": [
    "from abc import ABC, abstractmethod\n",
    "\n",
    "class Shape(ABC): # Abstrac base class\n",
    "  @abstractmethod\n",
    "  def area(self): # Abstrac method\n",
    "    pass\n",
    "\n",
    "class Circle(Shape):\n",
    "  def __init__(self,radius):\n",
    "    self.radius = radius\n",
    "  \n",
    "  def area(self):\n",
    "    return math.pi*self.radius**2\n",
    "\n",
    "class Square(Shape):\n",
    "  def __init__(self,side):\n",
    "    self.side = side\n",
    "\n",
    "  def area(self):\n",
    "    return self.side**2\n",
    "\n",
    "square1 = Square(5)\n",
    "print(square1.area())\n",
    "circle1 = Circle(7)\n",
    "print(circle1.area())"
   ]
  },
  {
   "cell_type": "markdown",
   "id": "d0437205",
   "metadata": {},
   "source": [
    "### Assignment 12: Operator Overloading\n",
    "\n",
    "Create a class named `Vector` with attributes `x` and `y`. Overload the `+` operator to add two `Vector` objects. Create objects of the class and test the operator overloading."
   ]
  },
  {
   "cell_type": "code",
   "execution_count": 21,
   "id": "454e5c9b",
   "metadata": {},
   "outputs": [
    {
     "name": "stdout",
     "output_type": "stream",
     "text": [
      "Vector(6, 8)\n"
     ]
    }
   ],
   "source": [
    "class Vector:\n",
    "  def __init__(self,x,y):\n",
    "    self.x = x\n",
    "    self.y = y\n",
    "\n",
    "  def __add__(self,other):\n",
    "    return Vector(self.x + other.x,self.y + other.y)\n",
    "  \n",
    "  def __str__(self):\n",
    "    return f\"Vector({self.x}, {self.y})\"\n",
    "\n",
    "v1 = Vector(2,3)\n",
    "v2 = Vector(4,5)\n",
    "v3 = v1 + v2\n",
    "print(v3)"
   ]
  },
  {
   "cell_type": "markdown",
   "id": "8f5126d2",
   "metadata": {},
   "source": [
    "### Assignment 13: Class with Custom Exception\n",
    "\n",
    "Create a custom exception named `InsufficientBalanceError`. In the `BankAccount` class, raise this exception when a withdrawal amount is greater than the balance. Handle the exception and print an appropriate message."
   ]
  },
  {
   "cell_type": "code",
   "execution_count": 24,
   "id": "92adf31b",
   "metadata": {},
   "outputs": [
    {
     "name": "stdout",
     "output_type": "stream",
     "text": [
      "Insufficient balance!\n",
      "Transaction Finished.\n",
      "100000\n"
     ]
    }
   ],
   "source": [
    "class InsufficientBalanceError(Exception):\n",
    "  pass\n",
    "\n",
    "class BankAccount:\n",
    "  def __init__(self,name,balance):\n",
    "    self.name = name\n",
    "    self.balance = balance\n",
    "  \n",
    "  def withdraw(self,amount):\n",
    "    try:\n",
    "      if self.balance<amount:\n",
    "        raise InsufficientBalanceError(\"Insufficient balance!\")\n",
    "      else:\n",
    "        self.balance-=amount\n",
    "    except InsufficientBalanceError as e:\n",
    "      print(e)\n",
    "    finally:\n",
    "      print(\"Transaction Finished.\")\n",
    "\n",
    "deka = BankAccount(\"deka\",100000)\n",
    "deka.withdraw(200000)\n",
    "print(deka.balance)\n"
   ]
  },
  {
   "cell_type": "markdown",
   "id": "fe336a56",
   "metadata": {},
   "source": [
    "### Assignment 14: Class with Context Manager\n",
    "\n",
    "Create a class named `FileManager` that implements the context manager protocol to open and close a file. Use this class to read the contents of a file."
   ]
  },
  {
   "cell_type": "code",
   "execution_count": 26,
   "id": "8523adda",
   "metadata": {},
   "outputs": [
    {
     "name": "stdout",
     "output_type": "stream",
     "text": [
      "Halo, nama saya Deka\n"
     ]
    }
   ],
   "source": [
    "class FileManager:\n",
    "  def __init__(self,filename,mode):\n",
    "    self.filename = filename\n",
    "    self.mode = mode\n",
    "  \n",
    "  def __enter__(self):\n",
    "    self.file=open(self.filename, self.mode)\n",
    "    return self.file\n",
    "  \n",
    "  def __exit__(self,exc_type,exc_value,traceback):\n",
    "    self.file.close()\n",
    "  \n",
    "# test\n",
    "with FileManager('sample.txt','r') as file:\n",
    "  content = file.read()\n",
    "  print(content)"
   ]
  },
  {
   "cell_type": "markdown",
   "id": "98fea599",
   "metadata": {},
   "source": [
    "### Assignment 15: Chaining Methods\n",
    "\n",
    "Create a class named `Calculator` with methods to add, subtract, multiply, and divide. Each method should return the object itself to allow method chaining. Create an object and chain multiple method calls."
   ]
  },
  {
   "cell_type": "code",
   "execution_count": 31,
   "id": "b9efe3e9",
   "metadata": {},
   "outputs": [
    {
     "name": "stdout",
     "output_type": "stream",
     "text": [
      "7.0\n"
     ]
    }
   ],
   "source": [
    "class Calculator:\n",
    "  def __init__(self,value=0):\n",
    "    self.value = value\n",
    "\n",
    "  def add(self, amount):\n",
    "    self.value += amount\n",
    "    return self\n",
    "  \n",
    "  def subtract(self,amount):\n",
    "    self.value -= amount\n",
    "    return self\n",
    "  \n",
    "  def multiply(self,amount):\n",
    "    self.value *=amount\n",
    "    return self\n",
    "  \n",
    "  def divide(self,amount):\n",
    "    if amount != 0:\n",
    "      self.value /= amount\n",
    "    else:\n",
    "      print(\"cannot devide by zero!\")\n",
    "    return self\n",
    "\n",
    "# Test\n",
    "calc = Calculator()\n",
    "calc.add(10).subtract(3).multiply(2).divide(2)\n",
    "print(calc.value)  # 7.0\n"
   ]
  }
 ],
 "metadata": {
  "kernelspec": {
   "display_name": "Python 3",
   "language": "python",
   "name": "python3"
  },
  "language_info": {
   "codemirror_mode": {
    "name": "ipython",
    "version": 3
   },
   "file_extension": ".py",
   "mimetype": "text/x-python",
   "name": "python",
   "nbconvert_exporter": "python",
   "pygments_lexer": "ipython3",
   "version": "3.12.0"
  }
 },
 "nbformat": 4,
 "nbformat_minor": 5
}
