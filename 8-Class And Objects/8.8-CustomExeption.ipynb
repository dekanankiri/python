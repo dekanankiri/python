{
 "cells": [
  {
   "cell_type": "code",
   "execution_count": 13,
   "id": "6fdd513b",
   "metadata": {},
   "outputs": [],
   "source": [
    "class Error(Exception):\n",
    "  pass\n",
    "\n",
    "class dobException(Error):\n",
    "  pass\n",
    "\n"
   ]
  },
  {
   "cell_type": "code",
   "execution_count": 14,
   "id": "b35a7d5a",
   "metadata": {},
   "outputs": [
    {
     "name": "stdout",
     "output_type": "stream",
     "text": [
      "Sorry, your age should be greater or equal than 20 and lower or equal than 30\n"
     ]
    }
   ],
   "source": [
    "year = int(input(\"Enter the dob\"))\n",
    "age = 2024-year\n",
    "\n",
    "try:\n",
    "  if age<=30 and age>=20:\n",
    "    print(\"Your age is valid\")\n",
    "  else:\n",
    "    raise dobException\n",
    "except dobException:\n",
    "  print(\"Sorry, your age should be greater or equal than 20 and lower or equal than 30\")"
   ]
  },
  {
   "cell_type": "code",
   "execution_count": null,
   "id": "af8cf104",
   "metadata": {},
   "outputs": [],
   "source": []
  },
  {
   "cell_type": "code",
   "execution_count": null,
   "id": "f7e5ac81",
   "metadata": {},
   "outputs": [],
   "source": []
  },
  {
   "cell_type": "code",
   "execution_count": null,
   "id": "9071ce06",
   "metadata": {},
   "outputs": [],
   "source": []
  },
  {
   "cell_type": "code",
   "execution_count": null,
   "id": "dcbe6a32",
   "metadata": {},
   "outputs": [],
   "source": []
  }
 ],
 "metadata": {
  "kernelspec": {
   "display_name": "Python 3",
   "language": "python",
   "name": "python3"
  },
  "language_info": {
   "codemirror_mode": {
    "name": "ipython",
    "version": 3
   },
   "file_extension": ".py",
   "mimetype": "text/x-python",
   "name": "python",
   "nbconvert_exporter": "python",
   "pygments_lexer": "ipython3",
   "version": "3.12.0"
  }
 },
 "nbformat": 4,
 "nbformat_minor": 5
}
