{
 "cells": [
  {
   "cell_type": "markdown",
   "id": "76390aa4",
   "metadata": {},
   "source": [
    "# Module: OOP Assignments\n",
    "## Lesson: Polymorphism, Abstraction, and Encapsulation\n",
    "### Assignment 1: Polymorphism with Methods\n",
    "\n",
    "Create a base class named `Shape` with a method `area`. Create two derived classes `Circle` and `Square` that override the `area` method. Create a list of `Shape` objects and call the `area` method on each object to demonstrate polymorphism."
   ]
  },
  {
   "cell_type": "code",
   "execution_count": 2,
   "id": "30a4af0e",
   "metadata": {},
   "outputs": [
    {
     "name": "stdout",
     "output_type": "stream",
     "text": [
      "153.86\n",
      "9\n"
     ]
    }
   ],
   "source": [
    "class Shape:\n",
    "  def area(self):\n",
    "    pass\n",
    "\n",
    "class Circle(Shape):\n",
    "  def __init__(self,radius):\n",
    "    self.radius = radius\n",
    "  \n",
    "  def area(self):\n",
    "    return 3.14 * self.radius**2\n",
    "\n",
    "class Square(Shape):\n",
    "  def __init__(self,side):\n",
    "    self.side = side\n",
    "\n",
    "  def area(self):\n",
    "    return self.side ** 2\n",
    "\n",
    "shape = [Circle(7),Square(3)]\n",
    "for x in shape:\n",
    "  print(x.area())"
   ]
  },
  {
   "cell_type": "markdown",
   "id": "0b31385b",
   "metadata": {},
   "source": [
    "### Assignment 2: Polymorphism with Function Arguments\n",
    "\n",
    "Create a function named `describe_shape` that takes a `Shape` object as an argument and calls its `area` method. Create objects of `Circle` and `Square` classes and pass them to the `describe_shape` function."
   ]
  },
  {
   "cell_type": "code",
   "execution_count": 4,
   "id": "440af41d",
   "metadata": {},
   "outputs": [
    {
     "name": "stdout",
     "output_type": "stream",
     "text": [
      "153.86\n",
      "49\n"
     ]
    }
   ],
   "source": [
    "def describe_shape(Shape):\n",
    "  return Shape.area()\n",
    "\n",
    "class Shape:\n",
    "  def area(self):\n",
    "    pass\n",
    "\n",
    "class Circle(Shape):\n",
    "  def __init__(self,radius):\n",
    "    self.radius = radius\n",
    "  \n",
    "  def area(self):\n",
    "    return 3.14 * self.radius**2\n",
    "\n",
    "class Square(Shape):\n",
    "  def __init__(self,side):\n",
    "    self.side = side\n",
    "\n",
    "  def area(self):\n",
    "    return self.side ** 2\n",
    "\n",
    "circle = Circle(7)\n",
    "square = Square(7)\n",
    "\n",
    "print(describe_shape(circle))\n",
    "print(describe_shape(square))"
   ]
  },
  {
   "cell_type": "markdown",
   "id": "66311e47",
   "metadata": {},
   "source": [
    "### Assignment 3: Abstract Base Class with Abstract Methods\n",
    "\n",
    "Create an abstract base class named `Vehicle` with an abstract method `start_engine`. Create derived classes `Car` and `Bike` that implement the `start_engine` method. Create objects of the derived classes and call the `start_engine` method."
   ]
  },
  {
   "cell_type": "code",
   "execution_count": 10,
   "id": "0d628078",
   "metadata": {},
   "outputs": [
    {
     "name": "stdout",
     "output_type": "stream",
     "text": [
      "Bike engine started\n",
      "Car engine Started\n"
     ]
    }
   ],
   "source": [
    "from abc import ABC, abstractmethod\n",
    "\n",
    "class Vehicle(ABC):\n",
    "  @abstractmethod\n",
    "  def start_engine(self):\n",
    "    pass\n",
    "\n",
    "class Car(Vehicle):\n",
    "  def start_engine(self):\n",
    "    print(\"Car engine Started\")\n",
    "\n",
    "class Bike(Vehicle):\n",
    "  def start_engine(self):\n",
    "    print(\"Bike engine started\")\n",
    "\n",
    "bike = Bike()\n",
    "car = Car()\n",
    "bike.start_engine()\n",
    "car.start_engine()"
   ]
  },
  {
   "cell_type": "markdown",
   "id": "8bfdc07b",
   "metadata": {},
   "source": [
    "### Assignment 4: Abstract Base Class with Concrete Methods\n",
    "\n",
    "In the `Vehicle` class, add a concrete method `fuel_type` that returns a generic fuel type. Override this method in `Car` and `Bike` classes to return specific fuel types. Create objects of the derived classes and call the `fuel_type` method."
   ]
  },
  {
   "cell_type": "code",
   "execution_count": 11,
   "id": "fabb9ed8",
   "metadata": {},
   "outputs": [
    {
     "name": "stdout",
     "output_type": "stream",
     "text": [
      "Car fuel type is electric\n",
      "Bike fuel type is petrol\n"
     ]
    }
   ],
   "source": [
    "from abc import ABC, abstractmethod\n",
    "\n",
    "class Vehicle(ABC):\n",
    "  @abstractmethod\n",
    "  def start_engine(self):\n",
    "    pass\n",
    "\n",
    "  def fuel_type(self):\n",
    "    print(\"Vehicle fuel type is this\")\n",
    "\n",
    "class Car(Vehicle):\n",
    "  def start_engine(self):\n",
    "    print(\"Car engine Started\")\n",
    "  \n",
    "  def fuel_type(self):\n",
    "    print(\"Car fuel type is electric\")\n",
    "\n",
    "class Bike(Vehicle):\n",
    "  def start_engine(self):\n",
    "    print(\"Bike engine started\")\n",
    "  \n",
    "  def fuel_type(self):\n",
    "    print(\"Bike fuel type is petrol\")\n",
    "\n",
    "car = Car()\n",
    "bike = Bike()\n",
    "car.fuel_type()\n",
    "bike.fuel_type()"
   ]
  },
  {
   "cell_type": "markdown",
   "id": "4f68ede0",
   "metadata": {},
   "source": [
    "### Assignment 5: Encapsulation with Private Attributes\n",
    "\n",
    "Create a class named `BankAccount` with private attributes `account_number` and `balance`. Add methods to deposit and withdraw money, and to check the balance. Ensure that the balance cannot be accessed directly."
   ]
  },
  {
   "cell_type": "code",
   "execution_count": 16,
   "id": "46119c6c",
   "metadata": {},
   "outputs": [
    {
     "name": "stdout",
     "output_type": "stream",
     "text": [
      "your balance is 100000\n",
      "your balance is 99000\n",
      "your balance is 102000\n",
      "balance is not enough\n",
      "your balance is 102000\n"
     ]
    }
   ],
   "source": [
    "class BankAccount:\n",
    "  def __init__(self,account_number,balance):\n",
    "    self.__account_number = account_number # private\n",
    "    self.__balance        = balance        # private\n",
    "\n",
    "  def deposit(self,amount):\n",
    "    self.__balance += amount\n",
    "  \n",
    "  def withdraw(self,amount):\n",
    "    if amount > self.__balance:\n",
    "      print(\"balance is not enough\")\n",
    "    else:\n",
    "      self.__balance -=amount\n",
    "  \n",
    "  def get_balance(self):\n",
    "    print(f\"your balance is {self.__balance}\")\n",
    "\n",
    "deka = BankAccount(222,100000)\n",
    "deka.get_balance()\n",
    "deka.withdraw(1000)\n",
    "deka.get_balance()\n",
    "deka.deposit(3000)\n",
    "deka.get_balance()\n",
    "deka.withdraw(300000)\n",
    "deka.get_balance()\n"
   ]
  },
  {
   "cell_type": "markdown",
   "id": "69fd749f",
   "metadata": {},
   "source": [
    "### Assignment 6: Encapsulation with Property Decorators\n",
    "\n",
    "In the `BankAccount` class, use property decorators to get and set the `balance` attribute. Ensure that the balance cannot be set to a negative value."
   ]
  },
  {
   "cell_type": "code",
   "execution_count": 20,
   "id": "b7d9920f",
   "metadata": {},
   "outputs": [
    {
     "name": "stdout",
     "output_type": "stream",
     "text": [
      "your balance is 100000\n",
      "your balance is 99000\n",
      "your balance is 102000\n",
      "balance is not enough\n",
      "your balance is 102000\n",
      "Balance cannot be negative\n",
      "your balance is 500000\n",
      "500000\n"
     ]
    }
   ],
   "source": [
    "class BankAccount:\n",
    "  def __init__(self,account_number,balance):\n",
    "    self.__account_number = account_number # private\n",
    "    self.__balance        = balance        # private\n",
    "\n",
    "  @property\n",
    "  def balance(self):\n",
    "    return self.__balance\n",
    "  \n",
    "  @balance.setter\n",
    "  def balance(self, amount):\n",
    "    if amount < 0:\n",
    "      print(\"Balance cannot be negative\")\n",
    "    else:\n",
    "      self.__balance = amount\n",
    "\n",
    "  def deposit(self,amount):\n",
    "    self.__balance += amount\n",
    "  \n",
    "  def withdraw(self,amount):\n",
    "    if amount > self.__balance:\n",
    "      print(\"balance is not enough\")\n",
    "    else:\n",
    "      self.__balance -=amount\n",
    "  \n",
    "  def get_balance(self):\n",
    "    print(f\"your balance is {self.__balance}\")\n",
    "\n",
    "deka = BankAccount(222,100000)\n",
    "deka.get_balance()\n",
    "deka.withdraw(1000)\n",
    "deka.get_balance()\n",
    "deka.deposit(3000)\n",
    "deka.get_balance()\n",
    "deka.withdraw(300000)\n",
    "deka.get_balance()\n",
    "deka.balance = -300\n",
    "deka.balance = 500000\n",
    "deka.get_balance()\n",
    "print(deka.balance)\n"
   ]
  },
  {
   "cell_type": "markdown",
   "id": "d248a355",
   "metadata": {},
   "source": [
    "### Assignment 7: Combining Encapsulation and Inheritance\n",
    "\n",
    "Create a base class named `Person` with private attributes `name` and `age`. Add methods to get and set these attributes. Create a derived class named `Student` that adds an attribute `student_id`. Create an object of the `Student` class and test the encapsulation."
   ]
  },
  {
   "cell_type": "code",
   "execution_count": 32,
   "id": "ae04ad13",
   "metadata": {},
   "outputs": [
    {
     "name": "stdout",
     "output_type": "stream",
     "text": [
      "deka 21 222313233\n",
      "naya 20 222313233\n"
     ]
    }
   ],
   "source": [
    "class Person:\n",
    "  def __init__(self,name,age):\n",
    "    self.__name = name\n",
    "    self.__age = age\n",
    "  \n",
    "  @property\n",
    "  def name(self):\n",
    "    return self.__name\n",
    "  \n",
    "  @property\n",
    "  def age(self):\n",
    "    return self.__age\n",
    "  \n",
    "  @name.setter\n",
    "  def name(self,string):\n",
    "    self.__name = string\n",
    "  \n",
    "  @age.setter\n",
    "  def age(self,age):\n",
    "    if age < 0:\n",
    "      print(\"age cannot be negative\")\n",
    "    else:\n",
    "      self.__age = age\n",
    "\n",
    "class Student(Person):\n",
    "  def __init__(self,name,age,student_id):\n",
    "    super().__init__(name,age)\n",
    "    self.student_id = student_id\n",
    "\n",
    "deka = Student(\"deka\",21,222313233)\n",
    "print(deka.name, deka.age,deka.student_id)\n",
    "deka.name = \"naya\"\n",
    "deka.age = 20\n",
    "print(deka.name, deka.age,deka.student_id)\n"
   ]
  },
  {
   "cell_type": "markdown",
   "id": "0478bf25",
   "metadata": {},
   "source": [
    "### Assignment 8: Polymorphism with Inheritance\n",
    "\n",
    "Create a base class named `Animal` with a method `speak`. Create two derived classes `Dog` and `Cat` that override the `speak` method. Create a list of `Animal` objects and call the `speak` method on each object to demonstrate polymorphism."
   ]
  },
  {
   "cell_type": "code",
   "execution_count": 33,
   "id": "55c1a4c6",
   "metadata": {},
   "outputs": [
    {
     "name": "stdout",
     "output_type": "stream",
     "text": [
      "Cat says Meowww\n",
      "Dog says Wooff\n"
     ]
    }
   ],
   "source": [
    "class Animal:\n",
    "  def speak(self):\n",
    "    pass\n",
    "\n",
    "class Dog(Animal):\n",
    "  def speak(self):\n",
    "    print(\"Dog says Wooff\")\n",
    "  \n",
    "class Cat(Animal):\n",
    "  def speak(self):\n",
    "    print(\"Cat says Meowww\")\n",
    "\n",
    "animals = [Cat(),Dog()]\n",
    "for animal in animals:\n",
    "  animal.speak()"
   ]
  },
  {
   "cell_type": "markdown",
   "id": "6ca5b328",
   "metadata": {},
   "source": [
    "### Assignment 9: Abstract Methods in Base Class\n",
    "\n",
    "Create an abstract base class named `Employee` with an abstract method `calculate_salary`. Create two derived classes `FullTimeEmployee` and `PartTimeEmployee` that implement the `calculate_salary` method. Create objects of the derived classes and call the `calculate_salary` method."
   ]
  },
  {
   "cell_type": "code",
   "execution_count": 36,
   "id": "57bf2218",
   "metadata": {},
   "outputs": [
    {
     "name": "stdout",
     "output_type": "stream",
     "text": [
      "Your salary is 50k a year\n",
      "Your salary is 150k a year\n"
     ]
    }
   ],
   "source": [
    "from abc import ABC,abstractmethod\n",
    "\n",
    "class Employee(ABC):\n",
    "  @abstractmethod\n",
    "  def calculate_salary(self):\n",
    "    pass\n",
    "\n",
    "class FullTimeEmployee(Employee):\n",
    "  def calculate_salary(self):\n",
    "    print(\"Your salary is 150k a year\")\n",
    "\n",
    "class PartTimeEmployee(Employee):\n",
    "  def calculate_salary(self):\n",
    "    print(\"Your salary is 50k a year\")\n",
    "\n",
    "emp1 = PartTimeEmployee()\n",
    "emp2 = FullTimeEmployee()\n",
    "emp1.calculate_salary()\n",
    "emp2.calculate_salary()"
   ]
  },
  {
   "cell_type": "markdown",
   "id": "c7a85e1b",
   "metadata": {},
   "source": [
    "### Assignment 10: Encapsulation in Data Classes\n",
    "\n",
    "Create a data class named `Product` with private attributes `product_id`, `name`, and `price`. Add methods to get and set these attributes. Ensure that the price cannot be set to a negative value."
   ]
  },
  {
   "cell_type": "code",
   "execution_count": null,
   "id": "bff821e8",
   "metadata": {},
   "outputs": [
    {
     "name": "stdout",
     "output_type": "stream",
     "text": [
      "Product name: Aventador svj\n",
      "Prouct Price: 1000000\n"
     ]
    }
   ],
   "source": [
    "class Product:\n",
    "  def __init__(self,product_id,name,price):\n",
    "    self.__product_id = product_id\n",
    "    self.__name = name\n",
    "    self.__price = price\n",
    "\n",
    "  def get_id(self):\n",
    "    print(f\"Product ID: {self.__product_id}\")\n",
    "  \n",
    "  def get_name(self):\n",
    "    print(f\"Product name: {self.__name}\")\n",
    "  \n",
    "  def get_price(self):\n",
    "    print(f\"Prouct Price: {self.__price}\")\n",
    "  \n",
    "  def set_id(self,id):\n",
    "    self.__product_id = id\n",
    "  \n",
    "  def set_name(self,name):\n",
    "    self.__name = name\n",
    "  \n",
    "  def set_price(self,price):\n",
    "    if price < 0:\n",
    "      print(\"price cannot have negative value\")\n",
    "    else:\n",
    "      self.__price = price\n",
    "\n",
    "product = Product(1313253, \"BMW\", 20000)\n",
    "product.set_name(\"Aventador svj\") \n",
    "product.set_price(1000000) \n",
    "product.get_name() \n",
    "product.get_price()"
   ]
  },
  {
   "cell_type": "markdown",
   "id": "304fb5bc",
   "metadata": {},
   "source": [
    "### Assignment 11: Polymorphism with Operator Overloading\n",
    "\n",
    "Create a class named `Vector` with attributes `x` and `y`. Overload the `+` operator to add two `Vector` objects. Create objects of the class and test the operator overloading."
   ]
  },
  {
   "cell_type": "code",
   "execution_count": 48,
   "id": "383e9d7f",
   "metadata": {},
   "outputs": [
    {
     "name": "stdout",
     "output_type": "stream",
     "text": [
      "Vector(8,8)\n"
     ]
    }
   ],
   "source": [
    "class Vector:\n",
    "  def __init__(self,x,y):\n",
    "    self.x = x\n",
    "    self.y = y\n",
    "\n",
    "  def __add__(self,other):\n",
    "    return Vector(self.x + other.x, self.y + other.y)\n",
    "  \n",
    "  def __repr__(self):\n",
    "    return f\"Vector({self.x},{self.y})\"\n",
    "\n",
    "v1 = Vector(3,2)\n",
    "v2 = Vector(5,6)\n",
    "print(v1 + v2)"
   ]
  },
  {
   "cell_type": "markdown",
   "id": "099ced2d",
   "metadata": {},
   "source": [
    "### Assignment 12: Abstract Properties\n",
    "\n",
    "Create an abstract base class named `Appliance` with an abstract property `power`. Create two derived classes `WashingMachine` and `Refrigerator` that implement the `power` property. Create objects of the derived classes and access the `power` property."
   ]
  },
  {
   "cell_type": "code",
   "execution_count": 50,
   "id": "caf271b0",
   "metadata": {},
   "outputs": [
    {
     "name": "stdout",
     "output_type": "stream",
     "text": [
      "100W\n",
      "200W\n"
     ]
    }
   ],
   "source": [
    "\n",
    "\n",
    "class Appliance(ABC):\n",
    "  @property\n",
    "  @abstractmethod\n",
    "  def power(self):\n",
    "    pass\n",
    "\n",
    "class WashingMachine(Appliance):\n",
    "  @property\n",
    "  def power(self):\n",
    "    return \"200W\"\n",
    "  \n",
    "class Refrigerator(Appliance):\n",
    "  @property\n",
    "  def power(self):\n",
    "    return \"100W\"\n",
    "\n",
    "refrigerator = Refrigerator()\n",
    "washingmachine = WashingMachine()\n",
    "print(refrigerator.power)\n",
    "print(washingmachine.power)\n"
   ]
  },
  {
   "cell_type": "markdown",
   "id": "ffe1ffce",
   "metadata": {},
   "source": [
    "### Assignment 13: Encapsulation in Class Hierarchies\n",
    "\n",
    "Create a base class named `Account` with private attributes `account_number` and `balance`. Add methods to get and set these attributes. Create a derived class named `SavingsAccount` that adds an attribute `interest_rate`. Create an object of the `SavingsAccount` class and test the encapsulation."
   ]
  },
  {
   "cell_type": "code",
   "execution_count": 65,
   "id": "a325e009",
   "metadata": {},
   "outputs": [
    {
     "name": "stdout",
     "output_type": "stream",
     "text": [
      "100000\n"
     ]
    }
   ],
   "source": [
    "class Account:\n",
    "  def __init__(self,account_number,balance):\n",
    "    self.__account_number = account_number\n",
    "    self.__balance = balance\n",
    "  \n",
    "  def get_number(self):\n",
    "    return self.__account_number\n",
    "  \n",
    "  def get_balance(self):\n",
    "    return self.__balance\n",
    "  \n",
    "  def set_number(self,number):\n",
    "    self.__account_number = number\n",
    "  \n",
    "  def set_balance(self,balance):\n",
    "    if balance<0:\n",
    "      print(\"balance cannot be negative\")\n",
    "    else:\n",
    "      self.__balance = balance\n",
    "\n",
    "class SavingsAccount(Account):\n",
    "  def __init__(self,account_number,balance,interest_rate):\n",
    "    super().__init__(account_number,balance)\n",
    "    self.interest_rate = interest_rate\n",
    "\n",
    "save = SavingsAccount(222,100000,0)\n",
    "print(save.get_balance())"
   ]
  },
  {
   "cell_type": "markdown",
   "id": "43070b4c",
   "metadata": {},
   "source": [
    "### Assignment 14: Polymorphism with Multiple Inheritance\n",
    "\n",
    "Create a class named `Flyer` with a method `fly`. Create a class named `Swimmer` with a method `swim`. Create a class named `Superhero` that inherits from both `Flyer` and `Swimmer` and overrides both methods. Create an object of the `Superhero` class and call both methods."
   ]
  },
  {
   "cell_type": "code",
   "execution_count": 66,
   "id": "ab16e522",
   "metadata": {},
   "outputs": [
    {
     "name": "stdout",
     "output_type": "stream",
     "text": [
      "Sup can also swim muthafucka!!!\n",
      "Sup can fly bitch!\n"
     ]
    }
   ],
   "source": [
    "class Flyer:\n",
    "  def fly(self):\n",
    "    pass\n",
    "\n",
    "class Swimmer:\n",
    "  def swim(self):\n",
    "    pass\n",
    "\n",
    "class Superhero(Flyer,Swimmer):\n",
    "  def fly(self):\n",
    "    print(\"Sup can fly bitch!\")\n",
    "  \n",
    "  def swim(self):\n",
    "    print(\"Sup can also swim muthafucka!!!\")\n",
    "\n",
    "sup = Superhero()\n",
    "sup.swim()\n",
    "sup.fly()"
   ]
  },
  {
   "cell_type": "markdown",
   "id": "7cbb168e",
   "metadata": {},
   "source": [
    "### Assignment 15: Abstract Methods and Multiple Inheritance\n",
    "\n",
    "Create an abstract base class named `Worker` with an abstract method `work`. Create two derived classes `Engineer` and `Doctor` that implement the `work` method. Create another derived class `Scientist` that inherits from both `Engineer` and `Doctor`. Create an object of the `Scientist` class and call the `work` method."
   ]
  },
  {
   "cell_type": "code",
   "execution_count": 69,
   "id": "174af683",
   "metadata": {},
   "outputs": [
    {
     "name": "stdout",
     "output_type": "stream",
     "text": [
      "ima engineer\n",
      "ima Doctor\n"
     ]
    }
   ],
   "source": [
    "## from abc import ABC, abstractmethod\n",
    "\n",
    "class Worker(ABC):\n",
    "  @abstractmethod\n",
    "  def work(self):\n",
    "    pass\n",
    "\n",
    "class Engineer(Worker):\n",
    "  def work(self):\n",
    "    print(\"ima engineer\")\n",
    "\n",
    "class Doctor(Worker):\n",
    "  def work(self):\n",
    "    print(\"ima Doctor\")\n",
    "\n",
    "class Scientist(Engineer,Doctor):\n",
    "  def work(self):\n",
    "    Engineer().work()\n",
    "    Doctor().work()\n",
    "\n",
    "sc = Scientist()\n",
    "sc.work()"
   ]
  }
 ],
 "metadata": {
  "kernelspec": {
   "display_name": "Python 3",
   "language": "python",
   "name": "python3"
  },
  "language_info": {
   "codemirror_mode": {
    "name": "ipython",
    "version": 3
   },
   "file_extension": ".py",
   "mimetype": "text/x-python",
   "name": "python",
   "nbconvert_exporter": "python",
   "pygments_lexer": "ipython3",
   "version": "3.12.0"
  }
 },
 "nbformat": 4,
 "nbformat_minor": 5
}
