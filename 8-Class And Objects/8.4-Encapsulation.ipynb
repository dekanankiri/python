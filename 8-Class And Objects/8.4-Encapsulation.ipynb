{
 "cells": [
  {
   "cell_type": "code",
   "execution_count": null,
   "id": "7f29a5b4",
   "metadata": {},
   "outputs": [
    {
     "name": "stdout",
     "output_type": "stream",
     "text": [
      "Ade Puspa 21\n"
     ]
    },
    {
     "data": {
      "text/plain": [
       "['__class__',\n",
       " '__delattr__',\n",
       " '__dict__',\n",
       " '__dir__',\n",
       " '__doc__',\n",
       " '__eq__',\n",
       " '__format__',\n",
       " '__ge__',\n",
       " '__getattribute__',\n",
       " '__getstate__',\n",
       " '__gt__',\n",
       " '__hash__',\n",
       " '__init__',\n",
       " '__init_subclass__',\n",
       " '__le__',\n",
       " '__lt__',\n",
       " '__module__',\n",
       " '__ne__',\n",
       " '__new__',\n",
       " '__reduce__',\n",
       " '__reduce_ex__',\n",
       " '__repr__',\n",
       " '__setattr__',\n",
       " '__sizeof__',\n",
       " '__str__',\n",
       " '__subclasshook__',\n",
       " '__weakref__',\n",
       " 'age',\n",
       " 'name']"
      ]
     },
     "execution_count": 4,
     "metadata": {},
     "output_type": "execute_result"
    }
   ],
   "source": [
    "### Encapsulation with getter and setter Methods\n",
    "### Public, protected, and private variables or access\n",
    "\n",
    "class Person:\n",
    "  def __init__(self, name,age):\n",
    "    self.name = name  ## public variable\n",
    "    self.age = age    ## public variable\n",
    "\n",
    "person = Person(\"Ade Puspa\", 21)\n",
    "print(person.name, person.age)\n"
   ]
  },
  {
   "cell_type": "code",
   "execution_count": 15,
   "id": "a54191bd",
   "metadata": {},
   "outputs": [
    {
     "ename": "AttributeError",
     "evalue": "'Person' object has no attribute '__name'",
     "output_type": "error",
     "traceback": [
      "\u001b[31m---------------------------------------------------------------------------\u001b[39m",
      "\u001b[31mAttributeError\u001b[39m                            Traceback (most recent call last)",
      "\u001b[36mCell\u001b[39m\u001b[36m \u001b[39m\u001b[32mIn[15]\u001b[39m\u001b[32m, line 10\u001b[39m\n\u001b[32m      7\u001b[39m \u001b[38;5;28;01mdef\u001b[39;00m\u001b[38;5;250m \u001b[39m\u001b[34mget_name\u001b[39m(person):\n\u001b[32m      8\u001b[39m   \u001b[38;5;28mprint\u001b[39m(person.__name)\n\u001b[32m---> \u001b[39m\u001b[32m10\u001b[39m \u001b[43mget_name\u001b[49m\u001b[43m(\u001b[49m\u001b[43mperson\u001b[49m\u001b[43m)\u001b[49m\n",
      "\u001b[36mCell\u001b[39m\u001b[36m \u001b[39m\u001b[32mIn[15]\u001b[39m\u001b[32m, line 8\u001b[39m, in \u001b[36mget_name\u001b[39m\u001b[34m(person)\u001b[39m\n\u001b[32m      7\u001b[39m \u001b[38;5;28;01mdef\u001b[39;00m\u001b[38;5;250m \u001b[39m\u001b[34mget_name\u001b[39m(person):\n\u001b[32m----> \u001b[39m\u001b[32m8\u001b[39m   \u001b[38;5;28mprint\u001b[39m(\u001b[43mperson\u001b[49m\u001b[43m.\u001b[49m\u001b[43m__name\u001b[49m)\n",
      "\u001b[31mAttributeError\u001b[39m: 'Person' object has no attribute '__name'"
     ]
    }
   ],
   "source": [
    "class Person:\n",
    "  def __init__(self, name,age,gender):\n",
    "    self.__name = name  ## Private variable\n",
    "    self.__age = age    ## Private variable\n",
    "    self.gender = gender\n",
    "\n",
    "def get_name(person):\n",
    "  print(person.__name)\n",
    "\n",
    "get_name(person)\n"
   ]
  },
  {
   "cell_type": "code",
   "execution_count": 12,
   "id": "7d5b7360",
   "metadata": {},
   "outputs": [
    {
     "data": {
      "text/plain": [
       "['_Person__age',\n",
       " '_Person__name',\n",
       " '__class__',\n",
       " '__delattr__',\n",
       " '__dict__',\n",
       " '__dir__',\n",
       " '__doc__',\n",
       " '__eq__',\n",
       " '__format__',\n",
       " '__ge__',\n",
       " '__getattribute__',\n",
       " '__getstate__',\n",
       " '__gt__',\n",
       " '__hash__',\n",
       " '__init__',\n",
       " '__init_subclass__',\n",
       " '__le__',\n",
       " '__lt__',\n",
       " '__module__',\n",
       " '__ne__',\n",
       " '__new__',\n",
       " '__reduce__',\n",
       " '__reduce_ex__',\n",
       " '__repr__',\n",
       " '__setattr__',\n",
       " '__sizeof__',\n",
       " '__str__',\n",
       " '__subclasshook__',\n",
       " '__weakref__',\n",
       " 'gender']"
      ]
     },
     "execution_count": 12,
     "metadata": {},
     "output_type": "execute_result"
    }
   ],
   "source": [
    "person = Person(\"Deka\",21,'Male')\n",
    "dir(person)"
   ]
  },
  {
   "cell_type": "code",
   "execution_count": 22,
   "id": "a29c4293",
   "metadata": {},
   "outputs": [
    {
     "name": "stdout",
     "output_type": "stream",
     "text": [
      "Deka\n"
     ]
    }
   ],
   "source": [
    "class Person:\n",
    "  def __init__(self, name,age,gender):\n",
    "    self._name = name  ## Protected variable\n",
    "    self._age = age    ## Protected variable\n",
    "    self.gender = gender\n",
    "\n",
    "class Employee(Person):\n",
    "  def __init__(self,name,age,gender):\n",
    "    super().__init__(name,age,gender)\n",
    "\n",
    "person = Employee(\"Deka\",21,\"Male\")\n",
    "print(person._name)\n",
    "\n"
   ]
  },
  {
   "cell_type": "code",
   "execution_count": 28,
   "id": "dadbde46",
   "metadata": {},
   "outputs": [
    {
     "name": "stdout",
     "output_type": "stream",
     "text": [
      "Deka\n",
      "21\n",
      "32\n",
      "Age cannot be negative.\n"
     ]
    }
   ],
   "source": [
    "## Encapsulation With Getter and Setter\n",
    "class Person:\n",
    "  def __init__(self,name,age):\n",
    "    self.__name = name  ## Private access modifier or variable\n",
    "    self.__age = age    ## Private variable\n",
    "\n",
    "  ## Getter method for name\n",
    "  def get_name(self):\n",
    "    return self.__name\n",
    "  \n",
    "  ## Getter method for age\n",
    "  def get_age(self):\n",
    "    return self.__age\n",
    "  \n",
    "  ## Setter method for name\n",
    "  def set_name(self,name):\n",
    "    self.__name = name\n",
    "  \n",
    "  ## setter method untuk age\n",
    "  def set_age(self,age):\n",
    "    if age>0:\n",
    "      self.__age = age\n",
    "    else:\n",
    "      print(\"Age cannot be negative.\")\n",
    "\n",
    "person = Person(\"Deka\", 21)\n",
    "\n",
    "## Change see variable and set variable\n",
    "print(person.get_name())\n",
    "print(person.get_age())\n",
    "\n",
    "person.set_age(32)\n",
    "print(person.get_age())\n",
    "person.set_age(-5)"
   ]
  },
  {
   "cell_type": "code",
   "execution_count": 31,
   "id": "27431cfe",
   "metadata": {},
   "outputs": [
    {
     "name": "stdout",
     "output_type": "stream",
     "text": [
      "Car engine started\n",
      "The vehicle is used for driving\n"
     ]
    }
   ],
   "source": [
    "from abc import ABC,abstractmethod\n",
    "\n",
    "## Abstract base class\n",
    "class Vehicle(ABC):\n",
    "  def drive(self):\n",
    "    print(\"The vehicle is used for driving\")\n",
    "\n",
    "  @abstractmethod\n",
    "  def start_engine(self):\n",
    "    pass\n",
    "\n",
    "class Car(Vehicle):\n",
    "  def start_engine(self):\n",
    "    print(\"Car engine started\")\n",
    "\n",
    "def operate_vehicle(vehicle):\n",
    "    vehicle.start_engine()\n",
    "    vehicle.drive()\n",
    "\n",
    "car=Car()\n",
    "operate_vehicle(car)"
   ]
  }
 ],
 "metadata": {
  "kernelspec": {
   "display_name": "Python 3",
   "language": "python",
   "name": "python3"
  },
  "language_info": {
   "codemirror_mode": {
    "name": "ipython",
    "version": 3
   },
   "file_extension": ".py",
   "mimetype": "text/x-python",
   "name": "python",
   "nbconvert_exporter": "python",
   "pygments_lexer": "ipython3",
   "version": "3.12.0"
  }
 },
 "nbformat": 4,
 "nbformat_minor": 5
}
