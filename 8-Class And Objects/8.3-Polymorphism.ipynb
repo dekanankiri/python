{
 "cells": [
  {
   "cell_type": "code",
   "execution_count": 4,
   "id": "6e1191e4",
   "metadata": {},
   "outputs": [
    {
     "name": "stdout",
     "output_type": "stream",
     "text": [
      "Meow!\n",
      "Woof!\n",
      "Woof!\n"
     ]
    }
   ],
   "source": [
    "## Base Class\n",
    "class Animal:\n",
    "  def speak(self):\n",
    "    return \"Sound of the animal\"\n",
    "  \n",
    "## Derived class 1\n",
    "class Dog(Animal):\n",
    "  def speak(self):\n",
    "    return \"Woof!\"\n",
    "\n",
    "## Derived class 2\n",
    "class Cat(Animal):\n",
    "  def speak(self):\n",
    "    return \"Meow!\"\n",
    "\n",
    "## Function that Demonstrate Polymorphism\n",
    "def animal_speak(animal):\n",
    "  print(animal.speak())\n",
    "\n",
    "cat = Cat()\n",
    "dog = Dog()\n",
    "print(cat.speak())\n",
    "print(dog.speak())\n",
    "animal_speak(dog)"
   ]
  },
  {
   "cell_type": "code",
   "execution_count": 25,
   "id": "7db6158b",
   "metadata": {},
   "outputs": [
    {
     "name": "stdout",
     "output_type": "stream",
     "text": [
      "The area is 99\n",
      "The area is 153.86\n"
     ]
    }
   ],
   "source": [
    "## Polymorphism with Functions and Methods\n",
    "## base class\n",
    "\n",
    "class Shape:\n",
    "  def area(self):\n",
    "    return \"The area of the figure\"\n",
    "\n",
    "## Derived class 1\n",
    "class Rectangle(Shape):\n",
    "  def __init__(self,height,width):\n",
    "    self.height = height\n",
    "    self.width = width\n",
    "\n",
    "  def area(self):\n",
    "    return self.height * self.width\n",
    "\n",
    "## Derived class 2\n",
    "class Circle(Shape):\n",
    "  def __init__(self,radius):\n",
    "    self.radius = radius\n",
    "\n",
    "  def area(self):\n",
    "    return 3.14 * self.radius * self.radius\n",
    "\n",
    "## Function that demonstrate polymorphism\n",
    "def print_area(shape):\n",
    "  print(f\"The area is {shape.area()}\")\n",
    "\n",
    "rectangle = Rectangle(9,11)\n",
    "print_area(rectangle)\n",
    "\n",
    "circle = Circle(7)\n",
    "print_area(circle)\n",
    "\n",
    "\n"
   ]
  },
  {
   "cell_type": "code",
   "execution_count": 28,
   "id": "2543bb87",
   "metadata": {},
   "outputs": [
    {
     "name": "stdout",
     "output_type": "stream",
     "text": [
      "Motorcycle engine start....!\n",
      "Car engine start...!\n"
     ]
    }
   ],
   "source": [
    "from abc import ABC, abstractmethod\n",
    "\n",
    "## Define an abstract class\n",
    "class Vehicle(ABC):\n",
    "  @abstractmethod\n",
    "  def start_engine(self):\n",
    "    pass\n",
    "\n",
    "## Derived class 1\n",
    "class Car(Vehicle):\n",
    "  def start_engine(self):\n",
    "    return \"Car engine start...!\"\n",
    "\n",
    "## Derived class 2\n",
    "class Motorcycle(Vehicle):\n",
    "  def start_engine(self):\n",
    "    return \"Motorcycle engine start....!\"\n",
    "\n",
    "## Function that demonstrate Polymorphism\n",
    "def start_vehicle(vehicle):\n",
    "  print(vehicle.start_engine())\n",
    "\n",
    "## create object of car and motorcycle\n",
    "motor = Motorcycle()\n",
    "car = Car()\n",
    "start_vehicle(motor)\n",
    "start_vehicle(car)"
   ]
  },
  {
   "cell_type": "code",
   "execution_count": null,
   "id": "02034779",
   "metadata": {},
   "outputs": [],
   "source": []
  }
 ],
 "metadata": {
  "kernelspec": {
   "display_name": "Python 3",
   "language": "python",
   "name": "python3"
  },
  "language_info": {
   "codemirror_mode": {
    "name": "ipython",
    "version": 3
   },
   "file_extension": ".py",
   "mimetype": "text/x-python",
   "name": "python",
   "nbconvert_exporter": "python",
   "pygments_lexer": "ipython3",
   "version": "3.12.0"
  }
 },
 "nbformat": 4,
 "nbformat_minor": 5
}
