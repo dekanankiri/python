{
 "cells": [
  {
   "cell_type": "code",
   "execution_count": 1,
   "id": "edae8b50",
   "metadata": {},
   "outputs": [],
   "source": [
    "## Parent class\n",
    "class Car:\n",
    "  def __init__(self,windows,doors,enginetype):\n",
    "    self.windows = windows\n",
    "    self.doors = doors\n",
    "    self.enginetype = enginetype\n",
    "  \n",
    "  def drive(self):\n",
    "    print(f\"The person will drive the {self.enginetype} car\")"
   ]
  },
  {
   "cell_type": "code",
   "execution_count": 3,
   "id": "274fbd1a",
   "metadata": {},
   "outputs": [
    {
     "name": "stdout",
     "output_type": "stream",
     "text": [
      "The person will drive the petrol car\n"
     ]
    }
   ],
   "source": [
    "car1 = Car(4,5,\"petrol\")\n",
    "car1.drive()"
   ]
  },
  {
   "cell_type": "code",
   "execution_count": 5,
   "id": "10c09495",
   "metadata": {},
   "outputs": [],
   "source": [
    "class Tesla(Car):\n",
    "  def __init__(self,windows,doors,enginetype,is_selfdriving):\n",
    "    super().__init__(windows,doors,enginetype)\n",
    "    self.is_selfdriving = is_selfdriving\n",
    "\n",
    "  def selfdriving(self):\n",
    "    print(f\"Tesla support self driving: {self.is_selfdriving}\")"
   ]
  },
  {
   "cell_type": "code",
   "execution_count": 10,
   "id": "c8033f1a",
   "metadata": {},
   "outputs": [
    {
     "name": "stdout",
     "output_type": "stream",
     "text": [
      "Tesla support self driving: True\n",
      "The person will drive the electric car\n"
     ]
    }
   ],
   "source": [
    "model_S = Tesla(4,4,\"electric\",True)\n",
    "model_S.selfdriving()\n",
    "model_S.drive()"
   ]
  },
  {
   "cell_type": "code",
   "execution_count": 12,
   "id": "e6816e23",
   "metadata": {},
   "outputs": [
    {
     "name": "stdout",
     "output_type": "stream",
     "text": [
      "Astroid says woof\n",
      "Owner:Deka\n"
     ]
    }
   ],
   "source": [
    "### Multiple Inheritance\n",
    "## When a class inherits from more than one base class\n",
    "## Base class 1\n",
    "class Animal:\n",
    "  def __init__(self,name):\n",
    "    self.name=name\n",
    "\n",
    "  def speak(self):\n",
    "    print(\"Subclass must implement this method\")\n",
    "\n",
    "# Base class 2\n",
    "class Pet:\n",
    "  def __init__(self,owner):\n",
    "    self.owner = owner\n",
    "\n",
    "## Derived class\n",
    "class Dog(Animal,Pet):\n",
    "  def __init__(self, name, owner):\n",
    "    Animal.__init__(self,name)\n",
    "    Pet.__init__(self,owner)\n",
    "\n",
    "  def speak(self):\n",
    "    return f\"{self.name} says woof\"\n",
    "\n",
    "## Create an object\n",
    "dog = Dog(\"Astroid\",\"Deka\")\n",
    "print(dog.speak())\n",
    "print(f\"Owner:{dog.owner}\")"
   ]
  },
  {
   "cell_type": "code",
   "execution_count": null,
   "id": "2d1b5a8c",
   "metadata": {},
   "outputs": [],
   "source": []
  }
 ],
 "metadata": {
  "kernelspec": {
   "display_name": "Python 3",
   "language": "python",
   "name": "python3"
  },
  "language_info": {
   "codemirror_mode": {
    "name": "ipython",
    "version": 3
   },
   "file_extension": ".py",
   "mimetype": "text/x-python",
   "name": "python",
   "nbconvert_exporter": "python",
   "pygments_lexer": "ipython3",
   "version": "3.12.0"
  }
 },
 "nbformat": 4,
 "nbformat_minor": 5
}
