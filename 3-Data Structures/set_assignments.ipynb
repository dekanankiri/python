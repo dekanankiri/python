{
 "cells": [
  {
   "cell_type": "markdown",
   "id": "205a1357",
   "metadata": {},
   "source": [
    "# Module 3: Data Structures Assignments\n",
    "## Lesson 3.3: Sets\n",
    "### Assignment 1: Creating and Accessing Sets\n",
    "Create a set with the first 10 positive integers. Print the set"
   ]
  },
  {
   "cell_type": "code",
   "execution_count": null,
   "id": "fe5f6546",
   "metadata": {},
   "outputs": [
    {
     "name": "stdout",
     "output_type": "stream",
     "text": [
      "{1, 2, 3, 4, 5, 6, 7, 8, 9, 10}\n"
     ]
    }
   ],
   "source": [
    "s = set(range(1,11))\n",
    "print(s)"
   ]
  },
  {
   "cell_type": "markdown",
   "id": "8b70431d",
   "metadata": {},
   "source": [
    "### Assignment 2: Adding and Removing Elements\n",
    "Add the number 11 to the set created in assignment 1. Then remove the number 1 from the set. print the modified set"
   ]
  },
  {
   "cell_type": "code",
   "execution_count": 8,
   "id": "b31ea70f",
   "metadata": {},
   "outputs": [
    {
     "name": "stdout",
     "output_type": "stream",
     "text": [
      "{2, 3, 4, 5, 6, 7, 8, 9, 10, 11}\n"
     ]
    }
   ],
   "source": [
    "s.add(11)\n",
    "s.discard(1)\n",
    "print(s)"
   ]
  },
  {
   "cell_type": "markdown",
   "id": "074d5a12",
   "metadata": {},
   "source": [
    "### Assignment 3: Set Operations\n",
    "Create two sets: one with the first 5 positive integers and another with the first 5 even integers. Perform and print the result of union, intersection, difference, and symmetric difference operations on these sets."
   ]
  },
  {
   "cell_type": "code",
   "execution_count": 10,
   "id": "1833b325",
   "metadata": {},
   "outputs": [
    {
     "name": "stdout",
     "output_type": "stream",
     "text": [
      "set of first 5 positive integers: {1, 2, 3, 4, 5}\n",
      "set of first 5 even integers: {2, 4, 6, 8, 10}\n",
      "Union set1 and set2: {1, 2, 3, 4, 5, 6, 8, 10}\n",
      "set of intersect between set1 and set2 {2, 4}\n",
      "set of difference set2 to set2: {1, 3, 5}\n",
      "set of symetric_difference between set1 and set2: {1, 3, 5, 6, 8, 10}\n"
     ]
    }
   ],
   "source": [
    "set1 = {x for x in range(1,6)}\n",
    "set2 = {x for x in range(1,11) if x%2==0}\n",
    "print(f\"set of first 5 positive integers: {set1}\")\n",
    "print(f\"set of first 5 even integers: {set2}\")\n",
    "print(f\"Union set1 and set2: {set1.union(set2)}\")\n",
    "print(f\"set of intersect between set1 and set2 {set1.intersection(set2)}\")\n",
    "print(f\"set of difference set2 to set2: {set1.difference(set2)}\")\n",
    "print(f\"set of symetric_difference between set1 and set2: {set1.symmetric_difference(set2)}\")"
   ]
  },
  {
   "cell_type": "markdown",
   "id": "8738df29",
   "metadata": {},
   "source": [
    "### Assignment 4: Set Comprehensions\n",
    "Create a new set containing the squares of the first 10 positive integers using a set comprehension. Print the new set."
   ]
  },
  {
   "cell_type": "code",
   "execution_count": null,
   "id": "4796d077",
   "metadata": {},
   "outputs": [
    {
     "name": "stdout",
     "output_type": "stream",
     "text": [
      "{64, 1, 4, 36, 100, 9, 16, 49, 81, 25}\n"
     ]
    }
   ],
   "source": [
    "s = {x**2 for x in range(1,11)}\n",
    "print(s)"
   ]
  },
  {
   "cell_type": "markdown",
   "id": "98dbcef3",
   "metadata": {},
   "source": [
    "### Assignment 5: Filtering Sets\n",
    "Create a new set containing only the even numbers from the set created in Assignment 1 using set comprehension. Print the new set."
   ]
  },
  {
   "cell_type": "code",
   "execution_count": 13,
   "id": "cf3340aa",
   "metadata": {},
   "outputs": [
    {
     "name": "stdout",
     "output_type": "stream",
     "text": [
      "{2, 4, 6, 8, 10}\n"
     ]
    }
   ],
   "source": [
    "s = set([x for x in range(2,11,2)])\n",
    "print(s)"
   ]
  },
  {
   "cell_type": "markdown",
   "id": "7cd905d8",
   "metadata": {},
   "source": [
    "### Assignment 6: Set Methods\n",
    "Create a set with duplicate elements and remove the duplicate using set methods. Print the modified set."
   ]
  },
  {
   "cell_type": "code",
   "execution_count": 15,
   "id": "f5524860",
   "metadata": {},
   "outputs": [
    {
     "name": "stdout",
     "output_type": "stream",
     "text": [
      "{1, 2, 3, 4, 5, 6, 7, 8, 9}\n"
     ]
    }
   ],
   "source": [
    "s = set({1,2,2,3,3,4,5,6,6,7,8,9})\n",
    "print(s)"
   ]
  },
  {
   "cell_type": "markdown",
   "id": "f96a96e6",
   "metadata": {},
   "source": [
    "### Assignment 7: Subsets and Supersets\n",
    "Create two sets: one with the first 5 positive integers and another with the first 3 positive integers. Check if the second set is a subset of the first set and if the first set is a superset of the second set. Print the result."
   ]
  },
  {
   "cell_type": "code",
   "execution_count": 16,
   "id": "81a1ea77",
   "metadata": {},
   "outputs": [
    {
     "name": "stdout",
     "output_type": "stream",
     "text": [
      "True\n",
      "True\n"
     ]
    }
   ],
   "source": [
    "set1 = set(range(1,6))\n",
    "set2 = set(range(1,4))\n",
    "print(set2.issubset(set1))\n",
    "print(set1.issuperset(set2))"
   ]
  },
  {
   "cell_type": "markdown",
   "id": "856db856",
   "metadata": {},
   "source": [
    "### Assignment 8: Frozen Set\n",
    "Create a Frozen set with the first 5 possitive integers. Print the Frozenset."
   ]
  },
  {
   "cell_type": "code",
   "execution_count": 21,
   "id": "85eddc99",
   "metadata": {},
   "outputs": [
    {
     "name": "stdout",
     "output_type": "stream",
     "text": [
      "frozenset({1, 2, 3, 4, 5})\n"
     ]
    }
   ],
   "source": [
    "s = set(range(1,6))\n",
    "my_forzenset = frozenset(s)\n",
    "print(my_forzenset)"
   ]
  },
  {
   "cell_type": "markdown",
   "id": "13fea39a",
   "metadata": {},
   "source": [
    "### Assignment 9: Set and list convertion\n",
    "Create a set with the first 5 positive integers. Convert it to a list, append the number 6, and convert it back to a set. Print the resulting set."
   ]
  },
  {
   "cell_type": "code",
   "execution_count": 26,
   "id": "605671f8",
   "metadata": {},
   "outputs": [
    {
     "name": "stdout",
     "output_type": "stream",
     "text": [
      "{1, 2, 3, 4, 5}\n",
      "[1, 2, 3, 4, 5]\n",
      "[1, 2, 3, 4, 5, 6]\n",
      "{1, 2, 3, 4, 5, 6}\n"
     ]
    }
   ],
   "source": [
    "s = set(range(1,6))\n",
    "print(s)\n",
    "lst = list(s)\n",
    "print(lst)\n",
    "lst.append(6)\n",
    "print(lst)\n",
    "s = set(lst)\n",
    "print(s)"
   ]
  },
  {
   "cell_type": "markdown",
   "id": "dac39d00",
   "metadata": {},
   "source": [
    "### Assignment 10: Set and Dictionary\n",
    "Create a dictionary with set keys and integers values. Print the dictionary."
   ]
  },
  {
   "cell_type": "code",
   "execution_count": 33,
   "id": "d5d7967f",
   "metadata": {},
   "outputs": [
    {
     "name": "stdout",
     "output_type": "stream",
     "text": [
      "{frozenset({1, 2}): 3, frozenset({3, 4}): 4, frozenset({5, 6}): 5}\n"
     ]
    }
   ],
   "source": [
    "d = {\n",
    "  frozenset({1,2}):3,\n",
    "  frozenset({3,4}):4,\n",
    "  frozenset({5,6}):5\n",
    "}\n",
    "print(d)"
   ]
  },
  {
   "cell_type": "markdown",
   "id": "50e03db8",
   "metadata": {},
   "source": [
    "### Assignment 11: Iterating Over Sets\n",
    "Create a set and iterate over the elements, Printing each element."
   ]
  },
  {
   "cell_type": "code",
   "execution_count": 34,
   "id": "22975a31",
   "metadata": {},
   "outputs": [
    {
     "name": "stdout",
     "output_type": "stream",
     "text": [
      "0\n",
      "1\n",
      "2\n",
      "3\n",
      "4\n",
      "5\n",
      "6\n",
      "7\n",
      "8\n",
      "9\n"
     ]
    }
   ],
   "source": [
    "s = set(range(10))\n",
    "for x in s:\n",
    "  print(x)"
   ]
  },
  {
   "cell_type": "markdown",
   "id": "d65fc411",
   "metadata": {},
   "source": [
    "### Assignment 12: Removing Elements from Sets\n",
    "Create a set and remove elements from it until it is empty. Print the set after each removal."
   ]
  },
  {
   "cell_type": "code",
   "execution_count": 48,
   "id": "e218892d",
   "metadata": {},
   "outputs": [
    {
     "name": "stdout",
     "output_type": "stream",
     "text": [
      "{1, 2, 3, 4, 5, 6, 7, 8, 9, 10}\n",
      "{2, 3, 4, 5, 6, 7, 8, 9, 10}\n",
      "{3, 4, 5, 6, 7, 8, 9, 10}\n",
      "{4, 5, 6, 7, 8, 9, 10}\n",
      "{5, 6, 7, 8, 9, 10}\n",
      "{6, 7, 8, 9, 10}\n",
      "{7, 8, 9, 10}\n",
      "{8, 9, 10}\n",
      "{9, 10}\n",
      "{10}\n",
      "set()\n"
     ]
    }
   ],
   "source": [
    "set2 = set(range(1,11))\n",
    "\n",
    "for i in range(len(set2)+1):\n",
    "  set2.discard(i)\n",
    "  print(set2)"
   ]
  },
  {
   "cell_type": "code",
   "execution_count": 50,
   "id": "5f6164fb",
   "metadata": {},
   "outputs": [
    {
     "name": "stdout",
     "output_type": "stream",
     "text": [
      "{2, 3, 4, 5, 6, 7, 8, 9, 10, 11}\n",
      "{3, 4, 5, 6, 7, 8, 9, 10, 11}\n",
      "{4, 5, 6, 7, 8, 9, 10, 11}\n",
      "{5, 6, 7, 8, 9, 10, 11}\n",
      "{6, 7, 8, 9, 10, 11}\n",
      "{7, 8, 9, 10, 11}\n",
      "{8, 9, 10, 11}\n",
      "{9, 10, 11}\n",
      "{10, 11}\n",
      "{11}\n",
      "set()\n"
     ]
    }
   ],
   "source": [
    "set11 = set(range(1,12))\n",
    "while set11:\n",
    "  set11.pop()\n",
    "  print(set11)"
   ]
  },
  {
   "cell_type": "markdown",
   "id": "f40f4374",
   "metadata": {},
   "source": [
    "### Assignment 13 : Set Symetric Difference Update\n",
    "Create two sets and update the first set with the symmetric difference of the two sets. Print the modified first set."
   ]
  },
  {
   "cell_type": "code",
   "execution_count": 52,
   "id": "95f5e9ae",
   "metadata": {},
   "outputs": [
    {
     "name": "stdout",
     "output_type": "stream",
     "text": [
      "{1, 2, 3, 4, 5, 6}\n"
     ]
    }
   ],
   "source": [
    "set1 = {1,2,3,4,5,6}\n",
    "set2 = {4,5,6,7,8,9}\n",
    "set1.symmetric_difference(set2)\n",
    "print(set1)"
   ]
  },
  {
   "cell_type": "markdown",
   "id": "1468bf2e",
   "metadata": {},
   "source": [
    "### Assignment 14: Set Membership Testing\n",
    "Create a set and test if certain elements are present in the set. Print the result.\n"
   ]
  },
  {
   "cell_type": "code",
   "execution_count": 60,
   "id": "98912669",
   "metadata": {},
   "outputs": [
    {
     "name": "stdout",
     "output_type": "stream",
     "text": [
      "{0, 1, 2, 3, 4, 5, 6, 7, 8, 9}\n",
      "False\n",
      "True\n"
     ]
    }
   ],
   "source": [
    "s = set(range(10))\n",
    "print(s)\n",
    "print(3 not in s)\n",
    "print(9 in s)"
   ]
  },
  {
   "cell_type": "markdown",
   "id": "671b3f54",
   "metadata": {},
   "source": [
    "### Assignment 15: Set of Tuples\n",
    "Create a set containing tuples, where each tuple contains two elements. Print the set."
   ]
  },
  {
   "cell_type": "code",
   "execution_count": 61,
   "id": "3b239e59",
   "metadata": {},
   "outputs": [
    {
     "name": "stdout",
     "output_type": "stream",
     "text": [
      "{(2, 3), (1, 2), (3, 4)}\n"
     ]
    }
   ],
   "source": [
    "s = {(1,2),(2,3),(3,4)}\n",
    "print(s)"
   ]
  }
 ],
 "metadata": {
  "kernelspec": {
   "display_name": "Python 3",
   "language": "python",
   "name": "python3"
  },
  "language_info": {
   "codemirror_mode": {
    "name": "ipython",
    "version": 3
   },
   "file_extension": ".py",
   "mimetype": "text/x-python",
   "name": "python",
   "nbconvert_exporter": "python",
   "pygments_lexer": "ipython3",
   "version": "3.12.0"
  }
 },
 "nbformat": 4,
 "nbformat_minor": 5
}
