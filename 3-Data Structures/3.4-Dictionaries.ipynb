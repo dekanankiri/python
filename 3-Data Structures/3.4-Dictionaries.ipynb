{
 "cells": [
  {
   "cell_type": "code",
   "execution_count": 3,
   "id": "360962b3",
   "metadata": {},
   "outputs": [
    {
     "name": "stdout",
     "output_type": "stream",
     "text": [
      "<class 'set'>\n",
      "<class 'dict'>\n"
     ]
    }
   ],
   "source": [
    "z = {}\n",
    "print(type(z))"
   ]
  },
  {
   "cell_type": "code",
   "execution_count": 5,
   "id": "19511e62",
   "metadata": {},
   "outputs": [
    {
     "name": "stdout",
     "output_type": "stream",
     "text": [
      "{'name': 'Deka', 'age': '20', 'grade': '100'}\n",
      "<class 'dict'>\n"
     ]
    }
   ],
   "source": [
    "students = {\"name\":\"Deka\",\"age\":\"20\",\"grade\":\"100\"}\n",
    "print(students)\n",
    "print(type(students))"
   ]
  },
  {
   "cell_type": "code",
   "execution_count": 8,
   "id": "fa476d10",
   "metadata": {},
   "outputs": [
    {
     "name": "stdout",
     "output_type": "stream",
     "text": [
      "{'name': 'naya', 'age': 20, 'grade': 100}\n"
     ]
    }
   ],
   "source": [
    "## single key is always use\n",
    "students = {\"name\":\"Deka\",\"age\":20,\"grade\":100,\"name\":\"naya\"}\n",
    "print(students)"
   ]
  },
  {
   "cell_type": "code",
   "execution_count": 9,
   "id": "2bfdd179",
   "metadata": {},
   "outputs": [
    {
     "name": "stdout",
     "output_type": "stream",
     "text": [
      "{'name': 'Deka', 'age': 20, 'grade': 'A'}\n"
     ]
    }
   ],
   "source": [
    "## Accessing dictionary elements\n",
    "students = {\"name\":\"Deka\",\"age\":20,\"grade\":\"A\"}\n",
    "print(students)"
   ]
  },
  {
   "cell_type": "code",
   "execution_count": 14,
   "id": "abb5d470",
   "metadata": {},
   "outputs": [
    {
     "name": "stdout",
     "output_type": "stream",
     "text": [
      "A\n",
      "20\n",
      "A\n",
      "None\n",
      "not availabe\n"
     ]
    }
   ],
   "source": [
    "##Accessing Dictionary elements\n",
    "print(students['grade'])\n",
    "print(students['age'])\n",
    "\n",
    "## Accessing using get() method\n",
    "print(students.get('grade'))\n",
    "print(students.get('last_name'))\n",
    "print(students.get('last_name',\"not availabe\"))"
   ]
  },
  {
   "cell_type": "code",
   "execution_count": 15,
   "id": "8ffc5fde",
   "metadata": {},
   "outputs": [
    {
     "name": "stdout",
     "output_type": "stream",
     "text": [
      "{'name': 'Deka', 'age': 20, 'grade': 'A'}\n"
     ]
    }
   ],
   "source": [
    "## Modifying Dictionary Elements\n",
    "## Dictionary are mutable, so you can add, update or delete elements\n",
    "print(students)"
   ]
  },
  {
   "cell_type": "code",
   "execution_count": 17,
   "id": "805ca7bf",
   "metadata": {},
   "outputs": [
    {
     "name": "stdout",
     "output_type": "stream",
     "text": [
      "{'name': 'Deka', 'age': 33, 'grade': 'A'}\n",
      "{'name': 'Deka', 'age': 33, 'grade': 'A', 'address': 'Indonesia'}\n"
     ]
    }
   ],
   "source": [
    "students['age'] = 33 ## update value key\n",
    "print(students)\n",
    "students[\"address\"]= \"Indonesia\" ## added new key value\n",
    "print(students)"
   ]
  },
  {
   "cell_type": "code",
   "execution_count": 18,
   "id": "83cf4359",
   "metadata": {},
   "outputs": [
    {
     "name": "stdout",
     "output_type": "stream",
     "text": [
      "{'name': 'Deka', 'age': 33, 'address': 'Indonesia'}\n"
     ]
    }
   ],
   "source": [
    "del students['grade'] ## delete key and value pair\n",
    "\n",
    "print(students)"
   ]
  },
  {
   "cell_type": "code",
   "execution_count": 23,
   "id": "2dd0277a",
   "metadata": {},
   "outputs": [
    {
     "name": "stdout",
     "output_type": "stream",
     "text": [
      "dict_keys(['name', 'age', 'address'])\n",
      "dict_values(['Deka', 33, 'Indonesia'])\n",
      "dict_items([('name', 'Deka'), ('age', 33), ('address', 'Indonesia')])\n"
     ]
    }
   ],
   "source": [
    "## Dictionary methods\n",
    "\n",
    "keys  = students.keys() ## get alla the keys\n",
    "print(keys)\n",
    "values = students.values() ## get all views\n",
    "print(values)\n",
    "items = students.items() ## get all key value pairs\n",
    "print(items)"
   ]
  },
  {
   "cell_type": "code",
   "execution_count": 24,
   "id": "bcaefb3f",
   "metadata": {},
   "outputs": [
    {
     "name": "stdout",
     "output_type": "stream",
     "text": [
      "{'name': 'Deka', 'age': 33, 'address': 'Indonesia'}\n",
      "{'name': 'Deka', 'age': 33, 'address': 'Indonesia'}\n"
     ]
    }
   ],
   "source": [
    "## shallow copy\n",
    "students_copy = students\n",
    "print(students)\n",
    "print(students_copy)"
   ]
  },
  {
   "cell_type": "code",
   "execution_count": 28,
   "id": "2678abdd",
   "metadata": {},
   "outputs": [
    {
     "name": "stdout",
     "output_type": "stream",
     "text": [
      "{'name': 'Deka', 'age': 33, 'address': 'Indonesia'}\n",
      "{'name': 'Deka', 'age': 33, 'address': 'Indonesia'}\n"
     ]
    }
   ],
   "source": [
    "students[\"name\"]=\"Deka1\"\n",
    "print(students)\n",
    "print(students_copy)"
   ]
  },
  {
   "cell_type": "code",
   "execution_count": 29,
   "metadata": {},
   "outputs": [
    {
     "name": "stdout",
     "output_type": "stream",
     "text": [
      "{'name': 'Deka', 'age': 33, 'address': 'Indonesia'}\n",
      "{'name': 'Deka', 'age': 33, 'address': 'Indonesia'}\n"
     ]
    }
   ],
   "source": [
    "students_copy1=students.copy() ## Shallow copy\n",
    "print(students_copy1)\n",
    "print(students)"
   ]
  },
  {
   "cell_type": "code",
   "execution_count": 30,
   "id": "26b888de",
   "metadata": {},
   "outputs": [
    {
     "name": "stdout",
     "output_type": "stream",
     "text": [
      "{'name': 'Deka3', 'age': 33, 'address': 'Indonesia'}\n",
      "{'name': 'Deka', 'age': 33, 'address': 'Indonesia'}\n"
     ]
    }
   ],
   "source": [
    "students['name'] = \"Deka3\"\n",
    "print(students)\n",
    "print(students_copy1)"
   ]
  },
  {
   "cell_type": "code",
   "execution_count": 32,
   "metadata": {},
   "outputs": [
    {
     "name": "stdout",
     "output_type": "stream",
     "text": [
      "name\n",
      "age\n",
      "address\n"
     ]
    }
   ],
   "source": [
    "## Iterating Over Dictionary\n",
    "## You can use loops to iterate over dictionaries, keys, values, or items\n",
    "\n",
    "## Iterating over keys\n",
    "for keys in students.keys():\n",
    "  print(keys)"
   ]
  },
  {
   "cell_type": "code",
   "execution_count": 36,
   "id": "89eb3574",
   "metadata": {},
   "outputs": [
    {
     "name": "stdout",
     "output_type": "stream",
     "text": [
      "Deka3\n",
      "33\n",
      "Indonesia\n"
     ]
    }
   ],
   "source": [
    "## Iterate over values\n",
    "for values in students.values():\n",
    "  print(values)"
   ]
  },
  {
   "cell_type": "code",
   "execution_count": 38,
   "id": "c436a6da",
   "metadata": {},
   "outputs": [
    {
     "name": "stdout",
     "output_type": "stream",
     "text": [
      "name:Deka3\n",
      "age:33\n",
      "address:Indonesia\n"
     ]
    }
   ],
   "source": [
    "## Iterate over key value pairs\n",
    "for key,value in students.items():\n",
    "  print(f\"{key}:{value}\")"
   ]
  },
  {
   "cell_type": "code",
   "execution_count": 39,
   "id": "1851f3da",
   "metadata": {},
   "outputs": [
    {
     "name": "stdout",
     "output_type": "stream",
     "text": [
      "{'student1': {'name': 'Deka', 'age': 20}, 'student2': {'name': 'Peter', 'age': 21}}\n"
     ]
    }
   ],
   "source": [
    "## Nested dictionaries\n",
    "students = {\n",
    "  \"student1\":{\"name\":\"Deka\",\"age\":20},\n",
    "  \"student2\":{\"name\":\"Peter\",\"age\":21}\n",
    "}\n",
    "print(students)"
   ]
  },
  {
   "cell_type": "code",
   "execution_count": 45,
   "id": "1e567a2e",
   "metadata": {},
   "outputs": [
    {
     "name": "stdout",
     "output_type": "stream",
     "text": [
      "Peter\n",
      "21\n"
     ]
    }
   ],
   "source": [
    "## Access nested dictionaries\n",
    "print(students[\"student2\"][\"name\"])\n",
    "print(students[\"student2\"][\"age\"])"
   ]
  },
  {
   "cell_type": "code",
   "execution_count": 48,
   "id": "8cc884f0",
   "metadata": {},
   "outputs": [
    {
     "name": "stdout",
     "output_type": "stream",
     "text": [
      "student1:{'name': 'Deka', 'age': 20}\n",
      "name:Deka\n",
      "age:20\n",
      "student2:{'name': 'Peter', 'age': 21}\n",
      "name:Peter\n",
      "age:21\n"
     ]
    }
   ],
   "source": [
    "## Iterating over nested dictionaries\n",
    "for student_id,student_info in students.items():\n",
    "  print(f\"{student_id}:{student_info}\")\n",
    "  for key,value in student_info.items():\n",
    "    print(f\"{key}:{value}\")"
   ]
  },
  {
   "cell_type": "code",
   "execution_count": 50,
   "id": "a70619af",
   "metadata": {},
   "outputs": [
    {
     "name": "stdout",
     "output_type": "stream",
     "text": [
      "{0: 0, 1: 1, 2: 4, 3: 9, 4: 16}\n"
     ]
    }
   ],
   "source": [
    "## Dictionary comprehension\n",
    "squares = {x:x**2 for x in range(5)}\n",
    "print(squares)"
   ]
  },
  {
   "cell_type": "code",
   "execution_count": 52,
   "id": "4b9c58f8",
   "metadata": {},
   "outputs": [
    {
     "name": "stdout",
     "output_type": "stream",
     "text": [
      "{0: 0, 2: 4, 4: 16, 6: 36, 8: 64}\n"
     ]
    }
   ],
   "source": [
    "## Condition dictionary comprehension\n",
    "evens = {x:x**2 for x in range(10) if x%2==0}\n",
    "print(evens)"
   ]
  },
  {
   "cell_type": "code",
   "execution_count": 58,
   "id": "620d4253",
   "metadata": {},
   "outputs": [
    {
     "name": "stdout",
     "output_type": "stream",
     "text": [
      "{1: 1, 2: 2, 3: 3, 4: 4}\n"
     ]
    }
   ],
   "source": [
    "## Practical example\n",
    "\n",
    "## Use a dictionary to count fraquency of elements in list\n",
    "\n",
    "numbers=[1,2,2,3,3,3,4,4,4,4]\n",
    "frequency = {}\n",
    "\n",
    "for number in numbers:\n",
    "  if number in frequency:\n",
    "    frequency[number]+=1\n",
    "  else:\n",
    "    frequency[number]=1\n",
    "print(frequency)"
   ]
  },
  {
   "cell_type": "code",
   "execution_count": 60,
   "id": "454b6d10",
   "metadata": {},
   "outputs": [
    {
     "name": "stdout",
     "output_type": "stream",
     "text": [
      "{'a': 1, 'b': 3, 'c': 4}\n"
     ]
    }
   ],
   "source": [
    "## merge 2 dictionary\n",
    "\n",
    "dict1={\"a\":1,\"b\":2}\n",
    "dict2={\"b\":3,\"c\":4}\n",
    "merge_dict={**dict1,**dict2}\n",
    "print(merge_dict)"
   ]
  }
 ],
 "metadata": {
  "kernelspec": {
   "display_name": "Python 3",
   "language": "python",
   "name": "python3"
  },
  "language_info": {
   "codemirror_mode": {
    "name": "ipython",
    "version": 3
   },
   "file_extension": ".py",
   "mimetype": "text/x-python",
   "name": "python",
   "nbconvert_exporter": "python",
   "pygments_lexer": "ipython3",
   "version": "3.12.0"
  }
 },
 "nbformat": 4,
 "nbformat_minor": 5
}
