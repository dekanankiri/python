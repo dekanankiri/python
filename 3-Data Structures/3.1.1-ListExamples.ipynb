{
 "cells": [
  {
   "cell_type": "markdown",
   "id": "d1f5a9bc",
   "metadata": {},
   "source": [
    "### Real-World Example Using Lists in Python\n",
    "Lists are one of the most commonly used data structures in Python, thanks to their versatility and ease of use. Here are several practical examples that ilustrate their use in real-world scenarios.\n",
    "### Example 1. Manage A To Do List\n"
   ]
  },
  {
   "cell_type": "code",
   "execution_count": 2,
   "id": "29f22d6d",
   "metadata": {},
   "outputs": [
    {
     "name": "stdout",
     "output_type": "stream",
     "text": [
      "Dont forget to pay the utility bills\n",
      "To Do List remaining\n",
      "-Buy grocery\n",
      "-Pay Bills\n",
      "-Schedule meeting\n",
      "-go for a run\n"
     ]
    }
   ],
   "source": [
    "to_do_list = [\"Buy grocery\", \"clean the house\", \"Pay Bills\"]\n",
    "\n",
    "## Adding to task\n",
    "to_do_list.append(\"Schedule meeting\")\n",
    "to_do_list.append(\"go for a run\")\n",
    "\n",
    "## Remove a completed task\n",
    "to_do_list.remove(\"clean the house\")\n",
    "\n",
    "## checking if tas is in the list\n",
    "if \"Pay Bills\" in to_do_list:\n",
    "  print(\"Dont forget to pay the utility bills\")\n",
    "\n",
    "print(\"To Do List remaining\")\n",
    "for task in to_do_list:\n",
    "  print(f\"-{task}\")"
   ]
  },
  {
   "cell_type": "markdown",
   "id": "537f19ac",
   "metadata": {},
   "source": [
    "### Example 2: Organizing Students Grades\n",
    "Creating a list store and calculate average grades for students\n"
   ]
  },
  {
   "cell_type": "code",
   "execution_count": null,
   "id": "71cfcbe1",
   "metadata": {},
   "outputs": [
    {
     "name": "stdout",
     "output_type": "stream",
     "text": [
      "Average Grades: 88.0\n",
      "Highest Grade: 95\n",
      "Lowest Grade: 78\n"
     ]
    }
   ],
   "source": [
    "# Organizing student grades\n",
    "grades= [85,92,78,90,88]\n",
    "\n",
    "# Adding a new grade\n",
    "grades.append(95)\n",
    "\n",
    "# Adding a new grade\n",
    "average_grade = sum(grades)/len(grades)\n",
    "print(f\"Average Grades: {average_grade}\")\n",
    "\n",
    "# Finding the highest and lowest grades\n",
    "highest_grade = max(grades)\n",
    "lowest_grade = min(grades)\n",
    "print(f\"Highest Grade: {highest_grade}\")\n",
    "print(f\"Lowest Grade: {lowest_grade}\")"
   ]
  },
  {
   "cell_type": "markdown",
   "id": "143f096f",
   "metadata": {},
   "source": [
    "### Example 3: Managing An Inventory\n",
    "Use a list to manage inventory items in a store"
   ]
  },
  {
   "cell_type": "code",
   "execution_count": 5,
   "id": "5baa2316",
   "metadata": {},
   "outputs": [
    {
     "name": "stdout",
     "output_type": "stream",
     "text": [
      "oranges are in stock\n",
      "inventory list:\n",
      "-apples\n",
      "-oranges\n",
      "-grapes\n",
      "-strawberries\n"
     ]
    }
   ],
   "source": [
    "# Managing an inventory\n",
    "inventory = [\"apples\",\"bananas\",\"oranges\",\"grapes\"]\n",
    "\n",
    "# Adding a new item\n",
    "inventory.append(\"strawberries\")\n",
    "\n",
    "# Removing an item that is out of stock\n",
    "inventory.remove(\"bananas\")\n",
    "\n",
    "# Checking if an item is in stock\n",
    "item = \"oranges\"\n",
    "if item in inventory:\n",
    "  print(f\"{item} are in stock\")\n",
    "else:\n",
    "  print(f\"{item} is out of stock\")\n",
    "\n",
    "# Printing the inventory\n",
    "print(\"inventory list:\")\n",
    "for i in inventory:\n",
    "  print(f\"-{i}\")"
   ]
  }
 ],
 "metadata": {
  "kernelspec": {
   "display_name": "Python 3",
   "language": "python",
   "name": "python3"
  },
  "language_info": {
   "codemirror_mode": {
    "name": "ipython",
    "version": 3
   },
   "file_extension": ".py",
   "mimetype": "text/x-python",
   "name": "python",
   "nbconvert_exporter": "python",
   "pygments_lexer": "ipython3",
   "version": "3.12.0"
  }
 },
 "nbformat": 4,
 "nbformat_minor": 5
}
