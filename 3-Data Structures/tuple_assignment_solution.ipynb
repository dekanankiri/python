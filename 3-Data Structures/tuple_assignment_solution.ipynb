{
 "cells": [
  {
   "cell_type": "markdown",
   "id": "c52d678c",
   "metadata": {},
   "source": [
    "# Module 3: Data Structures Assignments\n",
    "## Lesson 3.2: Tuples\n",
    "### Assignment 1: Creating and Accessing Tuples\n",
    "Create a tuple with the first 10 positive integers. Print the tuple."
   ]
  },
  {
   "cell_type": "code",
   "execution_count": 5,
   "id": "080b0049",
   "metadata": {},
   "outputs": [
    {
     "name": "stdout",
     "output_type": "stream",
     "text": [
      "(1, 2, 3, 4, 5, 6, 7, 8, 9, 10)\n"
     ]
    }
   ],
   "source": [
    "tup = tuple(range(1,11))\n",
    "print(tup)"
   ]
  },
  {
   "cell_type": "markdown",
   "id": "f207e5bb",
   "metadata": {},
   "source": [
    "### Assignment 2: Accessing Tuple Elements\n",
    "Print the first, middle , and last elements of  the tuple created in Assignment 1"
   ]
  },
  {
   "cell_type": "code",
   "execution_count": 9,
   "id": "7c41a029",
   "metadata": {},
   "outputs": [
    {
     "name": "stdout",
     "output_type": "stream",
     "text": [
      "The first element of tuple is 1\n",
      "The middle element of tuple is 6\n",
      "The last element of tuple is 10\n"
     ]
    }
   ],
   "source": [
    "print(f\"The first element of tuple is {tup[0]}\")\n",
    "print(f\"The middle element of tuple is {tup[len(tup)//2]}\")\n",
    "print(f\"The last element of tuple is {tup[-1]}\")"
   ]
  },
  {
   "cell_type": "markdown",
   "id": "681a0098",
   "metadata": {},
   "source": [
    "### Assignment 3: Tuple Slicing\n",
    "Print the first three elements, the last three elements, and the elements from index 2 to 5 of the tuple created in Assignment 1.\n"
   ]
  },
  {
   "cell_type": "code",
   "execution_count": 18,
   "id": "3f4827da",
   "metadata": {},
   "outputs": [
    {
     "name": "stdout",
     "output_type": "stream",
     "text": [
      "The first three elements: (1, 2, 3)\n",
      "The last three elements: (8, 9, 10)\n",
      "The elements from index 2 to 5: (3, 4, 5, 6)\n"
     ]
    }
   ],
   "source": [
    "print(f\"The first three elements: {tup[:3]}\")\n",
    "print(f\"The last three elements: {tup[-3:]}\")\n",
    "print(f\"The elements from index 2 to 5: {tup[2:6]}\")"
   ]
  },
  {
   "cell_type": "markdown",
   "id": "dbac28c8",
   "metadata": {},
   "source": [
    "### Assignement 4: Nested Tuples\n",
    "Create a nested tuple representing a 3x3 matrix and print the matrix. Access and print the element at the second row and third column\n"
   ]
  },
  {
   "cell_type": "code",
   "execution_count": 32,
   "id": "9c8853f4",
   "metadata": {},
   "outputs": [
    {
     "name": "stdout",
     "output_type": "stream",
     "text": [
      "The Matrix:\n",
      "(1, 2, 3)\n",
      "(4, 5, 6)\n",
      "(7, 8, 9)\n",
      "\n",
      "Element at the second row and the third row:\n",
      "(4, 5, 6)\n",
      "(7, 8, 9)\n",
      "\n",
      "Element at the second and third row in one tuple:\n",
      "4, 5, 6, 7, 8, 9, \n",
      "element at the second row and third column: 6\n"
     ]
    }
   ],
   "source": [
    "nested_tpl = (\n",
    "  (1,2,3),\n",
    "  (4,5,6),\n",
    "  (7,8,9)\n",
    ")\n",
    "print(\"The Matrix:\")\n",
    "for row in nested_tpl:\n",
    "  print(row)\n",
    "print()\n",
    "print(\"Element at the second row and the third row:\")\n",
    "for row in nested_tpl[1:3]:\n",
    "  print(row)\n",
    "print()\n",
    "print(\"Element at the second and third row in one tuple:\")\n",
    "for row in nested_tpl[1:3]:\n",
    "  for element in row:\n",
    "    print(element, end=\", \")\n",
    "print()\n",
    "print(f\"element at the second row and third column: {nested_tpl[1][2]}\")"
   ]
  },
  {
   "cell_type": "markdown",
   "id": "155734a3",
   "metadata": {},
   "source": [
    "### Assignment 5: Tuple Concatenation\n",
    "Concatenate two tuples: (1,2,3) and (4,5,6). Print the resulting tuple."
   ]
  },
  {
   "cell_type": "code",
   "execution_count": 33,
   "id": "bc324092",
   "metadata": {},
   "outputs": [
    {
     "name": "stdout",
     "output_type": "stream",
     "text": [
      "(1, 2, 3, 4, 5, 6)\n"
     ]
    }
   ],
   "source": [
    "tpl1 = (1,2,3)\n",
    "tpl2 = (4,5,6)\n",
    "concate_tpl = tpl1 + tpl2\n",
    "print(concate_tpl)"
   ]
  },
  {
   "cell_type": "markdown",
   "id": "ca17085e",
   "metadata": {},
   "source": [
    "### Assignment 6: Tuple Methods\n",
    "Create a tuple with duplicate elements and count the occurences of an element. Find the index of the first occurence of an element in the tuple."
   ]
  },
  {
   "cell_type": "code",
   "execution_count": 35,
   "id": "b0a8fdf6",
   "metadata": {},
   "outputs": [
    {
     "name": "stdout",
     "output_type": "stream",
     "text": [
      "(1, 2, 3, 4, 5, 6, 3, 7, 8, 9)\n",
      "number of occurence: 2\n",
      "index of the first occurence: 2\n"
     ]
    }
   ],
   "source": [
    "tpl = (1,2,3,4,5,6,3,7,8,9)\n",
    "print(tpl)\n",
    "print(f\"number of occurence: {tpl.count(3)}\")\n",
    "print(f\"index of the first occurence: {tpl.index(3)}\")"
   ]
  },
  {
   "cell_type": "markdown",
   "id": "03c93c81",
   "metadata": {},
   "source": [
    "### Assignment 7: Unpacking Tuples\n",
    "Create a tuple with 5 elements and unpack it into 5 variables. Print the variables."
   ]
  },
  {
   "cell_type": "code",
   "execution_count": 38,
   "id": "0b0f7c78",
   "metadata": {},
   "outputs": [
    {
     "name": "stdout",
     "output_type": "stream",
     "text": [
      "1\n",
      "Deka\n",
      "3.14\n",
      "True\n",
      "False\n"
     ]
    }
   ],
   "source": [
    "tpl = (1,\"Deka\",3.14,True,False)\n",
    "a,b,c,d,e = tpl\n",
    "print(a)\n",
    "print(b)\n",
    "print(c)\n",
    "print(d)\n",
    "print(e)"
   ]
  },
  {
   "cell_type": "markdown",
   "id": "584311ec",
   "metadata": {},
   "source": [
    "### Assignment 8: Tuple Conversion\n",
    "Convert a list of the first 5 positive integers to a tuple."
   ]
  },
  {
   "cell_type": "code",
   "execution_count": 42,
   "id": "d5cfc767",
   "metadata": {},
   "outputs": [
    {
     "name": "stdout",
     "output_type": "stream",
     "text": [
      "[1, 2, 3, 4, 5, 6, 7, 8, 9, 10]\n",
      "(1, 2, 3, 4, 5)\n"
     ]
    }
   ],
   "source": [
    "lst = [x for x in range(1,11)]\n",
    "print(lst)\n",
    "tpl = tuple(lst[0:5])\n",
    "print(tpl)"
   ]
  },
  {
   "cell_type": "markdown",
   "id": "8a414f53",
   "metadata": {},
   "source": [
    "### Assignment 9: Tuple of Tuples\n",
    "Create a tuple containing 3 tuples, each with 3 elements. Print the tuple of tuples"
   ]
  },
  {
   "cell_type": "code",
   "execution_count": 43,
   "id": "8824dc3d",
   "metadata": {},
   "outputs": [
    {
     "name": "stdout",
     "output_type": "stream",
     "text": [
      "Tuple of Tuples:\n",
      "(1, 2, 3)\n",
      "(4, 5, 6)\n",
      "(7, 8, 9)\n"
     ]
    }
   ],
   "source": [
    "nested_tpl = (\n",
    "  (1,2,3),\n",
    "  (4,5,6),\n",
    "  (7,8,9)\n",
    ")\n",
    "\n",
    "print(\"Tuple of Tuples:\")\n",
    "for tpl in nested_tpl:\n",
    "  print(tpl)"
   ]
  },
  {
   "cell_type": "markdown",
   "id": "26c29de2",
   "metadata": {},
   "source": [
    "### Assignment 10: Tuple and List\n",
    "Create a tuple with the first 5 positive integers. Convert it to list, append the number 6, and covert it back to tuple. Print the resulting tuple."
   ]
  },
  {
   "cell_type": "code",
   "execution_count": 49,
   "id": "1604d12b",
   "metadata": {},
   "outputs": [
    {
     "name": "stdout",
     "output_type": "stream",
     "text": [
      "(1, 2, 3, 4, 5, 6)\n"
     ]
    }
   ],
   "source": [
    "tpl = tuple(range(1,6))\n",
    "tpl = list(tpl)\n",
    "tpl.append(6)\n",
    "tpl = tuple(tpl)\n",
    "print(tpl)"
   ]
  },
  {
   "cell_type": "markdown",
   "id": "045528c2",
   "metadata": {},
   "source": [
    "### Assignmenrt 11: Tuple and String\n",
    "Create a tuple with the characters of a string. Join the tuple elements into a single string. Print the string."
   ]
  },
  {
   "cell_type": "code",
   "execution_count": 53,
   "id": "0a4fafff",
   "metadata": {},
   "outputs": [
    {
     "name": "stdout",
     "output_type": "stream",
     "text": [
      "Deka\n"
     ]
    }
   ],
   "source": [
    "tpl = (\"D\",\"e\",\"k\",\"a\")\n",
    "name = \"\"\n",
    "for i in tpl:\n",
    "  name+=i\n",
    "print(name)"
   ]
  },
  {
   "cell_type": "code",
   "execution_count": 55,
   "id": "3b970689",
   "metadata": {},
   "outputs": [
    {
     "name": "stdout",
     "output_type": "stream",
     "text": [
      "Deka\n"
     ]
    }
   ],
   "source": [
    "name = \"Deka\"\n",
    "tpl = tuple(name)\n",
    "joined_tpl = \"\".join(tpl)\n",
    "print(joined_tpl)"
   ]
  },
  {
   "cell_type": "markdown",
   "id": "2b2b6493",
   "metadata": {},
   "source": [
    "### Assignment 12: Tuple and Dictionary\n",
    "Create a dictionary with tuple keys and integer value. Print the dictionary."
   ]
  },
  {
   "cell_type": "code",
   "execution_count": 57,
   "id": "ff3a0678",
   "metadata": {},
   "outputs": [
    {
     "name": "stdout",
     "output_type": "stream",
     "text": [
      "{('a', 'b'): 1, ('c', 'd'): 2, ('e', 'f'): 3}\n"
     ]
    }
   ],
   "source": [
    "students = {\n",
    "  (\"a\",\"b\"): 1,\n",
    "  (\"c\",\"d\"): 2,\n",
    "  (\"e\",\"f\"): 3\n",
    "}\n",
    "\n",
    "print(students)"
   ]
  },
  {
   "cell_type": "markdown",
   "id": "a754a223",
   "metadata": {},
   "source": [
    "### Assignment 13: Nested Tuple Iteration\n",
    "Create a nested tuple and iterate over the elements, printing each element."
   ]
  },
  {
   "cell_type": "code",
   "execution_count": 58,
   "id": "d03c2ba7",
   "metadata": {},
   "outputs": [
    {
     "name": "stdout",
     "output_type": "stream",
     "text": [
      "1\n",
      "2\n",
      "3\n",
      "4\n",
      "5\n",
      "6\n",
      "7\n",
      "8\n",
      "9\n"
     ]
    }
   ],
   "source": [
    "tpl = (\n",
    "  (1,2,3),\n",
    "  (4,5,6),\n",
    "  (7,8,9)\n",
    ")\n",
    "for sub_tpl in tpl:\n",
    "  for element in sub_tpl:\n",
    "    print(element)"
   ]
  },
  {
   "cell_type": "markdown",
   "id": "da76a063",
   "metadata": {},
   "source": [
    "### Assignment 14: Tuple and Set\n",
    "Create a tuple with duplicate elements. Convert it to a set to remove duplicates and print the resulting set."
   ]
  },
  {
   "cell_type": "code",
   "execution_count": 59,
   "id": "06b54914",
   "metadata": {},
   "outputs": [
    {
     "name": "stdout",
     "output_type": "stream",
     "text": [
      "{1, 2, 3, 4, 5, 6, 7, 8, 9}\n"
     ]
    }
   ],
   "source": [
    "tpl = (1,2,3,4,5,3,6,7,6,8,9)\n",
    "st = set(tpl)\n",
    "print(st)"
   ]
  },
  {
   "cell_type": "markdown",
   "id": "b21a97f8",
   "metadata": {},
   "source": [
    "### Assignment 15: Tuple Functions\n",
    "Write functions that take a tuple and return the minimum, maximum, and sum of the elements. print the results for a sample tuple."
   ]
  },
  {
   "cell_type": "code",
   "execution_count": 62,
   "id": "6dd7c925",
   "metadata": {},
   "outputs": [
    {
     "name": "stdout",
     "output_type": "stream",
     "text": [
      "miminum element: 2\n",
      "maximum element: 10\n",
      "sum of the elements: 30\n"
     ]
    }
   ],
   "source": [
    "tpl = (2,4,6,8,10)\n",
    "def Tuple_function(t):\n",
    "  minimum = t[0]\n",
    "  maximum = t[-1]\n",
    "  sum = 0\n",
    "  for i in t:\n",
    "    sum += i\n",
    "  print(f\"miminum element: {minimum}\")\n",
    "  print(f\"maximum element: {maximum}\")\n",
    "  print(f\"sum of the elements: {sum}\")\n",
    "Tuple_function(tpl)"
   ]
  }
 ],
 "metadata": {
  "kernelspec": {
   "display_name": "Python 3",
   "language": "python",
   "name": "python3"
  },
  "language_info": {
   "codemirror_mode": {
    "name": "ipython",
    "version": 3
   },
   "file_extension": ".py",
   "mimetype": "text/x-python",
   "name": "python",
   "nbconvert_exporter": "python",
   "pygments_lexer": "ipython3",
   "version": "3.12.0"
  }
 },
 "nbformat": 4,
 "nbformat_minor": 5
}
