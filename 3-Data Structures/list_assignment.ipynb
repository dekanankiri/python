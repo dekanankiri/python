{
 "cells": [
  {
   "cell_type": "markdown",
   "id": "6dfc3c9a",
   "metadata": {},
   "source": [
    "# Module 3: Data Structures Assignments\n",
    "\n",
    "## Lesson 3.1: Lists\n",
    "\n",
    "### Assignment 1: Creating and Accessing Lists\n",
    "\n",
    "Create a list of the first 20 positive integers. Print the list"
   ]
  },
  {
   "cell_type": "code",
   "execution_count": 7,
   "id": "6fb61c1f",
   "metadata": {},
   "outputs": [
    {
     "name": "stdout",
     "output_type": "stream",
     "text": [
      "[1, 2, 3, 4, 5, 6, 7, 8, 9, 10, 11, 12, 13, 14, 15, 16, 17, 18, 19, 20]\n"
     ]
    }
   ],
   "source": [
    "num = [x for x in range(1,21)]\n",
    "print(num)\n",
    "word = [\"deka\",\"Oho\"]"
   ]
  },
  {
   "cell_type": "markdown",
   "id": "2cc8095a",
   "metadata": {},
   "source": [
    "### Assignment 2: Accessing List Elements\n",
    "Print the first, middle, and last element of the list created in assignment 1."
   ]
  },
  {
   "cell_type": "code",
   "execution_count": 13,
   "id": "a30802d4",
   "metadata": {},
   "outputs": [
    {
     "name": "stdout",
     "output_type": "stream",
     "text": [
      "The first element 1\n",
      "The middle element 11\n",
      "The last element 20\n",
      "20\n"
     ]
    }
   ],
   "source": [
    "print(f\"The first element {num[0]}\")\n",
    "print(f\"The middle element {num[len(num)//2]}\")\n",
    "print(f\"The last element {num[-1]}\")\n"
   ]
  },
  {
   "cell_type": "markdown",
   "id": "a525e679",
   "metadata": {},
   "source": [
    "## Assignment 3: List Slicing\n",
    "Print the first five elements, the last Five elements, and the elements from index 5 to 15 of the list created in Assignment 1"
   ]
  },
  {
   "cell_type": "code",
   "execution_count": 34,
   "id": "9d9e9513",
   "metadata": {},
   "outputs": [
    {
     "name": "stdout",
     "output_type": "stream",
     "text": [
      "The first five element are [1, 2, 3, 4, 5]\n",
      "The element from index 5 to 15 [6, 7, 8, 9, 10, 11, 12, 13, 14, 15, 16]\n",
      "The last five elements [20, 19, 18, 17, 16]\n"
     ]
    }
   ],
   "source": [
    "print(f\"The first five element are {num[0:5]}\")\n",
    "print(f\"The element from index 5 to 15 {num[5:16]}\")\n",
    "print(f\"The last five elements {num[-1:-6:-1]}\")"
   ]
  },
  {
   "cell_type": "markdown",
   "id": "4e439ccb",
   "metadata": {},
   "source": [
    "### Assignment 4: List Comprehensions\n",
    "\n",
    "Create a new list containing the squares of the  first 10 positive integers using a list comprehension. Print the new list."
   ]
  },
  {
   "cell_type": "code",
   "execution_count": 36,
   "id": "4c2bba97",
   "metadata": {},
   "outputs": [
    {
     "name": "stdout",
     "output_type": "stream",
     "text": [
      "[1, 4, 9, 16, 25, 36, 49, 64, 81, 100]\n"
     ]
    }
   ],
   "source": [
    "new_lst = [x**2 for x in range(1,11)]\n",
    "print(new_lst)"
   ]
  },
  {
   "cell_type": "markdown",
   "id": "22bb8ea6",
   "metadata": {},
   "source": [
    "### Assignment 5: Filtering lists\n",
    "Create a new list containing only the even numbers from the list created in Assignment 1 using a list comprehension. Print the new list."
   ]
  },
  {
   "cell_type": "code",
   "execution_count": 37,
   "id": "52b5a9c4",
   "metadata": {},
   "outputs": [
    {
     "name": "stdout",
     "output_type": "stream",
     "text": [
      "[2, 4, 6, 8, 10, 12, 14, 16, 18, 20]\n"
     ]
    }
   ],
   "source": [
    "even_num = [x for x in num if x%2==0]\n",
    "print(even_num)"
   ]
  },
  {
   "cell_type": "markdown",
   "id": "cd996874",
   "metadata": {},
   "source": [
    "### Assignment 6: List Methods\n",
    "\n",
    "Create a list of random numbers and sort it in ascending and descending order. Remove the duplicate from the list and print the modified list."
   ]
  },
  {
   "cell_type": "code",
   "execution_count": 46,
   "id": "deaab281",
   "metadata": {},
   "outputs": [
    {
     "name": "stdout",
     "output_type": "stream",
     "text": [
      "Original list: [8, 9, 11, 17, 6, 5, 14, 4, 19, 1, 4, 18, 19, 13, 16]\n",
      "Sorted in ascending order: [1, 4, 4, 5, 6, 8, 9, 11, 13, 14, 16, 17, 18, 19, 19]\n",
      "Sorted in descending order: [19, 19, 18, 17, 16, 14, 13, 11, 9, 8, 6, 5, 4, 4, 1]\n",
      "List without duplicate: [1, 4, 5, 6, 8, 9, 11, 13, 14, 16, 17, 18, 19]\n"
     ]
    }
   ],
   "source": [
    "import random\n",
    "\n",
    "random_numbers = [random.randint(1, 20) for x in range(15)]\n",
    "print(f\"Original list: {random_numbers}\")\n",
    "\n",
    "sorted_numbers = sorted(random_numbers)\n",
    "print(f\"Sorted in ascending order: {sorted_numbers}\")\n",
    "\n",
    "sorted_numbers_desc = sorted(random_numbers, reverse=True)\n",
    "print(f\"Sorted in descending order: {sorted_numbers_desc}\")\n",
    "\n",
    "remove_duplicate = list(set(random_numbers))\n",
    "print(f\"List without duplicate: {remove_duplicate}\")"
   ]
  },
  {
   "cell_type": "markdown",
   "id": "299192c8",
   "metadata": {},
   "source": [
    "### Assignment 7: Nested Lists\n",
    "Create a nested list representing a 3x3 matrix and print the matrix. Access and print the element at the secod row and third column"
   ]
  },
  {
   "cell_type": "code",
   "execution_count": 50,
   "id": "e136be6c",
   "metadata": {},
   "outputs": [
    {
     "name": "stdout",
     "output_type": "stream",
     "text": [
      "Matrix:\n",
      "[1, 2, 3]\n",
      "[4, 5, 6]\n",
      "[7, 8, 9]\n",
      "Element in the second row and third column: 6\n"
     ]
    }
   ],
   "source": [
    "matrix = [\n",
    "  [1, 2, 3],\n",
    "  [4, 5, 6],\n",
    "  [7, 8, 9]\n",
    "]\n",
    "\n",
    "print(\"Matrix:\")\n",
    "for row in matrix:\n",
    "  print(row)\n",
    "print(f\"Element in the second row and third column: {matrix[1][2]}\")"
   ]
  },
  {
   "cell_type": "markdown",
   "id": "e1cfd486",
   "metadata": {},
   "source": [
    "### Assignment 8: List of Dictionaries\n",
    "Create a list of dictionaries where each dictionary represents a student with keys 'name' and 'score'. Sort the list of dictionaries by the 'score' in descending order and print the sorted list."
   ]
  },
  {
   "cell_type": "code",
   "execution_count": 51,
   "id": "49a2dd25",
   "metadata": {},
   "outputs": [
    {
     "name": "stdout",
     "output_type": "stream",
     "text": [
      "Sorted students by score in descending order:\n",
      "{'name': 'Deka', 'score': 99}\n",
      "{'name': 'Alice', 'score': 86}\n",
      "{'name': 'Oho', 'score': 65}\n",
      "{'name': 'Daniel', 'score': 50}\n"
     ]
    }
   ],
   "source": [
    "students = [\n",
    "  {'name':'Alice','score': 86},\n",
    "  {'name':'Deka','score':99},\n",
    "  {'name':'Oho','score':65},\n",
    "  {'name':'Daniel','score':50}\n",
    "]\n",
    "\n",
    "sorted_students = sorted(students, key=lambda x: x['score'], reverse=True)\n",
    "print(\"Sorted students by score in descending order:\")\n",
    "for student in sorted_students:\n",
    "  print(student)"
   ]
  },
  {
   "cell_type": "markdown",
   "id": "19c9d354",
   "metadata": {},
   "source": [
    "### Assignment 9: Matrix Transposition\n",
    "Write a function that takes a 3x3 matrix (nested list) as input and returns its transpose. Print the original and transposed matrices"
   ]
  },
  {
   "cell_type": "code",
   "execution_count": 57,
   "id": "dc5f2109",
   "metadata": {},
   "outputs": [
    {
     "name": "stdout",
     "output_type": "stream",
     "text": [
      "Original Matrix\n",
      "[1, 2, 3]\n",
      "[4, 5, 6]\n",
      "[7, 8, 9]\n",
      "Transposed Matrix\n",
      "[1, 4, 7]\n",
      "[2, 5, 8]\n",
      "[3, 6, 9]\n"
     ]
    }
   ],
   "source": [
    "matrix = [\n",
    "  [1, 2, 3],\n",
    "  [4, 5, 6],\n",
    "  [7, 8, 9]\n",
    "]\n",
    "def transpose(matrix):\n",
    "  transpose = [[matrix[j][i] for j in range(3)] for i in range(3)]\n",
    "  return transpose\n",
    "transposed = transpose(matrix)\n",
    "print(\"Original Matrix\")\n",
    "for row in matrix:\n",
    "  print(row)\n",
    "print(\"Transposed Matrix\")\n",
    "for row in transposed:\n",
    "  print(row)"
   ]
  },
  {
   "cell_type": "markdown",
   "id": "c953e781",
   "metadata": {},
   "source": [
    "### Assignment 10: Flattering a Nested List\n",
    "Write a function that takes a nested list and flattens it into a single list. Print the original and flattened lists."
   ]
  },
  {
   "cell_type": "code",
   "execution_count": 63,
   "id": "5ebe4a75",
   "metadata": {},
   "outputs": [
    {
     "name": "stdout",
     "output_type": "stream",
     "text": [
      "[1, 2, 3, 4, 5, 6, 7, 8, 9]\n"
     ]
    }
   ],
   "source": [
    "nested_list = [\n",
    "  [1, 2, 3],\n",
    "  [4, 5, 6],\n",
    "  [7, 8, 9]\n",
    "]\n",
    "\n",
    "def flattens(matrix):\n",
    "  lst = [matrix[j][i] for j in range(len(matrix[0])) for i in range(len(matrix))]\n",
    "  return lst\n",
    "\n",
    "flattened_list = flattens(nested_list)\n",
    "print(flattened_list)"
   ]
  },
  {
   "cell_type": "markdown",
   "id": "0fc1c7b9",
   "metadata": {},
   "source": [
    "### Assignment 11: List Manipulation\n",
    "create a list of the first 10 positive integers. Remove the elements at indice 2, 4, and 6, and insert the element '99' at index 5. Print the modified list."
   ]
  },
  {
   "cell_type": "code",
   "execution_count": 75,
   "id": "eef0e6f5",
   "metadata": {},
   "outputs": [
    {
     "name": "stdout",
     "output_type": "stream",
     "text": [
      "[1, 2, 3, 4, 5, 6, 7, 8, 9, 10]\n",
      "[1, 2, 4, 6, 8, 99, 9, 10]\n"
     ]
    }
   ],
   "source": [
    "integers = [x for x in range(1,11)]\n",
    "print(integers)\n",
    "del integers[6]\n",
    "del integers[4]\n",
    "del integers[2]\n",
    "integers.insert(5,99)\n",
    "print(integers)"
   ]
  },
  {
   "cell_type": "markdown",
   "id": "464e27a0",
   "metadata": {},
   "source": [
    "### Assignment 12: List Zipping\n",
    "Create two list of the same length. Use the zip function to combine these lists into a list of tuples and print the result."
   ]
  },
  {
   "cell_type": "code",
   "execution_count": 76,
   "id": "11b43b5a",
   "metadata": {},
   "outputs": [
    {
     "name": "stdout",
     "output_type": "stream",
     "text": [
      "[('deka', 90), ('oho', 60), ('abu', 85)]\n"
     ]
    }
   ],
   "source": [
    "name = [\"deka\",\"oho\",\"abu\"]\n",
    "score = [90,60,85]\n",
    "\n",
    "lst_of_tuple = list(zip(name,score))\n",
    "print(lst_of_tuple)"
   ]
  },
  {
   "cell_type": "markdown",
   "id": "1d17bb57",
   "metadata": {},
   "source": [
    "### Assignment 13: List Reversal\n",
    "Write a function that takes a list and returns a new list with the element in reverse order. Print the original and reversed lists."
   ]
  },
  {
   "cell_type": "code",
   "execution_count": 79,
   "id": "0b9b76c3",
   "metadata": {},
   "outputs": [
    {
     "name": "stdout",
     "output_type": "stream",
     "text": [
      "Original List: [1, 2, 3, 4, 5, 6, 7, 8, 9, 10]\n",
      "Reversed List: [10, 9, 8, 7, 6, 5, 4, 3, 2, 1]\n"
     ]
    }
   ],
   "source": [
    "lst = [x for x in range(1,11)]\n",
    "def reversed_lst(lst):\n",
    "  reversed_lst = lst[::-1]\n",
    "  return reversed_lst\n",
    "print(f\"Original List: {lst}\")\n",
    "print(f\"Reversed List: {reversed_lst(lst)}\")"
   ]
  },
  {
   "cell_type": "markdown",
   "id": "2f188868",
   "metadata": {},
   "source": [
    "### Assignment 14: List Rotation\n",
    "Write a function that rotates a list by n position. Print the original and rotated lists."
   ]
  },
  {
   "cell_type": "code",
   "execution_count": 80,
   "id": "75a801e2",
   "metadata": {},
   "outputs": [
    {
     "name": "stdout",
     "output_type": "stream",
     "text": [
      "The original List: [1, 2, 3, 4, 5, 6, 7, 8, 9]\n",
      "Rotated lst: [4, 5, 6, 7, 8, 9, 1, 2, 3]\n"
     ]
    }
   ],
   "source": [
    "lst = [x for x in range(1,10)]\n",
    "n = 3\n",
    "def rotate(lst, n):\n",
    "  return lst[n:] + lst[:n]\n",
    "print(f\"The original List: {lst}\")\n",
    "print(f\"Rotated lst: {rotate(lst,n)}\")"
   ]
  },
  {
   "cell_type": "markdown",
   "id": "6a64b9fc",
   "metadata": {},
   "source": [
    "### Assignment 15: List Intersection\n",
    "Write a function that takes two lists and returns a new list containing only the elements that are present in both lists. Print the intersected list"
   ]
  },
  {
   "cell_type": "code",
   "execution_count": 83,
   "id": "fe415cba",
   "metadata": {},
   "outputs": [
    {
     "name": "stdout",
     "output_type": "stream",
     "text": [
      "The Intersected list: [3, 4, 5]\n"
     ]
    }
   ],
   "source": [
    "lst1 = [1, 3, 5, 6, 7, 9]\n",
    "lst2 = [1, 4, 5, 8, 9, 10]\n",
    "list1 = [1, 2, 3, 4, 5]\n",
    "list2 = [3, 4, 5, 6, 7]\n",
    "\n",
    "def intersect(lst1,lst2):\n",
    "  lst = []\n",
    "  for i in lst1:\n",
    "    for j in lst2:\n",
    "      if j==i:\n",
    "        lst.append(j)\n",
    "  return lst\n",
    "print(f\"The Intersected list: {intersect(list1,list2)}\")"
   ]
  },
  {
   "cell_type": "code",
   "execution_count": 84,
   "id": "5f198bd7",
   "metadata": {},
   "outputs": [
    {
     "name": "stdout",
     "output_type": "stream",
     "text": [
      "The Intersected list: [3, 4, 5]\n"
     ]
    }
   ],
   "source": [
    "def intersect(lst1,lst2):\n",
    "  return [x for x in lst1 if x in lst2]\n",
    "\n",
    "lst1 = [1, 3, 5, 6, 7, 9]\n",
    "lst2 = [1, 4, 5, 8, 9, 10]\n",
    "list1 = [1, 2, 3, 4, 5]\n",
    "list2 = [3, 4, 5, 6, 7]\n",
    "\n",
    "print(f\"The Intersected list: {intersect(list1,list2)}\")"
   ]
  }
 ],
 "metadata": {
  "kernelspec": {
   "display_name": "Python 3",
   "language": "python",
   "name": "python3"
  },
  "language_info": {
   "codemirror_mode": {
    "name": "ipython",
    "version": 3
   },
   "file_extension": ".py",
   "mimetype": "text/x-python",
   "name": "python",
   "nbconvert_exporter": "python",
   "pygments_lexer": "ipython3",
   "version": "3.12.0"
  }
 },
 "nbformat": 4,
 "nbformat_minor": 5
}
