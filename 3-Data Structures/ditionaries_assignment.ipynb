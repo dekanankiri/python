{
 "cells": [
  {
   "cell_type": "markdown",
   "id": "082dcf4c",
   "metadata": {},
   "source": [
    "# Module 3: Data Structure Assignments\n",
    "## Lesson 3.4: Dictionaries\n",
    "### Assignment 1: Creating and Accessing Dictionaries\n",
    "Create a dictionary with the first 10 positive integers as keys and their squares as values. Print the dictionary."
   ]
  },
  {
   "cell_type": "code",
   "execution_count": 28,
   "id": "c417d190",
   "metadata": {},
   "outputs": [
    {
     "name": "stdout",
     "output_type": "stream",
     "text": [
      "{1: 1, 2: 4, 3: 9, 4: 16, 5: 25, 6: 36, 7: 49, 8: 64, 9: 81, 10: 100}\n"
     ]
    }
   ],
   "source": [
    "squares = {x:x**2 for x in range(1,11)}\n",
    "print(squares)"
   ]
  },
  {
   "cell_type": "markdown",
   "id": "0a66f7d9",
   "metadata": {},
   "source": [
    "### Assignment 2: Accessing Dictionary Elements\n",
    "Print the value of the key 5 and the keys of the dictionary created in Assignment 1."
   ]
  },
  {
   "cell_type": "code",
   "execution_count": 16,
   "id": "ee718a74",
   "metadata": {},
   "outputs": [
    {
     "name": "stdout",
     "output_type": "stream",
     "text": [
      "The value of key 5: 25\n",
      "The keys of the dictionary: [1, 2, 3, 4, 5, 6, 7, 8, 9, 10]\n"
     ]
    }
   ],
   "source": [
    "print(f\"The value of key 5: {squares[5]}\")\n",
    "print(f\"The keys of the dictionary: {list(squares.keys())}\")"
   ]
  },
  {
   "cell_type": "markdown",
   "id": "8429fd77",
   "metadata": {},
   "source": [
    "### Assignment 3: Dictionary methods\n",
    "add a new key-value pair (11,121) to the dictionary created in Assignment 1 and then remove the key-value pair with the key 1. Print the modified dictionary."
   ]
  },
  {
   "cell_type": "code",
   "execution_count": 29,
   "id": "3238f6f0",
   "metadata": {},
   "outputs": [
    {
     "name": "stdout",
     "output_type": "stream",
     "text": [
      "{1: 1, 2: 4, 3: 9, 4: 16, 5: 25, 6: 36, 7: 49, 8: 64, 9: 81, 10: 100, 11: 121}\n",
      "{2: 4, 3: 9, 4: 16, 5: 25, 6: 36, 7: 49, 8: 64, 9: 81, 10: 100, 11: 121}\n"
     ]
    }
   ],
   "source": [
    "squares[11] = 121\n",
    "print(squares)\n",
    "squares.pop(1)\n",
    "print(squares)"
   ]
  },
  {
   "cell_type": "markdown",
   "id": "e6d7acba",
   "metadata": {},
   "source": [
    "### Assignment 4: Iterating Over Dictionaries\n",
    "Iterate over the dictionary created in Assignment 1 and print each key-value pair."
   ]
  },
  {
   "cell_type": "code",
   "execution_count": 30,
   "id": "178e5c22",
   "metadata": {},
   "outputs": [
    {
     "name": "stdout",
     "output_type": "stream",
     "text": [
      "2:4\n",
      "3:9\n",
      "4:16\n",
      "5:25\n",
      "6:36\n",
      "7:49\n",
      "8:64\n",
      "9:81\n",
      "10:100\n",
      "11:121\n"
     ]
    }
   ],
   "source": [
    "for key,values in squares.items():\n",
    "  print(f\"{key}:{values}\")"
   ]
  },
  {
   "cell_type": "markdown",
   "id": "226d4de0",
   "metadata": {},
   "source": [
    "## Assignment 5: Dictionary Comprehensions\n",
    "Create a new dictionary containing the cubes of the first 10 positive integers using a dictionary comprehension. Print the new dictionary."
   ]
  },
  {
   "cell_type": "code",
   "execution_count": 31,
   "id": "2597b7b8",
   "metadata": {},
   "outputs": [
    {
     "name": "stdout",
     "output_type": "stream",
     "text": [
      "{1: 1, 2: 8, 3: 27, 4: 64, 5: 125, 6: 216, 7: 343, 8: 512, 9: 729, 10: 1000}\n"
     ]
    }
   ],
   "source": [
    "c = {x:x**3 for x in range(1,11)}\n",
    "print(c)"
   ]
  },
  {
   "cell_type": "markdown",
   "id": "761ac414",
   "metadata": {},
   "source": [
    "## Assignment 6: Merging Dictionaries\n",
    "Create two dictionaries: one with keys as the first 5 positive integers and values as their squares, and another with keys as the next 5 positive integers and values as their squares. Merge these dictionaries into a single dictionary and print it."
   ]
  },
  {
   "cell_type": "code",
   "execution_count": null,
   "id": "e97efc8b",
   "metadata": {},
   "outputs": [
    {
     "name": "stdout",
     "output_type": "stream",
     "text": [
      "merged dictionaries: {1: 1, 2: 4, 3: 9, 4: 16, 5: 25, 6: 36, 7: 49, 8: 64, 9: 81, 10: 100}\n"
     ]
    }
   ],
   "source": [
    "dict1 = {x:x**2 for x in range(1,6)}\n",
    "dict2 = {x:x**2 for x in range(6,11)}\n",
    "merge_dict = {**dict1,**dict2}\n",
    "print(f\"merged dictionaries: {merge_dict}\")"
   ]
  },
  {
   "cell_type": "markdown",
   "id": "2e73bde0",
   "metadata": {},
   "source": [
    "### Assignment 7: Nested Dictionaries\n",
    "Create a nested dictionary representing a student with keys 'name', 'age', 'grades', where 'grades' is another dictionary with keys ' math', 'science', and 'english'. Print the nested dictionary."
   ]
  },
  {
   "cell_type": "code",
   "execution_count": 48,
   "id": "43df5ad3",
   "metadata": {},
   "outputs": [
    {
     "name": "stdout",
     "output_type": "stream",
     "text": [
      "{'name': 'Deka', 'age': 20, 'grades': {'math': 95, 'science': 97, 'english': 95}}\n"
     ]
    }
   ],
   "source": [
    "student = {\n",
    "  \"name\": \"Deka\",\n",
    "  \"age\": 20,\n",
    "  \"grades\": {\n",
    "    \"math\": 95,\n",
    "    \"science\": 97,\n",
    "    \"english\": 95,\n",
    "  }\n",
    "}\n",
    "print(student)"
   ]
  },
  {
   "cell_type": "markdown",
   "id": "6578c040",
   "metadata": {},
   "source": [
    "### Assignment 8: Dictionary of lists\n",
    "Create a dictionary where the keys are the first 5 positive integers and the values are lists containing the first 5 multiples of the key. Print the dictionary."
   ]
  },
  {
   "cell_type": "code",
   "execution_count": 50,
   "id": "45b3e579",
   "metadata": {},
   "outputs": [
    {
     "name": "stdout",
     "output_type": "stream",
     "text": [
      "{1: [1, 2, 3, 4, 5], 2: [2, 4, 6, 8, 10], 3: [3, 6, 9, 12, 15], 4: [4, 8, 12, 16, 20], 5: [5, 10, 15, 20, 25]}\n"
     ]
    }
   ],
   "source": [
    "dict_of_list = {x:[x * y for y in range(1,6)] for x in range(1,6)}\n",
    "print(dict_of_list)"
   ]
  },
  {
   "cell_type": "markdown",
   "id": "bc2d25c3",
   "metadata": {},
   "source": [
    "### Assignment 9: Dictionary of Tuples\n",
    "Create a dictionary where the keys are the first 5 possitive integers and the values are tuples containing the key and its square. Print the dictionary."
   ]
  },
  {
   "cell_type": "code",
   "execution_count": 51,
   "id": "b762835b",
   "metadata": {},
   "outputs": [
    {
     "name": "stdout",
     "output_type": "stream",
     "text": [
      "{1: (1, 1), 2: (2, 4), 3: (3, 9), 4: (4, 16), 5: (5, 25)}\n"
     ]
    }
   ],
   "source": [
    "dict_of_tpl = {x:(x,x**2) for x in range(1,6)}\n",
    "print(dict_of_tpl)"
   ]
  },
  {
   "cell_type": "markdown",
   "id": "5ff075aa",
   "metadata": {},
   "source": [
    "### Assignment 10: Dictionary and List Conversion\n",
    "Create a dictionary with the first 5 positive integers as keys and their squares as values. convert the dictionary to a list of tuple and print it."
   ]
  },
  {
   "cell_type": "code",
   "execution_count": 65,
   "id": "a815c045",
   "metadata": {},
   "outputs": [
    {
     "name": "stdout",
     "output_type": "stream",
     "text": [
      "{1: 1, 2: 4, 3: 9, 4: 16, 5: 25}\n",
      "[(1, 1), (2, 4), (3, 9), (4, 16), (5, 25)]\n"
     ]
    }
   ],
   "source": [
    "dict_of_lst_conv = {x:x**2 for x in range(1, 6)}\n",
    "print(dict_of_lst_conv)\n",
    "tpl = ()\n",
    "lst = []\n",
    "for key,value in dict_of_lst_conv.items():\n",
    "  tpl = (key,value)\n",
    "  lst.append(tpl)\n",
    "print(lst)"
   ]
  },
  {
   "cell_type": "code",
   "execution_count": 67,
   "id": "16ef6545",
   "metadata": {},
   "outputs": [
    {
     "name": "stdout",
     "output_type": "stream",
     "text": [
      "[(1, 1), (2, 4), (3, 9), (4, 16), (5, 25)]\n"
     ]
    }
   ],
   "source": [
    "dict_of_lst_conv = {x:x**2 for x in range(1, 6)}\n",
    "lst_of_tpl = list(dict_of_lst_conv.items())\n",
    "print(lst_of_tpl)"
   ]
  },
  {
   "cell_type": "markdown",
   "id": "4b0555dc",
   "metadata": {},
   "source": [
    "### Assignment 11: Dictionary Filtering\n",
    "Create a dictionary with the first 10 positive integers as keys and their squares as value. Create a new dictionary containing only the key-value pairs where the key is even. Print the new dictionary."
   ]
  },
  {
   "cell_type": "code",
   "execution_count": 69,
   "id": "30080f4c",
   "metadata": {},
   "outputs": [
    {
     "name": "stdout",
     "output_type": "stream",
     "text": [
      "{1: 1, 2: 4, 3: 9, 4: 16, 5: 25, 6: 36, 7: 49, 8: 64, 9: 81, 10: 100}\n",
      "{2: 4, 4: 16, 6: 36, 8: 64, 10: 100}\n"
     ]
    }
   ],
   "source": [
    "d = {x:x**2 for x in range(1,11)}\n",
    "ev = {x:y for x,y in d.items() if x%2==0}\n",
    "print(d)\n",
    "print(ev)"
   ]
  },
  {
   "cell_type": "markdown",
   "id": "1fe35b94",
   "metadata": {},
   "source": [
    "### Assignment 12: Dictionary Key and Value Transformation\n",
    "Create a dictionary with the first 5 positive integers as keys and their squares as values. Create a new dictionary with keys and values swapped. Print the new dictionary."
   ]
  },
  {
   "cell_type": "code",
   "execution_count": 71,
   "id": "b7c30095",
   "metadata": {},
   "outputs": [
    {
     "name": "stdout",
     "output_type": "stream",
     "text": [
      "{1: 1, 4: 2, 9: 3, 16: 4, 25: 5}\n"
     ]
    }
   ],
   "source": [
    "d = {x:x**2 for x in range(1,6)}\n",
    "swapped = {x:y for y,x in d.items()}\n",
    "print(swapped)"
   ]
  },
  {
   "cell_type": "markdown",
   "id": "294f2de0",
   "metadata": {},
   "source": [
    "### Assignment 13: Default Dictionary\n",
    "Create a default dictionary where each key has a default value of an empty list. Add some elements to the lists and print the dictionary."
   ]
  },
  {
   "cell_type": "code",
   "execution_count": 80,
   "id": "9756c081",
   "metadata": {},
   "outputs": [
    {
     "name": "stdout",
     "output_type": "stream",
     "text": [
      "defaultdict(<class 'list'>, {'jobs': ['machine learning', 'Big data Specialist'], 'salary': ['100k usd']})\n"
     ]
    }
   ],
   "source": [
    "from collections import defaultdict\n",
    "\n",
    "d = defaultdict(list)\n",
    "d[\"jobs\"].append(\"machine learning\")\n",
    "d[\"jobs\"].append(\"Big data Specialist\")\n",
    "d[\"salary\"].append(\"100k usd\")\n",
    "\n",
    "print(d)"
   ]
  },
  {
   "cell_type": "markdown",
   "id": "85c587eb",
   "metadata": {},
   "source": [
    "### Assignment 14: Counting with Dictionaries\n",
    "\n",
    "Write a function that takes a string and returns a dictionary with the count of each character in the string. Print the dictionaries."
   ]
  },
  {
   "cell_type": "code",
   "execution_count": 88,
   "id": "96236bbf",
   "metadata": {},
   "outputs": [
    {
     "name": "stdout",
     "output_type": "stream",
     "text": [
      "count of each character{'H': 1, 'e': 1, 'l': 3, 'o': 2, ' ': 1, 'W': 1, 'r': 1, 'd': 1}\n",
      "3\n"
     ]
    }
   ],
   "source": [
    "some_word = \"Hello World\"\n",
    "\n",
    "def char_count(s):\n",
    "  d = {}\n",
    "  for x in s:\n",
    "    if x in d:\n",
    "      d[x]+=1\n",
    "    else:\n",
    "      d[x]=1\n",
    "  return d\n",
    "word = char_count(some_word)\n",
    "print(f\"count of each character{char_count(some_word)}\")\n",
    "print(f\"{word.get(\"l\")}\")"
   ]
  },
  {
   "cell_type": "code",
   "execution_count": 1,
   "id": "976964f6",
   "metadata": {},
   "outputs": [
    {
     "name": "stdout",
     "output_type": "stream",
     "text": [
      "{'h': 1, 'e': 1, 'l': 3, 'o': 2, ' ': 1, 'w': 1, 'r': 1, 'd': 1}\n"
     ]
    }
   ],
   "source": [
    "def count_chars(s):\n",
    "    count_dict = {}\n",
    "    for char in s:\n",
    "        count_dict[char] = count_dict.get(char,0) +1\n",
    "    return count_dict\n",
    "\n",
    "string = \"hello world\"\n",
    "print(count_chars(string))"
   ]
  },
  {
   "cell_type": "markdown",
   "id": "34c34222",
   "metadata": {},
   "source": [
    "### Assignment 15: Dictionary and JSON\n",
    "Create a dictionary representing a book with keys 'title','author','year',and 'genre'. Convert the dictionary to a JSON string and print it."
   ]
  },
  {
   "cell_type": "code",
   "execution_count": 96,
   "id": "cb0a0fcb",
   "metadata": {},
   "outputs": [
    {
     "name": "stdout",
     "output_type": "stream",
     "text": [
      "{\"title\": \"How to crack coding interview\", \"author\": \"a guy that often fail coding interview\", \"year\": 2025, \"genre\": \"education\"}\n"
     ]
    }
   ],
   "source": [
    "import json\n",
    "book = {\n",
    "  \"title\":\"How to crack coding interview\",\n",
    "  \"author\":\"a guy that often fail coding interview\",\n",
    "  \"year\":2025,\n",
    "  \"genre\":\"education\"\n",
    "}\n",
    "json_book = json.dumps(book)\n",
    "print(json_book)"
   ]
  }
 ],
 "metadata": {
  "kernelspec": {
   "display_name": "Python 3",
   "language": "python",
   "name": "python3"
  },
  "language_info": {
   "codemirror_mode": {
    "name": "ipython",
    "version": 3
   },
   "file_extension": ".py",
   "mimetype": "text/x-python",
   "name": "python",
   "nbconvert_exporter": "python",
   "pygments_lexer": "ipython3",
   "version": "3.12.0"
  }
 },
 "nbformat": 4,
 "nbformat_minor": 5
}
