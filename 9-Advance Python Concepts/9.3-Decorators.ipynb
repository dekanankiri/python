{
 "cells": [
  {
   "cell_type": "code",
   "execution_count": 8,
   "id": "8583dd64",
   "metadata": {},
   "outputs": [
    {
     "data": {
      "text/plain": [
       "'Welcome to python Advance course.'"
      ]
     },
     "execution_count": 8,
     "metadata": {},
     "output_type": "execute_result"
    }
   ],
   "source": [
    "## function copy\n",
    "def welcome():\n",
    "  return \"Welcome to python Advance course.\"\n",
    "\n",
    "welcome()"
   ]
  },
  {
   "cell_type": "code",
   "execution_count": 9,
   "id": "0a9d65ea",
   "metadata": {},
   "outputs": [
    {
     "name": "stdout",
     "output_type": "stream",
     "text": [
      "Welcome to python Advance course.\n",
      "Welcome to python Advance course.\n"
     ]
    }
   ],
   "source": [
    "wel = welcome\n",
    "print(wel())\n",
    "del welcome\n",
    "print(wel())"
   ]
  },
  {
   "cell_type": "code",
   "execution_count": 15,
   "id": "a29fb485",
   "metadata": {},
   "outputs": [],
   "source": [
    "## Closures functions\n",
    "\n",
    "def main_welcome(msg):\n",
    "  def sub_welcome_method():\n",
    "    print(\"Welcome to the advance python course\")\n",
    "    print(msg)\n",
    "    print(\"Please learn this concept properly\")\n",
    "  return sub_welcome_method()"
   ]
  },
  {
   "cell_type": "code",
   "execution_count": 16,
   "id": "832dca30",
   "metadata": {},
   "outputs": [
    {
     "name": "stdout",
     "output_type": "stream",
     "text": [
      "Welcome to the advance python course\n",
      "Hey, Welcome everyone!\n",
      "Please learn this concept properly\n"
     ]
    }
   ],
   "source": [
    "main_welcome(\"Hey, Welcome everyone!\")"
   ]
  },
  {
   "cell_type": "code",
   "execution_count": 17,
   "id": "7ac8071c",
   "metadata": {},
   "outputs": [],
   "source": [
    "## Closures functions\n",
    "\n",
    "def main_welcome(func):\n",
    "  def sub_welcome_method():\n",
    "    print(\"Welcome to the advance python course\")\n",
    "    func(\"Welcome everyone to this tutorial\")\n",
    "    print(\"Please learn this concept properly\")\n",
    "  return sub_welcome_method()"
   ]
  },
  {
   "cell_type": "code",
   "execution_count": 18,
   "id": "85639ed8",
   "metadata": {},
   "outputs": [
    {
     "name": "stdout",
     "output_type": "stream",
     "text": [
      "Welcome to the advance python course\n",
      "Welcome everyone to this tutorial\n",
      "Please learn this concept properly\n"
     ]
    }
   ],
   "source": [
    "main_welcome(print)"
   ]
  },
  {
   "cell_type": "code",
   "execution_count": 22,
   "id": "90649ffd",
   "metadata": {},
   "outputs": [],
   "source": [
    "### Decorator\n",
    "def main_welcome(func):\n",
    "  def sub_welcome_method():\n",
    "    print(\"Welcome to the advance python course\")\n",
    "    func()\n",
    "    print(\"Please learn this concept properly\")\n",
    "  return sub_welcome_method()"
   ]
  },
  {
   "cell_type": "code",
   "execution_count": 23,
   "id": "89515f47",
   "metadata": {},
   "outputs": [
    {
     "name": "stdout",
     "output_type": "stream",
     "text": [
      "This is an advanced python course\n"
     ]
    }
   ],
   "source": [
    "def course_introduction():\n",
    "  print(\"This is an advanced python course\")\n",
    "\n",
    "course_introduction()"
   ]
  },
  {
   "cell_type": "code",
   "execution_count": 25,
   "id": "df27fa91",
   "metadata": {},
   "outputs": [
    {
     "name": "stdout",
     "output_type": "stream",
     "text": [
      "Welcome to the advance python course\n",
      "This is an advanced python course\n",
      "Please learn this concept properly\n"
     ]
    }
   ],
   "source": [
    "main_welcome(course_introduction)"
   ]
  },
  {
   "cell_type": "code",
   "execution_count": 26,
   "id": "41fea70e",
   "metadata": {},
   "outputs": [
    {
     "name": "stdout",
     "output_type": "stream",
     "text": [
      "Welcome to the advance python course\n",
      "This is an advanced python course\n",
      "Please learn this concept properly\n"
     ]
    }
   ],
   "source": [
    "@main_welcome\n",
    "def course_introduction():\n",
    "  print(\"This is an advanced python course\")"
   ]
  },
  {
   "cell_type": "code",
   "execution_count": 27,
   "id": "c3efd77c",
   "metadata": {},
   "outputs": [],
   "source": [
    "## Decorator\n",
    "def my_decorator(func):\n",
    "  def wrapper():\n",
    "    print(\"Something is happening before the function is called\")\n",
    "    func()\n",
    "    print(\"Something is happening after the function is called\")\n",
    "  return wrapper"
   ]
  },
  {
   "cell_type": "code",
   "execution_count": 28,
   "id": "3423633d",
   "metadata": {},
   "outputs": [],
   "source": [
    "@my_decorator\n",
    "def say_hello():\n",
    "  print(\"Hello!\")"
   ]
  },
  {
   "cell_type": "code",
   "execution_count": 29,
   "id": "37b20e03",
   "metadata": {},
   "outputs": [
    {
     "name": "stdout",
     "output_type": "stream",
     "text": [
      "Something is happening before the function is called\n",
      "Hello!\n",
      "Something is happening after the function is called\n"
     ]
    }
   ],
   "source": [
    "say_hello()"
   ]
  },
  {
   "cell_type": "code",
   "execution_count": 37,
   "id": "58631745",
   "metadata": {},
   "outputs": [],
   "source": [
    "## Decorator With arguments\n",
    "def repeat(n):\n",
    "  def decorator(func):\n",
    "    def wrapper(*args, **kwargs):\n",
    "      for _ in range(n):\n",
    "        func(*args, **kwargs)\n",
    "    return wrapper\n",
    "  return decorator"
   ]
  },
  {
   "cell_type": "code",
   "execution_count": 38,
   "id": "3cbdaa42",
   "metadata": {},
   "outputs": [],
   "source": [
    "@repeat(3)\n",
    "def say_hello():\n",
    "  print(\"Hello\")"
   ]
  },
  {
   "cell_type": "code",
   "execution_count": 39,
   "id": "a4164aa4",
   "metadata": {},
   "outputs": [
    {
     "name": "stdout",
     "output_type": "stream",
     "text": [
      "Hello\n",
      "Hello\n",
      "Hello\n"
     ]
    }
   ],
   "source": [
    "say_hello()"
   ]
  },
  {
   "cell_type": "code",
   "execution_count": null,
   "id": "bf28b6d2",
   "metadata": {},
   "outputs": [],
   "source": []
  }
 ],
 "metadata": {
  "kernelspec": {
   "display_name": "Python 3",
   "language": "python",
   "name": "python3"
  },
  "language_info": {
   "codemirror_mode": {
    "name": "ipython",
    "version": 3
   },
   "file_extension": ".py",
   "mimetype": "text/x-python",
   "name": "python",
   "nbconvert_exporter": "python",
   "pygments_lexer": "ipython3",
   "version": "3.12.0"
  }
 },
 "nbformat": 4,
 "nbformat_minor": 5
}
