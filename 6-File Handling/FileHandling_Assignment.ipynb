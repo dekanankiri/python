{
 "cells": [
  {
   "cell_type": "markdown",
   "id": "eb287c44",
   "metadata": {},
   "source": [
    "# Module: File Handling Assignments\n",
    "## Lesson: File Handling and Operations\n",
    "### Assignment 1: Reading a File\n",
    "\n",
    "Write a function that reads the contents of a file named `sample.txt` and prints each line."
   ]
  },
  {
   "cell_type": "code",
   "execution_count": 3,
   "id": "32891fb0",
   "metadata": {},
   "outputs": [
    {
     "name": "stdout",
     "output_type": "stream",
     "text": [
      "hello world\n",
      "This is a new line\n"
     ]
    }
   ],
   "source": [
    "def read_file(file):\n",
    "  with open(file,'r') as file:\n",
    "    for line in file:\n",
    "      print(line.strip())\n",
    "\n",
    "read_file('example.txt')"
   ]
  },
  {
   "cell_type": "markdown",
   "id": "6a11d0f1",
   "metadata": {},
   "source": [
    "### Assignment 2: Writing to a File\n",
    "\n",
    "Write a function that writes a list of strings to a file named `output.txt`, with each string on a new line."
   ]
  },
  {
   "cell_type": "code",
   "execution_count": 4,
   "id": "1d4279b6",
   "metadata": {},
   "outputs": [],
   "source": [
    "def write_file(lines, filename):\n",
    "  with open(filename, 'w') as file:\n",
    "    for line in lines:\n",
    "      file.write(line + '\\n')\n",
    "\n",
    "write_file([\"muhammad\", \"daffa\", \"dekananda\"], \"output.txt\")\n"
   ]
  },
  {
   "cell_type": "markdown",
   "id": "ac3a4a28",
   "metadata": {},
   "source": [
    "### Assignment 3: Copying a File\n",
    "\n",
    "Write a function that copies the contents of a file named `source.txt` to a new file named `destination.txt`."
   ]
  },
  {
   "cell_type": "code",
   "execution_count": 8,
   "id": "a2db8314",
   "metadata": {},
   "outputs": [],
   "source": [
    "def copy_file(source, output):\n",
    "  with open(source,'r') as src:\n",
    "    with open(output,'w') as otp:\n",
    "      otp.write(src.read())\n",
    "      \n",
    "\n",
    "copy_file('source.txt', 'output.txt')"
   ]
  },
  {
   "cell_type": "markdown",
   "id": "83fc9021",
   "metadata": {},
   "source": [
    "### Assignment 4: Appending to a File\n",
    "\n",
    "Write a function that appends a given string to the end of a file named `log.txt`."
   ]
  },
  {
   "cell_type": "code",
   "execution_count": 19,
   "id": "dee4dd47",
   "metadata": {},
   "outputs": [],
   "source": [
    "def append_string(text,file):\n",
    "  with open(file,'a') as file:\n",
    "    file.write(text)\n",
    "append_string('Deka akan menjadi menjadi ai engineer sukses','output.txt')"
   ]
  },
  {
   "cell_type": "markdown",
   "id": "9cdb0736",
   "metadata": {},
   "source": [
    "### Assignment 5: Counting Words in a File\n",
    "\n",
    "Write a function that reads the contents of a file named `document.txt` and returns the number of words in the file."
   ]
  },
  {
   "cell_type": "code",
   "execution_count": 23,
   "id": "a1dc9888",
   "metadata": {},
   "outputs": [
    {
     "data": {
      "text/plain": [
       "4"
      ]
     },
     "execution_count": 23,
     "metadata": {},
     "output_type": "execute_result"
    }
   ],
   "source": [
    "def count_words(src):\n",
    "  with open(src, 'r') as file:\n",
    "    words = file.read()\n",
    "    counted = words.split()\n",
    "  return len(counted)\n",
    "\n",
    "count_words('document.txt')"
   ]
  },
  {
   "cell_type": "markdown",
   "id": "2482680f",
   "metadata": {},
   "source": [
    "### Assignment 6: Finding and Replacing Text\n",
    "\n",
    "Write a function that finds and replaces all occurrences of a given word in a file named `data.txt` with another word."
   ]
  },
  {
   "cell_type": "code",
   "execution_count": 24,
   "id": "46a90d02",
   "metadata": {},
   "outputs": [],
   "source": [
    "def find_and_replace(filename,old_word, new_word):\n",
    "  with open(filename,'r') as file:\n",
    "    text = file.read()\n",
    "  new_text = text.replace(old_word,new_word)\n",
    "  with open(filename, 'w') as file:\n",
    "    file.write(new_text)\n",
    "\n",
    "find_and_replace('data.txt', '10 jam', '10 hours')"
   ]
  },
  {
   "cell_type": "markdown",
   "id": "73f8b19d",
   "metadata": {},
   "source": [
    "### Assignment 7: Reading a File in Reverse\n",
    "\n",
    "Write a function that reads the contents of a file named `reverse.txt` and prints each line in reverse order."
   ]
  },
  {
   "cell_type": "code",
   "execution_count": 43,
   "id": "9a2891d3",
   "metadata": {},
   "outputs": [
    {
     "name": "stdout",
     "output_type": "stream",
     "text": [
      "4 anak\n",
      "\n",
      "3 anak\n",
      "\n",
      "2 anak\n",
      "\n",
      "1 anak\n",
      "\n"
     ]
    }
   ],
   "source": [
    "def reverse(filename):\n",
    "  with open(filename,'r') as file:\n",
    "    text = file.readlines()\n",
    "    reverse_array = text[::-1]\n",
    "  return reverse_array\n",
    "\n",
    "reverse_text = reverse('reverse.txt')\n",
    "for x in reverse_text:\n",
    "  print(x)"
   ]
  },
  {
   "cell_type": "code",
   "execution_count": 48,
   "id": "11ee5fd7",
   "metadata": {},
   "outputs": [
    {
     "name": "stdout",
     "output_type": "stream",
     "text": [
      "4 anak\n",
      "3 anak\n",
      "2 anak\n",
      "1 anak\n"
     ]
    }
   ],
   "source": [
    "def read_reverse(filename):\n",
    "    with open(filename, 'r') as file:\n",
    "        lines = file.readlines()\n",
    "    for line in reversed(lines):\n",
    "        print(line.strip())\n",
    "\n",
    "# Test\n",
    "read_reverse('reverse.txt')"
   ]
  },
  {
   "cell_type": "markdown",
   "id": "bf5651dc",
   "metadata": {},
   "source": [
    "### Assignment 8: Counting Lines, Words, and Characters\n",
    "\n",
    "Write a function that reads the contents of a file named `stats.txt` and returns the number of lines, words, and characters in the file."
   ]
  },
  {
   "cell_type": "code",
   "execution_count": 54,
   "id": "e33fd936",
   "metadata": {},
   "outputs": [
    {
     "name": "stdout",
     "output_type": "stream",
     "text": [
      "(44, 38, 44)\n"
     ]
    }
   ],
   "source": [
    "def count_all(filename):\n",
    "  with open(filename,'r') as file:\n",
    "    lines = file.readline()\n",
    "    words = sum(len(line.split()) for line in lines)\n",
    "    characters = sum(len(line) for line in lines)\n",
    "  return len(lines), words, characters\n",
    "\n",
    "print(count_all('stat.txt'))\n"
   ]
  },
  {
   "cell_type": "markdown",
   "id": "75618cca",
   "metadata": {},
   "source": [
    "### Assignment 9: Merging Multiple Files\n",
    "\n",
    "Write a function that merges the contents of multiple files into a single file named `merged.txt`."
   ]
  },
  {
   "cell_type": "code",
   "execution_count": 55,
   "id": "2849e5a9",
   "metadata": {},
   "outputs": [],
   "source": [
    "def merge_file(file_list,output_file):\n",
    "  with open(output_file,'w') as output:\n",
    "    for fname in file_list:\n",
    "      with open(fname,'r') as infile:\n",
    "        output.write(infile.read()+'\\n')\n",
    "\n",
    "merge_file(['source.txt', 'stat.txt','reverse.txt'],'merge.txt')"
   ]
  },
  {
   "cell_type": "markdown",
   "id": "e5d5097e",
   "metadata": {},
   "source": [
    "### Assignment 10: Splitting a Large File\n",
    "\n",
    "Write a function that splits a large file named `large.txt` into smaller files of 100 lines each."
   ]
  },
  {
   "cell_type": "code",
   "execution_count": 58,
   "id": "47a4ad2c",
   "metadata": {},
   "outputs": [],
   "source": [
    "def split_file(filename, lines_per_file):\n",
    "  with open(filename,'r') as file:\n",
    "    lines = file.readline()\n",
    "  for i in range(0,len(lines), lines_per_file):\n",
    "    with open(f'{filename}__part{i//lines_per_file+1}.txt','w') as part_file:\n",
    "      part_file.writelines(lines[i:lines_per_file])\n",
    "\n",
    "split_file('large.txt',50)\n"
   ]
  },
  {
   "cell_type": "markdown",
   "id": "8d32e265",
   "metadata": {},
   "source": [
    "### Assignment 11: Creating a Log File\n",
    "\n",
    "Write a function that creates a log file named `activity.log` and writes log messages with timestamps."
   ]
  },
  {
   "cell_type": "code",
   "execution_count": 60,
   "id": "dbec544c",
   "metadata": {},
   "outputs": [],
   "source": [
    "import datetime\n",
    "\n",
    "def log_message(message,filename='activity.log'):\n",
    "  timestamp= datetime.datetime.now().isoformat()\n",
    "  with open(filename, 'a') as file:\n",
    "    file.write(f'[{timestamp} {message}\\n]')\n",
    "\n",
    "log_message('This is a log message')"
   ]
  },
  {
   "cell_type": "markdown",
   "id": "f400c48a",
   "metadata": {},
   "source": [
    "### Assignment 12: Binary File Operations\n",
    "\n",
    "Write a function that reads a binary file named `image.bin` and writes its contents to another binary file named `copy_image.bin`."
   ]
  },
  {
   "cell_type": "code",
   "execution_count": null,
   "id": "2acd2b77",
   "metadata": {},
   "outputs": [],
   "source": [
    "def copy_binary_file(file_input,file_output):\n",
    "  with open(file_input,'rb') as file:\n",
    "    with open(file_output,'wb') as out:\n",
    "      out.write(file.read())"
   ]
  },
  {
   "cell_type": "markdown",
   "id": "299f47ee",
   "metadata": {},
   "source": [
    "### Assignment 13: CSV File Operations\n",
    "\n",
    "Write a function that reads a CSV file named `data.csv` and prints its contents as a list of dictionaries."
   ]
  },
  {
   "cell_type": "code",
   "execution_count": null,
   "id": "d9b04a48",
   "metadata": {},
   "outputs": [],
   "source": [
    "import csv\n",
    "\n",
    "def read_csv_as_dicts(file_name):\n",
    "  with open(file_name,'r') as file:\n",
    "    reader = csv.DictReader(file)\n",
    "    return list(reader)"
   ]
  },
  {
   "cell_type": "markdown",
   "id": "e22324c7",
   "metadata": {},
   "source": [
    "### Assignment 14: JSON File Operations\n",
    "\n",
    "Write a function that reads a JSON file named `data.json` and prints its contents as a Python dictionary."
   ]
  },
  {
   "cell_type": "code",
   "execution_count": null,
   "id": "165d2ce6",
   "metadata": {},
   "outputs": [],
   "source": [
    "import json\n",
    "\n",
    "def read_json(filename):\n",
    "  with open(filename, 'r') as file:\n",
    "    reader = json.load(file)\n",
    "  return reader"
   ]
  },
  {
   "cell_type": "markdown",
   "id": "0ef09e16",
   "metadata": {},
   "source": [
    "### Assignment 15: File Permission Handling\n",
    "\n",
    "Write a function that attempts to read a file named `protected.txt` and handles any permission errors gracefully by printing an error message."
   ]
  },
  {
   "cell_type": "code",
   "execution_count": null,
   "id": "03e02450",
   "metadata": {},
   "outputs": [],
   "source": [
    "def read_protected_file(filename):\n",
    "  try:\n",
    "    with open(filename,'r') as file:\n",
    "      print(file.read())\n",
    "  except PermissionError as e:\n",
    "    print(f\"Permission Error: {e}\")"
   ]
  }
 ],
 "metadata": {
  "kernelspec": {
   "display_name": "Python 3",
   "language": "python",
   "name": "python3"
  },
  "language_info": {
   "codemirror_mode": {
    "name": "ipython",
    "version": 3
   },
   "file_extension": ".py",
   "mimetype": "text/x-python",
   "name": "python",
   "nbconvert_exporter": "python",
   "pygments_lexer": "ipython3",
   "version": "3.12.0"
  }
 },
 "nbformat": 4,
 "nbformat_minor": 5
}
