{
 "cells": [
  {
   "cell_type": "markdown",
   "id": "7ea8a8df",
   "metadata": {},
   "source": [
    "### File Operation-Read And Write Files\n",
    "File handling is a crucial part of any programming language. Python provides built-in function and methods to read from and write to files, both text and binary. This lesson will cover the basics of file handling, including reading and writing text files and binary files."
   ]
  },
  {
   "cell_type": "code",
   "execution_count": 2,
   "id": "daba7757",
   "metadata": {},
   "outputs": [
    {
     "name": "stdout",
     "output_type": "stream",
     "text": [
      "Hello Deka!\n",
      "How are You?\n"
     ]
    }
   ],
   "source": [
    "### Read a whole file\n",
    "\n",
    "with open('example.txt','r') as file:\n",
    "  content = file.read()\n",
    "  print(content)\n"
   ]
  },
  {
   "cell_type": "code",
   "execution_count": 7,
   "id": "87a4904b",
   "metadata": {},
   "outputs": [
    {
     "name": "stdout",
     "output_type": "stream",
     "text": [
      "hello wrld\n",
      "this new line\n"
     ]
    }
   ],
   "source": [
    "## Read a file line by line\n",
    "with open('example.txt','r') as file:\n",
    "  for line in file:\n",
    "    print(line.strip()) ## strip() remove the newline character"
   ]
  },
  {
   "cell_type": "code",
   "execution_count": 6,
   "id": "1409273c",
   "metadata": {},
   "outputs": [],
   "source": [
    "## writing a file(Overwriting)\n",
    "\n",
    "with open('example.txt','w') as file:\n",
    "  file.write('hello wrld\\n')\n",
    "  file.write('this new line')"
   ]
  },
  {
   "cell_type": "code",
   "execution_count": 11,
   "id": "b956e803",
   "metadata": {},
   "outputs": [],
   "source": [
    "## Write a file (without overwriting)\n",
    "with open('example.txt','a') as file:\n",
    "  (file.write(\"append operation taking place\\n\"))"
   ]
  },
  {
   "cell_type": "code",
   "execution_count": null,
   "id": "dd84faa9",
   "metadata": {},
   "outputs": [],
   "source": [
    "## Writing a list of lines to a file\n",
    "lines=['first line\\n', 'second line\\n', 'third line\\n']\n",
    "with open('example.txt','a') as file:\n",
    "  file.writelines(lines)"
   ]
  },
  {
   "cell_type": "code",
   "execution_count": 13,
   "id": "45d7b922",
   "metadata": {},
   "outputs": [],
   "source": [
    "### Binary files\n",
    "\n",
    "# Writing to a binary file\n",
    "data= b'\\x00\\x01\\x02\\x03\\x04'\n",
    "with open('example.bin','wb') as file:\n",
    "  file.write(data)"
   ]
  },
  {
   "cell_type": "code",
   "execution_count": 14,
   "id": "b5069fdf",
   "metadata": {},
   "outputs": [
    {
     "name": "stdout",
     "output_type": "stream",
     "text": [
      "b'\\x00\\x01\\x02\\x03\\x04'\n"
     ]
    }
   ],
   "source": [
    "# Reading a binary file\n",
    "with open('example.bin', 'rb') as file:\n",
    "  content = file.read()\n",
    "  print(content)"
   ]
  },
  {
   "cell_type": "code",
   "execution_count": 15,
   "id": "80fe7370",
   "metadata": {},
   "outputs": [],
   "source": [
    "### Read the content from a  source text file and write to a destination file\n",
    "# Copying a text file\n",
    "with open('example.txt','r') as source_file:\n",
    "  content = source_file.read()\n",
    "\n",
    "with open('destination.txt','w') as destination_file:\n",
    "  destination_file.write(content)"
   ]
  },
  {
   "cell_type": "code",
   "execution_count": 17,
   "id": "187f06e4",
   "metadata": {},
   "outputs": [
    {
     "name": "stdout",
     "output_type": "stream",
     "text": [
      "Lines: 5, Words: 17, characters: 117\n"
     ]
    }
   ],
   "source": [
    "# Read a text file and count the number of lines, words, and characters.\n",
    "# Counting lines, words, and characters in a texxt file\n",
    "def count_text_file(file_path):\n",
    "  with open(file_path,'r') as file:\n",
    "    lines = file.readlines()\n",
    "    line_count = len(lines)\n",
    "    word_count = sum(len(line.split()) for line in lines)\n",
    "    char_count = sum(len(line) for line in lines)\n",
    "  return line_count, word_count, char_count\n",
    "\n",
    "file_path = 'example.txt'\n",
    "lines, words, characters = count_text_file(file_path)\n",
    "print(f\"Lines: {lines}, Words: {words}, characters: {characters}\")\n"
   ]
  },
  {
   "cell_type": "code",
   "execution_count": 1,
   "id": "8f021331",
   "metadata": {},
   "outputs": [
    {
     "name": "stdout",
     "output_type": "stream",
     "text": [
      "hello world\n",
      "This is a new line\n",
      "\n"
     ]
    }
   ],
   "source": [
    "### Writing and Reading a file\n",
    "with open(\"example.txt\",\"w+\") as file:\n",
    "  file.write('hello world\\n')\n",
    "  file.write(\"This is a new line\\n\")\n",
    "\n",
    "  ## Move the file cursor to the begining\n",
    "  file.seek(0)\n",
    "\n",
    "  ## Read the content off the file\n",
    "  content=file.read()\n",
    "  print(content)"
   ]
  },
  {
   "cell_type": "code",
   "execution_count": null,
   "id": "5f3ea746",
   "metadata": {},
   "outputs": [],
   "source": []
  },
  {
   "cell_type": "code",
   "execution_count": null,
   "id": "eb834ad0",
   "metadata": {},
   "outputs": [],
   "source": []
  },
  {
   "cell_type": "code",
   "execution_count": null,
   "id": "9cc02abe",
   "metadata": {},
   "outputs": [],
   "source": []
  },
  {
   "cell_type": "code",
   "execution_count": null,
   "id": "ecc908ef",
   "metadata": {},
   "outputs": [],
   "source": []
  }
 ],
 "metadata": {
  "kernelspec": {
   "display_name": "Python 3",
   "language": "python",
   "name": "python3"
  },
  "language_info": {
   "codemirror_mode": {
    "name": "ipython",
    "version": 3
   },
   "file_extension": ".py",
   "mimetype": "text/x-python",
   "name": "python",
   "nbconvert_exporter": "python",
   "pygments_lexer": "ipython3",
   "version": "3.12.0"
  }
 },
 "nbformat": 4,
 "nbformat_minor": 5
}
