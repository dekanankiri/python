{
 "cells": [
  {
   "cell_type": "code",
   "execution_count": 1,
   "id": "e1c22203",
   "metadata": {},
   "outputs": [
    {
     "name": "stdout",
     "output_type": "stream",
     "text": [
      "Current working directory is c:\\Belajar\\udemy\\Data analyst Bootcamp\\python\\6-File Handling\n"
     ]
    }
   ],
   "source": [
    "import os\n",
    "cwd = os.getcwd()\n",
    "print(f\"Current working directory is {cwd}\")"
   ]
  },
  {
   "cell_type": "code",
   "execution_count": 2,
   "id": "0cb2b482",
   "metadata": {},
   "outputs": [
    {
     "name": "stdout",
     "output_type": "stream",
     "text": [
      "Directory 'package' created\n"
     ]
    }
   ],
   "source": [
    "## Create a new directry\n",
    "new_directory = \"package\"\n",
    "os.mkdir(new_directory)\n",
    "print(f\"Directory '{new_directory}' created\")"
   ]
  },
  {
   "cell_type": "code",
   "execution_count": 3,
   "id": "0be6fc32",
   "metadata": {},
   "outputs": [
    {
     "name": "stdout",
     "output_type": "stream",
     "text": [
      "['6.2-Filepath.ipynb', 'destination.txt', 'example.bin', 'example.txt', 'fileoperation.ipynb', 'package']\n"
     ]
    }
   ],
   "source": [
    "## Listing files And Directories\n",
    "items = os.listdir('.')\n",
    "print(items)"
   ]
  },
  {
   "cell_type": "code",
   "execution_count": 4,
   "id": "93fe69c0",
   "metadata": {},
   "outputs": [
    {
     "name": "stdout",
     "output_type": "stream",
     "text": [
      "folder\\file.txt\n"
     ]
    }
   ],
   "source": [
    "### Joining Paths\n",
    "\n",
    "dir_name = \"folder\"\n",
    "file_name = \"file.txt\"\n",
    "full_path = os.path.join(dir_name,file_name)\n",
    "print(full_path)"
   ]
  },
  {
   "cell_type": "code",
   "execution_count": 5,
   "id": "520390c3",
   "metadata": {},
   "outputs": [
    {
     "name": "stdout",
     "output_type": "stream",
     "text": [
      "c:\\Belajar\\udemy\\Data analyst Bootcamp\\python\\6-File Handling\\folder\\file.txt\n"
     ]
    }
   ],
   "source": [
    "dir_name = \"folder\"\n",
    "file_name = \"file.txt\"\n",
    "full_path = os.path.join(os.getcwd(),dir_name,file_name)\n",
    "print(full_path)"
   ]
  },
  {
   "cell_type": "code",
   "execution_count": 7,
   "id": "aa4a6581",
   "metadata": {},
   "outputs": [
    {
     "name": "stdout",
     "output_type": "stream",
     "text": [
      "The path 'example1.txt' doesnt exist\n"
     ]
    }
   ],
   "source": [
    "path = 'example1.txt'\n",
    "if os.path.exists(path):\n",
    "  print(f\"The path '{path}' exist\")\n",
    "else:\n",
    "  print(f\"The path '{path}' doesnt exist\")"
   ]
  },
  {
   "cell_type": "code",
   "execution_count": 8,
   "id": "1ea9af5b",
   "metadata": {},
   "outputs": [
    {
     "name": "stdout",
     "output_type": "stream",
     "text": [
      "The path 'example.txt' is a file\n"
     ]
    }
   ],
   "source": [
    "# Checking if a path is a file or directory\n",
    "import os\n",
    "\n",
    "path = 'example.txt'\n",
    "if os.path.isfile(path):\n",
    "  print(f\"The path '{path}' is a file\")\n",
    "elif os.path.isdir(path):\n",
    "  print(f\"The path '{path}' is a directory.\")\n",
    "else:\n",
    "  print(f\"The path '{path}' is neither a file nor a directory\")"
   ]
  },
  {
   "cell_type": "code",
   "execution_count": 9,
   "id": "60b53309",
   "metadata": {},
   "outputs": [
    {
     "name": "stdout",
     "output_type": "stream",
     "text": [
      "c:\\Belajar\\udemy\\Data analyst Bootcamp\\python\\6-File Handling\\example.txt\n"
     ]
    }
   ],
   "source": [
    "## Getting the absolut path\n",
    "relative_path ='example.txt'\n",
    "absolute_path = os.path.abspath(relative_path)\n",
    "print(absolute_path)"
   ]
  },
  {
   "cell_type": "code",
   "execution_count": null,
   "id": "005e26c9",
   "metadata": {},
   "outputs": [],
   "source": []
  },
  {
   "cell_type": "code",
   "execution_count": null,
   "id": "b22bb2b3",
   "metadata": {},
   "outputs": [],
   "source": []
  }
 ],
 "metadata": {
  "kernelspec": {
   "display_name": "Python 3",
   "language": "python",
   "name": "python3"
  },
  "language_info": {
   "codemirror_mode": {
    "name": "ipython",
    "version": 3
   },
   "file_extension": ".py",
   "mimetype": "text/x-python",
   "name": "python",
   "nbconvert_exporter": "python",
   "pygments_lexer": "ipython3",
   "version": "3.12.0"
  }
 },
 "nbformat": 4,
 "nbformat_minor": 5
}
