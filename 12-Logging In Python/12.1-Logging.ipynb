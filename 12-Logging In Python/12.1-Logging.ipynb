{
 "cells": [
  {
   "cell_type": "markdown",
   "id": "31ab45c3",
   "metadata": {},
   "source": [
    "### Python Logging\n",
    "Logging is a crucial aspect of any application, providing a way to track events, errors, and operational information. Python's build-in logging module offers a flexible framework for emitting log message from Python program. In this lesson, we will cover the basics of logging, including how to configure logging , log levels, and best practices for using Python applications."
   ]
  },
  {
   "cell_type": "code",
   "execution_count": 2,
   "id": "1af2e5da",
   "metadata": {},
   "outputs": [
    {
     "name": "stderr",
     "output_type": "stream",
     "text": [
      "DEBUG:root:This is a debug message\n",
      "INFO:root:This is an info message\n",
      "WARNING:root:This is an warning message\n",
      "ERROR:root:This is an error message\n",
      "CRITICAL:root:This is an critical message\n"
     ]
    }
   ],
   "source": [
    "import logging\n",
    "\n",
    "## Configure the basics logging settings\n",
    "logging.basicConfig(level=logging.DEBUG)\n",
    "\n",
    "## log message with different severity levels\n",
    "logging.debug(\"This is a debug message\")\n",
    "logging.info(\"This is an info message\")\n",
    "logging.warning(\"This is an warning message\")\n",
    "logging.error(\"This is an error message\")\n",
    "logging.critical(\"This is an critical message\")"
   ]
  },
  {
   "cell_type": "code",
   "execution_count": 2,
   "id": "1526bbc8",
   "metadata": {},
   "outputs": [],
   "source": [
    "import logging\n",
    "\n",
    "## configurinng logging\n",
    "logging.basicConfig(\n",
    "  filename = 'app.log',\n",
    "  filemode='w',\n",
    "  level = logging.DEBUG,\n",
    "  format = '%(asctime)s-%(name)s-%(levelname)s-%(message)s',\n",
    "  datefmt = '%Y-%m-%d %H:%M:%S'\n",
    ")\n",
    "\n",
    "## log message with different severity levels\n",
    "logging.debug(\"This is a debug message\")\n",
    "logging.info(\"This is an info message\")\n",
    "logging.warning(\"This is an warning message\")\n",
    "logging.error(\"This is an error message\")\n",
    "logging.critical(\"This is an critical message\")"
   ]
  },
  {
   "cell_type": "code",
   "execution_count": 3,
   "id": "cfb7f12e",
   "metadata": {},
   "outputs": [],
   "source": [
    "logging.debug(\"This is a debug message\")\n",
    "logging.info(\"This is an info message\")\n",
    "logging.warning(\"This is an warning message\")\n",
    "logging.error(\"This is an error message\")\n",
    "logging.critical(\"This is an critical message\")"
   ]
  },
  {
   "cell_type": "code",
   "execution_count": null,
   "id": "833e380d",
   "metadata": {},
   "outputs": [],
   "source": []
  },
  {
   "cell_type": "code",
   "execution_count": null,
   "id": "c2ee264e",
   "metadata": {},
   "outputs": [],
   "source": []
  }
 ],
 "metadata": {
  "kernelspec": {
   "display_name": "Python 3",
   "language": "python",
   "name": "python3"
  },
  "language_info": {
   "codemirror_mode": {
    "name": "ipython",
    "version": 3
   },
   "file_extension": ".py",
   "mimetype": "text/x-python",
   "name": "python",
   "nbconvert_exporter": "python",
   "pygments_lexer": "ipython3",
   "version": "3.12.0"
  }
 },
 "nbformat": 4,
 "nbformat_minor": 5
}
