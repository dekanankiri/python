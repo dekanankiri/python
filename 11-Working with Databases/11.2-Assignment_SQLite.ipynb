{
 "cells": [
  {
   "cell_type": "markdown",
   "id": "808cdb2c",
   "metadata": {},
   "source": [
    "# Module: SQLite3 Assignments\n",
    "## Lesson: SQLite3\n",
    "### Assignment 1: Creating and Connecting to a Database\n",
    "\n",
    "1. Write a Python function to create a new SQLite3 database named `test.db`."
   ]
  },
  {
   "cell_type": "code",
   "execution_count": 2,
   "id": "113dcccb",
   "metadata": {},
   "outputs": [
    {
     "name": "stdout",
     "output_type": "stream",
     "text": [
      "Database Created and Succesfully Connected\n"
     ]
    }
   ],
   "source": [
    "import sqlite3\n",
    "\n",
    "def create_database():\n",
    "  conn = sqlite3.connect('test.db')\n",
    "  conn.close()\n",
    "  print(\"Database Created and Succesfully Connected\")\n",
    "\n",
    "# Test the function\n",
    "create_database()"
   ]
  },
  {
   "cell_type": "markdown",
   "id": "e83e4726",
   "metadata": {},
   "source": [
    "2. Write a Python function to create a table named `employees` with columns `id` (integer), `name` (text), `age` (integer), and `department` (text) in the `test.db` database."
   ]
  },
  {
   "cell_type": "code",
   "execution_count": 9,
   "id": "9bed6b41",
   "metadata": {},
   "outputs": [
    {
     "name": "stdout",
     "output_type": "stream",
     "text": [
      "Table employees created successfuly.\n"
     ]
    }
   ],
   "source": [
    "def create_employee():\n",
    "  conn = sqlite3.connect('test.db')\n",
    "  cursor = conn.cursor()\n",
    "  cursor.execute('''\n",
    "  CREATE TABLE IF NOT EXISTS employees(\n",
    "                  id PRIMARY KEY,\n",
    "                  name TEXT,\n",
    "                  age INTEGER,\n",
    "                  department TEXT\n",
    "                  )\n",
    "  ''')\n",
    "  conn.commit()\n",
    "  conn.close()\n",
    "  print(\"Table employees created successfuly.\")\n",
    "\n",
    "create_employee()"
   ]
  },
  {
   "cell_type": "markdown",
   "id": "bcaffb2b",
   "metadata": {},
   "source": [
    "### Assignment 2: Inserting Data\n",
    "\n",
    "1. Write a Python function to insert a new employee into the `employees` table."
   ]
  },
  {
   "cell_type": "code",
   "execution_count": 10,
   "id": "707ffece",
   "metadata": {},
   "outputs": [
    {
     "name": "stdout",
     "output_type": "stream",
     "text": [
      "Employee Inserted Succesfully\n"
     ]
    }
   ],
   "source": [
    "def insert_employee(id,name,age,department):\n",
    "  conn = sqlite3.connect('test.db')\n",
    "  cursor = conn.cursor()\n",
    "  cursor.execute('''\n",
    "                insert into employees (id,name,age,department)\n",
    "                values(?,?,?,?)''',(id,name,age,department))\n",
    "  conn.commit()\n",
    "  conn.close()\n",
    "  print(\"Employee Inserted Succesfully\")\n",
    "\n",
    "# test the function\n",
    "insert_employee(222313233,\"deka\",21,\"Artificial Intelegents\")"
   ]
  },
  {
   "cell_type": "markdown",
   "id": "22cabd77",
   "metadata": {},
   "source": [
    "2. Insert at least 5 different employees into the `employees` table."
   ]
  },
  {
   "cell_type": "code",
   "execution_count": 48,
   "id": "f454e983",
   "metadata": {},
   "outputs": [
    {
     "ename": "IntegrityError",
     "evalue": "UNIQUE constraint failed: employees.id",
     "output_type": "error",
     "traceback": [
      "\u001b[31m---------------------------------------------------------------------------\u001b[39m",
      "\u001b[31mIntegrityError\u001b[39m                            Traceback (most recent call last)",
      "\u001b[36mCell\u001b[39m\u001b[36m \u001b[39m\u001b[32mIn[48]\u001b[39m\u001b[32m, line 1\u001b[39m\n\u001b[32m----> \u001b[39m\u001b[32m1\u001b[39m \u001b[43minsert_employee\u001b[49m\u001b[43m(\u001b[49m\u001b[32;43m777\u001b[39;49m\u001b[43m,\u001b[49m\u001b[33;43m\"\u001b[39;49m\u001b[33;43mSatria\u001b[39;49m\u001b[33;43m\"\u001b[39;49m\u001b[43m,\u001b[49m\u001b[32;43m23\u001b[39;49m\u001b[43m,\u001b[49m\u001b[33;43m\"\u001b[39;49m\u001b[33;43mSoftware development\u001b[39;49m\u001b[33;43m\"\u001b[39;49m\u001b[43m)\u001b[49m\n\u001b[32m      2\u001b[39m insert_employee(\u001b[32m888\u001b[39m,\u001b[33m\"\u001b[39m\u001b[33mRifqi\u001b[39m\u001b[33m\"\u001b[39m,\u001b[32m23\u001b[39m,\u001b[33m\"\u001b[39m\u001b[33mSoftware Development\u001b[39m\u001b[33m\"\u001b[39m)\n\u001b[32m      3\u001b[39m insert_employee(\u001b[32m999\u001b[39m,\u001b[33m\"\u001b[39m\u001b[33mWinni\u001b[39m\u001b[33m\"\u001b[39m,\u001b[32m20\u001b[39m,\u001b[33m\"\u001b[39m\u001b[33mResearch department\u001b[39m\u001b[33m\"\u001b[39m)\n",
      "\u001b[36mCell\u001b[39m\u001b[36m \u001b[39m\u001b[32mIn[10]\u001b[39m\u001b[32m, line 4\u001b[39m, in \u001b[36minsert_employee\u001b[39m\u001b[34m(id, name, age, department)\u001b[39m\n\u001b[32m      2\u001b[39m conn = sqlite3.connect(\u001b[33m'\u001b[39m\u001b[33mtest.db\u001b[39m\u001b[33m'\u001b[39m)\n\u001b[32m      3\u001b[39m cursor = conn.cursor()\n\u001b[32m----> \u001b[39m\u001b[32m4\u001b[39m \u001b[43mcursor\u001b[49m\u001b[43m.\u001b[49m\u001b[43mexecute\u001b[49m\u001b[43m(\u001b[49m\u001b[33;43m'''\u001b[39;49m\n\u001b[32m      5\u001b[39m \u001b[33;43m              insert into employees (id,name,age,department)\u001b[39;49m\n\u001b[32m      6\u001b[39m \u001b[33;43m              values(?,?,?,?)\u001b[39;49m\u001b[33;43m'''\u001b[39;49m\u001b[43m,\u001b[49m\u001b[43m(\u001b[49m\u001b[38;5;28;43mid\u001b[39;49m\u001b[43m,\u001b[49m\u001b[43mname\u001b[49m\u001b[43m,\u001b[49m\u001b[43mage\u001b[49m\u001b[43m,\u001b[49m\u001b[43mdepartment\u001b[49m\u001b[43m)\u001b[49m\u001b[43m)\u001b[49m\n\u001b[32m      7\u001b[39m conn.commit()\n\u001b[32m      8\u001b[39m conn.close()\n",
      "\u001b[31mIntegrityError\u001b[39m: UNIQUE constraint failed: employees.id"
     ]
    }
   ],
   "source": [
    "insert_employee(777,\"Satria\",23,\"Software development\")\n",
    "insert_employee(888,\"Rifqi\",23,\"Software Development\")\n",
    "insert_employee(999,\"Winni\",20,\"Research department\")\n",
    "insert_employee(333,\"Safira\",20,\"Design\")\n",
    "insert_employee(444,\"Muhlis\",21,\"Artificial Intelegents\")"
   ]
  },
  {
   "cell_type": "code",
   "execution_count": 17,
   "id": "78112ce2",
   "metadata": {},
   "outputs": [
    {
     "name": "stdout",
     "output_type": "stream",
     "text": [
      "Employee Inserted Succesfully\n",
      "Employee Inserted Succesfully\n",
      "Employee Inserted Succesfully\n",
      "Employee Inserted Succesfully\n"
     ]
    }
   ],
   "source": [
    "insert_employee(2, 'Bob', 25, 'Engineering')\n",
    "insert_employee(3, 'Charlie', 28, 'Sales')\n",
    "insert_employee(4, 'David', 35, 'Marketing')\n",
    "insert_employee(5, 'Eve', 22, 'HR')"
   ]
  },
  {
   "cell_type": "markdown",
   "id": "2659af29",
   "metadata": {},
   "source": [
    "### Assignment 3: Querying Data\n",
    "\n",
    "1. Write a Python function to fetch and display all records from the `employees` table."
   ]
  },
  {
   "cell_type": "code",
   "execution_count": 4,
   "id": "0e23a675",
   "metadata": {},
   "outputs": [
    {
     "name": "stdout",
     "output_type": "stream",
     "text": [
      "(222313233, 'deka', 21, 'Artificial Intelegents')\n",
      "(777, 'Satria', 23, 'Research department')\n",
      "(888, 'Rifqi', 23, 'Software Development')\n",
      "(999, 'Winni', 20, 'Research department')\n",
      "(333, 'Safira', 20, 'Artificial Intelegents')\n",
      "(2, 'Bob', 25, 'Engineering')\n",
      "(3, 'Charlie', 28, 'Sales')\n",
      "(4, 'David', 35, 'Marketing')\n",
      "(5, 'Eve', 22, 'HR')\n"
     ]
    }
   ],
   "source": [
    "def display_all():\n",
    "  conn = sqlite3.connect('test.db')\n",
    "  cursor = conn.cursor()\n",
    "  cursor.execute('select * from employees')\n",
    "  rows = cursor.fetchall()\n",
    "  for row in rows:\n",
    "    print(row)\n",
    "  conn.close()\n",
    "\n",
    "display_all()"
   ]
  },
  {
   "cell_type": "markdown",
   "id": "e8bcbecb",
   "metadata": {},
   "source": [
    "2. Write a Python function to fetch and display all employees from a specific department."
   ]
  },
  {
   "cell_type": "code",
   "execution_count": 2,
   "id": "335bddbc",
   "metadata": {},
   "outputs": [
    {
     "ename": "NameError",
     "evalue": "name 'sqlite3' is not defined",
     "output_type": "error",
     "traceback": [
      "\u001b[31m---------------------------------------------------------------------------\u001b[39m",
      "\u001b[31mNameError\u001b[39m                                 Traceback (most recent call last)",
      "\u001b[36mCell\u001b[39m\u001b[36m \u001b[39m\u001b[32mIn[2]\u001b[39m\u001b[32m, line 10\u001b[39m\n\u001b[32m      7\u001b[39m     \u001b[38;5;28mprint\u001b[39m(row)\n\u001b[32m      8\u001b[39m   conn.close()\n\u001b[32m---> \u001b[39m\u001b[32m10\u001b[39m \u001b[43mdisplay_department\u001b[49m\u001b[43m(\u001b[49m\u001b[33;43m'\u001b[39;49m\u001b[33;43mHR\u001b[39;49m\u001b[33;43m'\u001b[39;49m\u001b[43m)\u001b[49m\n",
      "\u001b[36mCell\u001b[39m\u001b[36m \u001b[39m\u001b[32mIn[2]\u001b[39m\u001b[32m, line 2\u001b[39m, in \u001b[36mdisplay_department\u001b[39m\u001b[34m(department)\u001b[39m\n\u001b[32m      1\u001b[39m \u001b[38;5;28;01mdef\u001b[39;00m\u001b[38;5;250m \u001b[39m\u001b[34mdisplay_department\u001b[39m(department):\n\u001b[32m----> \u001b[39m\u001b[32m2\u001b[39m   conn = \u001b[43msqlite3\u001b[49m.connect(\u001b[33m'\u001b[39m\u001b[33mtest.db\u001b[39m\u001b[33m'\u001b[39m)\n\u001b[32m      3\u001b[39m   cursor = conn.cursor()\n\u001b[32m      4\u001b[39m   cursor.execute(\u001b[33m'\u001b[39m\u001b[33mSELECT * FROM employees WHERE department = ?\u001b[39m\u001b[33m'\u001b[39m,(department,))\n",
      "\u001b[31mNameError\u001b[39m: name 'sqlite3' is not defined"
     ]
    }
   ],
   "source": [
    "def display_department(department):\n",
    "  conn = sqlite3.connect('test.db')\n",
    "  cursor = conn.cursor()\n",
    "  cursor.execute('SELECT * FROM employees WHERE department = ?',(department,))\n",
    "  rows = cursor.fetchall()\n",
    "  for row in rows:\n",
    "    print(row)\n",
    "  conn.close()\n",
    "\n",
    "display_department('HR')"
   ]
  },
  {
   "cell_type": "markdown",
   "id": "d7dcc78b",
   "metadata": {},
   "source": [
    "### Assignment 4: Updating Data\n",
    "\n",
    "1. Write a Python function to update the department of an employee based on their `id`."
   ]
  },
  {
   "cell_type": "code",
   "execution_count": 24,
   "id": "ffd4da13",
   "metadata": {},
   "outputs": [
    {
     "name": "stdout",
     "output_type": "stream",
     "text": [
      "employee depatment update successfully\n"
     ]
    }
   ],
   "source": [
    "def update_employee_department(employee_id,new_department):\n",
    "  conn = sqlite3.connect('test.db')\n",
    "  cursor = conn.cursor()\n",
    "  cursor.execute('''\n",
    "    UPDATE employees\n",
    "    SET department = ?\n",
    "    WHERE id = ?\n",
    "    ''',(new_department,employee_id))\n",
    "  conn.commit()\n",
    "  conn.close()\n",
    "  print(\"employee depatment update successfully\")\n",
    "\n",
    "update_employee_department(444,'Desain')"
   ]
  },
  {
   "cell_type": "markdown",
   "id": "ebbf2a54",
   "metadata": {},
   "source": [
    "2. Update the department of at least 2 employees and display the updated records."
   ]
  },
  {
   "cell_type": "code",
   "execution_count": 34,
   "id": "962a92cf",
   "metadata": {},
   "outputs": [
    {
     "name": "stdout",
     "output_type": "stream",
     "text": [
      "employee depatment update successfully\n",
      "employee depatment update successfully\n",
      "(222313233, 'deka', 21, 'Artificial Intelegents')\n",
      "(333, 'Safira', 20, 'Artificial Intelegents')\n",
      "(777, 'Satria', 23, 'Research department')\n",
      "(999, 'Winni', 20, 'Research department')\n"
     ]
    }
   ],
   "source": [
    "update_employee_department(333,'Artificial Intelegents')\n",
    "update_employee_department(777,'Research department')\n",
    "display_department('Artificial Intelegents')\n",
    "display_department('Research department')"
   ]
  },
  {
   "cell_type": "markdown",
   "id": "a570850e",
   "metadata": {},
   "source": [
    "### Assignment 5: Deleting Data\n",
    "\n",
    "1. Write a Python function to delete an employee from the `employees` table based on their `id`."
   ]
  },
  {
   "cell_type": "code",
   "execution_count": 35,
   "id": "f27af93d",
   "metadata": {},
   "outputs": [],
   "source": [
    "def delete_employee_by_id(employee_id):\n",
    "  conn = sqlite3.connect('test.db')\n",
    "  cursor = conn.cursor()\n",
    "  cursor.execute('''DELETE FROM employees\n",
    "                 WHERE id = ?''',(employee_id,))\n",
    "  conn.commit()\n",
    "  conn.close()\n",
    "  print(\"Employee deleted successfully.\")\n"
   ]
  },
  {
   "cell_type": "markdown",
   "id": "57ebfcc3",
   "metadata": {},
   "source": [
    "2. Delete at least 1 employee and display the remaining records."
   ]
  },
  {
   "cell_type": "code",
   "execution_count": 36,
   "id": "d6cd3022",
   "metadata": {},
   "outputs": [
    {
     "name": "stdout",
     "output_type": "stream",
     "text": [
      "(222313233, 'deka', 21, 'Artificial Intelegents')\n",
      "(777, 'Satria', 23, 'Research department')\n",
      "(888, 'Rifqi', 23, 'Software Development')\n",
      "(999, 'Winni', 20, 'Research department')\n",
      "(333, 'Safira', 20, 'Artificial Intelegents')\n",
      "(444, 'Muhlis', 21, 'Desain')\n",
      "(2, 'Bob', 25, 'Engineering')\n",
      "(3, 'Charlie', 28, 'Sales')\n",
      "(4, 'David', 35, 'Marketing')\n",
      "(5, 'Eve', 22, 'HR')\n",
      "Employee deleted successfully.\n",
      "(222313233, 'deka', 21, 'Artificial Intelegents')\n",
      "(777, 'Satria', 23, 'Research department')\n",
      "(888, 'Rifqi', 23, 'Software Development')\n",
      "(999, 'Winni', 20, 'Research department')\n",
      "(333, 'Safira', 20, 'Artificial Intelegents')\n",
      "(2, 'Bob', 25, 'Engineering')\n",
      "(3, 'Charlie', 28, 'Sales')\n",
      "(4, 'David', 35, 'Marketing')\n",
      "(5, 'Eve', 22, 'HR')\n"
     ]
    }
   ],
   "source": [
    "display_all()\n",
    "delete_employee_by_id(444)\n",
    "display_all()"
   ]
  },
  {
   "cell_type": "markdown",
   "id": "f7aa203e",
   "metadata": {},
   "source": [
    "### Assignment 6: Advanced Queries\n",
    "\n",
    "1. Write a Python function to fetch and display employees older than a certain age."
   ]
  },
  {
   "cell_type": "code",
   "execution_count": 39,
   "id": "f46ae117",
   "metadata": {},
   "outputs": [
    {
     "name": "stdout",
     "output_type": "stream",
     "text": [
      "(222313233, 'deka', 21, 'Artificial Intelegents')\n",
      "(777, 'Satria', 23, 'Research department')\n",
      "(888, 'Rifqi', 23, 'Software Development')\n",
      "(2, 'Bob', 25, 'Engineering')\n",
      "(3, 'Charlie', 28, 'Sales')\n",
      "(4, 'David', 35, 'Marketing')\n",
      "(5, 'Eve', 22, 'HR')\n",
      "employee displayed successfully\n"
     ]
    }
   ],
   "source": [
    "def employee_older_than(age):\n",
    "  conn = sqlite3.connect('test.db')\n",
    "  cursor = conn.cursor()\n",
    "  cursor.execute('''SELECT * FROM employees WHERE age > ?''',(age,))\n",
    "  rows = cursor.fetchall()\n",
    "  for row in rows:\n",
    "    print(row)\n",
    "  conn.close()\n",
    "  print(\"employee displayed successfully\")\n",
    "\n",
    "employee_older_than(20)"
   ]
  },
  {
   "cell_type": "markdown",
   "id": "27144131",
   "metadata": {},
   "source": [
    "2. Write a Python function to fetch and display employees whose names start with a specific letter."
   ]
  },
  {
   "cell_type": "code",
   "execution_count": 47,
   "id": "a7ce6da0",
   "metadata": {},
   "outputs": [
    {
     "name": "stdout",
     "output_type": "stream",
     "text": [
      "(222313233, 'deka', 21, 'Artificial Intelegents')\n",
      "(4, 'David', 35, 'Marketing')\n"
     ]
    }
   ],
   "source": [
    "def employe_name(start_letter):\n",
    "  conn = sqlite3.connect('test.db')\n",
    "  cursor = conn.cursor()\n",
    "  cursor.execute('SELECT * FROM employees WHERE name LIKE ?',(start_letter + '%',))\n",
    "  rows = cursor.fetchall()\n",
    "  for row in rows:\n",
    "    print(row)\n",
    "  conn.close()\n",
    "\n",
    "employe_name('d')"
   ]
  },
  {
   "cell_type": "markdown",
   "id": "bef54774",
   "metadata": {},
   "source": [
    "### Assignment 7: Handling Transactions\n",
    "\n",
    "1. Write a Python function to insert multiple employees into the `employees` table in a single transaction. Ensure that if any insertion fails, none of the insertions are committed."
   ]
  },
  {
   "cell_type": "code",
   "execution_count": 6,
   "id": "5d33bbcf",
   "metadata": {},
   "outputs": [
    {
     "name": "stdout",
     "output_type": "stream",
     "text": [
      "All employees inserted successfully.\n"
     ]
    }
   ],
   "source": [
    "def insert_multiple_employees(employees):\n",
    "    conn = sqlite3.connect('test.db')\n",
    "    cursor = conn.cursor()\n",
    "    try:\n",
    "        cursor.executemany('''\n",
    "            INSERT INTO employees (id, name, age, department)\n",
    "            VALUES (?, ?, ?, ?)\n",
    "        ''', employees)\n",
    "        conn.commit()\n",
    "        print(\"All employees inserted successfully.\")\n",
    "    except Exception as e:\n",
    "        conn.rollback()\n",
    "        print(\"Error occurred, transaction rolled back.\")\n",
    "        print(e)\n",
    "    finally:\n",
    "        conn.close()\n",
    "\n",
    "# Test the function with valid and invalid data\n",
    "employees = [\n",
    "    (6, 'Frank', 40, 'Finance'),\n",
    "    (7, 'Grace', 29, 'Engineering'),\n",
    "    (8, 'Hannah', 35, 'Marketing'),\n",
    "    (9, 'Ivan', 38, 'Sales')  # Duplicate ID to cause an error\n",
    "]\n",
    "insert_multiple_employees(employees)"
   ]
  },
  {
   "cell_type": "markdown",
   "id": "141158bd",
   "metadata": {},
   "source": [
    "2. Write a Python function to update the age of multiple employees in a single transaction. Ensure that if any update fails, none of the updates are committed."
   ]
  },
  {
   "cell_type": "code",
   "execution_count": 7,
   "id": "56d7d235",
   "metadata": {},
   "outputs": [
    {
     "name": "stdout",
     "output_type": "stream",
     "text": [
      "(222313233, 'deka', 21, 'Artificial Intelegents')\n",
      "(777, 'Satria', 23, 'Research department')\n",
      "(888, 'Rifqi', 23, 'Software Development')\n",
      "(999, 'Winni', 20, 'Research department')\n",
      "(333, 'Safira', 20, 'Artificial Intelegents')\n",
      "(2, 'Bob', 26, 'Engineering')\n",
      "(3, 'Charlie', 33, 'Sales')\n",
      "(4, 'David', 41, 'Marketing')\n",
      "(5, 'Eve', 23, 'HR')\n",
      "(6, 'Frank', 40, 'Finance')\n",
      "(7, 'Grace', 29, 'Engineering')\n",
      "(8, 'Hannah', 35, 'Marketing')\n",
      "(9, 'Ivan', 38, 'Sales')\n",
      "All employe ages updated successfully.\n",
      "(222313233, 'deka', 21, 'Artificial Intelegents')\n",
      "(777, 'Satria', 23, 'Research department')\n",
      "(888, 'Rifqi', 23, 'Software Development')\n",
      "(999, 'Winni', 20, 'Research department')\n",
      "(333, 'Safira', 20, 'Artificial Intelegents')\n",
      "(2, 'Bob', 26, 'Engineering')\n",
      "(3, 'Charlie', 33, 'Sales')\n",
      "(4, 'David', 41, 'Marketing')\n",
      "(5, 'Eve', 23, 'HR')\n",
      "(6, 'Frank', 40, 'Finance')\n",
      "(7, 'Grace', 29, 'Engineering')\n",
      "(8, 'Hannah', 35, 'Marketing')\n",
      "(9, 'Ivan', 38, 'Sales')\n"
     ]
    }
   ],
   "source": [
    "def update_multiple_employees_ages(update):\n",
    "  conn = sqlite3.connect('test.db')\n",
    "  cursor = conn.cursor()\n",
    "  try:\n",
    "    cursor.executemany('''\n",
    "      UPDATE employees\n",
    "      SET age = ?\n",
    "      WHERE id = ?\n",
    "      ''',update)\n",
    "    conn.commit()\n",
    "    print(\"All employe ages updated successfully.\")\n",
    "  except Exception as e:\n",
    "    conn.rollback()\n",
    "    print(\"Error occured, transaction rolled back\")\n",
    "    print(e)\n",
    "  finally:\n",
    "    conn.close()\n",
    "\n",
    "display_all()\n",
    "updates = [\n",
    "    (26, 2),\n",
    "    (33, 3),\n",
    "    (41, 4),  # Non-existing ID to cause an error\n",
    "    (23, 5)\n",
    "]\n",
    "update_multiple_employees_ages(updates)\n",
    "display_all()"
   ]
  },
  {
   "cell_type": "markdown",
   "id": "3fa265be",
   "metadata": {},
   "source": [
    "### Assignment 8: Creating Relationships\n",
    "\n",
    "1. Create a new table named `departments` with columns `id` (integer) and `name` (text)."
   ]
  },
  {
   "cell_type": "code",
   "execution_count": 13,
   "id": "44e651dd",
   "metadata": {},
   "outputs": [
    {
     "name": "stdout",
     "output_type": "stream",
     "text": [
      "Department table created successfully.\n"
     ]
    }
   ],
   "source": [
    "def create_department_table():\n",
    "  conn = sqlite3.connect('test.db')\n",
    "  cursor = conn.cursor()\n",
    "  cursor.execute('''\n",
    "                CREATE TABLE IF NOT EXISTS departments (\n",
    "                  id INTEGER PRIMARY KEY,\n",
    "                  name TEXT NOT NULL)\n",
    "                  ''')\n",
    "  conn.commit()\n",
    "  conn.close()\n",
    "  print(\"Department table created successfully.\")\n",
    "\n",
    "create_department_table()"
   ]
  },
  {
   "cell_type": "markdown",
   "id": "252d1bb0",
   "metadata": {},
   "source": [
    "2. Modify the `employees` table to include a foreign key referencing the `id` column in the `departments` table."
   ]
  },
  {
   "cell_type": "code",
   "execution_count": 14,
   "id": "3b422f43",
   "metadata": {},
   "outputs": [
    {
     "name": "stdout",
     "output_type": "stream",
     "text": [
      "Table 'employees' modified successfully.\n"
     ]
    }
   ],
   "source": [
    "def add_department_foreign_key():\n",
    "    conn = sqlite3.connect('test.db')\n",
    "    cursor = conn.cursor()\n",
    "    cursor.execute('''\n",
    "        PRAGMA foreign_keys=off;\n",
    "    ''')\n",
    "    cursor.execute('''\n",
    "        BEGIN TRANSACTION;\n",
    "    ''')\n",
    "    cursor.execute('''\n",
    "        ALTER TABLE employees RENAME TO old_employees;\n",
    "    ''')\n",
    "    cursor.execute('''\n",
    "        CREATE TABLE employees (\n",
    "            id INTEGER PRIMARY KEY,\n",
    "            name TEXT NOT NULL,\n",
    "            age INTEGER,\n",
    "            department TEXT,\n",
    "            department_id INTEGER,\n",
    "            FOREIGN KEY(department_id) REFERENCES departments(id)\n",
    "        );\n",
    "    ''')\n",
    "    cursor.execute('''\n",
    "        INSERT INTO employees (id, name, age, department)\n",
    "        SELECT id, name, age, department FROM old_employees;\n",
    "    ''')\n",
    "    cursor.execute('''\n",
    "        DROP TABLE old_employees;\n",
    "    ''')\n",
    "    cursor.execute('''\n",
    "        DROP TABLE department;\n",
    "    ''')\n",
    "    cursor.execute('''\n",
    "        COMMIT;\n",
    "    ''')\n",
    "    cursor.execute('''\n",
    "        PRAGMA foreign_keys=on;\n",
    "    ''')\n",
    "    conn.commit()\n",
    "    conn.close()\n",
    "    print(\"Table 'employees' modified successfully.\")\n",
    "\n",
    "# Test the function\n",
    "add_department_foreign_key()"
   ]
  },
  {
   "cell_type": "markdown",
   "id": "3954d00a",
   "metadata": {},
   "source": [
    "3. Write a Python function to insert data into both the `departments` and `employees` tables, ensuring referential integrity."
   ]
  },
  {
   "cell_type": "code",
   "execution_count": 17,
   "id": "a467c127",
   "metadata": {},
   "outputs": [
    {
     "name": "stdout",
     "output_type": "stream",
     "text": [
      "Department and Employee inserted Successfully.\n"
     ]
    }
   ],
   "source": [
    "def insert_department_and_employee(department_id,department_name,employee_id,name,age,department):\n",
    "  conn = sqlite3.connect('test.db')\n",
    "  cursor = conn.cursor()\n",
    "  try:\n",
    "    cursor.execute('''\n",
    "                      INSERT INTO departments (id,name)\n",
    "                      VALUES (?,?)''',(department_id,department_name))\n",
    "    cursor.execute('''\n",
    "                      INSERT INTO employees(id,name,age,department,department_id)\n",
    "                      VALUES (?,?,?,?,?)\n",
    "                      ''',(employee_id,name,age,department,department_id))\n",
    "    conn.commit()\n",
    "    print(\"Department and Employee inserted Successfully.\")\n",
    "  except Exception as e:\n",
    "    conn.rollback()\n",
    "    print(\"Error occured, Transaction rolled back\")\n",
    "    print(e)\n",
    "  finally:\n",
    "    conn.close()\n",
    "\n",
    "insert_department_and_employee(1, 'Finance', 10, 'Zara', 28, 'Finance')"
   ]
  },
  {
   "cell_type": "markdown",
   "id": "c0737193",
   "metadata": {},
   "source": [
    "### Assignment 9: Indexing and Optimization\n",
    "\n",
    "1. Create an index on the `name` column of the `employees` table."
   ]
  },
  {
   "cell_type": "code",
   "execution_count": 19,
   "id": "8221b9bd",
   "metadata": {},
   "outputs": [
    {
     "name": "stdout",
     "output_type": "stream",
     "text": [
      "Index on 'name' column created successfully.\n"
     ]
    }
   ],
   "source": [
    "def create_index_on_name():\n",
    "  conn = sqlite3.connect('test.db')\n",
    "  cursor = conn.cursor()\n",
    "  cursor.execute('CREATE INDEX idx_name ON employees(name)')\n",
    "  conn.commit()\n",
    "  conn.close()\n",
    "  print(\"Index on 'name' column created successfully.\")\n",
    "\n",
    "# test the function\n",
    "create_index_on_name()"
   ]
  },
  {
   "cell_type": "markdown",
   "id": "d635c96a",
   "metadata": {},
   "source": [
    "2. Write a Python function to fetch and display all employees whose names start with a specific letter. Compare the performance with and without the index."
   ]
  },
  {
   "cell_type": "code",
   "execution_count": 27,
   "id": "dc901b60",
   "metadata": {},
   "outputs": [
    {
     "name": "stdout",
     "output_type": "stream",
     "text": [
      "Time taken: 0.0010027885437011719 seconds\n",
      "(333, 'Safira', 20, 'Artificial Intelegents', None)\n",
      "(777, 'Satria', 23, 'Research department', None)\n"
     ]
    }
   ],
   "source": [
    "import time\n",
    "\n",
    "def fetch_employees_name_starts_with_performance(letter):\n",
    "  conn = sqlite3.connect('test.db')\n",
    "  cursor = conn.cursor()\n",
    "  start_time = time.time()\n",
    "  cursor.execute('SELECT * FROM employees WHERE name LIKE ?',(letter + '%',))\n",
    "  records = cursor.fetchall()\n",
    "  end_time = time.time()\n",
    "  conn.close()\n",
    "  print(\"Time taken: {} seconds\".format(end_time - start_time))\n",
    "  for record in records:\n",
    "    print(record)\n",
    "\n",
    "# Test the function with the  index\n",
    "fetch_employees_name_starts_with_performance('S')"
   ]
  },
  {
   "cell_type": "markdown",
   "id": "4d5111fe",
   "metadata": {},
   "source": [
    "### Assignment 10: Backing Up and Restoring Data\n",
    "\n",
    "1. Write a Python function to back up the `test.db` database to a file named `backup.db`."
   ]
  },
  {
   "cell_type": "code",
   "execution_count": 28,
   "id": "93df48b8",
   "metadata": {},
   "outputs": [
    {
     "name": "stdout",
     "output_type": "stream",
     "text": [
      "Database backend up successfully\n"
     ]
    }
   ],
   "source": [
    "import shutil\n",
    "\n",
    "def backup_database():\n",
    "  shutil.copy('test.db','backup.db')\n",
    "  print(\"Database backend up successfully\")\n",
    "\n",
    "backup_database()"
   ]
  },
  {
   "cell_type": "markdown",
   "id": "7bd82042",
   "metadata": {},
   "source": [
    "2. Write a Python function to restore the `test.db` database from the `backup.db` file."
   ]
  },
  {
   "cell_type": "code",
   "execution_count": 29,
   "id": "e7f9c9f0",
   "metadata": {},
   "outputs": [
    {
     "name": "stdout",
     "output_type": "stream",
     "text": [
      "Database restored successfully.\n"
     ]
    }
   ],
   "source": [
    "def restore_database():\n",
    "  shutil.copy('backup.db','test.db')\n",
    "  print('Database restored successfully.')\n",
    "\n",
    "restore_database()"
   ]
  }
 ],
 "metadata": {
  "kernelspec": {
   "display_name": "Python 3",
   "language": "python",
   "name": "python3"
  },
  "language_info": {
   "codemirror_mode": {
    "name": "ipython",
    "version": 3
   },
   "file_extension": ".py",
   "mimetype": "text/x-python",
   "name": "python",
   "nbconvert_exporter": "python",
   "pygments_lexer": "ipython3",
   "version": "3.12.0"
  }
 },
 "nbformat": 4,
 "nbformat_minor": 5
}
