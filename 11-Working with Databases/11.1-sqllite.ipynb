{
 "cells": [
  {
   "cell_type": "markdown",
   "id": "aa937634",
   "metadata": {},
   "source": [
    "### SQL And SQLite\n",
    "SQL (Structured Qurey Language) is a standard language for managing and manipulatng relational databases. SQLite is self-contained, serverless, and zero-configuration databse engine that is  widely used for embedded database system. In this lesson, We will cover the basics of SQL and SQLite, including creating databases, tables, and performing various SQL operation."
   ]
  },
  {
   "cell_type": "code",
   "execution_count": 1,
   "id": "684bcd1f",
   "metadata": {},
   "outputs": [],
   "source": [
    "import sqlite3"
   ]
  },
  {
   "cell_type": "code",
   "execution_count": 2,
   "id": "b34b62a9",
   "metadata": {},
   "outputs": [
    {
     "data": {
      "text/plain": [
       "<sqlite3.Connection at 0x1e44d9124d0>"
      ]
     },
     "execution_count": 2,
     "metadata": {},
     "output_type": "execute_result"
    }
   ],
   "source": [
    "## Connect to a SQLite database\n",
    "connection = sqlite3.connect('example.db')\n",
    "connection"
   ]
  },
  {
   "cell_type": "code",
   "execution_count": 3,
   "id": "bf20d579",
   "metadata": {},
   "outputs": [],
   "source": [
    "cursor = connection.cursor()"
   ]
  },
  {
   "cell_type": "code",
   "execution_count": 6,
   "id": "c565acc9",
   "metadata": {},
   "outputs": [],
   "source": [
    "## Create Table\n",
    "cursor.execute('''\n",
    "Create Table If Not Exists employees(\n",
    "  id Integer Primary Key,\n",
    "  name Text Not Null,\n",
    "  age Integer,\n",
    "  department text\n",
    "  )\n",
    "''')\n",
    "\n",
    "## Commit The Change\n",
    "connection.commit()"
   ]
  },
  {
   "cell_type": "code",
   "execution_count": 7,
   "id": "e22c8dde",
   "metadata": {},
   "outputs": [
    {
     "data": {
      "text/plain": [
       "<sqlite3.Cursor at 0x1e44db2e440>"
      ]
     },
     "execution_count": 7,
     "metadata": {},
     "output_type": "execute_result"
    }
   ],
   "source": [
    "cursor.execute('''\n",
    "Select * From employees\n",
    "''')"
   ]
  },
  {
   "cell_type": "code",
   "execution_count": 8,
   "id": "237379a5",
   "metadata": {},
   "outputs": [],
   "source": [
    "cursor.execute('''\n",
    "INSERT INTO employees(name,age,department)\n",
    "               values('Deka',21,'Data Scientist')\n",
    "''')\n",
    "\n",
    "cursor.execute('''\n",
    "INSERT INTO employees(name,age,department)\n",
    "values('Abu',20,'Software Engineer')\n",
    "''')\n",
    "\n",
    "cursor.execute('''\n",
    "INSERT INTO employees(name,age,department)\n",
    "               values('Daffa',21,'Entepreneur')\n",
    "''')\n",
    "\n",
    "connection.commit()"
   ]
  },
  {
   "cell_type": "code",
   "execution_count": 9,
   "id": "29a97c14",
   "metadata": {},
   "outputs": [
    {
     "name": "stdout",
     "output_type": "stream",
     "text": [
      "(1, 'Deka', 21, 'Data Scientist')\n",
      "(2, 'Abu', 20, 'Software Engineer')\n",
      "(3, 'Daffa', 21, 'Entepreneur')\n"
     ]
    }
   ],
   "source": [
    "## Query the data from the table\n",
    "cursor.execute('select * from employees')\n",
    "rows=cursor.fetchall()\n",
    "\n",
    "## print the queried data\n",
    "for row in rows:\n",
    "  print(row)"
   ]
  },
  {
   "cell_type": "code",
   "execution_count": 10,
   "id": "8d280652",
   "metadata": {},
   "outputs": [],
   "source": [
    "## Update data on the table\n",
    "cursor.execute('''\n",
    "UPDATE employees\n",
    "set age=20\n",
    "where name=\"Deka\"\n",
    "''')\n",
    "\n",
    "connection.commit()"
   ]
  },
  {
   "cell_type": "code",
   "execution_count": 11,
   "id": "5402ed9e",
   "metadata": {},
   "outputs": [
    {
     "name": "stdout",
     "output_type": "stream",
     "text": [
      "(1, 'Deka', 20, 'Data Scientist')\n",
      "(2, 'Abu', 20, 'Software Engineer')\n",
      "(3, 'Daffa', 21, 'Entepreneur')\n"
     ]
    }
   ],
   "source": [
    "cursor.execute('select * from employees')\n",
    "rows = cursor.fetchall()\n",
    "\n",
    "for row in rows:\n",
    "  print(row)"
   ]
  },
  {
   "cell_type": "code",
   "execution_count": 12,
   "id": "aaa9b2ec",
   "metadata": {},
   "outputs": [],
   "source": [
    "## Delete the data from the table\n",
    "cursor.execute('''\n",
    "delete from employees\n",
    "               where name=\"Abu\"\n",
    "''')\n",
    "\n",
    "connection.commit()"
   ]
  },
  {
   "cell_type": "code",
   "execution_count": 13,
   "id": "0dc1919e",
   "metadata": {},
   "outputs": [
    {
     "name": "stdout",
     "output_type": "stream",
     "text": [
      "(1, 'Deka', 20, 'Data Scientist')\n",
      "(3, 'Daffa', 21, 'Entepreneur')\n"
     ]
    }
   ],
   "source": [
    "cursor.execute('select * from employees')\n",
    "rows = cursor.fetchall()\n",
    "\n",
    "for row in rows:\n",
    "  print(row)"
   ]
  },
  {
   "cell_type": "code",
   "execution_count": 16,
   "id": "daac0ce7",
   "metadata": {},
   "outputs": [],
   "source": [
    "## Working with sales Data\n",
    "# Connect to an SQLite databse\n",
    "connection = sqlite3.connect('sales_data.db')\n",
    "cursor = connection.cursor()\n",
    "\n",
    "## Create a table for sales data\n",
    "cursor.execute('''\n",
    "CREATE TABLE IF NOT EXISTS sales(\n",
    "               id INTEGER PRIMARY KEY,\n",
    "               date TEXT NOT NULL,\n",
    "               product TEXT NOT NULL,\n",
    "               sales INTEGER,\n",
    "               region TEXT)\n",
    "''')\n",
    "\n",
    "## Insert data into the sales table\n",
    "sales_data = [\n",
    "  ('2023-01-01','Product1',100,'North'),\n",
    "  ('2023-01-02','Product2',200,'South'),\n",
    "  ('2023-01-03','Product3',150,'East'),\n",
    "  ('2023-01-04','Product4',250,'West'),\n",
    "  ('2023-01-05','Product5',300,'North')\n",
    "] \n",
    "\n",
    "cursor.executemany('''\n",
    "INSERT INTO sales(date,product,sales,region)\n",
    "                   values(?,?,?,?)\n",
    "''',sales_data)\n",
    "\n",
    "connection.commit()"
   ]
  },
  {
   "cell_type": "code",
   "execution_count": 18,
   "id": "557d4d9b",
   "metadata": {},
   "outputs": [
    {
     "name": "stdout",
     "output_type": "stream",
     "text": [
      "(1, '2023-01-01', 'Product1', 100, 'North')\n",
      "(2, '2023-01-02', 'Product2', 200, 'South')\n",
      "(3, '2023-01-03', 'Product3', 150, 'East')\n",
      "(4, '2023-01-04', 'Product4', 250, 'West')\n",
      "(5, '2023-01-05', 'Product5', 300, 'North')\n"
     ]
    }
   ],
   "source": [
    "cursor.execute('select * from sales')\n",
    "rows = cursor.fetchall()\n",
    "\n",
    "for row in rows:\n",
    "  print(row)"
   ]
  },
  {
   "cell_type": "code",
   "execution_count": 19,
   "id": "39b6eda5",
   "metadata": {},
   "outputs": [],
   "source": [
    "## close connection\n",
    "connection.close()"
   ]
  }
 ],
 "metadata": {
  "kernelspec": {
   "display_name": "Python 3",
   "language": "python",
   "name": "python3"
  },
  "language_info": {
   "codemirror_mode": {
    "name": "ipython",
    "version": 3
   },
   "file_extension": ".py",
   "mimetype": "text/x-python",
   "name": "python",
   "nbconvert_exporter": "python",
   "pygments_lexer": "ipython3",
   "version": "3.12.0"
  }
 },
 "nbformat": 4,
 "nbformat_minor": 5
}
