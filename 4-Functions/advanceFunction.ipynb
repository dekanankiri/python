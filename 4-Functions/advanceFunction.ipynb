{
 "cells": [
  {
   "cell_type": "markdown",
   "id": "12f4e65c",
   "metadata": {},
   "source": [
    "# Module 4: Advance Functions Assignments\n",
    "## Lesson 4.1: Defining Functions\n",
    "### Assignment 1: Fibonacci Sequence with memoization\n",
    "Define a recursive function to calculate the nth Fibonacci number using memoization. Test the function with different inputs."
   ]
  },
  {
   "cell_type": "code",
   "execution_count": 4,
   "id": "0150744d",
   "metadata": {},
   "outputs": [
    {
     "name": "stdout",
     "output_type": "stream",
     "text": [
      "55\n",
      "610\n"
     ]
    }
   ],
   "source": [
    "def fibonacci(n, memo={}):\n",
    "  if n in memo:\n",
    "    return memo[n]\n",
    "  if n<=1:\n",
    "    return n\n",
    "  memo[n] = fibonacci(n-1, memo) + fibonacci(n-2,memo)\n",
    "  return memo[n]\n",
    "\n",
    "# Test\n",
    "print(fibonacci(10))\n",
    "print(fibonacci(15))"
   ]
  },
  {
   "cell_type": "markdown",
   "id": "2efe8267",
   "metadata": {},
   "source": [
    "### Assignment 2 : Function with Nested Default Arguments\n",
    "Define a function that takes two arguments, a and b, where b is a dictionary with a default value of an empty dictionary. The function should add a new key-value pair to the dictionary and return it. Test the function with different inputs."
   ]
  },
  {
   "cell_type": "code",
   "execution_count": 12,
   "id": "aeefe7ae",
   "metadata": {},
   "outputs": [
    {
     "name": "stdout",
     "output_type": "stream",
     "text": [
      "{1: 1, 3: 3, 'deka': 'deka', 3.14: 3.14}\n"
     ]
    }
   ],
   "source": [
    "def add_dict(a,b={}):\n",
    "  b[a]=a\n",
    "\n",
    "dict = {}\n",
    "add_dict(1,dict)\n",
    "add_dict(3,dict)\n",
    "add_dict(\"deka\",dict)\n",
    "add_dict(3.14,dict)\n",
    "print(dict)\n"
   ]
  },
  {
   "cell_type": "code",
   "execution_count": 13,
   "id": "4bdb29e6",
   "metadata": {},
   "outputs": [
    {
     "name": "stdout",
     "output_type": "stream",
     "text": [
      "{2: 4}\n",
      "{1: 1, 3: 9}\n"
     ]
    }
   ],
   "source": [
    "def add_to_dict(a, b=None):\n",
    "    if b is None:\n",
    "        b = {}\n",
    "    b[a] = a**2\n",
    "    return b\n",
    "\n",
    "# Test\n",
    "print(add_to_dict(2))  # {2: 4}\n",
    "print(add_to_dict(3, {1: 1}))  # {1: 1, 3: 9}"
   ]
  },
  {
   "cell_type": "markdown",
   "id": "76a8f1b0",
   "metadata": {},
   "source": [
    "### Assignment 3: Function with Variable Keywoard Arguments\n",
    "Define a function that takes a variable number of arguments and returns a dictionary containing only those key-value pairs where the value is an integer. Test the function with different inputs."
   ]
  },
  {
   "cell_type": "code",
   "execution_count": 25,
   "id": "a83204fd",
   "metadata": {},
   "outputs": [
    {
     "name": "stdout",
     "output_type": "stream",
     "text": [
      "{'a': 1, 'd': 42}\n",
      "{'x': 10, 'z': 20}\n",
      "{'a': 1, 'c': 3}\n"
     ]
    }
   ],
   "source": [
    "def filter_integers(**kwargs):\n",
    "  return {key: value for key,value in kwargs.items() if isinstance(value,int)}\n",
    "\n",
    "\n",
    "print(filter_integers(a=1, b=\"hello\", c=3.14, d=42, e=[1, 2, 3]))\n",
    "print(filter_integers(x=10, y='yes', z=20))\n",
    "print(filter_integers(a=1, b='two', c=3, d=4.5))\n"
   ]
  },
  {
   "cell_type": "markdown",
   "id": "3599d02e",
   "metadata": {},
   "source": [
    "### Assignment 4: Function with Callback\n",
    "Define a function that takes another function as a callback and a list of integers. The function should apply the callback to each integer in the list and return a new list with the results. Test with different callback functions.\n"
   ]
  },
  {
   "cell_type": "code",
   "execution_count": 31,
   "id": "9928d6a9",
   "metadata": {},
   "outputs": [
    {
     "name": "stdout",
     "output_type": "stream",
     "text": [
      "[1, 4, 9, 16, 25, 36, 49, 64, 81, 100]\n",
      "[2, 4, 6, 8, 10, 12, 14, 16, 18, 20]\n"
     ]
    }
   ],
   "source": [
    "def apply_callback(callback,numbers):\n",
    "  return [callback(n) for n in numbers]\n",
    "\n",
    "print(apply_callback(lambda x:x**2,[x for x in range(1,11)]))\n",
    "print(apply_callback(lambda x:x*2, [x for x in range(1,11)]))\n",
    "\n"
   ]
  },
  {
   "cell_type": "markdown",
   "id": "b1c49d86",
   "metadata": {},
   "source": [
    "### Assignment 5: Function that Returns a Function\n",
    "Define a function that returns another function. The returned function should take an integer and return its square. Test the returned function with different inputs."
   ]
  },
  {
   "cell_type": "code",
   "execution_count": 32,
   "id": "de69a7da",
   "metadata": {},
   "outputs": [
    {
     "name": "stdout",
     "output_type": "stream",
     "text": [
      "9\n"
     ]
    }
   ],
   "source": [
    "def returned(a):\n",
    "  return square(a)\n",
    "\n",
    "def square(a):\n",
    "  return a**2\n",
    "\n",
    "print(returned(3))"
   ]
  },
  {
   "cell_type": "code",
   "execution_count": 33,
   "id": "09631ccd",
   "metadata": {},
   "outputs": [
    {
     "name": "stdout",
     "output_type": "stream",
     "text": [
      "4\n",
      "25\n"
     ]
    }
   ],
   "source": [
    "def outer_function():\n",
    "    def inner_function(x):\n",
    "        return x ** 2\n",
    "    return inner_function\n",
    "\n",
    "# Test\n",
    "square = outer_function()\n",
    "print(square(2))  # 4\n",
    "print(square(5))  # 25"
   ]
  },
  {
   "cell_type": "markdown",
   "id": "d0cc84fb",
   "metadata": {},
   "source": [
    "### Assignment 6: Function with Decorators\n",
    "Define a function that calclates the time taken to execute another function. Apply this decorator to a function that performs a complex calculation. Test the decorated function with different inputs."
   ]
  },
  {
   "cell_type": "code",
   "execution_count": 37,
   "id": "e7937c5d",
   "metadata": {},
   "outputs": [
    {
     "name": "stdout",
     "output_type": "stream",
     "text": [
      "Function 'complex_calculation' took 0.0622 seconds\n",
      "Result: 249500250000\n"
     ]
    }
   ],
   "source": [
    "import time\n",
    "\n",
    "def timing_decorator(func):\n",
    "  def wrapper(*args,**kwargs):\n",
    "    start_time = time.time() # record start time\n",
    "    result = func(*args, **kwargs) # Run the actual function\n",
    "    end_time = time.time()\n",
    "    elapsed = end_time-start_time\n",
    "    print(f\"Function '{func.__name__}' took {elapsed:.4f} seconds\")\n",
    "    return result\n",
    "  return wrapper\n",
    "\n",
    "\n",
    "@timing_decorator\n",
    "def complex_calculation(n):\n",
    "    total = 0\n",
    "    for i in range(1, n):\n",
    "        for j in range(1, n):\n",
    "            total += i * j\n",
    "    return total\n",
    "\n",
    "result = complex_calculation(1000)\n",
    "print(\"Result:\", result)\n"
   ]
  },
  {
   "cell_type": "markdown",
   "id": "398609af",
   "metadata": {},
   "source": [
    "### Assignment 7: Higher-Order Function for Filtering and Mapping\n",
    "Define a higher-order function that takes two functions, a filter function and map function, along with a list of integers. The higher-order function should first filter the integers using the function and then apply the map function to the filtered integers. Test with different filter and map functions.\n",
    " "
   ]
  },
  {
   "cell_type": "code",
   "execution_count": 41,
   "id": "c4af98b0",
   "metadata": {},
   "outputs": [
    {
     "data": {
      "text/plain": [
       "[4, 16, 36, 64, 100, 144, 196, 256, 324, 400]"
      ]
     },
     "execution_count": 41,
     "metadata": {},
     "output_type": "execute_result"
    }
   ],
   "source": [
    "numbers = list(range(1,21))\n",
    "\n",
    "def higher_order(numbers):\n",
    "  even = list(filter(lambda x:x%2==0,numbers))\n",
    "  even_square = list(map(lambda x:x**2, even))\n",
    "  return even_square\n",
    "\n",
    "higher_order(numbers)"
   ]
  },
  {
   "cell_type": "markdown",
   "id": "9440aa85",
   "metadata": {},
   "source": [
    "### Assignment 8: Function Composition\n",
    "Define a function that composes two functions, f and g, such that the result is f(g(x)). Test with different function f dan g."
   ]
  },
  {
   "cell_type": "code",
   "execution_count": 61,
   "id": "2d34615f",
   "metadata": {},
   "outputs": [
    {
     "name": "stdout",
     "output_type": "stream",
     "text": [
      "[1, 3, 5, 7, 9]\n"
     ]
    }
   ],
   "source": [
    "## first try\n",
    "numbers = list(range(1, 21))\n",
    "\n",
    "def odd_less_than_10(num):\n",
    "  filtered = list(filter(lambda x:x<10,odd(num)))\n",
    "  return filtered\n",
    "\n",
    "def odd(num):\n",
    "  odded = list(filter(lambda x:x%2==1,num))\n",
    "  return odded\n",
    "\n",
    "print(odd_less_than_10(numbers))\n",
    "\n",
    "## Second Try\n",
    "def compose(f,g):\n",
    "  return lambda x: f(g(x))\n",
    "\n",
    "\n",
    "\n",
    "\n"
   ]
  },
  {
   "cell_type": "code",
   "execution_count": 51,
   "id": "94a28dc7",
   "metadata": {},
   "outputs": [
    {
     "name": "stdout",
     "output_type": "stream",
     "text": [
      "7\n",
      "11\n"
     ]
    }
   ],
   "source": [
    "def compose(f,g):\n",
    "  return lambda x: f(g(x))\n",
    "\n",
    "# Test\n",
    "f = lambda x: x+1\n",
    "g = lambda x: x*2\n",
    "h = compose(f,g)\n",
    "print(h(3))\n",
    "print(h(5))"
   ]
  },
  {
   "cell_type": "markdown",
   "id": "7eae4fb5",
   "metadata": {},
   "source": [
    "### Assignment 9: Partial Function Application\n",
    "Use the functools. Patials function to create a new function that multiplies its input by 2. Test the new function with different inputs."
   ]
  },
  {
   "cell_type": "code",
   "execution_count": 63,
   "id": "f2ec8564",
   "metadata": {},
   "outputs": [
    {
     "name": "stdout",
     "output_type": "stream",
     "text": [
      "6\n",
      "16\n"
     ]
    }
   ],
   "source": [
    "from functools import partial\n",
    "\n",
    "multiply_by_2 = partial(lambda x,y: x*y,2)\n",
    "\n",
    "# Test\n",
    "print(multiply_by_2(3))\n",
    "print(multiply_by_2(8))"
   ]
  },
  {
   "cell_type": "markdown",
   "id": "b4f1c44e",
   "metadata": {},
   "source": [
    "## Assignment 10: Function with Error Handling\n",
    "Define a function that takes a list of integers and returns their average. The function should handle any errors that occur (e.g., empty list) and return None in such cases. Test with different inputs."
   ]
  },
  {
   "cell_type": "code",
   "execution_count": 75,
   "id": "373fc751",
   "metadata": {},
   "outputs": [
    {
     "name": "stdout",
     "output_type": "stream",
     "text": [
      "5.5\n",
      "None\n"
     ]
    }
   ],
   "source": [
    "def integers(numbers):\n",
    "  if numbers==[]:\n",
    "    return None\n",
    "  return sum(numbers)/len(numbers)\n",
    "n = [x for x in range(1,11)]\n",
    "print(integers(n))\n",
    "print(integers([]))"
   ]
  },
  {
   "cell_type": "code",
   "execution_count": 71,
   "id": "96556783",
   "metadata": {},
   "outputs": [
    {
     "name": "stdout",
     "output_type": "stream",
     "text": [
      "3.0\n",
      "None\n"
     ]
    }
   ],
   "source": [
    "def average(lst):\n",
    "  try:\n",
    "    return sum(lst) / len(lst)\n",
    "  except ZeroDivisionError:\n",
    "    return None\n",
    "\n",
    "# Test\n",
    "print(average([1, 2, 3, 4, 5])) # 3.0\n",
    "print(average([])) # None"
   ]
  },
  {
   "cell_type": "markdown",
   "id": "64741e7f",
   "metadata": {},
   "source": [
    "### Assignment 11: Function with Generators \n",
    "Define a function that generates an ifinite sequence of fibonacci numbers. Test by printing the first 10 numbers in the sequence."
   ]
  },
  {
   "cell_type": "code",
   "execution_count": null,
   "id": "1714cfaa",
   "metadata": {},
   "outputs": [
    {
     "name": "stdout",
     "output_type": "stream",
     "text": [
      "55\n"
     ]
    }
   ],
   "source": [
    "# this is only print the final value\n",
    "def fibonacci(n):\n",
    "  if n<=1:\n",
    "    return 1\n",
    "  return n + fibonacci(n-1)\n",
    "print(fibonacci(10))"
   ]
  },
  {
   "cell_type": "code",
   "execution_count": 90,
   "id": "7ad0eeed",
   "metadata": {},
   "outputs": [
    {
     "name": "stdout",
     "output_type": "stream",
     "text": [
      "0\n",
      "1\n",
      "1\n",
      "2\n",
      "3\n",
      "5\n",
      "8\n",
      "13\n",
      "21\n",
      "34\n",
      "55\n",
      "89\n",
      "144\n",
      "233\n",
      "377\n"
     ]
    }
   ],
   "source": [
    "## we want to generates sequence\n",
    "def fib(n):\n",
    "  a = 0\n",
    "  b = 1\n",
    "  for _ in range(n):\n",
    "    print(a)\n",
    "    a, b = b, b+a\n",
    "    \n",
    "fib(15)"
   ]
  },
  {
   "cell_type": "code",
   "execution_count": 91,
   "id": "8e05a29d",
   "metadata": {},
   "outputs": [
    {
     "name": "stdout",
     "output_type": "stream",
     "text": [
      "0\n",
      "1\n",
      "1\n",
      "2\n",
      "3\n",
      "5\n",
      "8\n",
      "13\n",
      "21\n",
      "34\n",
      "55\n",
      "89\n",
      "144\n",
      "233\n",
      "377\n"
     ]
    }
   ],
   "source": [
    "def fibonacci_generator():\n",
    "  a,b=0,1\n",
    "  while True:\n",
    "    yield a\n",
    "    a,b = b , b+a\n",
    "\n",
    "# Test \n",
    "fib_gen = fibonacci_generator()\n",
    "for _ in range(15):\n",
    "  print(next(fib_gen))"
   ]
  },
  {
   "cell_type": "markdown",
   "id": "071adc5f",
   "metadata": {},
   "source": [
    "### Assignment 12: Currying\n",
    "Define a curried fuction that takes three arguments, one at a time, and return their product. Test the function by providing arguments one at a time."
   ]
  },
  {
   "cell_type": "code",
   "execution_count": 93,
   "id": "c3ceed61",
   "metadata": {},
   "outputs": [
    {
     "name": "stdout",
     "output_type": "stream",
     "text": [
      "6\n",
      "60\n"
     ]
    }
   ],
   "source": [
    "def curry_product(x):\n",
    "  def inner1(y):\n",
    "    def inner2(z):\n",
    "      return x*y*z\n",
    "    return inner2\n",
    "  return inner1\n",
    "\n",
    "# Test\n",
    "print(curry_product(1)(2)(3))\n",
    "print(curry_product(3)(4)(5))"
   ]
  },
  {
   "cell_type": "markdown",
   "id": "3c9d9d35",
   "metadata": {},
   "source": [
    "### Assignment 13: Function with Context Manager\n",
    "Define a function that uses a context manager to write a list of integers to a file. The functionn should handle any errors that occur during file operations. Test with different lists."
   ]
  },
  {
   "cell_type": "code",
   "execution_count": 95,
   "id": "8be3fdc7",
   "metadata": {},
   "outputs": [],
   "source": [
    "def write_to_file(lst, filename):\n",
    "  try:\n",
    "    with open(filename, 'w') as f:\n",
    "      for num in lst:\n",
    "        f.write(f\"{num}\\n\")\n",
    "  except IOError as e:\n",
    "    print(f\"An error occured: {e}\")\n",
    "\n",
    "# Test\n",
    "write_to_file([1,2,3,4,5], 'output.txt')"
   ]
  },
  {
   "cell_type": "markdown",
   "id": "76486d02",
   "metadata": {},
   "source": [
    "### Assignment 14: Function with Multiple Return Types\n",
    "Define a function that takes a list of mixed data types (integers, strings, and floats) and returns three lists: one containing all the integers, one containing all the strings, and one containing all the floats. Test with different inputs."
   ]
  },
  {
   "cell_type": "code",
   "execution_count": 96,
   "id": "69a3c76e",
   "metadata": {},
   "outputs": [
    {
     "name": "stdout",
     "output_type": "stream",
     "text": [
      "([23, 45], ['deka', 'naya', 'b'], [3.14, 9.5])\n"
     ]
    }
   ],
   "source": [
    "def mixed_data(lst):\n",
    "  ints, strs, floats = [],[],[]\n",
    "  for elmnt in lst:\n",
    "    if isinstance(elmnt, int):\n",
    "      ints.append(elmnt)\n",
    "    elif isinstance(elmnt, str):\n",
    "      strs.append(elmnt)\n",
    "    elif isinstance(elmnt,float):\n",
    "      floats.append(elmnt)\n",
    "  return ints, strs, floats\n",
    "\n",
    "print(mixed_data([23, \"deka\", 3.14,\"naya\",\"b\",45, 9.5]))"
   ]
  },
  {
   "cell_type": "markdown",
   "id": "151aae3b",
   "metadata": {},
   "source": [
    "### Assignment 15: Function with State\n",
    "Define a function that maintains state between calls using a mutable default argument. The function should keep track of how many times it has been called. Test by  calling the function multiple times."
   ]
  },
  {
   "cell_type": "code",
   "execution_count": 9,
   "id": "4a7877f6",
   "metadata": {},
   "outputs": [
    {
     "name": "stdout",
     "output_type": "stream",
     "text": [
      "1\n",
      "2\n"
     ]
    }
   ],
   "source": [
    "def call_counter(counter={'count':0}):\n",
    "  counter['count']+=1\n",
    "  return counter['count']\n",
    "\n",
    "print(call_counter())\n",
    "print(call_counter())"
   ]
  },
  {
   "cell_type": "code",
   "execution_count": 7,
   "id": "b976eed5",
   "metadata": {},
   "outputs": [
    {
     "name": "stdout",
     "output_type": "stream",
     "text": [
      "True\n"
     ]
    }
   ],
   "source": [
    "def check_unique(lst):\n",
    "  for i in range(len(lst)):\n",
    "      for j in range(i+1, len(lst)):\n",
    "          if lst[i] == lst[j]:\n",
    "              return False\n",
    "  return True\n",
    "\n",
    "lst1 = [1, 2, 3, 3, 4, 5]\n",
    "lst2 = [1, 2, 3, 4, 5]\n",
    "print(check_unique(lst2))"
   ]
  },
  {
   "cell_type": "code",
   "execution_count": 13,
   "id": "7bb269f0",
   "metadata": {},
   "outputs": [
    {
     "name": "stdout",
     "output_type": "stream",
     "text": [
      "12\n"
     ]
    }
   ],
   "source": [
    "def max_consecutive_difference(lst):\n",
    "    max_diff = []\n",
    "    for x in range(len(lst)-1):\n",
    "        diff_abs = abs(lst[x]-lst[x+1])\n",
    "        max_diff.append(diff_abs)\n",
    "    return max(max_diff)\n",
    "    \n",
    "lst = [1, 7, 3, 10, 5]\n",
    "lst2 = [10, 11, 15, 3]\n",
    "\n",
    "print(max_consecutive_difference(lst2))\n",
    "        \n"
   ]
  },
  {
   "cell_type": "code",
   "execution_count": null,
   "id": "1bca7e12",
   "metadata": {},
   "outputs": [],
   "source": []
  }
 ],
 "metadata": {
  "kernelspec": {
   "display_name": "Python 3",
   "language": "python",
   "name": "python3"
  },
  "language_info": {
   "codemirror_mode": {
    "name": "ipython",
    "version": 3
   },
   "file_extension": ".py",
   "mimetype": "text/x-python",
   "name": "python",
   "nbconvert_exporter": "python",
   "pygments_lexer": "ipython3",
   "version": "3.12.0"
  }
 },
 "nbformat": 4,
 "nbformat_minor": 5
}
