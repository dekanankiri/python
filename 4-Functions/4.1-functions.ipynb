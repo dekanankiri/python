{
 "cells": [
  {
   "cell_type": "code",
   "execution_count": null,
   "id": "d75e4255",
   "metadata": {},
   "outputs": [],
   "source": [
    "## syntax\n",
    "def function_name(parameters):\n",
    "  \"\"\"Docstring\"\"\"\n",
    "  #Function body\n",
    "  return expression"
   ]
  },
  {
   "cell_type": "code",
   "execution_count": null,
   "id": "ac4d2e80",
   "metadata": {},
   "outputs": [],
   "source": [
    "## why function?\n",
    "num = 24\n",
    "if num%==0:\n",
    "  print(f\"number is even\")\n",
    "else:\n",
    "  print(\"number is odd\")"
   ]
  },
  {
   "cell_type": "code",
   "execution_count": null,
   "id": "12d5458c",
   "metadata": {},
   "outputs": [],
   "source": [
    "def even_or_odd(num):\n",
    "  \"\"\"This function finds even or odd number\"\"\"\n",
    "  if num%2==0:\n",
    "    print(\"the number is even\")\n",
    "  else:\n",
    "    print(\"the number is odd\")"
   ]
  },
  {
   "cell_type": "code",
   "execution_count": null,
   "id": "6ff59174",
   "metadata": {},
   "outputs": [
    {
     "name": "stdout",
     "output_type": "stream",
     "text": [
      "the number is odd\n"
     ]
    }
   ],
   "source": [
    "## Calling a function\n",
    "even_or_odd(27)"
   ]
  },
  {
   "cell_type": "code",
   "execution_count": 8,
   "id": "f110d150",
   "metadata": {},
   "outputs": [
    {
     "name": "stdout",
     "output_type": "stream",
     "text": [
      "6\n"
     ]
    }
   ],
   "source": [
    "## function with multiple parameter\n",
    "\n",
    "def add(a,b):\n",
    "  \"\"\"The \"\"\"\n",
    "  return a+b\n",
    "\n",
    "result = add(2,4)\n",
    "print(result)"
   ]
  },
  {
   "cell_type": "code",
   "execution_count": 10,
   "id": "35bd867b",
   "metadata": {},
   "outputs": [
    {
     "name": "stdout",
     "output_type": "stream",
     "text": [
      "Hello Deka Welcome to this company!\n"
     ]
    }
   ],
   "source": [
    "## Default Parameters\n",
    "\n",
    "def greet(name):\n",
    "  print(f\"Hello {name} Welcome to this company!\")\n",
    "\n",
    "greet(\"Deka\")"
   ]
  },
  {
   "cell_type": "code",
   "execution_count": 14,
   "id": "a7b78206",
   "metadata": {},
   "outputs": [
    {
     "name": "stdout",
     "output_type": "stream",
     "text": [
      "Hello Deka Welcome to Google!\n"
     ]
    }
   ],
   "source": [
    "def greet(name=\"Guest\"):\n",
    "  print(f\"Hello {name} Welcome to Google!\")\n",
    "\n",
    "greet(\"Deka\")"
   ]
  },
  {
   "cell_type": "code",
   "execution_count": 15,
   "id": "52242334",
   "metadata": {},
   "outputs": [],
   "source": [
    "### Variable length arguments\n",
    "## positional and keywords arguments\n",
    "\n",
    "def print_numbers(*args):\n",
    "  for numbers in args:\n",
    "    print(numbers)"
   ]
  },
  {
   "cell_type": "code",
   "execution_count": 17,
   "id": "3a99dfd2",
   "metadata": {},
   "outputs": [
    {
     "name": "stdout",
     "output_type": "stream",
     "text": [
      "1\n",
      "2\n",
      "3\n",
      "4\n",
      "5\n",
      "6\n",
      "7\n",
      "8\n",
      "Deka\n"
     ]
    }
   ],
   "source": [
    "print_numbers(1,2,3,4,5,6,7,8,\"Deka\")"
   ]
  },
  {
   "cell_type": "code",
   "execution_count": 18,
   "id": "42aa8f27",
   "metadata": {},
   "outputs": [],
   "source": [
    "## Keyword Arguments\n",
    "\n",
    "def print_details(**kwargs):\n",
    "  for key,value in kwargs.items():\n",
    "    print(f\"{key}:{value}\")\n",
    "\n"
   ]
  },
  {
   "cell_type": "code",
   "execution_count": 19,
   "id": "4bf9d8de",
   "metadata": {},
   "outputs": [
    {
     "name": "stdout",
     "output_type": "stream",
     "text": [
      "name:Deka\n",
      "age:20\n",
      "country:Indonesia\n"
     ]
    }
   ],
   "source": [
    "print_details(name=\"Deka\", age=\"20\",country=\"Indonesia\")"
   ]
  },
  {
   "cell_type": "code",
   "execution_count": 22,
   "id": "1f148f32",
   "metadata": {},
   "outputs": [],
   "source": [
    "def print_details(*args,**kwargs):\n",
    "  for val in args:\n",
    "    print(f\"Positional argument: {val}\")\n",
    "  for key,value in kwargs.items():\n",
    "    print(f\"{key}:{value}\")\n"
   ]
  },
  {
   "cell_type": "code",
   "execution_count": 23,
   "id": "c751edfd",
   "metadata": {},
   "outputs": [
    {
     "name": "stdout",
     "output_type": "stream",
     "text": [
      "Positional argument: 1\n",
      "Positional argument: 2\n",
      "Positional argument: 3\n",
      "Positional argument: 4\n",
      "Positional argument: Deka\n",
      "name:Deka\n",
      "age:20\n",
      "country:Indonesia\n"
     ]
    }
   ],
   "source": [
    "print_details(1,2,3,4,\"Deka\",name=\"Deka\", age=\"20\",country=\"Indonesia\")"
   ]
  },
  {
   "cell_type": "code",
   "execution_count": 24,
   "id": "7d322370",
   "metadata": {},
   "outputs": [
    {
     "data": {
      "text/plain": [
       "6"
      ]
     },
     "execution_count": 24,
     "metadata": {},
     "output_type": "execute_result"
    }
   ],
   "source": [
    "### Return statements\n",
    "def multiply(a,b):\n",
    "  return a*b\n",
    "\n",
    "multiply(2,3)"
   ]
  },
  {
   "cell_type": "code",
   "execution_count": 25,
   "id": "6d0c0a27",
   "metadata": {},
   "outputs": [
    {
     "data": {
      "text/plain": [
       "(6, 3)"
      ]
     },
     "execution_count": 25,
     "metadata": {},
     "output_type": "execute_result"
    }
   ],
   "source": [
    "### Return statements\n",
    "def multiply(a,b):\n",
    "  return a*b,b\n",
    "\n",
    "multiply(2,3)"
   ]
  },
  {
   "cell_type": "code",
   "execution_count": null,
   "id": "00536cec",
   "metadata": {},
   "outputs": [],
   "source": []
  },
  {
   "cell_type": "code",
   "execution_count": null,
   "id": "83bc8b4e",
   "metadata": {},
   "outputs": [],
   "source": []
  },
  {
   "cell_type": "code",
   "execution_count": null,
   "id": "3799d009",
   "metadata": {},
   "outputs": [],
   "source": []
  }
 ],
 "metadata": {
  "kernelspec": {
   "display_name": "Python 3",
   "language": "python",
   "name": "python3"
  },
  "language_info": {
   "codemirror_mode": {
    "name": "ipython",
    "version": 3
   },
   "file_extension": ".py",
   "mimetype": "text/x-python",
   "name": "python",
   "nbconvert_exporter": "python",
   "pygments_lexer": "ipython3",
   "version": "3.12.0"
  }
 },
 "nbformat": 4,
 "nbformat_minor": 5
}
