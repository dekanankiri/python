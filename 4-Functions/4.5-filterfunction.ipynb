{
 "cells": [
  {
   "cell_type": "markdown",
   "id": "2f61cf94",
   "metadata": {},
   "source": [
    "### The filter() Function in Python\n",
    "The filter() function construct an iterator from elements of an iterable function for wich a function returns true. It is used to filter out items from a list (or any other iterable) based on condition."
   ]
  },
  {
   "cell_type": "code",
   "execution_count": 1,
   "id": "1f92029d",
   "metadata": {},
   "outputs": [],
   "source": [
    "def even(num):\n",
    "  if num%2==0:\n",
    "    return True"
   ]
  },
  {
   "cell_type": "code",
   "execution_count": 2,
   "id": "781b5e61",
   "metadata": {},
   "outputs": [
    {
     "data": {
      "text/plain": [
       "True"
      ]
     },
     "execution_count": 2,
     "metadata": {},
     "output_type": "execute_result"
    }
   ],
   "source": [
    "even(24)"
   ]
  },
  {
   "cell_type": "code",
   "execution_count": 3,
   "id": "f2361b45",
   "metadata": {},
   "outputs": [
    {
     "data": {
      "text/plain": [
       "[2, 4, 6, 8, 10, 12]"
      ]
     },
     "execution_count": 3,
     "metadata": {},
     "output_type": "execute_result"
    }
   ],
   "source": [
    "lst=[1,2,3,4,5,6,7,8,9,10,11,12]\n",
    "\n",
    "list(filter(even,lst))"
   ]
  },
  {
   "cell_type": "code",
   "execution_count": 4,
   "id": "d2c181b5",
   "metadata": {},
   "outputs": [
    {
     "name": "stdout",
     "output_type": "stream",
     "text": [
      "[6, 7, 8, 9]\n"
     ]
    }
   ],
   "source": [
    "## Filter with lambda function\n",
    "numbers=[1,2,3,4,5,6,7,8,9]\n",
    "greather_than_five = list(filter(lambda x:x>5,numbers))\n",
    "print(greather_than_five)"
   ]
  },
  {
   "cell_type": "code",
   "execution_count": 5,
   "id": "e783fb2a",
   "metadata": {},
   "outputs": [
    {
     "name": "stdout",
     "output_type": "stream",
     "text": [
      "[6, 8]\n"
     ]
    }
   ],
   "source": [
    "## Filter with a lambda functionn and multiple conditions\n",
    "numbers=[1,2,3,4,5,6,7,8,9]\n",
    "even_and_greater_than_five = list(filter(lambda x:x>5 and x%2==0,numbers))\n",
    "print(even_and_greater_than_five)"
   ]
  },
  {
   "cell_type": "code",
   "execution_count": 1,
   "id": "474d0789",
   "metadata": {},
   "outputs": [
    {
     "data": {
      "text/plain": [
       "[{'name': 'jack', 'age': 33}]"
      ]
     },
     "execution_count": 1,
     "metadata": {},
     "output_type": "execute_result"
    }
   ],
   "source": [
    "## Filter to check if the age is greater thatnn 25 in dictionaries\n",
    "people=[\n",
    "  {'name':'Deka','age':20},\n",
    "  {'name':'jack','age':33},\n",
    "  {'name':'jhon','age':25}\n",
    "]\n",
    "def age_greater_than_25(person):\n",
    "  return person['age']>25\n",
    "list(filter(age_greater_than_25,people))\n"
   ]
  }
 ],
 "metadata": {
  "kernelspec": {
   "display_name": "Python 3",
   "language": "python",
   "name": "python3"
  },
  "language_info": {
   "codemirror_mode": {
    "name": "ipython",
    "version": 3
   },
   "file_extension": ".py",
   "mimetype": "text/x-python",
   "name": "python",
   "nbconvert_exporter": "python",
   "pygments_lexer": "ipython3",
   "version": "3.12.0"
  }
 },
 "nbformat": 4,
 "nbformat_minor": 5
}
