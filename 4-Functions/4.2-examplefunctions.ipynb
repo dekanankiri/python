{
 "cells": [
  {
   "cell_type": "markdown",
   "id": "9c164c32",
   "metadata": {},
   "source": [
    "### Function Examples"
   ]
  },
  {
   "cell_type": "markdown",
   "id": "edda5287",
   "metadata": {},
   "source": [
    "### Example 1: Temperature Conversion"
   ]
  },
  {
   "cell_type": "code",
   "execution_count": 1,
   "id": "716cb753",
   "metadata": {},
   "outputs": [
    {
     "name": "stdout",
     "output_type": "stream",
     "text": [
      "77.0\n",
      "25.0\n"
     ]
    }
   ],
   "source": [
    "def convert_temperature(temp,unit):\n",
    "  \"\"\"This Function converts temperature between Celcius and Farenheit\"\"\"\n",
    "  if unit == 'C':\n",
    "    return temp*9/5+32 ## celcius to farenheit\n",
    "  elif unit == 'F':\n",
    "    return (temp-32)*5/9 ## Farenheit to celcius\n",
    "  else:\n",
    "    return None\n",
    "\n",
    "print(convert_temperature(25, \"C\"))\n",
    "print(convert_temperature(77,\"F\"))"
   ]
  },
  {
   "cell_type": "markdown",
   "id": "8263336b",
   "metadata": {},
   "source": [
    "### Example 2: Password Strength Checker"
   ]
  },
  {
   "cell_type": "code",
   "execution_count": 6,
   "id": "4be2c924",
   "metadata": {},
   "outputs": [
    {
     "name": "stdout",
     "output_type": "stream",
     "text": [
      "False\n",
      "True\n"
     ]
    }
   ],
   "source": [
    "def is_strong_password(password):\n",
    "  \"\"\"This Function checks if the password is strong or not\"\"\"\n",
    "  if len(password)<8:\n",
    "    return False\n",
    "  if not any(char.isdigit() for char in password):\n",
    "    return False\n",
    "  if not any(char.islower() for char in password):\n",
    "    return False\n",
    "  if not any(char.isupper() for char in password):\n",
    "    return False\n",
    "  if not any(char in '!@#$%^&*()+' for char in password):\n",
    "    return False\n",
    "  return True\n",
    "\n",
    "## calling the function\n",
    "print(is_strong_password(\"WeakPwd\"))\n",
    "print(is_strong_password(\"Str@0nlad\"))"
   ]
  },
  {
   "cell_type": "markdown",
   "id": "45402b05",
   "metadata": {},
   "source": [
    "### Example 3: Calculate the total Cost of items in a Shopping Cart"
   ]
  },
  {
   "cell_type": "code",
   "execution_count": 9,
   "id": "73e3bb95",
   "metadata": {},
   "outputs": [
    {
     "name": "stdout",
     "output_type": "stream",
     "text": [
      "12.6\n"
     ]
    }
   ],
   "source": [
    "def calculate_total_cost(cart):\n",
    "  total_cost=0\n",
    "  for item in cart:\n",
    "    total_cost+=item['price']*item['quantity']\n",
    "  return total_cost\n",
    "\n",
    "## Example cart data\n",
    "cart=[\n",
    "  {'name':'apple','price':0.5,'quantity':4},\n",
    "  {'name':'orange','price':0.7,'quantity':6},\n",
    "  {'name':'mango','price':0.8,'quantity':8}\n",
    "]\n",
    "\n",
    "## calling the function\n",
    "total_cost = calculate_total_cost(cart)\n",
    "print(total_cost)"
   ]
  },
  {
   "cell_type": "markdown",
   "id": "ddf53e30",
   "metadata": {},
   "source": [
    "### Example 4: Check IF a string is Palindrome"
   ]
  },
  {
   "cell_type": "code",
   "execution_count": 12,
   "id": "b3fd7760",
   "metadata": {},
   "outputs": [
    {
     "name": "stdout",
     "output_type": "stream",
     "text": [
      "True\n",
      "False\n"
     ]
    }
   ],
   "source": [
    "def is_palindrome(s):\n",
    "  s=s.lower().replace(\" \",\"\")\n",
    "  return s==s[::-1]\n",
    "\n",
    "print(is_palindrome(\"a man a plan a canal panama\"))\n",
    "print(is_palindrome(\"Hello\"))"
   ]
  },
  {
   "cell_type": "markdown",
   "id": "42c295d4",
   "metadata": {},
   "source": [
    "### Example 5: Calculate the factorials of a number using recursion"
   ]
  },
  {
   "cell_type": "code",
   "execution_count": 13,
   "id": "fe7fdafb",
   "metadata": {},
   "outputs": [
    {
     "name": "stdout",
     "output_type": "stream",
     "text": [
      "120\n"
     ]
    }
   ],
   "source": [
    "def factorial(n):\n",
    "  if n==0:\n",
    "    return 1\n",
    "  else:\n",
    "    return n*factorial(n-1)\n",
    "print(factorial(5))"
   ]
  },
  {
   "cell_type": "markdown",
   "id": "a993af54",
   "metadata": {},
   "source": [
    "### Example 6: A function To read A file and count the frequency of each word"
   ]
  },
  {
   "cell_type": "code",
   "execution_count": 15,
   "id": "5eeef226",
   "metadata": {},
   "outputs": [
    {
     "name": "stdout",
     "output_type": "stream",
     "text": [
      "{'hello': 1, 'world': 1, 'how': 1, 'are': 1, 'you': 1, 'my': 1, 'name': 1, 'is': 1, 'deka': 1}\n"
     ]
    }
   ],
   "source": [
    "def count_word_frequency(file_path):\n",
    "  word_count = {}\n",
    "  with open(file_path,'r') as file:\n",
    "    for line in file:\n",
    "      words=line.split()\n",
    "      for word in words:\n",
    "        word=word.lower().strip('.,!?;:\"\\'')\n",
    "        word_count[word]=word_count.get(word,0)+1\n",
    "  return word_count\n",
    "file_path='sample.txt'\n",
    "word_frequency = count_word_frequency(file_path)\n",
    "print(word_frequency)"
   ]
  },
  {
   "cell_type": "markdown",
   "id": "38a0a359",
   "metadata": {},
   "source": [
    "### Example 7: Validate Email Address"
   ]
  },
  {
   "cell_type": "code",
   "execution_count": 16,
   "id": "fc566860",
   "metadata": {},
   "outputs": [
    {
     "name": "stdout",
     "output_type": "stream",
     "text": [
      "True\n",
      "False\n"
     ]
    }
   ],
   "source": [
    "import re\n",
    "\n",
    "# Email validation function\n",
    "def is_valid_email(email):\n",
    "  \"\"\"This function checks if the email is valid\"\"\"\n",
    "  pattern = r'^[a-zA-Z0-9_.+-]+@[a-zA-Z0-9-]+\\.[a-zA-Z0-9-.]+$'\n",
    "  return re.match(pattern, email) is not None\n",
    "\n",
    "\n",
    "# Calling the function\n",
    "print(is_valid_email(\"test@exmple.com\"))\n",
    "print(is_valid_email(\"invalid-email\"))"
   ]
  }
 ],
 "metadata": {
  "kernelspec": {
   "display_name": "Python 3",
   "language": "python",
   "name": "python3"
  },
  "language_info": {
   "codemirror_mode": {
    "name": "ipython",
    "version": 3
   },
   "file_extension": ".py",
   "mimetype": "text/x-python",
   "name": "python",
   "nbconvert_exporter": "python",
   "pygments_lexer": "ipython3",
   "version": "3.12.0"
  }
 },
 "nbformat": 4,
 "nbformat_minor": 5
}
