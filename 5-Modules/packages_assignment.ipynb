{
 "cells": [
  {
   "cell_type": "markdown",
   "id": "2e2a1291",
   "metadata": {},
   "source": [
    "# Module 5: Mdules and Packages Assignments"
   ]
  },
  {
   "cell_type": "markdown",
   "id": "2dc46c06",
   "metadata": {},
   "source": [
    "## Lesson 5.1: Importing Modules"
   ]
  },
  {
   "cell_type": "markdown",
   "id": "d2820622",
   "metadata": {},
   "source": [
    "### Assignment 1: Importing and Using Moduls"
   ]
  },
  {
   "cell_type": "markdown",
   "id": "9f545d6e",
   "metadata": {},
   "source": [
    "Import the `math` module and use it to calculate the square root of 25 and the sine of 90 degrees."
   ]
  },
  {
   "cell_type": "code",
   "execution_count": 4,
   "id": "2537df06",
   "metadata": {},
   "outputs": [
    {
     "name": "stdout",
     "output_type": "stream",
     "text": [
      "5.0\n",
      "1.0\n"
     ]
    }
   ],
   "source": [
    "import math\n",
    "\n",
    "print(math.sqrt(25))\n",
    "print(math.sin(math.radians(90)))"
   ]
  },
  {
   "cell_type": "markdown",
   "id": "f4c31fbb",
   "metadata": {},
   "source": [
    "### Assignment 2: Aliasing Modules\n",
    "Import the `datetime` module with an alias and use it to print the current date and timme"
   ]
  },
  {
   "cell_type": "code",
   "execution_count": 8,
   "id": "83c3872c",
   "metadata": {},
   "outputs": [
    {
     "name": "stdout",
     "output_type": "stream",
     "text": [
      "2025-08-07 16:09:39.197666\n"
     ]
    }
   ],
   "source": [
    "import datetime as dt\n",
    "\n",
    "now = dt.datetime.now()\n",
    "print(now)\n"
   ]
  },
  {
   "cell_type": "markdown",
   "id": "37394460",
   "metadata": {},
   "source": [
    "### Assignment 3: Importing Specific Functions\n",
    "Import the `randint` function from the `random` module and use it to generate a random integer between 1 and 100."
   ]
  },
  {
   "cell_type": "code",
   "execution_count": 25,
   "id": "97cd283a",
   "metadata": {},
   "outputs": [
    {
     "name": "stdout",
     "output_type": "stream",
     "text": [
      "92\n"
     ]
    }
   ],
   "source": [
    "from random import randint\n",
    "\n",
    "random_num = randint(1,100)\n",
    "print(random_num)"
   ]
  },
  {
   "cell_type": "markdown",
   "id": "2a9f5aae",
   "metadata": {},
   "source": [
    "### Assignment 4: Improving Multiple Function\n",
    "Import the `sqrt` and `pow` functions from the math module and use them to calculate the square root of 16 and 2 raised to the power of 3"
   ]
  },
  {
   "cell_type": "code",
   "execution_count": 27,
   "id": "aed0e413",
   "metadata": {},
   "outputs": [
    {
     "name": "stdout",
     "output_type": "stream",
     "text": [
      "4.0\n",
      "8.0\n"
     ]
    }
   ],
   "source": [
    "from math import sqrt,pow\n",
    "\n",
    "print(sqrt(16))\n",
    "print(pow(2,3))"
   ]
  },
  {
   "cell_type": "markdown",
   "id": "cbdf8f94",
   "metadata": {},
   "source": [
    "### Assignment 5: Handling Import Errors\n",
    "Write code that attempts to import a non-existent module and gracefully handles the import error by printing an error message."
   ]
  },
  {
   "cell_type": "code",
   "execution_count": 29,
   "id": "8ff541eb",
   "metadata": {},
   "outputs": [
    {
     "name": "stdout",
     "output_type": "stream",
     "text": [
      "Error importing module: No module named 'non_existent_modul'\n"
     ]
    }
   ],
   "source": [
    "try:\n",
    "  import non_existent_modul \n",
    "except ImportError as e:\n",
    "  print(f\"Error importing module: {e}\")"
   ]
  },
  {
   "cell_type": "markdown",
   "id": "5d7b9157",
   "metadata": {},
   "source": [
    "## Lesson 5.2: Standard Library Overview\n",
    "### Assignment 6: Working with `os` Module\n",
    "Use the `os` module to create a new directory, list the  contents of the current directory, and remove the newly created directory."
   ]
  },
  {
   "cell_type": "code",
   "execution_count": 33,
   "id": "8929ac22",
   "metadata": {},
   "outputs": [
    {
     "name": "stdout",
     "output_type": "stream",
     "text": [
      "['5.1-import.ipynb', '5.2-Standardlibrary.ipynb', 'deka.txt', 'destination.txt', 'example.csv', 'package', 'packages_assignment.ipynb', 'source.txt', 'test.py', 'test_dir']\n",
      "['5.1-import.ipynb', '5.2-Standardlibrary.ipynb', 'destination.txt', 'example.csv', 'package', 'packages_assignment.ipynb', 'source.txt', 'test.py', 'test_dir']\n"
     ]
    }
   ],
   "source": [
    "import os\n",
    "\n",
    "\n",
    "os.mkdir('deka.txt')\n",
    "print(os.listdir('.'))\n",
    "\n",
    "os.rmdir('deka.txt')\n",
    "print(os.listdir('.'))\n"
   ]
  },
  {
   "cell_type": "markdown",
   "id": "73907efe",
   "metadata": {},
   "source": [
    "### Assignment 7: Working with the `sys` Module\n",
    "Use the `sys` module to print the Python version currently in use and the command-line arguments passed to the script."
   ]
  },
  {
   "cell_type": "code",
   "execution_count": 38,
   "id": "1768b153",
   "metadata": {},
   "outputs": [
    {
     "name": "stdout",
     "output_type": "stream",
     "text": [
      "Python version: 3.12.0 | packaged by Anaconda, Inc. | (main, Oct  2 2023, 17:20:38) [MSC v.1916 64 bit (AMD64)]\n",
      "Command-line argument: ['c:\\\\Belajar\\\\udemy\\\\Data analyst Bootcamp\\\\python\\\\venv\\\\Lib\\\\site-packages\\\\ipykernel_launcher.py', '--f=\"c:\\\\Users\\\\MyBook Z Series\\\\AppData\\\\Roaming\\\\jupyter\\\\runtime\\\\kernel-v36984b942ba2dc10c927c254a3f0650ebee1aef3c.json\"']\n"
     ]
    }
   ],
   "source": [
    "import sys\n",
    "\n",
    "print(f\"Python version: {sys.version}\")\n",
    "print(f\"Command-line argument: {sys.argv}\")"
   ]
  },
  {
   "cell_type": "markdown",
   "id": "6f8dec08",
   "metadata": {},
   "source": [
    "### Assignment 8: Working with the `math` Module\n",
    "Use the `math` module to calculate the greatest common divisor (GCD) of two numbers and the factorial of a number"
   ]
  },
  {
   "cell_type": "code",
   "execution_count": 39,
   "id": "be763aa0",
   "metadata": {},
   "outputs": [
    {
     "name": "stdout",
     "output_type": "stream",
     "text": [
      "18\n",
      "120\n"
     ]
    }
   ],
   "source": [
    "import math\n",
    "\n",
    "print(math.gcd(54,36))\n",
    "print(math.factorial(5))"
   ]
  },
  {
   "cell_type": "markdown",
   "id": "a786cc43",
   "metadata": {},
   "source": [
    "### Assignment 9: Working with the `datetime` Module\n",
    "Use the `datetime` module to print the current date, calculate the date 100 days from today, and determine the day of the week for a given date."
   ]
  },
  {
   "cell_type": "code",
   "execution_count": 55,
   "id": "bd7f6e7a",
   "metadata": {},
   "outputs": [
    {
     "name": "stdout",
     "output_type": "stream",
     "text": [
      "Current date: 2025-08-07\n",
      "100 days from today is: 2025-11-15\n",
      "Day of the week: Saturday\n"
     ]
    }
   ],
   "source": [
    "import datetime\n",
    "\n",
    "today = datetime.date.today()\n",
    "print(f\"Current date: {today}\")\n",
    "\n",
    "tomorrow = today + datetime.timedelta(days=100)\n",
    "print(f\"100 days from today is: {tomorrow}\")\n",
    "\n",
    "given_date = datetime.date(2022,1,1)\n",
    "print(f\"Day of the week: {given_date.strftime('%A')}\")"
   ]
  },
  {
   "cell_type": "markdown",
   "id": "ad05d12a",
   "metadata": {},
   "source": [
    "### Assignment 10: Working with the `random` Module\n",
    "Use the `random` module to generate a list of 5 random numbers between 1 and 50 and shuffle the elements of a list."
   ]
  },
  {
   "cell_type": "code",
   "execution_count": 68,
   "id": "36513388",
   "metadata": {},
   "outputs": [
    {
     "name": "stdout",
     "output_type": "stream",
     "text": [
      "[1, 14, 8, 46, 7]\n"
     ]
    }
   ],
   "source": [
    "import random\n",
    "\n",
    "numbers = []\n",
    "for x in range(1,6):\n",
    "  numbers.append(random.randint(1,50))\n",
    "print(numbers)\n"
   ]
  },
  {
   "cell_type": "code",
   "execution_count": null,
   "id": "d1f82abb",
   "metadata": {},
   "outputs": [],
   "source": [
    "import random\n",
    "\n",
    "# List of 5 random numbers between 1 and 50\n",
    "random_numbers = [random.randint(1, 50) for _ in range(5)]\n",
    "print(random_numbers)\n",
    "\n",
    "# Shuffle a list\n",
    "lst = [1, 2, 3, 4, 5]\n",
    "random.shuffle(lst)\n",
    "print(lst)"
   ]
  },
  {
   "cell_type": "markdown",
   "id": "310a250b",
   "metadata": {},
   "source": [
    "## Lesson 5.3: Creating and Using Packages\n",
    "### Assignment 11: Creating a Simple Package\n",
    "\n",
    "Create a package named `mypackage` with two modules: `module1` and `module2`. `module1` should contain a function that adds two numbers, and `module2` should contain a function that multiplies two numbers. Write code to use these functions."
   ]
  },
  {
   "cell_type": "code",
   "execution_count": 70,
   "id": "01ab7e6f",
   "metadata": {},
   "outputs": [
    {
     "name": "stdout",
     "output_type": "stream",
     "text": [
      "5\n",
      "6\n"
     ]
    }
   ],
   "source": [
    "from mypackage import module1,module2\n",
    "\n",
    "print(module1.add(2,3))\n",
    "print(module2.multiply(2,3))"
   ]
  },
  {
   "cell_type": "markdown",
   "id": "05194e33",
   "metadata": {},
   "source": [
    "### Assignment 12: Using `__init__.py`\n",
    "\n",
    "Modify the `mypackage` package to include an `__init__.py` file that imports the functions from `module1` and `module2`. Write code to use these functions."
   ]
  },
  {
   "cell_type": "code",
   "execution_count": 21,
   "id": "2e1bf049",
   "metadata": {},
   "outputs": [
    {
     "ename": "ImportError",
     "evalue": "cannot import name 'add' from 'mypackage' (unknown location)",
     "output_type": "error",
     "traceback": [
      "\u001b[31m---------------------------------------------------------------------------\u001b[39m",
      "\u001b[31mImportError\u001b[39m                               Traceback (most recent call last)",
      "\u001b[36mCell\u001b[39m\u001b[36m \u001b[39m\u001b[32mIn[21]\u001b[39m\u001b[32m, line 1\u001b[39m\n\u001b[32m----> \u001b[39m\u001b[32m1\u001b[39m \u001b[38;5;28;01mfrom\u001b[39;00m\u001b[38;5;250m \u001b[39m\u001b[34;01mmypackage\u001b[39;00m\u001b[38;5;250m \u001b[39m\u001b[38;5;28;01mimport\u001b[39;00m add, multiply\n\u001b[32m      3\u001b[39m \u001b[38;5;28mprint\u001b[39m(add(\u001b[32m2\u001b[39m,\u001b[32m3\u001b[39m))\n\u001b[32m      4\u001b[39m \u001b[38;5;28mprint\u001b[39m(multiply(\u001b[32m2\u001b[39m,\u001b[32m3\u001b[39m))\n",
      "\u001b[31mImportError\u001b[39m: cannot import name 'add' from 'mypackage' (unknown location)"
     ]
    }
   ],
   "source": [
    "from mypackage import add, multiply\n",
    "\n",
    "print(add(2,3))\n",
    "print(multiply(2,3))"
   ]
  },
  {
   "cell_type": "markdown",
   "id": "8dc59d49",
   "metadata": {},
   "source": [
    "### Assignment 13: Importing from a Package\n",
    "\n",
    "Write code to import and use the functions from `mypackage` without explicitly importing `module1` and `module2`."
   ]
  },
  {
   "cell_type": "code",
   "execution_count": 20,
   "id": "528f4eb3",
   "metadata": {},
   "outputs": [
    {
     "ename": "ImportError",
     "evalue": "cannot import name 'add' from 'mypackage' (unknown location)",
     "output_type": "error",
     "traceback": [
      "\u001b[31m---------------------------------------------------------------------------\u001b[39m",
      "\u001b[31mImportError\u001b[39m                               Traceback (most recent call last)",
      "\u001b[36mCell\u001b[39m\u001b[36m \u001b[39m\u001b[32mIn[20]\u001b[39m\u001b[32m, line 1\u001b[39m\n\u001b[32m----> \u001b[39m\u001b[32m1\u001b[39m \u001b[38;5;28;01mfrom\u001b[39;00m\u001b[38;5;250m \u001b[39m\u001b[34;01mmypackage\u001b[39;00m\u001b[38;5;250m \u001b[39m\u001b[38;5;28;01mimport\u001b[39;00m add, multiply\n\u001b[32m      3\u001b[39m \u001b[38;5;28mprint\u001b[39m(add(\u001b[32m2\u001b[39m,\u001b[32m3\u001b[39m))\n\u001b[32m      4\u001b[39m \u001b[38;5;28mprint\u001b[39m(multiply(\u001b[32m2\u001b[39m,\u001b[32m3\u001b[39m))\n",
      "\u001b[31mImportError\u001b[39m: cannot import name 'add' from 'mypackage' (unknown location)"
     ]
    }
   ],
   "source": [
    "from mypackage import add, multiply\n",
    "\n",
    "print(add(2,3))\n",
    "print(multiply(2,3))"
   ]
  },
  {
   "cell_type": "markdown",
   "id": "8f4f2d34",
   "metadata": {},
   "source": [
    "### Assignment 14: Relative Imports\n",
    "\n",
    "Create a subpackage named `subpackage` within `mypackage` and move `module2` into `subpackage`. Modify the import statements in `__init__.py` to use relative imports. Write code to use the functions from both modules."
   ]
  },
  {
   "cell_type": "code",
   "execution_count": 25,
   "id": "0c98e891",
   "metadata": {},
   "outputs": [
    {
     "ename": "ImportError",
     "evalue": "cannot import name 'add' from 'mypackage' (unknown location)",
     "output_type": "error",
     "traceback": [
      "\u001b[31m---------------------------------------------------------------------------\u001b[39m",
      "\u001b[31mImportError\u001b[39m                               Traceback (most recent call last)",
      "\u001b[36mCell\u001b[39m\u001b[36m \u001b[39m\u001b[32mIn[25]\u001b[39m\u001b[32m, line 14\u001b[39m\n\u001b[32m      1\u001b[39m \u001b[38;5;66;03m# File structure:\u001b[39;00m\n\u001b[32m      2\u001b[39m \u001b[38;5;66;03m# mypackage/\u001b[39;00m\n\u001b[32m      3\u001b[39m \u001b[38;5;66;03m#   __init__.py\u001b[39;00m\n\u001b[32m   (...)\u001b[39m\u001b[32m     12\u001b[39m \n\u001b[32m     13\u001b[39m \u001b[38;5;66;03m# Using the package\u001b[39;00m\n\u001b[32m---> \u001b[39m\u001b[32m14\u001b[39m \u001b[38;5;28;01mfrom\u001b[39;00m\u001b[38;5;250m \u001b[39m\u001b[34;01mmypackage\u001b[39;00m\u001b[38;5;250m \u001b[39m\u001b[38;5;28;01mimport\u001b[39;00m add, multiply\n\u001b[32m     16\u001b[39m \u001b[38;5;28mprint\u001b[39m(add(\u001b[32m2\u001b[39m, \u001b[32m3\u001b[39m))  \u001b[38;5;66;03m# 5\u001b[39;00m\n\u001b[32m     17\u001b[39m \u001b[38;5;28mprint\u001b[39m(multiply(\u001b[32m2\u001b[39m, \u001b[32m3\u001b[39m))  \u001b[38;5;66;03m# 6\u001b[39;00m\n",
      "\u001b[31mImportError\u001b[39m: cannot import name 'add' from 'mypackage' (unknown location)"
     ]
    }
   ],
   "source": [
    "# File structure:\n",
    "# mypackage/\n",
    "#   __init__.py\n",
    "#   module1.py\n",
    "#   subpackage/\n",
    "#     __init__.py\n",
    "#     module2.py\n",
    "\n",
    "# Content of __init__.py in mypackage\n",
    "# from .module1 import add\n",
    "# from .subpackage.module2 import multiply\n",
    "\n",
    "# Using the package\n",
    "from mypackage import add, multiply\n",
    "\n",
    "print(add(2, 3))  # 5\n",
    "print(multiply(2, 3))  # 6"
   ]
  },
  {
   "cell_type": "markdown",
   "id": "a496ab52",
   "metadata": {},
   "source": [
    "### Assignment 15: Handling Package Import Errors\n",
    "\n",
    "Write code that attempts to import a non-existent function from `mypackage` and gracefully handles the import error by printing an error message."
   ]
  },
  {
   "cell_type": "code",
   "execution_count": 26,
   "id": "4ba88a01",
   "metadata": {},
   "outputs": [
    {
     "name": "stdout",
     "output_type": "stream",
     "text": [
      "Error importing function: cannot import name 'non_existent_function' from 'mypackage' (unknown location)\n"
     ]
    }
   ],
   "source": [
    "try:\n",
    "    from mypackage import non_existent_function\n",
    "except ImportError as e:\n",
    "    print(f\"Error importing function: {e}\")"
   ]
  }
 ],
 "metadata": {
  "kernelspec": {
   "display_name": "Python 3",
   "language": "python",
   "name": "python3"
  },
  "language_info": {
   "codemirror_mode": {
    "name": "ipython",
    "version": 3
   },
   "file_extension": ".py",
   "mimetype": "text/x-python",
   "name": "python",
   "nbconvert_exporter": "python",
   "pygments_lexer": "ipython3",
   "version": "3.12.0"
  }
 },
 "nbformat": 4,
 "nbformat_minor": 5
}
