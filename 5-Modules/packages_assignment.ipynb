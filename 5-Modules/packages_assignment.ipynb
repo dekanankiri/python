{
 "cells": [
  {
   "cell_type": "markdown",
   "id": "2e2a1291",
   "metadata": {},
   "source": [
    "# Module 5: Mdules and Packages Assignments"
   ]
  },
  {
   "cell_type": "markdown",
   "id": "2dc46c06",
   "metadata": {},
   "source": [
    "## Lesson 5.1: Importing Modules"
   ]
  },
  {
   "cell_type": "markdown",
   "id": "d2820622",
   "metadata": {},
   "source": [
    "### Assignment 1: Importing and Using Moduls"
   ]
  },
  {
   "cell_type": "markdown",
   "id": "9f545d6e",
   "metadata": {},
   "source": [
    "Import the `math` module and use it to calculate the square root of 25"
   ]
  },
  {
   "cell_type": "code",
   "execution_count": 1,
   "id": "2537df06",
   "metadata": {},
   "outputs": [
    {
     "data": {
      "text/plain": [
       "5.0"
      ]
     },
     "execution_count": 1,
     "metadata": {},
     "output_type": "execute_result"
    }
   ],
   "source": [
    "import math\n",
    "\n",
    "math.sqrt(25)"
   ]
  }
 ],
 "metadata": {
  "kernelspec": {
   "display_name": "Python 3",
   "language": "python",
   "name": "python3"
  },
  "language_info": {
   "codemirror_mode": {
    "name": "ipython",
    "version": 3
   },
   "file_extension": ".py",
   "mimetype": "text/x-python",
   "name": "python",
   "nbconvert_exporter": "python",
   "pygments_lexer": "ipython3",
   "version": "3.12.0"
  }
 },
 "nbformat": 4,
 "nbformat_minor": 5
}
