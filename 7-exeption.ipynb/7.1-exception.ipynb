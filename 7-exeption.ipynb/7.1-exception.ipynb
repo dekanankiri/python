{
 "cells": [
  {
   "cell_type": "code",
   "execution_count": 2,
   "id": "d957d24c",
   "metadata": {},
   "outputs": [
    {
     "name": "stdout",
     "output_type": "stream",
     "text": [
      "The variable has not been assigned\n"
     ]
    }
   ],
   "source": [
    "## exception try, except\n",
    "\n",
    "try:\n",
    "  a=b\n",
    "except:\n",
    "  print(\"The variable has not been assigned\")"
   ]
  },
  {
   "cell_type": "code",
   "execution_count": 3,
   "id": "3be4acfc",
   "metadata": {},
   "outputs": [
    {
     "name": "stdout",
     "output_type": "stream",
     "text": [
      "name 'b' is not defined\n"
     ]
    }
   ],
   "source": [
    "try:\n",
    "  a=b\n",
    "except NameError as ex:\n",
    "  print(ex)"
   ]
  },
  {
   "cell_type": "code",
   "execution_count": 5,
   "id": "2934319d",
   "metadata": {},
   "outputs": [
    {
     "name": "stdout",
     "output_type": "stream",
     "text": [
      "division by zero\n",
      "Please enter the denominator greater than zero\n"
     ]
    }
   ],
   "source": [
    "try:\n",
    "  result = 1/0\n",
    "except ZeroDivisionError as ex:\n",
    "  print(ex)\n",
    "  print(\"Please enter the denominator greater than zero\")"
   ]
  },
  {
   "cell_type": "code",
   "execution_count": 6,
   "id": "d48e17d9",
   "metadata": {},
   "outputs": [
    {
     "name": "stdout",
     "output_type": "stream",
     "text": [
      "name 'b' is not defined\n",
      "Main exception got caught here\n"
     ]
    }
   ],
   "source": [
    "try:\n",
    "  result=1/2\n",
    "  a=b\n",
    "except ZeroDivisionError as ex:\n",
    "  print(ex)\n",
    "  print(\"Please enter a denominator greater than 0\")\n",
    "except Exception as ex1:\n",
    "  print(ex1)\n",
    "  print(\"Main exception got caught here\")"
   ]
  },
  {
   "cell_type": "code",
   "execution_count": 13,
   "id": "0abaa057",
   "metadata": {},
   "outputs": [
    {
     "name": "stdout",
     "output_type": "stream",
     "text": [
      "the result is 0.43478260869565216\n"
     ]
    }
   ],
   "source": [
    "try:\n",
    "  num = int(input(\"Enter a number\"))\n",
    "  result = 10/num\n",
    "except ZeroDivisionError:\n",
    "  print(\"Cannot divide by zero\")\n",
    "except ValueError:\n",
    "  print(\"This is not appropriate number\")\n",
    "except Exception as ex:\n",
    "  print(ex)\n",
    "else:\n",
    "  print(f\"the result is {result}\")"
   ]
  },
  {
   "cell_type": "code",
   "execution_count": 15,
   "id": "842e8785",
   "metadata": {},
   "outputs": [
    {
     "name": "stdout",
     "output_type": "stream",
     "text": [
      "This is not appropriate number\n",
      "execution complete.\n"
     ]
    }
   ],
   "source": [
    "## try, except, else, and finally\n",
    "try:\n",
    "  num = int(input(\"Enter a number\"))\n",
    "  result = 10/num\n",
    "except ZeroDivisionError:\n",
    "  print(\"Cannot divide by zero\")\n",
    "except ValueError:\n",
    "  print(\"This is not appropriate number\")\n",
    "except Exception as ex:\n",
    "  print(ex)\n",
    "else:\n",
    "  print(f\"the result is {result}\")\n",
    "finally:\n",
    "  print(\"execution complete.\")"
   ]
  },
  {
   "cell_type": "code",
   "execution_count": 17,
   "id": "655b4e41",
   "metadata": {},
   "outputs": [
    {
     "name": "stdout",
     "output_type": "stream",
     "text": [
      "name 'b' is not defined\n",
      "file close\n"
     ]
    }
   ],
   "source": [
    "### File handling and Exception Handling\n",
    "\n",
    "try:\n",
    "  file=open('example1.txt','r')\n",
    "  content=file.read()\n",
    "  a=b\n",
    "  print(content)\n",
    "\n",
    "except FileNotFoundError:\n",
    "  print(\"The file does not exist\")\n",
    "except Exception as ex:\n",
    "  print(ex)\n",
    "\n",
    "finally:\n",
    "  if 'file' in locals() or not file.closed():\n",
    "    file.close()\n",
    "    print('file close')"
   ]
  }
 ],
 "metadata": {
  "kernelspec": {
   "display_name": "Python 3",
   "language": "python",
   "name": "python3"
  },
  "language_info": {
   "codemirror_mode": {
    "name": "ipython",
    "version": 3
   },
   "file_extension": ".py",
   "mimetype": "text/x-python",
   "name": "python",
   "nbconvert_exporter": "python",
   "pygments_lexer": "ipython3",
   "version": "3.12.0"
  }
 },
 "nbformat": 4,
 "nbformat_minor": 5
}
