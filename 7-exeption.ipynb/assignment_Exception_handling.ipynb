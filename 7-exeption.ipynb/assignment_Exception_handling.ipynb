{
 "cells": [
  {
   "cell_type": "markdown",
   "id": "2ecc9635",
   "metadata": {},
   "source": [
    "# Module: Exception Handling Assignments\n",
    "## Lesson: Exception Handling with try, except, and finally\n",
    "### Assignment 1: Handling Division by Zero\n",
    "\n",
    "Write a function that takes two integers as input and returns their division. Use try, except, and finally blocks to handle division by zero and print an appropriate message."
   ]
  },
  {
   "cell_type": "code",
   "execution_count": 4,
   "id": "54939a99",
   "metadata": {},
   "outputs": [
    {
     "name": "stdout",
     "output_type": "stream",
     "text": [
      "error: division by zero\n",
      "enter the denominator that not equal to zero\n",
      "Execution Complete\n"
     ]
    }
   ],
   "source": [
    "def handling_division(num1,num2):\n",
    "  try:\n",
    "    result = num1/num2\n",
    "    print(result)\n",
    "  except ZeroDivisionError as e:\n",
    "    print(f\"error: {e}\")\n",
    "    print(\"enter the denominator that not equal to zero\")\n",
    "  finally:\n",
    "    print(\"Execution Complete\")\n",
    "  \n",
    "handling_division(2,0)"
   ]
  },
  {
   "cell_type": "markdown",
   "id": "510ffcaf",
   "metadata": {},
   "source": [
    "### Assignment 2: File Reading with Exception Handling\n",
    "\n",
    "Write a function that reads the contents of a file named `data.txt`. Use try, except, and finally blocks to handle file not found errors and ensure the file is properly closed."
   ]
  },
  {
   "cell_type": "code",
   "execution_count": 14,
   "id": "64051bd2",
   "metadata": {},
   "outputs": [
    {
     "name": "stdout",
     "output_type": "stream",
     "text": [
      "[Errno 2] No such file or directory: 'example1.txt.txt'\n"
     ]
    }
   ],
   "source": [
    "def read_and_check(filename):\n",
    "  try:\n",
    "    file = open(filename, 'r')\n",
    "    content = file.read()\n",
    "    print(content)\n",
    "\n",
    "  except FileNotFoundError as e:\n",
    "    print(f\"{e}\")\n",
    "  except Exception as e:\n",
    "    print(e)\n",
    "\n",
    "  finally:\n",
    "    try:\n",
    "      file.close()\n",
    "    except NameError:\n",
    "      pass\n",
    "\n",
    "read_and_check('example1.txt.txt')"
   ]
  },
  {
   "cell_type": "markdown",
   "id": "ffe7b717",
   "metadata": {},
   "source": [
    "### Assignment 3: Handling Multiple Exceptions\n",
    "\n",
    "Write a function that takes a list of integers and returns their sum. Use try, except, and finally blocks to handle TypeError if a non-integer value is encountered and print an appropriate message."
   ]
  },
  {
   "cell_type": "code",
   "execution_count": 23,
   "id": "f0061175",
   "metadata": {},
   "outputs": [
    {
     "name": "stdout",
     "output_type": "stream",
     "text": [
      "unsupported operand type(s) for +: 'int' and 'str'\n",
      "disini\n"
     ]
    }
   ],
   "source": [
    "def sum_int(nums):\n",
    "  try:\n",
    "    sumin = sum(nums)\n",
    "    print(sumin)\n",
    "  except ValueError as e:\n",
    "    print(e)\n",
    "    \n",
    "  except TypeError as e:\n",
    "    print(e)\n",
    "    print(\"disini\")\n",
    "  except Exception as e:\n",
    "    print(f\"{e}\")\n",
    "    \n",
    "\n",
    "sum_int([1,2,3,4,5,'deka'])\n",
    "\n"
   ]
  },
  {
   "cell_type": "markdown",
   "id": "b5dc8ba6",
   "metadata": {},
   "source": [
    "### Assignment 4: Exception Handling in User Input\n",
    "\n",
    "Write a function that prompts the user to enter an integer. Use try, except, and finally blocks to handle ValueError if the user enters a non-integer value and print an appropriate message."
   ]
  },
  {
   "cell_type": "code",
   "execution_count": 29,
   "id": "40e1f3e2",
   "metadata": {},
   "outputs": [
    {
     "name": "stdout",
     "output_type": "stream",
     "text": [
      "12\n",
      "Execution Complete\n"
     ]
    }
   ],
   "source": [
    "def input_int():\n",
    "  try:\n",
    "    num = int(input(\"Enter a number\"))\n",
    "    print(num)\n",
    "  except ValueError as e :\n",
    "    print(e)\n",
    "  finally:\n",
    "    print(\"Execution Complete\")\n",
    "\n",
    "input_int()"
   ]
  },
  {
   "cell_type": "markdown",
   "id": "dbba0b3b",
   "metadata": {},
   "source": [
    "### Assignment 5: Exception Handling in Dictionary Access\n",
    "\n",
    "Write a function that takes a dictionary and a key as input and returns the value associated with the key. Use try, except, and finally blocks to handle KeyError if the key is not found in the dictionary and print an appropriate message."
   ]
  },
  {
   "cell_type": "code",
   "execution_count": null,
   "id": "ba28cf60",
   "metadata": {},
   "outputs": [
    {
     "name": "stdout",
     "output_type": "stream",
     "text": [
      "Execution complete.\n",
      "2\n",
      "'y'\n",
      "Execution complete.\n",
      "None\n"
     ]
    }
   ],
   "source": [
    "def get_dict_value(d, key):\n",
    "    try:\n",
    "        value = d[key]\n",
    "    except KeyError as e:\n",
    "        print(e)\n",
    "        value = None\n",
    "    finally:\n",
    "        print(\"Execution complete.\")\n",
    "    return value\n",
    "\n",
    "# Test\n",
    "d = {'a': '1', 'b': '2', 'c': '3'}\n",
    "print(get_dict_value({\"a\": \"1\", \"b\": \"2\", \"c\": \"3\"}, 'b'))  # 2\n",
    "print(get_dict_value(d, 'y'))  # None"
   ]
  },
  {
   "cell_type": "markdown",
   "id": "a83b6482",
   "metadata": {},
   "source": [
    "### Assignment 6: Nested Exception Handling\n",
    "\n",
    "Write a function that performs nested exception handling. It should first attempt to convert a string to an integer, and then attempt to divide by that integer. Use nested try, except, and finally blocks to handle ValueError and ZeroDivisionError and print appropriate messages."
   ]
  },
  {
   "cell_type": "code",
   "execution_count": 61,
   "id": "2bb6e1f7",
   "metadata": {},
   "outputs": [
    {
     "name": "stdout",
     "output_type": "stream",
     "text": [
      "conversion error: invalid literal for int() with base 10: 'a'\n",
      "execution Complete\n"
     ]
    }
   ],
   "source": [
    "def nested_exception(lst1,lst2):\n",
    "  try:\n",
    "    try:\n",
    "      num1 = int(lst1)\n",
    "      num2 = int(lst2)\n",
    "    except ValueError as e:\n",
    "      print(f\"conversion error: {e}\")\n",
    "      num2 = None\n",
    "      return\n",
    "    result = num1/num2\n",
    "    print(result)\n",
    "  except ZeroDivisionError as e:\n",
    "    print(e)\n",
    "  finally:\n",
    "    print(\"execution Complete\")\n",
    "\n",
    "nested_exception('3','a')"
   ]
  },
  {
   "cell_type": "code",
   "execution_count": null,
   "id": "439ce261",
   "metadata": {},
   "outputs": [],
   "source": [
    "def nested_exception_handling(s):\n",
    "    try:\n",
    "        try:\n",
    "            num = int(s)\n",
    "        except ValueError as e:\n",
    "            print(f\"Conversion error: {e}\")\n",
    "            num = None\n",
    "        finally:\n",
    "            print(\"Conversion attempt complete.\")\n",
    "        if num is not None:\n",
    "            try:\n",
    "                result = 10 / num\n",
    "            except ZeroDivisionError as e:\n",
    "                print(f\"Division error: {e}\")\n",
    "                result = None\n",
    "            finally:\n",
    "                print(\"Division attempt complete.\")\n",
    "            return result\n",
    "    finally:\n",
    "        print(\"Overall execution complete.\")\n",
    "\n",
    "# Test\n",
    "#print(nested_exception_handling('0'))  # None\n",
    "#print(nested_exception_handling('a'))  # None\n",
    "#print(nested_exception_handling('2'))  # 5.0"
   ]
  },
  {
   "cell_type": "markdown",
   "id": "3200e92e",
   "metadata": {},
   "source": [
    "### Assignment 7: Exception Handling in List Operations\n",
    "\n",
    "Write a function that takes a list and an index as input and returns the element at the given index. Use try, except, and finally blocks to handle IndexError if the index is out of range and print an appropriate message."
   ]
  },
  {
   "cell_type": "code",
   "execution_count": 64,
   "id": "80dc5005",
   "metadata": {},
   "outputs": [
    {
     "name": "stdout",
     "output_type": "stream",
     "text": [
      "error: list index out of range\n",
      "Execution Complete\n"
     ]
    }
   ],
   "source": [
    "def exception_list(lst,idx):\n",
    "  try:\n",
    "    result = lst[idx]\n",
    "    print(f\" the element of inde {idx}: {result}\")\n",
    "  except IndexError as e:\n",
    "    print(f\"error: {e}\")\n",
    "  finally:\n",
    "    print(\"Execution Complete\")\n",
    "\n",
    "exception_list([43,65,72,41,89],20)"
   ]
  },
  {
   "cell_type": "markdown",
   "id": "31deb0b4",
   "metadata": {},
   "source": [
    "### Assignment 8: Exception Handling in Network Operations\n",
    "\n",
    "Write a function that attempts to open a URL and read its contents. Use try, except, and finally blocks to handle network-related errors and print an appropriate message."
   ]
  },
  {
   "cell_type": "code",
   "execution_count": 73,
   "id": "1525ec55",
   "metadata": {},
   "outputs": [
    {
     "name": "stdout",
     "output_type": "stream",
     "text": [
      "Network error: HTTPSConnectionPool(host='nonexistent.url', port=443): Max retries exceeded with url: / (Caused by NameResolutionError(\"<urllib3.connection.HTTPSConnection object at 0x000001ADD69816D0>: Failed to resolve 'nonexistent.url' ([Errno 11001] getaddrinfo failed)\"))\n",
      "Execution Complete\n"
     ]
    }
   ],
   "source": [
    "import requests\n",
    "\n",
    "def open_url_exception(url):\n",
    "  try:\n",
    "    response = requests.get(url)\n",
    "    response.raise_for_status()\n",
    "    return response.text\n",
    "  except requests.RequestException as e:\n",
    "    print(f\"Network error: {e}\")\n",
    "    return None\n",
    "  finally:\n",
    "    print(\"Execution Complete\")\n",
    "\n",
    "open_url_exception('https://nonexistent.url')"
   ]
  },
  {
   "cell_type": "markdown",
   "id": "72bc98c4",
   "metadata": {},
   "source": [
    "### Assignment 9: Exception Handling in JSON Parsing\n",
    "\n",
    "Write a function that attempts to parse a JSON string. Use try, except, and finally blocks to handle JSONDecodeError if the string is not a valid JSON and print an appropriate message."
   ]
  },
  {
   "cell_type": "code",
   "execution_count": 81,
   "id": "5f56f4f7",
   "metadata": {},
   "outputs": [
    {
     "name": "stdout",
     "output_type": "stream",
     "text": [
      "Execution Complete\n",
      "{'nama': 'deka', 'Kelas': '2KS2', 'NIM': 222313233}\n"
     ]
    }
   ],
   "source": [
    "import json\n",
    "\n",
    "def json_parsing_exception(data):\n",
    "  try:\n",
    "    data_json = json.loads(data)\n",
    "    return data_json\n",
    "  except json.JSONDecodeError as e:\n",
    "    print(f\"json error: {e}\")\n",
    "    return None\n",
    "  finally:\n",
    "    print(\"Execution Complete\")\n",
    "\n",
    "print(json_parsing_exception('{\"nama\": \"deka\", \"Kelas\":\"2KS2\",\"NIM\":222313233}'))"
   ]
  },
  {
   "cell_type": "markdown",
   "id": "9b27c9d9",
   "metadata": {},
   "source": [
    "### Assignment 10: Custom Exception Handling\n",
    "\n",
    "Define a custom exception named `NegativeNumberError`. Write a function that raises this exception if a negative number is encountered in a list. Use try, except, and finally blocks to handle the custom exception and print an appropriate message."
   ]
  },
  {
   "cell_type": "code",
   "execution_count": 83,
   "id": "b40a92fa",
   "metadata": {},
   "outputs": [
    {
     "name": "stdout",
     "output_type": "stream",
     "text": [
      "error: Nefative number found: -5\n",
      "Execution complete.\n"
     ]
    }
   ],
   "source": [
    "class NegativeNumberError(Exception):\n",
    "  pass\n",
    "\n",
    "def check_negative(lst):\n",
    "  try:\n",
    "    for x in lst:\n",
    "      if x<0:\n",
    "        raise NegativeNumberError(f\"Nefative number found: {x}\")\n",
    "  except NegativeNumberError as e:\n",
    "    print(f\"error: {e}\")\n",
    "  finally:\n",
    "    print(\"Execution complete.\")\n",
    "\n",
    "check_negative([1,2,3,4,-5,6])"
   ]
  },
  {
   "cell_type": "markdown",
   "id": "fee33e36",
   "metadata": {},
   "source": [
    "### Assignment 11: Exception Handling in Function Calls\n",
    "\n",
    "Write a function that calls another function which may raise an exception. Use try, except, and finally blocks to handle the exception and print an appropriate message."
   ]
  },
  {
   "cell_type": "code",
   "execution_count": 84,
   "id": "a25fddd4",
   "metadata": {},
   "outputs": [
    {
     "name": "stdout",
     "output_type": "stream",
     "text": [
      "error: An error occur in risky function.\n",
      "Execution complete.\n"
     ]
    }
   ],
   "source": [
    "def risky_function():\n",
    "  raise ValueError(\"An error occur in risky function.\")\n",
    "\n",
    "def safe_function():\n",
    "  try:\n",
    "    risky_function()\n",
    "  except ValueError as e:\n",
    "    print(f\"error: {e}\")\n",
    "  finally:\n",
    "    print(\"Execution complete.\")\n",
    "\n",
    "safe_function()"
   ]
  },
  {
   "cell_type": "markdown",
   "id": "7d0d91f7",
   "metadata": {},
   "source": [
    "### Assignment 12: Exception Handling in Class Methods\n",
    "\n",
    "Define a class with a method that performs a division operation. Use try, except, and finally blocks within the method to handle division by zero and print an appropriate message."
   ]
  },
  {
   "cell_type": "code",
   "execution_count": 89,
   "id": "93a66fa4",
   "metadata": {},
   "outputs": [
    {
     "name": "stdout",
     "output_type": "stream",
     "text": [
      "Execution Complete.\n",
      "0.2\n",
      "Execution Complete.\n",
      "0.8\n"
     ]
    }
   ],
   "source": [
    "class Calculator:\n",
    "  def devide(self,a,b):\n",
    "    try:\n",
    "      result = a/b\n",
    "    except ZeroDivisionError as e:\n",
    "      print(f\"error: {e}\")\n",
    "      result = None\n",
    "    finally:\n",
    "      print(\"Execution Complete.\")\n",
    "    return result\n",
    "\n",
    "\n",
    "print(Calculator().devide(2,10))\n",
    "calc = Calculator()\n",
    "print(calc.devide(4,5))"
   ]
  },
  {
   "cell_type": "markdown",
   "id": "fe6b472e",
   "metadata": {},
   "source": [
    "### Assignment 13: Exception Handling in Data Conversion\n",
    "\n",
    "Write a function that takes a list of strings and converts them to integers. Use try, except, and finally blocks to handle ValueError if a string cannot be converted and print an appropriate message."
   ]
  },
  {
   "cell_type": "code",
   "execution_count": null,
   "id": "cc8ea265",
   "metadata": {},
   "outputs": [
    {
     "name": "stdout",
     "output_type": "stream",
     "text": [
      "execution complete.\n",
      "[1, 1, 2, 3, 9]\n",
      "['1', '1', '2', '3', '9']\n"
     ]
    }
   ],
   "source": [
    "def data_conversion_exception(lst):\n",
    "  try:\n",
    "    new_lst = []\n",
    "    for x in lst:\n",
    "      new_lst.append(int(x))\n",
    "  except ValueError as e:\n",
    "    print(f\"error: {e}\")\n",
    "    new_lst = None\n",
    "  finally:\n",
    "    print(\"execution complete.\")\n",
    "  return new_lst\n",
    "\n",
    "data = ['1','1','2','3','9']\n",
    "print(data_conversion_exception(data))"
   ]
  },
  {
   "cell_type": "markdown",
   "id": "c42f1fc6",
   "metadata": {},
   "source": [
    "### Assignment 14: Exception Handling in List Comprehensions\n",
    "\n",
    "Write a function that uses a list comprehension to convert a list of strings to integers. Use try, except, and finally blocks within the list comprehension to handle ValueError and print an appropriate message."
   ]
  },
  {
   "cell_type": "code",
   "execution_count": 108,
   "id": "612afb45",
   "metadata": {},
   "outputs": [
    {
     "name": "stdout",
     "output_type": "stream",
     "text": [
      "['1', '1', '2', '3', '10']\n",
      "Execution Complete.\n",
      "[1, 1, 2, 3, 10]\n"
     ]
    }
   ],
   "source": [
    "def list_comprehension_exception(lst):\n",
    "  try:\n",
    "    new_lst = [int(x) for x in lst]\n",
    "  except ValueError as e:\n",
    "    print(f\"error: {e}\")\n",
    "    new_lst = None\n",
    "  finally:\n",
    "    print(\"Execution Complete.\")\n",
    "  return new_lst\n",
    "\n",
    "data = ['1','1','2','3','10']\n",
    "print(data)\n",
    "print(list_comprehension_exception(data))"
   ]
  },
  {
   "cell_type": "markdown",
   "id": "cd24d4a4",
   "metadata": {},
   "source": [
    "### Assignment 15: Exception Handling in File Writing\n",
    "\n",
    "Write a function that attempts to write a list of strings to a file. Use try, except, and finally blocks to handle IOError and ensure the file is properly closed."
   ]
  },
  {
   "cell_type": "code",
   "execution_count": 111,
   "id": "d8d67a9c",
   "metadata": {},
   "outputs": [],
   "source": [
    "def file_writing_exception(strings,filename):\n",
    "  try:\n",
    "    file =  open(filename, 'w') \n",
    "    for string in strings:\n",
    "      file.write(string + '\\n')\n",
    "  except IOError as e:\n",
    "    print(f\"error: {e}\")\n",
    "  finally:\n",
    "    try:\n",
    "      file.close()\n",
    "    except NameError:\n",
    "      pass\n",
    "\n",
    "file_writing_exception([\"Hello\", \"World\"],\"output.txt\")"
   ]
  }
 ],
 "metadata": {
  "kernelspec": {
   "display_name": "Python 3",
   "language": "python",
   "name": "python3"
  },
  "language_info": {
   "codemirror_mode": {
    "name": "ipython",
    "version": 3
   },
   "file_extension": ".py",
   "mimetype": "text/x-python",
   "name": "python",
   "nbconvert_exporter": "python",
   "pygments_lexer": "ipython3",
   "version": "3.12.0"
  }
 },
 "nbformat": 4,
 "nbformat_minor": 5
}
