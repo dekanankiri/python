{
 "cells": [
  {
   "cell_type": "markdown",
   "id": "998d838a",
   "metadata": {},
   "source": [
    "# Module: Pandas Assignments\n",
    "## Lesson: Pandas\n",
    "### Assignment 1: DataFrame Creation and Indexing\n",
    "\n",
    "1. Create a Pandas DataFrame with 4 columns and 6 rows filled with random integers. Set the index to be the first column."
   ]
  },
  {
   "cell_type": "code",
   "execution_count": 2,
   "id": "3ef621ac",
   "metadata": {},
   "outputs": [
    {
     "name": "stdout",
     "output_type": "stream",
     "text": [
      "Original DataFrame:\n",
      "    A   B   C   D\n",
      "0   4  42  58  95\n",
      "1   3  54   3  83\n",
      "2   4  33  34  31\n",
      "3  56  38  14  49\n",
      "4  78  75  45  13\n",
      "5   3  96  46  70\n",
      "DataFrame with new index:\n",
      "     B   C   D\n",
      "A             \n",
      "4   42  58  95\n",
      "3   54   3  83\n",
      "4   33  34  31\n",
      "56  38  14  49\n",
      "78  75  45  13\n",
      "3   96  46  70\n"
     ]
    }
   ],
   "source": [
    "import pandas as pd\n",
    "import numpy as np\n",
    "\n",
    "# Create DataFrame\n",
    "df = pd.DataFrame(np.random.randint(1,100,size=(6,4)), columns=['A','B','C','D'])\n",
    "print(\"Original DataFrame:\")\n",
    "print(df)\n",
    "\n",
    "\n",
    "# Set the index to be the first column\n",
    "df.set_index('A',inplace=True)\n",
    "print(\"DataFrame with new index:\")\n",
    "print(df)"
   ]
  },
  {
   "cell_type": "markdown",
   "id": "fdc6f6cb",
   "metadata": {},
   "source": [
    "2. Create a Pandas DataFrame with columns 'A', 'B', 'C' and index 'X', 'Y', 'Z'. Fill the DataFrame with random integers and access the element at row 'Y' and column 'B'."
   ]
  },
  {
   "cell_type": "code",
   "execution_count": null,
   "id": "8356ff8f",
   "metadata": {},
   "outputs": [
    {
     "name": "stdout",
     "output_type": "stream",
     "text": [
      "    A   B   C\n",
      "X  46  54  57\n",
      "Y  13  48  92\n",
      "Z  96  80  26\n"
     ]
    }
   ],
   "source": [
    "df = pd.DataFrame(np.random.randint(1,100,size=(3,3)), columns=['A','B','C'], index=['X','Y','Z'])\n",
    "print(df)\n",
    "\n",
    "print(f\"Element at row 'Y' and column 'B'\")"
   ]
  },
  {
   "cell_type": "markdown",
   "id": "8a86f342",
   "metadata": {},
   "source": [
    "### Assignment 2: DataFrame Operations\n",
    "\n",
    "1. Create a Pandas DataFrame with 3 columns and 5 rows filled with random integers. Add a new column that is the product of the first two columns."
   ]
  },
  {
   "cell_type": "code",
   "execution_count": 16,
   "id": "ab2180f4",
   "metadata": {},
   "outputs": [
    {
     "name": "stdout",
     "output_type": "stream",
     "text": [
      "    A   B   C\n",
      "0  94  56  95\n",
      "1  69   1  37\n",
      "2  78  90   8\n",
      "3  94  15  50\n",
      "4  48  10  89\n",
      "    A   B   C     D\n",
      "0  94  56  95  5264\n",
      "1  69   1  37    69\n",
      "2  78  90   8  7020\n",
      "3  94  15  50  1410\n",
      "4  48  10  89   480\n"
     ]
    }
   ],
   "source": [
    "df = pd.DataFrame(np.random.randint(1,100,size=(5,3)),columns=['A','B','C'])\n",
    "print(df)\n",
    "\n",
    "df['D'] = df['A'] * df['B']\n",
    "print(df)"
   ]
  },
  {
   "cell_type": "markdown",
   "id": "402c15cd",
   "metadata": {},
   "source": [
    "2. Create a Pandas DataFrame with 3 columns and 4 rows filled with random integers. Compute the row-wise and column-wise sum."
   ]
  },
  {
   "cell_type": "code",
   "execution_count": 18,
   "id": "a8198ad0",
   "metadata": {},
   "outputs": [
    {
     "name": "stdout",
     "output_type": "stream",
     "text": [
      "   A  B  C\n",
      "0  5  6  4\n",
      "1  9  6  5\n",
      "2  2  7  4\n",
      "3  5  1  8\n",
      "Row-wise sum\n",
      "0    15\n",
      "1    20\n",
      "2    13\n",
      "3    14\n",
      "dtype: int64\n",
      "Colum-wise sum\n",
      "A    21\n",
      "B    20\n",
      "C    21\n",
      "dtype: int64\n"
     ]
    }
   ],
   "source": [
    "df = pd.DataFrame(np.random.randint(1,10,size=(4,3)), columns=['A','B','C'])\n",
    "print(df)\n",
    "\n",
    "# Compute the row-wise and column-wise sum\n",
    "row_sum = df.sum(axis=1)\n",
    "column_sum = df.sum(axis=0)\n",
    "\n",
    "print(\"Row-wise sum\")\n",
    "print(row_sum)\n",
    "print(\"Colum-wise sum\")\n",
    "print(column_sum)"
   ]
  },
  {
   "cell_type": "markdown",
   "id": "5c9baf3a",
   "metadata": {},
   "source": [
    "### Assignment 3: Data Cleaning\n",
    "\n",
    "1. Create a Pandas DataFrame with 3 columns and 5 rows filled with random integers. Introduce some NaN values. Fill the NaN values with the mean of the respective columns."
   ]
  },
  {
   "cell_type": "code",
   "execution_count": 28,
   "id": "4a3bd6b2",
   "metadata": {},
   "outputs": [
    {
     "name": "stdout",
     "output_type": "stream",
     "text": [
      "    A   B   C\n",
      "0  18  75  26\n",
      "1  40  35   1\n",
      "2  74  10  25\n",
      "3  55  13  39\n",
      "4  17  73  17\n",
      "      A     B     C\n",
      "0  18.0  75.0   NaN\n",
      "1  40.0  35.0   NaN\n",
      "2   NaN  10.0  25.0\n",
      "3  55.0   NaN  39.0\n",
      "4  17.0  73.0  17.0\n",
      "Data frame with NaN value filled:\n",
      "      A      B     C\n",
      "0  18.0  75.00  27.0\n",
      "1  40.0  35.00  27.0\n",
      "2  32.5  10.00  25.0\n",
      "3  55.0  48.25  39.0\n",
      "4  17.0  73.00  17.0\n"
     ]
    }
   ],
   "source": [
    "# Make a dataframe\n",
    "df = pd.DataFrame(np.random.randint(1,100,size=(5,3)),columns=['A','B','C'])\n",
    "print(df)\n",
    "\n",
    "# make some NaN value in df\n",
    "df.iloc[0,2] = np.nan\n",
    "df.iloc[1,2] = np.nan\n",
    "df.iloc[2,0] = np.nan\n",
    "df.iloc[3,1] = np.nan\n",
    "\n",
    "# new df  with NaN value\n",
    "print(df)\n",
    "\n",
    "# change the value of NaN with an average value of df\n",
    "df.fillna(df.mean(), inplace=True)\n",
    "print(\"Data frame with NaN value filled:\")\n",
    "print(df)\n"
   ]
  },
  {
   "cell_type": "markdown",
   "id": "a2b9e7cc",
   "metadata": {},
   "source": [
    "2. Create a Pandas DataFrame with 4 columns and 6 rows filled with random integers. Introduce some NaN values. Drop the rows with any NaN values."
   ]
  },
  {
   "cell_type": "code",
   "execution_count": 6,
   "id": "00a1b3e8",
   "metadata": {},
   "outputs": [
    {
     "name": "stdout",
     "output_type": "stream",
     "text": [
      "Original DataFrame:\n",
      "    A   B   C   D\n",
      "0  26  86  11  30\n",
      "1  27   9  38  93\n",
      "2  94  10  37  63\n",
      "3  19  12  46  40\n",
      "4  61  50  48  80\n",
      "5  50  44  96  72\n",
      "DataFrame after Nan value added\n",
      "      A     B     C   D\n",
      "0  26.0  86.0   NaN  30\n",
      "1   NaN   9.0  38.0  93\n",
      "2  94.0   NaN  37.0  63\n",
      "3  19.0  12.0  46.0  40\n",
      "4  61.0  50.0  48.0  80\n",
      "5  50.0  44.0  96.0  72\n",
      "DataFrame without Nan value\n",
      "      A     B     C   D\n",
      "3  19.0  12.0  46.0  40\n",
      "4  61.0  50.0  48.0  80\n",
      "5  50.0  44.0  96.0  72\n"
     ]
    }
   ],
   "source": [
    "## Make new df\n",
    "df = pd.DataFrame(np.random.randint(1,100,size=(6,4)), columns=['A','B','C','D'])\n",
    "print(\"Original DataFrame:\")\n",
    "print(df)\n",
    "\n",
    "# Introduce some NaN value\n",
    "df.iloc[1,0] = np.nan\n",
    "df.iloc[0,2] = np.nan\n",
    "df.iloc[2,1] = np.nan\n",
    "print(\"DataFrame after Nan value added\")\n",
    "print(df)\n",
    "\n",
    "# Drop row with NaN values\n",
    "df.dropna(inplace=True)\n",
    "print(\"DataFrame without Nan value\")\n",
    "print(df)"
   ]
  },
  {
   "cell_type": "markdown",
   "id": "cc8e3a80",
   "metadata": {},
   "source": [
    "### Assignment 4: Data Aggregation\n",
    "\n",
    "1. Create a Pandas DataFrame with 2 columns: 'Category' and 'Value'. Fill the 'Category' column with random categories ('A', 'B', 'C') and the 'Value' column with random integers. Group the DataFrame by 'Category' and compute the sum and mean of 'Value' for each category."
   ]
  },
  {
   "cell_type": "code",
   "execution_count": 15,
   "id": "1ed7f8cf",
   "metadata": {},
   "outputs": [
    {
     "name": "stdout",
     "output_type": "stream",
     "text": [
      "Original DataFrame\n",
      "  Category  Value\n",
      "0        C     13\n",
      "1        A     46\n",
      "2        C      8\n",
      "3        C     76\n",
      "4        A     17\n",
      "5        A     36\n",
      "6        C     83\n",
      "7        C     42\n",
      "8        B     89\n",
      "9        B     52\n",
      "Grouped DataFrame\n",
      "          sum  mean\n",
      "Category           \n",
      "A          99  33.0\n",
      "B         141  70.5\n",
      "C         222  44.4\n"
     ]
    }
   ],
   "source": [
    "# Create a Pandas DataFrame with 2 colummns : 'Category' and 'Value'. \n",
    "df = pd.DataFrame({'Category': np.random.choice(['A','B','C'],size=10), 'Value': np.random.randint(1,100,size=10)})\n",
    "print(\"Original DataFrame\")\n",
    "print(df)\n",
    "\n",
    "# Grouping dataFrame by category\n",
    "grouped_sum = df.groupby('Category')['Value'].agg(['sum','mean'])\n",
    "print(\"Grouped DataFrame\")\n",
    "print(grouped_sum)\n"
   ]
  },
  {
   "cell_type": "markdown",
   "id": "1ce9386e",
   "metadata": {},
   "source": [
    "2. Create a Pandas DataFrame with 3 columns: 'Product', 'Category', and 'Sales'. Fill the DataFrame with random data. Group the DataFrame by 'Category' and compute the total sales for each category."
   ]
  },
  {
   "cell_type": "code",
   "execution_count": 23,
   "id": "40e591fd",
   "metadata": {},
   "outputs": [
    {
     "name": "stdout",
     "output_type": "stream",
     "text": [
      "DataFrame Originnal:\n",
      "  Category  Sales\n",
      "0        B     76\n",
      "1        A     56\n",
      "2        B     98\n",
      "3        B     28\n",
      "4        C     51\n",
      "5        C     70\n",
      "6        A     73\n",
      "7        C     29\n",
      "8        B      1\n",
      "9        C     48\n",
      "Total Sales for each category\n",
      "Category\n",
      "A    129\n",
      "B    203\n",
      "C    198\n",
      "Name: Sales, dtype: int32\n"
     ]
    }
   ],
   "source": [
    "## Make DataFrame\n",
    "df = pd.DataFrame({'Category': np.random.choice(['A','B','C'],size=10), 'Sales': np.random.randint(1,100,size=10)})\n",
    "print(\"DataFrame Originnal:\")\n",
    "print(df)\n",
    "\n",
    "## Grouping DataFrame and compute\n",
    "grouped_cat = df.groupby('Category')['Sales'].sum()\n",
    "print(\"Total Sales for each category\")\n",
    "print(grouped_cat)"
   ]
  },
  {
   "cell_type": "markdown",
   "id": "708fa8d6",
   "metadata": {},
   "source": [
    "### Assignment 5: Merging DataFrames\n",
    "\n",
    "1. Create two Pandas DataFrames with a common column. Merge the DataFrames using the common column."
   ]
  },
  {
   "cell_type": "code",
   "execution_count": 28,
   "id": "fafa2461",
   "metadata": {},
   "outputs": [
    {
     "name": "stdout",
     "output_type": "stream",
     "text": [
      "DataFrame 1:\n",
      "  Key  Value\n",
      "0   A     34\n",
      "1   B     66\n",
      "2   C     39\n",
      "3   D      4\n",
      "DataFrame 2:\n",
      "  Key  Value\n",
      "0   A     27\n",
      "1   B     16\n",
      "2   C     78\n",
      "3   E      7\n",
      "Merged DataFrame:\n",
      "  Key  Value_x  Value_y\n",
      "0   A       34       27\n",
      "1   B       66       16\n",
      "2   C       39       78\n",
      "  Key  Value_x  Value_y  sum\n",
      "0   A       34       27   61\n",
      "1   B       66       16   82\n",
      "2   C       39       78  117\n"
     ]
    }
   ],
   "source": [
    "df1 = pd.DataFrame({'Key':['A','B','C','D'],'Value':np.random.randint(1,100,size=4)})\n",
    "df2 = pd.DataFrame({'Key':['A','B','C','E'],'Value':np.random.randint(1,100,size=4)})\n",
    "print(\"DataFrame 1:\")\n",
    "print(df1)\n",
    "print(\"DataFrame 2:\")\n",
    "print(df2)\n",
    "\n",
    "merged = pd.merge(df1,df2,on = 'Key')\n",
    "print(\"Merged DataFrame:\")\n",
    "print(merged)\n",
    "\n",
    "merged['sum'] = merged['Value_x'] +merged['Value_y']\n",
    "print(merged)"
   ]
  },
  {
   "cell_type": "markdown",
   "id": "15e13ff6",
   "metadata": {},
   "source": [
    "2. Create two Pandas DataFrames with different columns. Concatenate the DataFrames along the rows and along the columns."
   ]
  },
  {
   "cell_type": "code",
   "execution_count": 35,
   "id": "06ecb641",
   "metadata": {},
   "outputs": [
    {
     "name": "stdout",
     "output_type": "stream",
     "text": [
      "DataFrame 1:\n",
      "    A   B\n",
      "0  74  38\n",
      "1  47   7\n",
      "2  52  81\n",
      "3  15   2\n",
      "4  13  27\n",
      "DataFrame 2:\n",
      "    C   D\n",
      "0  62  50\n",
      "1  23  89\n",
      "2   2  78\n",
      "3   7  80\n",
      "4  74  30\n",
      "Concatenate DataFrame (Columne):\n",
      "    A   B   C   D\n",
      "0  74  38  62  50\n",
      "1  47   7  23  89\n",
      "2  52  81   2  78\n",
      "3  15   2   7  80\n",
      "4  13  27  74  30\n"
     ]
    }
   ],
   "source": [
    "df1 = pd.DataFrame({'A':np.random.randint(1,100,size=5),'B':np.random.randint(1,100,size=5)})\n",
    "df2 = pd.DataFrame({'C':np.random.randint(1,100,size=5),'D':np.random.randint(1,100,size=5)})\n",
    "print(\"DataFrame 1:\")\n",
    "print(df1)\n",
    "print(\"DataFrame 2:\")\n",
    "print(df2)\n",
    "\n",
    "# Concatenate the DataFrame along the rows\n",
    "\"\"\"concate_rows = pd.concat([df1,df2],axis=0)\n",
    "print(\"Concatenate Dataframe (Rows):\")\n",
    "print(concate_rows)\"\"\"\n",
    "\n",
    "# Concatenate the DataFrame along the Columns\n",
    "concate_columns = pd.concat([df1,df2],axis=1)\n",
    "print(\"Concatenate DataFrame (Columne):\")\n",
    "print(concate_columns)"
   ]
  },
  {
   "cell_type": "markdown",
   "id": "8e855c5d",
   "metadata": {},
   "source": [
    "### Assignment 6: Time Series Analysis\n",
    "\n",
    "1. Create a Pandas DataFrame with a datetime index and one column filled with random integers. Resample the DataFrame to compute the monthly mean of the values."
   ]
  },
  {
   "cell_type": "code",
   "execution_count": 38,
   "id": "2759bbdd",
   "metadata": {},
   "outputs": [
    {
     "name": "stdout",
     "output_type": "stream",
     "text": [
      "Original DataFrame:\n",
      "            data\n",
      "date            \n",
      "2022-01-01    69\n",
      "2022-01-02    70\n",
      "2022-01-03    21\n",
      "2022-01-04    35\n",
      "2022-01-05    95\n",
      "...          ...\n",
      "2022-12-27    46\n",
      "2022-12-28    79\n",
      "2022-12-29    51\n",
      "2022-12-30    11\n",
      "2022-12-31    40\n",
      "\n",
      "[365 rows x 1 columns]\n",
      "Monthly Mean DataFrame:\n",
      "                 data\n",
      "date                 \n",
      "2022-01-31  46.387097\n",
      "2022-02-28  48.500000\n",
      "2022-03-31  45.322581\n",
      "2022-04-30  52.266667\n",
      "2022-05-31  36.000000\n",
      "2022-06-30  48.600000\n",
      "2022-07-31  54.258065\n",
      "2022-08-31  52.806452\n",
      "2022-09-30  51.766667\n",
      "2022-10-31  49.387097\n",
      "2022-11-30  52.433333\n",
      "2022-12-31  54.483871\n"
     ]
    },
    {
     "name": "stderr",
     "output_type": "stream",
     "text": [
      "C:\\Users\\MyBook Z Series\\AppData\\Local\\Temp\\ipykernel_15012\\735853481.py:9: FutureWarning: 'M' is deprecated and will be removed in a future version, please use 'ME' instead.\n",
      "  monthly_mean = df.resample('M').mean()\n"
     ]
    }
   ],
   "source": [
    "date_rng = pd.date_range(start='2022-01-01',end='2022-12-31',freq='D')\n",
    "df = pd.DataFrame(date_rng, columns=['date'])\n",
    "df['data'] = np.random.randint(1,100,size=len(date_rng))\n",
    "df.set_index('date',inplace=True)\n",
    "print(\"Original DataFrame:\")\n",
    "print(df)\n",
    "\n",
    "# Resample the DataFrame to compute the monthly mean of the values\n",
    "monthly_mean = df.resample('M').mean()\n",
    "print(\"Monthly Mean DataFrame:\")\n",
    "print(monthly_mean)"
   ]
  },
  {
   "cell_type": "markdown",
   "id": "65cca598",
   "metadata": {},
   "source": [
    "2. Create a Pandas DataFrame with a datetime index ranging from '2021-01-01' to '2021-12-31' and one column filled with random integers. Compute the rolling mean with a window of 7 days."
   ]
  },
  {
   "cell_type": "code",
   "execution_count": 45,
   "id": "b974e190",
   "metadata": {},
   "outputs": [
    {
     "name": "stdout",
     "output_type": "stream",
     "text": [
      "DataFrame Original:\n",
      "            Value\n",
      "date             \n",
      "2021-01-01     38\n",
      "2021-01-02     24\n",
      "2021-01-03     30\n",
      "2021-01-04     58\n",
      "2021-01-05     84\n",
      "...           ...\n",
      "2021-12-27     84\n",
      "2021-12-28     55\n",
      "2021-12-29     25\n",
      "2021-12-30     53\n",
      "2021-12-31      9\n",
      "\n",
      "[365 rows x 1 columns]\n",
      "Rolling mean DataFrame\n",
      "                Value\n",
      "date                 \n",
      "2021-01-01        NaN\n",
      "2021-01-02        NaN\n",
      "2021-01-03        NaN\n",
      "2021-01-04        NaN\n",
      "2021-01-05        NaN\n",
      "...               ...\n",
      "2021-12-27  43.571429\n",
      "2021-12-28  42.000000\n",
      "2021-12-29  44.142857\n",
      "2021-12-30  39.857143\n",
      "2021-12-31  39.285714\n",
      "\n",
      "[365 rows x 1 columns]\n"
     ]
    }
   ],
   "source": [
    "date_rng = pd.date_range(start='2021-01-01',end='2021-12-31',freq='D')\n",
    "df = pd.DataFrame({'date':date_rng,'Value':np.random.randint(1,100,size=len(date_rng))})\n",
    "df.set_index('date',inplace=True)\n",
    "print(\"DataFrame Original:\")\n",
    "print(df)\n",
    "\n",
    "# Compute the rolling mean with a window of 7 days\n",
    "rolling_mean = df.rolling(window=7).mean()\n",
    "print(\"Rolling mean DataFrame\")\n",
    "print(rolling_mean)\n"
   ]
  },
  {
   "cell_type": "markdown",
   "id": "987760d2",
   "metadata": {},
   "source": [
    "### Assignment 7: MultiIndex DataFrame\n",
    "\n",
    "1. Create a Pandas DataFrame with a MultiIndex (hierarchical index). Perform some basic indexing and slicing operations on the MultiIndex DataFrame."
   ]
  },
  {
   "cell_type": "code",
   "execution_count": 52,
   "id": "560749bd",
   "metadata": {},
   "outputs": [
    {
     "name": "stdout",
     "output_type": "stream",
     "text": [
      "DataFrame MultiIndex Original:\n",
      "                      Value1  Value2  Value3\n",
      "Category SubCategory                        \n",
      "A        one              95      27       3\n",
      "         two              83       5      18\n",
      "B        one              12      56       2\n",
      "         two              11      46      53\n",
      "Indexing at Category 'A': \n",
      "             Value1  Value2  Value3\n",
      "SubCategory                        \n",
      "one              95      27       3\n",
      "two              83       5      18\n",
      "Slicing at Category 'A' and SubCategory 'two': \n",
      "Value1    95\n",
      "Value2    27\n",
      "Value3     3\n",
      "Name: (A, one), dtype: int32\n"
     ]
    }
   ],
   "source": [
    "arrays = [['A','A','B','B'],['one','two','one','two']]\n",
    "index = pd.MultiIndex.from_arrays(arrays,names=('Category','SubCategory'))\n",
    "df = pd.DataFrame(np.random.randint(1,100,size=(4,3)),index=index,columns=['Value1','Value2','Value3'])\n",
    "print(\"DataFrame MultiIndex Original:\")\n",
    "print(df)\n",
    "\n",
    "# Basic Indexing and slicing operation\n",
    "print(\"Indexing at Category 'A': \")\n",
    "print(df.loc['A'])\n",
    "\n",
    "print(\"Slicing at Category 'A' and SubCategory 'two': \")\n",
    "print(df.loc[('A','one')])"
   ]
  },
  {
   "cell_type": "markdown",
   "id": "57141854",
   "metadata": {},
   "source": [
    "2. Create a Pandas DataFrame with MultiIndex consisting of 'Category' and 'SubCategory'. Fill the DataFrame with random data and compute the sum of values for each 'Category' and 'SubCategory'."
   ]
  },
  {
   "cell_type": "code",
   "execution_count": 66,
   "id": "703cb517",
   "metadata": {},
   "outputs": [
    {
     "name": "stdout",
     "output_type": "stream",
     "text": [
      "Original DataFrame\n",
      "                      Value1  Value2  Value3  Value4\n",
      "Category SubCategory                                \n",
      "A        one               9       2      38      20\n",
      "         two              90       9      19      75\n",
      "B        one              97      54       8      26\n",
      "         two               8      68      97      48\n",
      "\n",
      "Sum of Categories\n",
      "          Value1  Value2  Value3  Value4\n",
      "Category                                \n",
      "A             99      11      57      95\n",
      "B            105     122     105      74\n",
      "Sum of SubCategory\n",
      "             Value1  Value2  Value3  Value4\n",
      "SubCategory                                \n",
      "one             106      56      46      46\n",
      "two              98      77     116     123\n"
     ]
    }
   ],
   "source": [
    "arrays = [['A','A','B','B'],['one','two','one','two']]\n",
    "index = pd.MultiIndex.from_arrays(arrays,names=('Category','SubCategory'))\n",
    "df = pd.DataFrame(np.random.randint(1,100,size=(4,4)),index=index,columns=['Value1','Value2','Value3','Value4'])\n",
    "print(\"Original DataFrame\")\n",
    "print(df)\n",
    "print()\n",
    "\n",
    "sum_values = df.groupby(['Category']).sum()\n",
    "sum_sub = df.groupby(['SubCategory']).sum()\n",
    "print(\"Sum of Categories\")\n",
    "print(sum_values)\n",
    "print(\"Sum of SubCategory\")\n",
    "print(sum_sub)"
   ]
  },
  {
   "cell_type": "markdown",
   "id": "46b1c46a",
   "metadata": {},
   "source": [
    "### Assignment 8: Pivot Tables\n",
    "\n",
    "1. Create a Pandas DataFrame with columns 'Date', 'Category', and 'Value'. Create a pivot table to compute the sum of 'Value' for each 'Category' by 'Date'."
   ]
  },
  {
   "cell_type": "code",
   "execution_count": 93,
   "id": "6e7a0fd0",
   "metadata": {},
   "outputs": [
    {
     "name": "stdout",
     "output_type": "stream",
     "text": [
      "Original DataFrame:\n",
      "         Date Category  Value\n",
      "0  2022-01-25        C     87\n",
      "1  2022-11-09        A     68\n",
      "2  2022-05-14        C     51\n",
      "3  2022-11-13        B     34\n",
      "4  2022-09-02        A     83\n",
      "5  2022-07-10        A      5\n",
      "6  2022-02-18        B     98\n",
      "7  2022-03-25        B      8\n",
      "8  2022-10-12        A     74\n",
      "9  2022-01-27        A     27\n",
      "10 2022-11-30        C     79\n",
      "11 2022-03-03        C     27\n",
      "12 2022-03-13        B     72\n",
      "13 2022-12-13        A     10\n",
      "14 2022-06-20        C     57\n",
      "15 2022-11-05        C      3\n",
      "16 2022-07-12        B     62\n",
      "17 2022-09-18        B     66\n",
      "18 2022-09-13        A     57\n",
      "19 2022-10-15        C     45\n",
      "Pivot Table:\n",
      "Category       A     B     C\n",
      "Date                        \n",
      "2022-01-25   NaN   NaN  87.0\n",
      "2022-01-27  27.0   NaN   NaN\n",
      "2022-02-18   NaN  98.0   NaN\n",
      "2022-03-03   NaN   NaN  27.0\n",
      "2022-03-13   NaN  72.0   NaN\n",
      "2022-03-25   NaN   8.0   NaN\n",
      "2022-05-14   NaN   NaN  51.0\n",
      "2022-06-20   NaN   NaN  57.0\n",
      "2022-07-10   5.0   NaN   NaN\n",
      "2022-07-12   NaN  62.0   NaN\n",
      "2022-09-02  83.0   NaN   NaN\n",
      "2022-09-13  57.0   NaN   NaN\n",
      "2022-09-18   NaN  66.0   NaN\n",
      "2022-10-12  74.0   NaN   NaN\n",
      "2022-10-15   NaN   NaN  45.0\n",
      "2022-11-05   NaN   NaN   3.0\n",
      "2022-11-09  68.0   NaN   NaN\n",
      "2022-11-13   NaN  34.0   NaN\n",
      "2022-11-30   NaN   NaN  79.0\n",
      "2022-12-13  10.0   NaN   NaN\n"
     ]
    }
   ],
   "source": [
    "date_rng = pd.date_range(start ='2022-01-01',end='2022-12-31',freq='D')\n",
    "df = pd.DataFrame({'Date':np.random.choice(date_rng,size=20),'Category':np.random.choice(['A','B','C'],size=20),'Value':np.random.randint(1,100,size=20)})\n",
    "print(\"Original DataFrame:\")\n",
    "print(df)\n",
    "\n",
    "# Create a pivot table to compute the sum of 'value' for each 'Category' by 'Date'\n",
    "pivot_table = df.pivot_table(values='Value', index='Date',columns='Category', aggfunc='sum')\n",
    "print(\"Pivot Table:\")\n",
    "print(pivot_table)"
   ]
  },
  {
   "cell_type": "markdown",
   "id": "e1410456",
   "metadata": {},
   "source": [
    "2. Create a Pandas DataFrame with columns 'Year', 'Quarter', and 'Revenue'. Create a pivot table to compute the mean 'Revenue' for each 'Quarter' by 'Year'."
   ]
  },
  {
   "cell_type": "code",
   "execution_count": 95,
   "id": "9e2da78f",
   "metadata": {},
   "outputs": [
    {
     "name": "stdout",
     "output_type": "stream",
     "text": [
      "DataFrame Original:\n",
      "    Year Quarter  Revenue\n",
      "0   2022      Q1       36\n",
      "1   2021      Q4       24\n",
      "2   2022      Q1       31\n",
      "3   2022      Q2       55\n",
      "4   2020      Q4       24\n",
      "5   2022      Q2       28\n",
      "6   2020      Q1       34\n",
      "7   2022      Q4       37\n",
      "8   2022      Q3       70\n",
      "9   2021      Q2       25\n",
      "10  2021      Q1        4\n",
      "11  2020      Q2       60\n",
      "Pivot Table\n",
      "Quarter    Q1    Q2    Q3    Q4\n",
      "Year                           \n",
      "2020     34.0  60.0   NaN  24.0\n",
      "2021      4.0  25.0   NaN  24.0\n",
      "2022     33.5  41.5  70.0  37.0\n"
     ]
    }
   ],
   "source": [
    "df = pd.DataFrame({'Year':np.random.choice([2020,2021,2022],size=12),'Quarter':np.random.choice(['Q1','Q2','Q3','Q4'],size=12),'Revenue':np.random.randint(1,100,size=12)})\n",
    "print(\"DataFrame Original:\")\n",
    "print(df)\n",
    "\n",
    "pivot_table = df.pivot_table(values='Revenue',index='Year',columns='Quarter',aggfunc='mean')\n",
    "print(\"Pivot Table\")\n",
    "print(pivot_table)"
   ]
  },
  {
   "cell_type": "markdown",
   "id": "d722f987",
   "metadata": {},
   "source": [
    "### Assignment 9: Applying Functions\n",
    "\n",
    "1. Create a Pandas DataFrame with 3 columns and 5 rows filled with random integers. Apply a function that doubles the values of the DataFrame."
   ]
  },
  {
   "cell_type": "code",
   "execution_count": 97,
   "id": "3e100e5f",
   "metadata": {},
   "outputs": [
    {
     "name": "stdout",
     "output_type": "stream",
     "text": [
      "Original DataFrame:\n",
      "    A   B   C\n",
      "0  80   2  60\n",
      "1   5  88  17\n",
      "2  36  91  37\n",
      "3  35  47  26\n",
      "4  48  69  34\n",
      "DataFrame after apply function that double every value:\n",
      "     A    B    C\n",
      "0  160    4  120\n",
      "1   10  176   34\n",
      "2   72  182   74\n",
      "3   70   94   52\n",
      "4   96  138   68\n"
     ]
    },
    {
     "name": "stderr",
     "output_type": "stream",
     "text": [
      "C:\\Users\\MyBook Z Series\\AppData\\Local\\Temp\\ipykernel_15012\\1702859026.py:5: FutureWarning: DataFrame.applymap has been deprecated. Use DataFrame.map instead.\n",
      "  df_double = df.applymap(lambda x:x*2)\n"
     ]
    }
   ],
   "source": [
    "df = pd.DataFrame(np.random.randint(1,100,size=(5,3)),columns=['A','B','C'])\n",
    "print(\"Original DataFrame:\")\n",
    "print(df)\n",
    "\n",
    "df_double = df.applymap(lambda x:x*2)\n",
    "print(\"DataFrame after apply function that double every value:\")\n",
    "print(df_double)"
   ]
  },
  {
   "cell_type": "markdown",
   "id": "3431041e",
   "metadata": {},
   "source": [
    "2. Create a Pandas DataFrame with 3 columns and 6 rows filled with random integers. Apply a lambda function to create a new column that is the sum of the existing columns."
   ]
  },
  {
   "cell_type": "code",
   "execution_count": 100,
   "id": "f2803193",
   "metadata": {},
   "outputs": [
    {
     "name": "stdout",
     "output_type": "stream",
     "text": [
      "Original DataFrame:\n",
      "    A   B   C\n",
      "0  75  89  12\n",
      "1  84  78  16\n",
      "2  95  90  38\n",
      "3  54  53  87\n",
      "4  83  36  56\n",
      "5   1  61  41\n",
      "DataFrame with sum column:\n",
      "    A   B   C  sum\n",
      "0  75  89  12  176\n",
      "1  84  78  16  178\n",
      "2  95  90  38  223\n",
      "3  54  53  87  194\n",
      "4  83  36  56  175\n",
      "5   1  61  41  103\n"
     ]
    }
   ],
   "source": [
    "df = pd.DataFrame(np.random.randint(1,100,size=(6,3)),columns=['A','B','C'])\n",
    "print(\"Original DataFrame:\")\n",
    "print(df)\n",
    "\n",
    "df['sum'] = df.apply(lambda row:row.sum(),axis=1)\n",
    "print(\"DataFrame with sum column:\")\n",
    "print(df)"
   ]
  },
  {
   "cell_type": "markdown",
   "id": "2da8ec76",
   "metadata": {},
   "source": [
    "### Assignment 10: Working with Text Data\n",
    "\n",
    "1. Create a Pandas Series with 5 random text strings. Convert all the strings to uppercase."
   ]
  },
  {
   "cell_type": "code",
   "execution_count": 102,
   "id": "4c697614",
   "metadata": {},
   "outputs": [
    {
     "name": "stdout",
     "output_type": "stream",
     "text": [
      "Original Series\n",
      "0        banana\n",
      "1         apple\n",
      "2        orange\n",
      "3         mango\n",
      "4    strawberry\n",
      "dtype: object\n",
      "\n",
      "Uppercase series:\n",
      "0        BANANA\n",
      "1         APPLE\n",
      "2        ORANGE\n",
      "3         MANGO\n",
      "4    STRAWBERRY\n",
      "dtype: object\n"
     ]
    }
   ],
   "source": [
    "# create a pandas series with 5 random text strings\n",
    "text_data = pd.Series(['banana','apple','orange','mango','strawberry'])\n",
    "print(\"Original Series\")\n",
    "print(text_data)\n",
    "print()\n",
    "\n",
    "# Convert all the strings to uppercase\n",
    "uppercase_data = text_data.str.upper()\n",
    "print(\"Uppercase series:\")\n",
    "print(uppercase_data)"
   ]
  },
  {
   "cell_type": "markdown",
   "id": "b63fe07b",
   "metadata": {},
   "source": [
    "2. Create a Pandas Series with 5 random text strings. Extract the first three characters of each string."
   ]
  },
  {
   "cell_type": "code",
   "execution_count": 105,
   "id": "fd497fa3",
   "metadata": {},
   "outputs": [
    {
     "name": "stdout",
     "output_type": "stream",
     "text": [
      "Original Text Series\n",
      "0     Deka\n",
      "1      Abu\n",
      "2    Daffa\n",
      "3    Yudha\n",
      "4     Sean\n",
      "dtype: object\n",
      "0     Deka\n",
      "1      Abu\n",
      "2    Daffa\n",
      "dtype: object\n"
     ]
    }
   ],
   "source": [
    "text_series = pd.Series(['Deka','Abu','Daffa','Yudha','Sean'])\n",
    "print(\"Original Text Series\")\n",
    "print(text_series)\n",
    "\n",
    "extract = text_series[0:3]\n",
    "print(extract)"
   ]
  }
 ],
 "metadata": {
  "kernelspec": {
   "display_name": "Python 3",
   "language": "python",
   "name": "python3"
  },
  "language_info": {
   "codemirror_mode": {
    "name": "ipython",
    "version": 3
   },
   "file_extension": ".py",
   "mimetype": "text/x-python",
   "name": "python",
   "nbconvert_exporter": "python",
   "pygments_lexer": "ipython3",
   "version": "3.12.0"
  }
 },
 "nbformat": 4,
 "nbformat_minor": 5
}
