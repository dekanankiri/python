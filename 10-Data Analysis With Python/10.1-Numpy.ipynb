{
 "cells": [
  {
   "cell_type": "code",
   "execution_count": 1,
   "id": "7b0f82c8",
   "metadata": {},
   "outputs": [
    {
     "name": "stdout",
     "output_type": "stream",
     "text": [
      "Requirement already satisfied: numpy in c:\\belajar\\udemy\\data analyst bootcamp\\python\\venv\\lib\\site-packages (2.3.2)\n"
     ]
    }
   ],
   "source": [
    "!pip install numpy"
   ]
  },
  {
   "cell_type": "code",
   "execution_count": 4,
   "id": "c4231da2",
   "metadata": {},
   "outputs": [
    {
     "name": "stdout",
     "output_type": "stream",
     "text": [
      "[1 2 3 4 5 6]\n",
      "<class 'numpy.ndarray'>\n",
      "(6,)\n"
     ]
    }
   ],
   "source": [
    "import numpy as np\n",
    "\n",
    "## Create array using numpy\n",
    "## Create a ID array\n",
    "arr1=np.array([1,2,3,4,5,6])\n",
    "print(arr1)\n",
    "print(type(arr1))\n",
    "print(arr1.shape)"
   ]
  },
  {
   "cell_type": "code",
   "execution_count": 7,
   "id": "b71d66f4",
   "metadata": {},
   "outputs": [
    {
     "data": {
      "text/plain": [
       "array([[1, 2, 3, 4, 5]])"
      ]
     },
     "execution_count": 7,
     "metadata": {},
     "output_type": "execute_result"
    }
   ],
   "source": [
    "arr2 = np.array([1,2,3,4,5])\n",
    "arr2.reshape(1,5)"
   ]
  },
  {
   "cell_type": "code",
   "execution_count": 9,
   "id": "7d6f69ab",
   "metadata": {},
   "outputs": [
    {
     "name": "stdout",
     "output_type": "stream",
     "text": [
      "[[ 1  2  3  4  5  6]\n",
      " [ 7  8  9 10 11 12]]\n",
      "(2, 6)\n"
     ]
    }
   ],
   "source": [
    "## 2 dimension array\n",
    "\n",
    "arr2 = np.array([[1,2,3,4,5,6],[7,8,9,10,11,12]])\n",
    "print(arr2)\n",
    "print(arr2.shape)"
   ]
  },
  {
   "cell_type": "code",
   "execution_count": 12,
   "id": "c7422107",
   "metadata": {},
   "outputs": [
    {
     "data": {
      "text/plain": [
       "array([[0],\n",
       "       [2],\n",
       "       [4],\n",
       "       [6],\n",
       "       [8]])"
      ]
     },
     "execution_count": 12,
     "metadata": {},
     "output_type": "execute_result"
    }
   ],
   "source": [
    "np.arange(0,10,2).reshape(5,1)"
   ]
  },
  {
   "cell_type": "code",
   "execution_count": 14,
   "id": "be0a1f8d",
   "metadata": {},
   "outputs": [
    {
     "data": {
      "text/plain": [
       "array([[1., 1., 1., 1.],\n",
       "       [1., 1., 1., 1.],\n",
       "       [1., 1., 1., 1.]])"
      ]
     },
     "execution_count": 14,
     "metadata": {},
     "output_type": "execute_result"
    }
   ],
   "source": [
    "np.ones((3,4))"
   ]
  },
  {
   "cell_type": "code",
   "execution_count": 15,
   "id": "5717c9cf",
   "metadata": {},
   "outputs": [
    {
     "data": {
      "text/plain": [
       "array([[1., 0., 0.],\n",
       "       [0., 1., 0.],\n",
       "       [0., 0., 1.]])"
      ]
     },
     "execution_count": 15,
     "metadata": {},
     "output_type": "execute_result"
    }
   ],
   "source": [
    "## identity matrix\n",
    "np.eye(3)"
   ]
  },
  {
   "cell_type": "code",
   "execution_count": 18,
   "id": "1b103e87",
   "metadata": {},
   "outputs": [
    {
     "name": "stdout",
     "output_type": "stream",
     "text": [
      "[[1 2 3 4]\n",
      " [4 3 2 1]]\n"
     ]
    },
    {
     "data": {
      "text/plain": [
       "array([[1, 2],\n",
       "       [3, 4],\n",
       "       [4, 3],\n",
       "       [2, 1]])"
      ]
     },
     "execution_count": 18,
     "metadata": {},
     "output_type": "execute_result"
    }
   ],
   "source": [
    "arr = np.array([[1,2,3,4],[4,3,2,1]])\n",
    "print(arr)\n",
    "arr.reshape(4,2)"
   ]
  },
  {
   "cell_type": "code",
   "execution_count": null,
   "id": "efc432ec",
   "metadata": {},
   "outputs": [
    {
     "name": "stdout",
     "output_type": "stream",
     "text": [
      "Array:\n",
      " [[1 2 3]\n",
      " [4 5 6]]\n",
      "shape\n",
      " (2, 3)\n",
      "Number of Dimension\n",
      " 2\n",
      "Size (Number of elements): 6\n",
      "Data type: int64\n",
      "Item size(in bytes) 8\n"
     ]
    }
   ],
   "source": [
    "## Attributes on numpy\n",
    "arr = np.array([[1,2,3],[4,5,6]])\n",
    "\n",
    "print(\"Array:\\n\", arr)\n",
    "print(\"shape\\n\", arr.shape) # Output: (2,3)\n",
    "print(\"Number of Dimension\\n\", arr.ndim) # Output: 2\n",
    "print(\"Size (Number of elements):\", arr.size) # Output: 6\n",
    "print(\"Data type:\", arr.dtype) # Output: int64 (may vary based on platform)\n",
    "print(\"Item size(in bytes)\", arr.itemsize) # Output: 8 (may vary based on)\n"
   ]
  },
  {
   "cell_type": "code",
   "execution_count": 22,
   "id": "9fb085be",
   "metadata": {},
   "outputs": [
    {
     "name": "stdout",
     "output_type": "stream",
     "text": [
      "Addition: [11 13 15 17 19]\n",
      "Substraction [-9 -9 -9 -9 -9]\n",
      "Multiplication [10 22 36 52 70]\n",
      "Division [0.1        0.18181818 0.25       0.30769231 0.35714286]\n"
     ]
    }
   ],
   "source": [
    "### Numpy Vectorized Operation\n",
    "arr1=np.array([1,2,3,4,5])\n",
    "arr2=np.array([10,11,12,13,14])\n",
    "\n",
    "### Element Wise addition\n",
    "print(\"Addition:\", arr1+arr2)\n",
    "\n",
    "### Element wise subtraction\n",
    "print(\"Substraction\", arr1-arr2)\n",
    "\n",
    "### Element-wise multiplication\n",
    "print(\"Multiplication\", arr1*arr2)\n",
    "\n",
    "### Element-wise Division\n",
    "print(\"Division\", arr1/arr2)"
   ]
  },
  {
   "cell_type": "code",
   "execution_count": 24,
   "id": "d4bbecdd",
   "metadata": {},
   "outputs": [
    {
     "name": "stdout",
     "output_type": "stream",
     "text": [
      "[1.41421356 1.73205081 2.         2.23606798 2.44948974]\n",
      "[  7.3890561   20.08553692  54.59815003 148.4131591  403.42879349]\n",
      "[ 0.90929743  0.14112001 -0.7568025  -0.95892427 -0.2794155 ]\n",
      "[0.69314718 1.09861229 1.38629436 1.60943791 1.79175947]\n"
     ]
    }
   ],
   "source": [
    "## Universal Function\n",
    "arr = np.array([2,3,4,5,6])\n",
    "\n",
    "## Square root\n",
    "print(np.sqrt(arr))\n",
    "\n",
    "## Exponetial\n",
    "print(np.exp(arr))\n",
    "\n",
    "## Sine\n",
    "print(np.sin(arr))\n",
    "\n",
    "## Natural Log\n",
    "print(np.log(arr))\n",
    "\n"
   ]
  },
  {
   "cell_type": "code",
   "execution_count": 25,
   "id": "fe1d729e",
   "metadata": {},
   "outputs": [
    {
     "name": "stdout",
     "output_type": "stream",
     "text": [
      "Array : \n",
      " [[ 1  2  3  4]\n",
      " [ 5  6  7  8]\n",
      " [ 9 10 11 12]]\n"
     ]
    }
   ],
   "source": [
    "## Array slicing and Indexing\n",
    "\n",
    "arr = np.array([[1,2,3,4,],[5,6,7,8],[9,10,11,12]])\n",
    "print(\"Array : \\n\", arr)"
   ]
  },
  {
   "cell_type": "code",
   "execution_count": null,
   "id": "278ad9aa",
   "metadata": {},
   "outputs": [
    {
     "name": "stdout",
     "output_type": "stream",
     "text": [
      "[[1 2]\n",
      " [5 6]]\n"
     ]
    }
   ],
   "source": [
    "print(arr[:2,:2])\n"
   ]
  },
  {
   "cell_type": "code",
   "execution_count": 29,
   "id": "353737a1",
   "metadata": {},
   "outputs": [
    {
     "name": "stdout",
     "output_type": "stream",
     "text": [
      "[[100   2   3   4]\n",
      " [  5   6   7   8]\n",
      " [  9  10  11  12]]\n"
     ]
    }
   ],
   "source": [
    "## Modify array elements\n",
    "arr[0,0]=100\n",
    "print(arr)"
   ]
  },
  {
   "cell_type": "code",
   "execution_count": 30,
   "id": "b8a80d9b",
   "metadata": {},
   "outputs": [
    {
     "name": "stdout",
     "output_type": "stream",
     "text": [
      "[[100   2   3   4]\n",
      " [100 100 100 100]\n",
      " [100 100 100 100]]\n"
     ]
    }
   ],
   "source": [
    "arr[1:]=100\n",
    "print(arr)"
   ]
  },
  {
   "cell_type": "code",
   "execution_count": 31,
   "id": "9ab07c1c",
   "metadata": {},
   "outputs": [
    {
     "name": "stdout",
     "output_type": "stream",
     "text": [
      "Standardized data: [-1.41421356 -0.70710678  0.          0.70710678  1.41421356]\n"
     ]
    }
   ],
   "source": [
    "### Statistical concepts\n",
    "## to have a mean  of 0 and standard deviation of 1\n",
    "data = np.array([1,2,3,4,5])\n",
    "std_dev = np.std(data)\n",
    "\n",
    "# Calculate the mean and standard deviation\n",
    "mean = np.mean(data)\n",
    "std_dev = np.std(data)\n",
    "\n",
    "# Standardized the data\n",
    "standardized_data = (data-mean)/std_dev\n",
    "print(\"Standardized data:\",standardized_data)"
   ]
  },
  {
   "cell_type": "code",
   "execution_count": 32,
   "id": "7a1dd770",
   "metadata": {},
   "outputs": [
    {
     "name": "stdout",
     "output_type": "stream",
     "text": [
      "Mean: 5.5\n",
      "Median: 5.5\n",
      "Standard deviation: 2.8722813232690143\n",
      "Variance 8.25\n"
     ]
    }
   ],
   "source": [
    "data = np.array([1,2,3,4,5,6,7,8,9,10])\n",
    "\n",
    "# Mean\n",
    "mean = np.mean(data)\n",
    "print(\"Mean:\", mean)\n",
    "\n",
    "# Median\n",
    "median = np.median(data)\n",
    "print(\"Median:\", median)\n",
    "\n",
    "# Standard Deviation\n",
    "std_dev = np.std(data)\n",
    "print(\"Standard deviation:\", std_dev)\n",
    "\n",
    "# Variance\n",
    "variance = np.var(data)\n",
    "print(\"Variance\", variance)\n",
    "\n"
   ]
  },
  {
   "cell_type": "code",
   "execution_count": 34,
   "id": "68784cd5",
   "metadata": {},
   "outputs": [
    {
     "data": {
      "text/plain": [
       "array([6, 7, 8])"
      ]
     },
     "execution_count": 34,
     "metadata": {},
     "output_type": "execute_result"
    }
   ],
   "source": [
    "## Logical operation\n",
    "data = np.array([1,2,3,4,5,6,7,8,9,10])\n",
    "\n",
    "data[(data>5) & (data<9)]"
   ]
  }
 ],
 "metadata": {
  "kernelspec": {
   "display_name": "Python 3",
   "language": "python",
   "name": "python3"
  },
  "language_info": {
   "codemirror_mode": {
    "name": "ipython",
    "version": 3
   },
   "file_extension": ".py",
   "mimetype": "text/x-python",
   "name": "python",
   "nbconvert_exporter": "python",
   "pygments_lexer": "ipython3",
   "version": "3.12.0"
  }
 },
 "nbformat": 4,
 "nbformat_minor": 5
}
