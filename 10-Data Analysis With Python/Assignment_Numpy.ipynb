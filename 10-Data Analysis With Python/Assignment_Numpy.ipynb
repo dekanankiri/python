{
 "cells": [
  {
   "cell_type": "markdown",
   "id": "b89b5116",
   "metadata": {},
   "source": [
    "# Module: NumPy Assignments\n",
    "## Lesson: NumPy\n",
    "### Assignment 1: Array Creation and Manipulation\n",
    "\n",
    "1. Create a NumPy array of shape (5, 5) filled with random integers between 1 and 20. Replace all the elements in the third column with 1."
   ]
  },
  {
   "cell_type": "code",
   "execution_count": 2,
   "id": "23efc2f6",
   "metadata": {},
   "outputs": [
    {
     "name": "stdout",
     "output_type": "stream",
     "text": [
      "Original Array: \n",
      "[[16  4  1  9  4]\n",
      " [17 14  8 16  8]\n",
      " [17 11  1 16  3]\n",
      " [12 19  6  8 10]\n",
      " [ 7  3 12 12  8]]\n",
      "third column replaced with all 1:\n",
      "[[16  4  1  9  4]\n",
      " [17 14  1 16  8]\n",
      " [17 11  1 16  3]\n",
      " [12 19  1  8 10]\n",
      " [ 7  3  1 12  8]]\n"
     ]
    }
   ],
   "source": [
    "import pandas as pd\n",
    "import numpy as np\n",
    "\n",
    "np_arr = np.random.randint(1,21,size=(5,5))\n",
    "print(\"Original Array: \")\n",
    "print(np_arr)\n",
    "\n",
    "np_arr[:,2] =1\n",
    "print(\"third column replaced with all 1:\")\n",
    "print(np_arr)"
   ]
  },
  {
   "cell_type": "markdown",
   "id": "8f1319cd",
   "metadata": {},
   "source": [
    "2. Create a NumPy array of shape (4, 4) with values from 1 to 16. Replace the diagonal elements with 0."
   ]
  },
  {
   "cell_type": "code",
   "execution_count": 4,
   "id": "3b520655",
   "metadata": {},
   "outputs": [
    {
     "name": "stdout",
     "output_type": "stream",
     "text": [
      "Original array:\n",
      "[[ 5  7  2  8]\n",
      " [11 12 10 13]\n",
      " [ 2  7  5  3]\n",
      " [15  1 12 13]]\n",
      "Diagonal 0 array\n",
      "[[ 0  7  2  8]\n",
      " [11  0 10 13]\n",
      " [ 2  7  0  3]\n",
      " [15  1 12  0]]\n"
     ]
    }
   ],
   "source": [
    "array = np.random.randint(1,17,size=(4,4))\n",
    "print(\"Original array:\")\n",
    "print(array)\n",
    "\n",
    "print(\"Diagonal 0 array\")\n",
    "np.fill_diagonal(array,0)\n",
    "print(array)\n"
   ]
  },
  {
   "cell_type": "markdown",
   "id": "9dde2c62",
   "metadata": {},
   "source": [
    "### Assignment 2: Array Indexing and Slicing\n",
    "\n",
    "1. Create a NumPy array of shape (6, 6) with values from 1 to 36. Extract the sub-array consisting of the 3rd to 5th rows and 2nd to 4th columns."
   ]
  },
  {
   "cell_type": "code",
   "execution_count": 9,
   "id": "87e533b2",
   "metadata": {},
   "outputs": [
    {
     "name": "stdout",
     "output_type": "stream",
     "text": [
      "Original Array:\n",
      "[[ 1  2  3  4  5  6]\n",
      " [ 7  8  9 10 11 12]\n",
      " [13 14 15 16 17 18]\n",
      " [19 20 21 22 23 24]\n",
      " [25 26 27 28 29 30]\n",
      " [31 32 33 34 35 36]]\n",
      "sub array:\n",
      "[[14 15 16]\n",
      " [20 21 22]\n",
      " [26 27 28]]\n"
     ]
    }
   ],
   "source": [
    "array = np.arange(1,37).reshape((6,6))\n",
    "print(\"Original Array:\")\n",
    "print(array)\n",
    "\n",
    "sub = array[2:5,1:4]\n",
    "print(\"sub array:\")\n",
    "print(sub)"
   ]
  },
  {
   "cell_type": "markdown",
   "id": "001a2752",
   "metadata": {},
   "source": [
    "2. Create a NumPy array of shape (5, 5) with random integers. Extract the elements on the border."
   ]
  },
  {
   "cell_type": "code",
   "execution_count": 14,
   "id": "93362d29",
   "metadata": {},
   "outputs": [
    {
     "name": "stdout",
     "output_type": "stream",
     "text": [
      "Original array:\n",
      "[[82 12 54 41  5]\n",
      " [57 18 22 86 77]\n",
      " [12 89 89 18 44]\n",
      " [71 67 97 31 47]\n",
      " [63 11 66 73 79]]\n",
      "Border Array:\n",
      "[82 12 54 41  5 63 11 66 73 79 57 12 71]\n"
     ]
    }
   ],
   "source": [
    "array = np.random.randint(1,100,size=(5,5))\n",
    "print(\"Original array:\")\n",
    "print(array)\n",
    "\n",
    "border_arr = np.concatenate((array[0,:],array[-1,:],array[1:-1,0],array[-1:1,-1]))\n",
    "print(\"Border Array:\")\n",
    "print(border_arr)"
   ]
  },
  {
   "cell_type": "markdown",
   "id": "29b039ce",
   "metadata": {},
   "source": [
    "### Assignment 3: Array Operations\n",
    "\n",
    "1. Create two NumPy arrays of shape (3, 4) filled with random integers. Perform element-wise addition, subtraction, multiplication, and division."
   ]
  },
  {
   "cell_type": "code",
   "execution_count": 16,
   "id": "f3074d1b",
   "metadata": {},
   "outputs": [
    {
     "name": "stdout",
     "output_type": "stream",
     "text": [
      "array 1\n",
      "[[1 7 5 3]\n",
      " [7 9 8 8]\n",
      " [7 8 2 4]]\n",
      "\n",
      "array 2\n",
      "[[3 6 1 3]\n",
      " [9 7 3 2]\n",
      " [2 9 6 3]]\n",
      "perform element-wise addition,subtraction,multiplication,and division\n",
      "[[ 4 13  6  6]\n",
      " [16 16 11 10]\n",
      " [ 9 17  8  7]]\n",
      "[[-2  1  4  0]\n",
      " [-2  2  5  6]\n",
      " [ 5 -1 -4  1]]\n",
      "[[ 3 42  5  9]\n",
      " [63 63 24 16]\n",
      " [14 72 12 12]]\n",
      "[[0.33333333 1.16666667 5.         1.        ]\n",
      " [0.77777778 1.28571429 2.66666667 4.        ]\n",
      " [3.5        0.88888889 0.33333333 1.33333333]]\n"
     ]
    }
   ],
   "source": [
    "arr1 = np.random.randint(1,10,size=(3,4))\n",
    "arr2 = np.random.randint(1,10,size=(3,4))\n",
    "print(\"array 1\")\n",
    "print(arr1)\n",
    "print()\n",
    "print(\"array 2\")\n",
    "print(arr2)\n",
    "\n",
    "print(\"perform element-wise addition,subtraction,multiplication,and division\")\n",
    "addition = arr1 + arr2\n",
    "subtraction = arr1-arr2\n",
    "multiplication = arr1*arr2\n",
    "division = arr1/arr2\n",
    "\n",
    "print(addition)\n",
    "print(subtraction)\n",
    "print(multiplication)\n",
    "print(division)"
   ]
  },
  {
   "cell_type": "markdown",
   "id": "fa5c1483",
   "metadata": {},
   "source": [
    "2. Create a NumPy array of shape (4, 4) with values from 1 to 16. Compute the row-wise and column-wise sum."
   ]
  },
  {
   "cell_type": "code",
   "execution_count": 18,
   "id": "7c6d77bf",
   "metadata": {},
   "outputs": [
    {
     "name": "stdout",
     "output_type": "stream",
     "text": [
      "Original Array:\n",
      "[[ 1  2  3  4]\n",
      " [ 5  6  7  8]\n",
      " [ 9 10 11 12]\n",
      " [13 14 15 16]]\n",
      "Column-wise sum\n",
      "[28 32 36 40]\n",
      "Row-Wise sum:\n",
      "[10 26 42 58]\n"
     ]
    }
   ],
   "source": [
    "arr = np.arange(1,17).reshape((4,4))\n",
    "print(\"Original Array:\")\n",
    "print(arr)\n",
    "\n",
    "print(\"Column-wise sum\")\n",
    "print(arr.sum(axis=0))\n",
    "print(\"Row-Wise sum:\")\n",
    "print(arr.sum(axis=1))"
   ]
  },
  {
   "cell_type": "markdown",
   "id": "16fd4dfd",
   "metadata": {},
   "source": [
    "### Assignment 4: Statistical Operations\n",
    "\n",
    "1. Create a NumPy array of shape (5, 5) filled with random integers. Compute the mean, median, standard deviation, and variance of the array."
   ]
  },
  {
   "cell_type": "code",
   "execution_count": null,
   "id": "52330a2b",
   "metadata": {},
   "outputs": [
    {
     "name": "stdout",
     "output_type": "stream",
     "text": [
      "Original array:\n",
      "[[91 31 44 23 96]\n",
      " [66 31 87 15 76]\n",
      " [60  7 81 85  4]\n",
      " [74 97 49 24 74]\n",
      " [94 44 25 91 60]]\n",
      "Mean of array: 57.16\n",
      "Median of Array: 60.0\n",
      "Variance of array: 887.8144000000002\n",
      "Standard Deviation of array: 29.796214524667395\n"
     ]
    }
   ],
   "source": [
    "arr = np.random.randint(1,100,size=(5,5))\n",
    "print(\"Original array:\")\n",
    "print(arr)\n",
    "print(f\"Mean of array: {arr.mean()}\")\n",
    "print(f\"Median of Array: {np.median(arr)}\")\n",
    "print(f\"Variance of array: {np.var(arr)}\")\n",
    "print(f\"Standard Deviation of array: {np.std(arr)}\")"
   ]
  },
  {
   "cell_type": "markdown",
   "id": "e24d63c2",
   "metadata": {},
   "source": [
    "2. Create a NumPy array of shape (3, 3) with values from 1 to 9. Normalize the array (i.e., scale the values to have a mean of 0 and a standard deviation of 1)."
   ]
  },
  {
   "cell_type": "code",
   "execution_count": 29,
   "id": "1065afc5",
   "metadata": {},
   "outputs": [
    {
     "name": "stdout",
     "output_type": "stream",
     "text": [
      "Original array:\n",
      "[[1 2 3]\n",
      " [4 5 6]\n",
      " [7 8 9]]\n",
      "\n",
      "Standardized Array:\n",
      "[[-1.54919334 -1.161895   -0.77459667]\n",
      " [-0.38729833  0.          0.38729833]\n",
      " [ 0.77459667  1.161895    1.54919334]]\n"
     ]
    }
   ],
   "source": [
    "arr = np.arange(1,10).reshape((3,3))\n",
    "print(\"Original array:\")\n",
    "print(arr)\n",
    "print()\n",
    "\n",
    "mean = np.mean(arr)\n",
    "stdev = np.std(arr)\n",
    "standardized_arr = (arr-mean)/stdev\n",
    "\n",
    "print(\"Standardized Array:\")\n",
    "print(standardized_arr)"
   ]
  },
  {
   "cell_type": "markdown",
   "id": "39ea27d9",
   "metadata": {},
   "source": [
    "### Assignment 5: Broadcasting\n",
    "\n",
    "1. Create a NumPy array of shape (3, 3) filled with random integers. Add a 1D array of shape (3,) to each row of the 2D array using broadcasting."
   ]
  },
  {
   "cell_type": "code",
   "execution_count": 35,
   "id": "766e57ec",
   "metadata": {},
   "outputs": [
    {
     "name": "stdout",
     "output_type": "stream",
     "text": [
      "Original Array:\n",
      "[[ 6  9  8]\n",
      " [ 7  7  6]\n",
      " [ 7  6 10]]\n",
      "1D Array:\n",
      "[4 2 5]\n",
      "Resulting array:\n",
      "[[10 11 13]\n",
      " [11  9 11]\n",
      " [11  8 15]]\n"
     ]
    }
   ],
   "source": [
    "array = np.random.randint(1,11,size=(3,3))\n",
    "row_array = np.random.randint(1,11,size=(3,))\n",
    "print(\"Original Array:\")\n",
    "print(array)\n",
    "print(\"1D Array:\")\n",
    "print(row_array)\n",
    "\n",
    "result = array + row_array\n",
    "print(\"Resulting array:\")\n",
    "print(result)"
   ]
  },
  {
   "cell_type": "markdown",
   "id": "aa058fbe",
   "metadata": {},
   "source": [
    "2. Create a NumPy array of shape (4, 4) filled with random integers. Subtract a 1D array of shape (4,) from each column of the 2D array using broadcasting."
   ]
  },
  {
   "cell_type": "code",
   "execution_count": 41,
   "id": "5e367691",
   "metadata": {},
   "outputs": [
    {
     "name": "stdout",
     "output_type": "stream",
     "text": [
      "Original array:\n",
      "[[ 7 10  6  9]\n",
      " [ 9 10  8  1]\n",
      " [ 6  3  3  3]\n",
      " [ 7  1  9 10]]\n",
      "Subtractor:\n",
      "[5 2 3 8]\n",
      "Original array after getting subtract:\n",
      "[[ 2  8  3  1]\n",
      " [ 4  8  5 -7]\n",
      " [ 1  1  0 -5]\n",
      " [ 2 -1  6  2]]\n"
     ]
    }
   ],
   "source": [
    "array = np.random.randint(1,11,size=(4,4))\n",
    "subtractor = np.random.randint(1,11,size=(4,))\n",
    "print(\"Original array:\")\n",
    "print(array)\n",
    "print(\"Subtractor:\")\n",
    "print(subtractor)\n",
    "\n",
    "print(\"Original array after getting subtract:\")\n",
    "print(array-subtractor)"
   ]
  },
  {
   "cell_type": "markdown",
   "id": "0dafc11e",
   "metadata": {},
   "source": [
    "### Assignment 6: Linear Algebra\n",
    "\n",
    "1. Create a NumPy array of shape (3, 3) representing a matrix. Compute its determinant, inverse, and eigenvalues."
   ]
  },
  {
   "cell_type": "code",
   "execution_count": 64,
   "id": "d5b15815",
   "metadata": {},
   "outputs": [
    {
     "name": "stdout",
     "output_type": "stream",
     "text": [
      "Original Matrix\n",
      "[[ 6  7  5]\n",
      " [ 2  6  2]\n",
      " [10  1  5]]\n",
      "Determinan: -52.00000000000001\n",
      "Invers: [[-0.53846154  0.57692308  0.30769231]\n",
      " [-0.19230769  0.38461538  0.03846154]\n",
      " [ 1.11538462 -1.23076923 -0.42307692]]\n",
      "Eigen Values: [14.72237586 -1.05867093  3.33629507]\n"
     ]
    }
   ],
   "source": [
    "arrays = np.random.randint(1,11,size=(3,3))\n",
    "print(\"Original Matrix\")\n",
    "print(arrays)\n",
    "\n",
    "#calculate determinant\n",
    "det = np.linalg.det(arrays)\n",
    "print(f\"Determinan: {det}\")\n",
    "\n",
    "inverse = np.linalg.inv(arrays)\n",
    "print(f\"Invers: {inverse}\")\n",
    "\n",
    "eigenvalues = np.linalg.eigvals(arrays)\n",
    "print(f\"Eigen Values: {eigenvalues}\")"
   ]
  },
  {
   "cell_type": "markdown",
   "id": "46e3911c",
   "metadata": {},
   "source": [
    "2. Create two NumPy arrays of shape (2, 3) and (3, 2). Perform matrix multiplication on these arrays."
   ]
  },
  {
   "cell_type": "code",
   "execution_count": 69,
   "id": "863e3796",
   "metadata": {},
   "outputs": [
    {
     "name": "stdout",
     "output_type": "stream",
     "text": [
      "[[4 9 1]\n",
      " [3 5 7]]\n",
      "\n",
      "[[6 4]\n",
      " [8 3]\n",
      " [9 6]]\n",
      "\n",
      "arr1 times arr2:\n",
      "[[105  49]\n",
      " [121  69]]\n"
     ]
    }
   ],
   "source": [
    "arr1 = np.random.randint(1,11,size=(2,3))\n",
    "arr2 = np.random.randint(1,11,size=(3,2))\n",
    "\n",
    "print(arr1)\n",
    "print()\n",
    "print(arr2)\n",
    "print()\n",
    "\n",
    "print(\"arr1 times arr2:\")\n",
    "print(np.dot(arr1,arr2))\n"
   ]
  },
  {
   "cell_type": "markdown",
   "id": "87cbe4d8",
   "metadata": {},
   "source": [
    "### Assignment 7: Advanced Array Manipulation\n",
    "\n",
    "1. Create a NumPy array of shape (3, 3) with values from 1 to 9. Reshape the array to shape (1, 9) and then to shape (9, 1)."
   ]
  },
  {
   "cell_type": "code",
   "execution_count": null,
   "id": "14841fe5",
   "metadata": {},
   "outputs": [
    {
     "name": "stdout",
     "output_type": "stream",
     "text": [
      "[[1 2 3]\n",
      " [4 5 6]\n",
      " [7 8 9]]\n",
      "[[1 2 3 4 5 6 7 8 9]]\n",
      "[[1]\n",
      " [2]\n",
      " [3]\n",
      " [4]\n",
      " [5]\n",
      " [6]\n",
      " [7]\n",
      " [8]\n",
      " [9]]\n"
     ]
    }
   ],
   "source": [
    "array = np.arange(1,10).reshape(3,3)\n",
    "print(array)\n",
    "print(array.reshape(1,9))\n",
    "print(array.reshape(9,1))"
   ]
  },
  {
   "cell_type": "markdown",
   "id": "ff28793d",
   "metadata": {},
   "source": [
    "2. Create a NumPy array of shape (5, 5) filled with random integers. Flatten the array and then reshape it back to (5, 5)."
   ]
  },
  {
   "cell_type": "code",
   "execution_count": 78,
   "id": "b9f87d6e",
   "metadata": {},
   "outputs": [
    {
     "name": "stdout",
     "output_type": "stream",
     "text": [
      "[[ 5  7  4  9  5]\n",
      " [ 9  7  6  6  2]\n",
      " [ 5  2  2  7  5]\n",
      " [ 8  2  8  1  9]\n",
      " [ 2  8  5 10  2]]\n",
      "[[ 5  7  4  9  5  9  7  6  6  2  5  2  2  7  5  8  2  8  1  9  2  8  5 10\n",
      "   2]]\n",
      "[ 5  7  4  9  5  9  7  6  6  2  5  2  2  7  5  8  2  8  1  9  2  8  5 10\n",
      "  2]\n",
      "[[ 5  7  4  9  5]\n",
      " [ 9  7  6  6  2]\n",
      " [ 5  2  2  7  5]\n",
      " [ 8  2  8  1  9]\n",
      " [ 2  8  5 10  2]]\n"
     ]
    }
   ],
   "source": [
    "arrays = np.random.randint(1,11,size=(5,5))\n",
    "print(arrays)\n",
    "print(arrays.reshape(1,25))\n",
    "print(arrays.flatten())\n",
    "print(arrays.reshape(5,5))"
   ]
  },
  {
   "cell_type": "markdown",
   "id": "411fc9a0",
   "metadata": {},
   "source": [
    "### Assignment 8: Fancy Indexing and Boolean Indexing\n",
    "\n",
    "1. Create a NumPy array of shape (5, 5) filled with random integers. Use fancy indexing to extract the elements at the corners of the array."
   ]
  },
  {
   "cell_type": "code",
   "execution_count": 91,
   "id": "859f0354",
   "metadata": {},
   "outputs": [
    {
     "name": "stdout",
     "output_type": "stream",
     "text": [
      "Original Array:\n",
      "[[10 10  8  1  1]\n",
      " [ 1  7  6  3  8]\n",
      " [ 2  8  6  5  7]\n",
      " [ 9  4 10  8  4]\n",
      " [ 9  4  2 10  2]]\n",
      "Corner elements:\n",
      "[10  1  9  2]\n"
     ]
    }
   ],
   "source": [
    "arr = np.random.randint(1,11,size=(5,5))\n",
    "print(\"Original Array:\")\n",
    "print(arr)\n",
    "\n",
    "# fancy indexing\n",
    "corners = arr[[0,0,-1,-1],[0,-1,0,-1]]\n",
    "print(\"Corner elements:\")\n",
    "print(corners)\n"
   ]
  },
  {
   "cell_type": "markdown",
   "id": "7962dab0",
   "metadata": {},
   "source": [
    "2. Create a NumPy array of shape (4, 4) filled with random integers. Use boolean indexing to set all elements greater than 10 to 10."
   ]
  },
  {
   "cell_type": "code",
   "execution_count": 92,
   "id": "ea55b8c7",
   "metadata": {},
   "outputs": [
    {
     "name": "stdout",
     "output_type": "stream",
     "text": [
      "Original array:\n",
      "[[18 20  9 20]\n",
      " [ 1  3  5  8]\n",
      " [17  3 15 20]\n",
      " [11 16  1  2]]\n",
      "Mofied Array:\n",
      "[[10 10  9 10]\n",
      " [ 1  3  5  8]\n",
      " [10  3 10 10]\n",
      " [10 10  1  2]]\n"
     ]
    }
   ],
   "source": [
    "array = np.random.randint(1,21,size=(4,4))\n",
    "print(\"Original array:\")\n",
    "print(array)\n",
    "\n",
    "array[array>10] = 10\n",
    "print(\"Mofied Array:\")\n",
    "print(array)"
   ]
  },
  {
   "cell_type": "markdown",
   "id": "20496e2a",
   "metadata": {},
   "source": [
    "### Assignment 9: Structured Arrays\n",
    "\n",
    "1. Create a structured array with fields 'name' (string), 'age' (integer), and 'weight' (float). Add some data and sort the array by age."
   ]
  },
  {
   "cell_type": "code",
   "execution_count": null,
   "id": "ad2398a6",
   "metadata": {},
   "outputs": [
    {
     "name": "stdout",
     "output_type": "stream",
     "text": [
      "Original array:\n",
      "[('Alice', 25, 55.5) ('Bob', 30, 85.3) ('Charlie', 20, 65.2)]\n",
      "Sorted array by age:\n",
      "[('Charlie', 20, 65.2) ('Alice', 25, 55.5) ('Bob', 30, 85.3)]\n"
     ]
    }
   ],
   "source": [
    "data_type = [('name','U10'),('age','i4'),('weight','f4')]\n",
    "data = np.array([('Alice',25,55.5),('Bob',30,85.3),('Charlie',20,65.2)],dtype=data_type)\n",
    "print(\"Original array:\")\n",
    "print(data)\n",
    "\n",
    "# Sort the array by age\n",
    "sorted_data = np.sort(data,order='age')\n",
    "print(\"Sorted array by age:\")\n",
    "print(sorted_data)"
   ]
  },
  {
   "cell_type": "markdown",
   "id": "38b5071b",
   "metadata": {},
   "source": [
    "2. Create a structured array with fields 'x' and 'y' (both integers). Add some data and compute the Euclidean distance between each pair of points."
   ]
  },
  {
   "cell_type": "code",
   "execution_count": 96,
   "id": "c76f00b2",
   "metadata": {},
   "outputs": [
    {
     "name": "stdout",
     "output_type": "stream",
     "text": [
      "Original array:\n",
      "[(1, 2) (3, 4) (5, 6)]\n",
      "Euclidean distances:\n",
      "[[0.         2.82842712 5.65685425]\n",
      " [2.82842712 0.         2.82842712]\n",
      " [5.65685425 2.82842712 0.        ]]\n"
     ]
    }
   ],
   "source": [
    "data_type = [('x','i4'),('y','i4')]\n",
    "data = np.array([(1,2),(3,4),(5,6)], dtype=data_type)\n",
    "print(\"Original array:\")\n",
    "print(data)\n",
    "\n",
    "distance = np.sqrt((data['x'][:,np.newaxis] - data['x'])**2 + (data['y'][:,np.newaxis] - data['y'])**2)\n",
    "print(\"Euclidean distances:\")\n",
    "print(distance)"
   ]
  },
  {
   "cell_type": "markdown",
   "id": "3c41aa40",
   "metadata": {},
   "source": [
    "### Assignment 10: Masked Arrays\n",
    "\n",
    "1. Create a masked array of shape (4, 4) with random integers and mask the elements greater than 10. Compute the sum of the unmasked elements."
   ]
  },
  {
   "cell_type": "code",
   "execution_count": 98,
   "id": "18355f16",
   "metadata": {},
   "outputs": [
    {
     "name": "stdout",
     "output_type": "stream",
     "text": [
      "Original array:\n",
      "[[20 16 10 12]\n",
      " [ 5 11  5 16]\n",
      " [17 15 12 20]\n",
      " [11  3 11 16]]\n",
      "masked array:\n",
      "[[-- -- 10 --]\n",
      " [5 -- 5 --]\n",
      " [-- -- -- --]\n",
      " [-- 3 -- --]]\n",
      "Sum of the unmasked elements: 23\n"
     ]
    }
   ],
   "source": [
    "import numpy.ma as ma\n",
    "\n",
    "# Create a masked array of shape (4,4) with random integers\n",
    "array = np.random.randint(1, 21, size=(4,4))\n",
    "masked_array = ma.masked_greater(array,10)\n",
    "print(\"Original array:\")\n",
    "print(array)\n",
    "print(\"masked array:\")\n",
    "print(masked_array)\n",
    "\n",
    "# Compute the sum od the unmasked elements\n",
    "sum_unmasked = masked_array.sum()\n",
    "print(\"Sum of the unmasked elements:\", sum_unmasked)"
   ]
  },
  {
   "cell_type": "markdown",
   "id": "ab333c44",
   "metadata": {},
   "source": [
    "2. Create a masked array of shape (3, 3) with random integers and mask the diagonal elements. Replace the masked elements with the mean of the unmasked elements."
   ]
  },
  {
   "cell_type": "code",
   "execution_count": 102,
   "id": "c252f11e",
   "metadata": {},
   "outputs": [
    {
     "name": "stdout",
     "output_type": "stream",
     "text": [
      "Original Array:\n",
      "[[14  9 15]\n",
      " [20 17  9]\n",
      " [17  2 14]]\n",
      "masked array:\n",
      "[[-- 9 15]\n",
      " [20 -- 9]\n",
      " [17 2 --]]\n",
      "Modified masked array:\n",
      "[[12  9 15]\n",
      " [20 12  9]\n",
      " [17  2 12]]\n"
     ]
    }
   ],
   "source": [
    "array = np.random.randint(1,21,size=(3,3))\n",
    "masked_array = ma.masked_array(array,mask=np.eye(3,dtype=bool))\n",
    "print(\"Original Array:\")\n",
    "print(array)\n",
    "print(\"masked array:\")\n",
    "print(masked_array)\n",
    "\n",
    "# Replace the masked elements with the mean of the unmasked array\n",
    "mean_unmasked = masked_array.mean()\n",
    "masked_array = masked_array.filled(mean_unmasked)\n",
    "print(\"Modified masked array:\")\n",
    "print(masked_array)"
   ]
  }
 ],
 "metadata": {
  "kernelspec": {
   "display_name": "Python 3",
   "language": "python",
   "name": "python3"
  },
  "language_info": {
   "codemirror_mode": {
    "name": "ipython",
    "version": 3
   },
   "file_extension": ".py",
   "mimetype": "text/x-python",
   "name": "python",
   "nbconvert_exporter": "python",
   "pygments_lexer": "ipython3",
   "version": "3.12.0"
  }
 },
 "nbformat": 4,
 "nbformat_minor": 5
}
