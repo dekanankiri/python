{
 "cells": [
  {
   "cell_type": "code",
   "execution_count": 3,
   "id": "58dde8cc",
   "metadata": {},
   "outputs": [
    {
     "name": "stdout",
     "output_type": "stream",
     "text": [
      "halo ges nama saya Muhammad Daffa Dekananda\n"
     ]
    }
   ],
   "source": [
    "str1 = input(\"Enter first word: \")\n",
    "str2 = input(\"Enter Second Word: \")\n",
    "print(f\"{str1} {str2}\")"
   ]
  },
  {
   "cell_type": "markdown",
   "id": "becd5d57",
   "metadata": {},
   "source": [
    "**Question 10:** Write a Python program to check if a variable is of a specific data type."
   ]
  },
  {
   "cell_type": "code",
   "execution_count": 4,
   "id": "3d04f31f",
   "metadata": {},
   "outputs": [
    {
     "name": "stdout",
     "output_type": "stream",
     "text": [
      "10.5 is a float\n"
     ]
    }
   ],
   "source": [
    "number = 10.5\n",
    "if isinstance(number,float):\n",
    "  print(f\"{number} is a float\")\n",
    "else:\n",
    "  print(f\"{number} is not a float\")"
   ]
  },
  {
   "cell_type": "markdown",
   "id": "86bd364b",
   "metadata": {},
   "source": [
    "## 3. Basic Operator (Arithmetic, Comparison, Logical)\n",
    "\n",
    "**Question 11:** Write a Python program to perform Arithmetic operations: addition,subtraction, multiplication, and Division."
   ]
  },
  {
   "cell_type": "code",
   "execution_count": 7,
   "id": "550f4476",
   "metadata": {},
   "outputs": [
    {
     "name": "stdout",
     "output_type": "stream",
     "text": [
      "addition 5.0\n",
      "subtraction -1.0\n",
      "multiplication 6.0\n",
      "Division 0.6666666666666666\n"
     ]
    }
   ],
   "source": [
    "num1 = float(input(\"Enter first number: \"))\n",
    "num2 = float(input(\"Enter second number\"))\n",
    "\n",
    "print(f\"addition {num1 + num2}\")\n",
    "print(f\"subtraction {num1 - num2}\")\n",
    "print(f\"multiplication {num1 * num2}\")\n",
    "print(f\"Division {num1 / num2}\")\n"
   ]
  },
  {
   "cell_type": "markdown",
   "id": "e8b29e8b",
   "metadata": {},
   "source": [
    "**Question 12:** Write a Python program to demonstrate comparison operator: equal to, not equal to, greter than, less than."
   ]
  },
  {
   "cell_type": "code",
   "execution_count": 17,
   "id": "0fad49f0",
   "metadata": {},
   "outputs": [
    {
     "name": "stdout",
     "output_type": "stream",
     "text": [
      "1 == 2 : False\n",
      "1 != 2 : True\n",
      "1 > 2 : False\n",
      "1 < 2 : True\n"
     ]
    }
   ],
   "source": [
    "a = 1\n",
    "b = 2\n",
    "\n",
    "\n",
    "print(f\"{a} == {b} : {a == b}\")\n",
    "print(f\"{a} != {b} : {a != b}\")\n",
    "print(f\"{a} > {b} : {a > b}\")\n",
    "print(f\"{a} < {b} : {a < b}\")\n"
   ]
  },
  {
   "cell_type": "markdown",
   "id": "20d8a1ef",
   "metadata": {},
   "source": [
    "**Question 13:** Write a Python program to demonstrate logical operators: and, or, not."
   ]
  },
  {
   "cell_type": "code",
   "execution_count": 22,
   "id": "afbc180d",
   "metadata": {},
   "outputs": [
    {
     "name": "stdout",
     "output_type": "stream",
     "text": [
      "True and False : False\n",
      "True or False : True\n",
      "not True : False\n",
      "not False : True\n"
     ]
    }
   ],
   "source": [
    "a = True\n",
    "b = False\n",
    "\n",
    "print(f\"{a} and {b} : {a and b}\")\n",
    "print(f\"{a} or {b} : {a or b}\")\n",
    "print(f\"not {a} : {not a}\")\n",
    "print(f\"not {b} : {not b}\")"
   ]
  },
  {
   "cell_type": "markdown",
   "id": "0d845069",
   "metadata": {},
   "source": [
    "**Question 14:** Write a Python program to calculate the square of a number."
   ]
  },
  {
   "cell_type": "code",
   "execution_count": 27,
   "id": "2d70958f",
   "metadata": {},
   "outputs": [
    {
     "name": "stdout",
     "output_type": "stream",
     "text": [
      "49.0\n"
     ]
    }
   ],
   "source": [
    "number = float(input(\"Enter a number: \"))\n",
    "print(number**2)"
   ]
  },
  {
   "cell_type": "markdown",
   "id": "4992eacc",
   "metadata": {},
   "source": [
    "**Question 15:** Write a Python program to ceck if a number is even or odd number"
   ]
  },
  {
   "cell_type": "code",
   "execution_count": 31,
   "id": "0adba0dd",
   "metadata": {},
   "outputs": [
    {
     "name": "stdout",
     "output_type": "stream",
     "text": [
      "7 is odd number\n"
     ]
    }
   ],
   "source": [
    "number = int(input(\"Enter a Nummber\"))\n",
    "\n",
    "if number%2==0:\n",
    "  print(f\"{number} is even number\")\n",
    "else:\n",
    "  print(f\"{number} is odd number\")"
   ]
  },
  {
   "cell_type": "markdown",
   "id": "7130315e",
   "metadata": {},
   "source": [
    "**Question 16:** Write a Python program to find the sum of the first n natural numbers."
   ]
  },
  {
   "cell_type": "code",
   "execution_count": 38,
   "id": "f4f4f922",
   "metadata": {},
   "outputs": [
    {
     "name": "stdout",
     "output_type": "stream",
     "text": [
      "sum of the first 17 natural number = 153\n"
     ]
    }
   ],
   "source": [
    "a = int(input(\"Enter a number: \"))\n",
    "n = a\n",
    "sum_n= 0\n",
    "\n",
    "while a>= 1:\n",
    "  sum_n = sum_n + a\n",
    "  a=a-1\n",
    "\n",
    "print(f\"sum of the first {n} natural number = {sum_n}\")"
   ]
  },
  {
   "cell_type": "markdown",
   "id": "f5cf767c",
   "metadata": {},
   "source": [
    "**Question 17:** Write a Python program to find check if a year is a leap year"
   ]
  },
  {
   "cell_type": "code",
   "execution_count": 43,
   "id": "eee0b4d1",
   "metadata": {},
   "outputs": [
    {
     "name": "stdout",
     "output_type": "stream",
     "text": [
      "2013 is not a leap year\n"
     ]
    }
   ],
   "source": [
    "year = int(input(\"Enter a year\"))\n",
    "\n",
    "if year % 4 == 0:\n",
    "  print(f\"{year} is a leap year\")\n",
    "else:\n",
    "  print(f\"{year} is not a leap year\")"
   ]
  },
  {
   "cell_type": "markdown",
   "id": "35416faa",
   "metadata": {},
   "source": [
    "**Question 18:** Write a Python Program to reverse a string"
   ]
  },
  {
   "cell_type": "code",
   "execution_count": 46,
   "id": "be202e20",
   "metadata": {},
   "outputs": [
    {
     "name": "stdout",
     "output_type": "stream",
     "text": [
      "reversed string is 'akeD'\n"
     ]
    }
   ],
   "source": [
    "string = input(\"Enter a string: \")\n",
    "reversed_string = string[::-1]\n",
    "print(f\"reversed string is '{reversed_string}'\")"
   ]
  },
  {
   "cell_type": "markdown",
   "id": "dc3832c9",
   "metadata": {},
   "source": [
    "**Question 19:** Write a python program to check if a string is a palindrome."
   ]
  },
  {
   "cell_type": "code",
   "execution_count": 51,
   "id": "4094fc94",
   "metadata": {},
   "outputs": [
    {
     "name": "stdout",
     "output_type": "stream",
     "text": [
      "The string is polindrome\n"
     ]
    }
   ],
   "source": [
    "string = input(\"Enter a String\")\n",
    "reversed_string = string[::-1]\n",
    "\n",
    "if string ==  reversed_string:\n",
    "  print(\"The string is polindrome\")\n",
    "else:\n",
    "  print(\"The string is not polindrome\")"
   ]
  },
  {
   "cell_type": "markdown",
   "id": "69bd2398",
   "metadata": {},
   "source": [
    "**Question 20:** Write a Python program to sort a list of numbers in ascending order"
   ]
  },
  {
   "cell_type": "code",
   "execution_count": 52,
   "id": "85bc04f2",
   "metadata": {},
   "outputs": [
    {
     "name": "stdout",
     "output_type": "stream",
     "text": [
      "Sorted list: [17, 20, 23, 30, 40]\n"
     ]
    }
   ],
   "source": [
    "numbers = [int(x) for x in input(\"Enter numbers separated by space: \").split()]\n",
    "numbers.sort()\n",
    "print(f\"Sorted list: {numbers}\")"
   ]
  }
 ],
 "metadata": {
  "kernelspec": {
   "display_name": "Python 3",
   "language": "python",
   "name": "python3"
  },
  "language_info": {
   "codemirror_mode": {
    "name": "ipython",
    "version": 3
   },
   "file_extension": ".py",
   "mimetype": "text/x-python",
   "name": "python",
   "nbconvert_exporter": "python",
   "pygments_lexer": "ipython3",
   "version": "3.12.0"
  }
 },
 "nbformat": 4,
 "nbformat_minor": 5
}
