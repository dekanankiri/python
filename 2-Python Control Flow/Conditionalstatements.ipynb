{
 "cells": [
  {
   "cell_type": "code",
   "execution_count": 6,
   "id": "bb933729",
   "metadata": {},
   "outputs": [
    {
     "name": "stdout",
     "output_type": "stream",
     "text": [
      "You are a child\n"
     ]
    }
   ],
   "source": [
    "age = 8\n",
    "\n",
    "if age < 18:\n",
    "  print(\"You are a child\")\n",
    "elif age < 13:\n",
    "  print(\"You are a teenager\")\n",
    "else:\n",
    "  print(\"You are an adult\")"
   ]
  },
  {
   "cell_type": "code",
   "execution_count": 10,
   "id": "9797f002",
   "metadata": {},
   "outputs": [
    {
     "name": "stdout",
     "output_type": "stream",
     "text": [
      "2024 is a leap year\n"
     ]
    }
   ],
   "source": [
    "## Practical Examples\n",
    "\n",
    "## Determine if a year is a leap year using nested condition statement\n",
    "\n",
    "year = int(input(\"Enter a year: \"))\n",
    "\n",
    "if year % 4 == 0:\n",
    "  if year % 100 == 0:\n",
    "    if year % 400 == 0:\n",
    "      print(year, \"is a leap year\")\n",
    "    else:\n",
    "      print(year, \"is not a leap year\")\n",
    "  else:\n",
    "    print(year, \"is a leap year\")\n",
    "else:\n",
    "  print(year, \"is not a leap year\")\n"
   ]
  }
 ],
 "metadata": {
  "kernelspec": {
   "display_name": "Python 3",
   "language": "python",
   "name": "python3"
  },
  "language_info": {
   "codemirror_mode": {
    "name": "ipython",
    "version": 3
   },
   "file_extension": ".py",
   "mimetype": "text/x-python",
   "name": "python",
   "nbconvert_exporter": "python",
   "pygments_lexer": "ipython3",
   "version": "3.12.0"
  }
 },
 "nbformat": 4,
 "nbformat_minor": 5
}
