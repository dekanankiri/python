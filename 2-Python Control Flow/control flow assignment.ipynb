{
 "cells": [
  {
   "cell_type": "markdown",
   "id": "b2679fee",
   "metadata": {},
   "source": [
    "### Assignment 1: Simple if Statement\n",
    "\n",
    "write programthat ask the user to input the number and prints whether the number is positive"
   ]
  },
  {
   "cell_type": "code",
   "execution_count": 2,
   "id": "b54383f0",
   "metadata": {},
   "outputs": [
    {
     "name": "stdout",
     "output_type": "stream",
     "text": [
      "2.0 is a positive nummber\n"
     ]
    }
   ],
   "source": [
    "num = float(input(\"Enter a number:\"))\n",
    "\n",
    "if num > 0:\n",
    "  print(f\"{num} is a positive nummber\")\n",
    "else:\n",
    "  print(f\"{num} is not positive number\")"
   ]
  },
  {
   "cell_type": "markdown",
   "id": "5351e375",
   "metadata": {},
   "source": [
    "### Assignment 2: if-else Statement\n",
    "\n",
    "Write a program that asks the user to input a number and prints whether the number is positive or negative"
   ]
  },
  {
   "cell_type": "code",
   "execution_count": 5,
   "id": "a5f0e3b0",
   "metadata": {},
   "outputs": [],
   "source": [
    "num = float(input(\"Enter a number:\"))\n",
    "\n",
    "if num > 0:\n",
    "  print(f\"{num} is a positive nummber\")\n",
    "elif num < 0:\n",
    "  print(f\"{num} is a negative number\")"
   ]
  },
  {
   "cell_type": "markdown",
   "id": "864ed7dd",
   "metadata": {},
   "source": [
    "### Assignment 3: if-elif-else Statement\n",
    "\n",
    "Write a program that asks the user to input a number and prits whether the number is positive, negative, or zero."
   ]
  },
  {
   "cell_type": "code",
   "execution_count": 8,
   "id": "4aa41cf0",
   "metadata": {},
   "outputs": [
    {
     "name": "stdout",
     "output_type": "stream",
     "text": [
      "2.0 is a positive nummber\n"
     ]
    }
   ],
   "source": [
    "num = float(input(\"Enter a number:\"))\n",
    "\n",
    "if num > 0:\n",
    "  print(f\"{num} is a positive nummber\")\n",
    "elif num < 0:\n",
    "  print(f\"{num} is a negative number\")\n",
    "else:\n",
    "  print(f\"{num} is a zero number\")"
   ]
  },
  {
   "cell_type": "markdown",
   "id": "841527f2",
   "metadata": {},
   "source": [
    "### Assignment 4: Nested if Statement\n",
    "\n",
    "Write a program that asks the user to input a number and prints whether the nummberis positive and even, positive and odd or negatif."
   ]
  },
  {
   "cell_type": "code",
   "execution_count": null,
   "id": "d065812b",
   "metadata": {},
   "outputs": [],
   "source": [
    "num = float(input(\"Enter a number:\"))\n",
    "\n",
    "if num > 0 and num % 2 == 0:\n",
    "  print(f\"{num} is a positive even number\")\n",
    "elif num > 0 and num % 2 != 0:\n",
    "  print(f\"{num} is a positive odd number\")\n",
    "else:\n",
    "  print(f\"{num} is zero or negative number\")"
   ]
  },
  {
   "cell_type": "markdown",
   "id": "52e1cee2",
   "metadata": {},
   "source": [
    "## Lesson 2.2: Loops\n",
    "\n",
    "### Assignment 5:for Loop\n",
    "\n",
    "Write a program that prints all the numbers from 1 to 10 using a for loop."
   ]
  },
  {
   "cell_type": "code",
   "execution_count": null,
   "id": "8685b365",
   "metadata": {},
   "outputs": [],
   "source": [
    "for i in range(1,11):\n",
    "  print(i)"
   ]
  },
  {
   "cell_type": "markdown",
   "id": "3dc49501",
   "metadata": {},
   "source": [
    "### Assignment 6: while Loop\n",
    "\n",
    "Write a program that prints all the numbers from 1 to 10 using a while loop."
   ]
  },
  {
   "cell_type": "code",
   "execution_count": null,
   "id": "a5bf1c79",
   "metadata": {},
   "outputs": [],
   "source": [
    "i = 1\n",
    "while i<11:\n",
    "  print(i)\n",
    "  i+=1"
   ]
  },
  {
   "cell_type": "markdown",
   "id": "8040945a",
   "metadata": {},
   "source": [
    "### Assignment 7: Nested Loops\n",
    "Write a program that prints a 5x5 grid of asterisks(*) using nested loops"
   ]
  },
  {
   "cell_type": "code",
   "execution_count": 19,
   "id": "3cd59d95",
   "metadata": {},
   "outputs": [
    {
     "name": "stdout",
     "output_type": "stream",
     "text": [
      "* * * * * \n",
      "* * * * * \n",
      "* * * * * \n",
      "* * * * * \n",
      "* * * * * \n"
     ]
    }
   ],
   "source": [
    "for i in range(5):\n",
    "  for j in range(5):\n",
    "    print(\"*\", end=\" \")\n",
    "  print()"
   ]
  },
  {
   "cell_type": "markdown",
   "id": "55e579c8",
   "metadata": {},
   "source": [
    "### Assignment 8: break Statement\n",
    "\n",
    "Write a program that asks the user to input numbers until they input 0. The program should print the sum of all the input numbers."
   ]
  },
  {
   "cell_type": "code",
   "execution_count": 20,
   "id": "415ce3bb",
   "metadata": {},
   "outputs": [
    {
     "name": "stdout",
     "output_type": "stream",
     "text": [
      "summ of all the number are 15.0\n"
     ]
    }
   ],
   "source": [
    "sum = 0\n",
    "\n",
    "while i != 0:\n",
    "  i = float(input(\"Enter a number\"))\n",
    "  sum = sum + i\n",
    "\n",
    "print(f\"summ of all the number are {sum}\")"
   ]
  },
  {
   "cell_type": "markdown",
   "id": "4da45a50",
   "metadata": {},
   "source": [
    "### Assignment 9: continue Statement\n",
    "\n",
    "Write a program that prints all the numbers from 1 to 10 except 5 using a for loop and continue statement"
   ]
  },
  {
   "cell_type": "code",
   "execution_count": null,
   "id": "c05fc7d0",
   "metadata": {},
   "outputs": [],
   "source": [
    "for i in range(1, 11):\n",
    "  if i == 5:\n",
    "    continue\n",
    "  print(i)"
   ]
  },
  {
   "cell_type": "markdown",
   "id": "ec868c0c",
   "metadata": {},
   "source": [
    "### Assignment 10: pass Statement\n",
    "Write a program that defines an empty function using the pass statement."
   ]
  },
  {
   "cell_type": "code",
   "execution_count": 22,
   "id": "3a4484af",
   "metadata": {},
   "outputs": [],
   "source": [
    "def function():\n",
    "  pass\n",
    "\n",
    "function()"
   ]
  },
  {
   "cell_type": "markdown",
   "id": "140e82a6",
   "metadata": {},
   "source": [
    "### Assignment 11: Combining Loops and Conditionals\n",
    "Write a program that asks the user to input a number and prints all the even numbers from 1 to that number using for loop"
   ]
  },
  {
   "cell_type": "code",
   "execution_count": 24,
   "id": "41e9728a",
   "metadata": {},
   "outputs": [
    {
     "name": "stdout",
     "output_type": "stream",
     "text": [
      "2\n",
      "4\n",
      "6\n",
      "8\n",
      "10\n",
      "12\n"
     ]
    }
   ],
   "source": [
    "num = int(input(\"Enter a Number:\"))\n",
    "for i in range(2,num+1,2):\n",
    "  print(i)\n",
    "  "
   ]
  },
  {
   "cell_type": "markdown",
   "id": "86f96fe8",
   "metadata": {},
   "source": [
    "### Assignment 12: Factorial Calculation\n",
    "Write a program that calculates the factorial of a number input by the user using a while loop"
   ]
  },
  {
   "cell_type": "code",
   "execution_count": 29,
   "id": "38fdf650",
   "metadata": {},
   "outputs": [
    {
     "name": "stdout",
     "output_type": "stream",
     "text": [
      "factorial from 13 is 6227020800\n"
     ]
    }
   ],
   "source": [
    "num = int(input(\"Enter a number: \"))\n",
    "n = num\n",
    "factorial = num\n",
    "while num>1:\n",
    "  num = num - 1\n",
    "  factorial = factorial * num\n",
    "print(f\"factorial from {n} is {factorial}\")"
   ]
  },
  {
   "cell_type": "markdown",
   "id": "3c093a33",
   "metadata": {},
   "source": [
    "### Assignment 13: Sum of Digits\n",
    "Write a program that calculates the sum of the digits of a number input by the user using a while loop."
   ]
  },
  {
   "cell_type": "code",
   "execution_count": 33,
   "id": "90318477",
   "metadata": {},
   "outputs": [
    {
     "name": "stdout",
     "output_type": "stream",
     "text": [
      "Sum of the digits of number 12345 is 15\n"
     ]
    }
   ],
   "source": [
    "num = int(input(\"Enter a number: \"))\n",
    "number = num\n",
    "sum_digits = 0\n",
    "while num>0:\n",
    "  digit = num%10\n",
    "  sum_digits += digit\n",
    "  num = num // 10\n",
    "print(f\"Sum of the digits of number {number} is {sum_digits}\")"
   ]
  },
  {
   "cell_type": "markdown",
   "id": "97c6f619",
   "metadata": {},
   "source": [
    "### Assignment 14: Prime Number Check\n",
    "Write a program that checks if a number input by the user is a prime number using for loop"
   ]
  },
  {
   "cell_type": "code",
   "execution_count": 29,
   "id": "a0b38f90",
   "metadata": {},
   "outputs": [
    {
     "name": "stdout",
     "output_type": "stream",
     "text": [
      "5 is a prime number\n"
     ]
    }
   ],
   "source": [
    "num = int(input(\"Enter a number:\"))\n",
    "if num>1:\n",
    "  for i in range(2,num):\n",
    "    if num%i==0:\n",
    "      print(f\"{num} is not a prime number\")\n",
    "      break\n",
    "  else:\n",
    "    print(f\"{num} is a prime number\")\n",
    "else:\n",
    "  print(f\"{num} is not a prime number\")"
   ]
  },
  {
   "cell_type": "markdown",
   "id": "b9f79189",
   "metadata": {},
   "source": [
    "### Assignment 15: Fibonacci Sequence\n",
    "Write a program that prints the first n fibonacci numbers, where n is input by the user"
   ]
  },
  {
   "cell_type": "code",
   "execution_count": 37,
   "id": "54b9241a",
   "metadata": {},
   "outputs": [
    {
     "name": "stdout",
     "output_type": "stream",
     "text": [
      "0\n",
      "1\n",
      "1\n",
      "2\n",
      "3\n",
      "5\n",
      "8\n",
      "13\n",
      "21\n",
      "34\n"
     ]
    }
   ],
   "source": [
    "## Fibonacci sequence input by the user\n",
    "\n",
    "n = int(input(\"Enter the number of fibonaci numbers to print:\"))\n",
    "a = 0\n",
    "b = 1\n",
    "count = 0\n",
    "\n",
    "while count < n:\n",
    "  print(a)\n",
    "  a, b = b, a+b\n",
    "  count+=1\n",
    "  \n",
    "\n",
    "\n"
   ]
  }
 ],
 "metadata": {
  "kernelspec": {
   "display_name": "Python 3",
   "language": "python",
   "name": "python3"
  },
  "language_info": {
   "codemirror_mode": {
    "name": "ipython",
    "version": 3
   },
   "file_extension": ".py",
   "mimetype": "text/x-python",
   "name": "python",
   "nbconvert_exporter": "python",
   "pygments_lexer": "ipython3",
   "version": "3.12.0"
  }
 },
 "nbformat": 4,
 "nbformat_minor": 5
}
