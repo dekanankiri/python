{
 "cells": [
  {
   "cell_type": "markdown",
   "id": "f8717b68",
   "metadata": {},
   "source": [
    "# Important Module\n",
    "- from concurrent.futures import ThreadPoolExecutor\n",
    "- time\n",
    "- threading\n",
    "- multiprocessing\n",
    "- from concurrent.futures import ProcessPoolExecutor\n"
   ]
  }
 ],
 "metadata": {
  "kernelspec": {
   "display_name": "Python 3",
   "language": "python",
   "name": "python3"
  },
  "language_info": {
   "codemirror_mode": {
    "name": "ipython",
    "version": 3
   },
   "file_extension": ".py",
   "mimetype": "text/x-python",
   "name": "python",
   "nbconvert_exporter": "python",
   "pygments_lexer": "ipython3",
   "version": "3.12.0"
  }
 },
 "nbformat": 4,
 "nbformat_minor": 5
}
