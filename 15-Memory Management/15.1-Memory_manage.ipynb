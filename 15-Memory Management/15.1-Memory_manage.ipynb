{
 "cells": [
  {
   "cell_type": "markdown",
   "id": "7c7abddf",
   "metadata": {},
   "source": [
    "### Python Memory Management\n",
    "Memory management in Python involves a combination of automatic garbage collection,reference counting,and various internal optimizations to efficiently manage memory allocation and deallocation. Understanding these mechanisms can help developers write more efficient and robust applications.\n",
    "1. Key Concepts in Python Memory Management\n",
    "2. Memory Allocation and Deallocation\n",
    "3. Reference counting\n",
    "4. Garbage Collection\n",
    "5. The gc module\n",
    "6. Memory Management Best Practice"
   ]
  },
  {
   "cell_type": "markdown",
   "id": "1efcfbf4",
   "metadata": {},
   "source": [
    "### Reference counting\n",
    "Reference counting is the primary method Python uses to manage memory. Each object in Python maintains a count of references pointing to it. When the reference count drops to zero, the memory occupied by the object is deallocated."
   ]
  },
  {
   "cell_type": "code",
   "execution_count": null,
   "id": "2697c768",
   "metadata": {},
   "outputs": [
    {
     "name": "stdout",
     "output_type": "stream",
     "text": [
      "2\n"
     ]
    }
   ],
   "source": [
    "import sys\n",
    "\n",
    "a=[]\n",
    "## 2 (one reference from 'a' and one from getrefcount())\n",
    "print(sys.getrefcount(a))"
   ]
  },
  {
   "cell_type": "code",
   "execution_count": 2,
   "id": "a3fed10b",
   "metadata": {},
   "outputs": [
    {
     "name": "stdout",
     "output_type": "stream",
     "text": [
      "3\n"
     ]
    }
   ],
   "source": [
    "b=a\n",
    "print(sys.getrefcount(b))"
   ]
  },
  {
   "cell_type": "code",
   "execution_count": 6,
   "id": "7c3da217",
   "metadata": {},
   "outputs": [
    {
     "name": "stdout",
     "output_type": "stream",
     "text": [
      "2\n"
     ]
    }
   ],
   "source": [
    "del b\n",
    "print(sys.getrefcount(a))"
   ]
  },
  {
   "cell_type": "markdown",
   "id": "ea539caa",
   "metadata": {},
   "source": [
    "#### Garbage Collection\n",
    "Python includes a cyclic garbage collector to handle reference cycles. Reference cycle occur when objects reference each other, preventing their reference counts from reching zero."
   ]
  },
  {
   "cell_type": "code",
   "execution_count": 7,
   "id": "b9389ebb",
   "metadata": {},
   "outputs": [],
   "source": [
    "import gc\n",
    "## enable garbage collection\n",
    "gc.enable()"
   ]
  },
  {
   "cell_type": "code",
   "execution_count": 8,
   "id": "d70967c6",
   "metadata": {},
   "outputs": [],
   "source": [
    "gc.disable()"
   ]
  },
  {
   "cell_type": "code",
   "execution_count": 16,
   "id": "1fc798c2",
   "metadata": {},
   "outputs": [
    {
     "data": {
      "text/plain": [
       "0"
      ]
     },
     "execution_count": 16,
     "metadata": {},
     "output_type": "execute_result"
    }
   ],
   "source": [
    "gc.collect()"
   ]
  },
  {
   "cell_type": "code",
   "execution_count": 17,
   "id": "4d4988ab",
   "metadata": {},
   "outputs": [
    {
     "name": "stdout",
     "output_type": "stream",
     "text": [
      "[{'collections': 176, 'collected': 1596, 'uncollectable': 0}, {'collections': 15, 'collected': 268, 'uncollectable': 0}, {'collections': 7, 'collected': 188, 'uncollectable': 0}]\n"
     ]
    }
   ],
   "source": [
    "### Get garbage collection stats\n",
    "print(gc.get_stats())"
   ]
  },
  {
   "cell_type": "code",
   "execution_count": 18,
   "id": "1172b874",
   "metadata": {},
   "outputs": [
    {
     "name": "stdout",
     "output_type": "stream",
     "text": [
      "[]\n"
     ]
    }
   ],
   "source": [
    "### get unrechable objects \n",
    "print(gc.garbage)"
   ]
  },
  {
   "cell_type": "markdown",
   "id": "71bd6ca1",
   "metadata": {},
   "source": [
    "### Memory Management Best Practice\n",
    "1. Use Local Variables: Local variable have shorter lifespan and are freed sooner than global variables.\n",
    "2. Avoid Circular References: Circular references can lead to memory leaks if not properly managed.\n",
    "3. Use Generators: Generators produce items one at a time and only keep one item in memory at a time, making them memory efficient.\n",
    "4. Explicitly Delete Objects: Use the del statement to delete variables and objects explicitly.\n",
    "5. Profile Memory Usage: Use memory profilling tools like tracemalloc and memory_profiller to identify memory leaks and optimize memory usage."
   ]
  },
  {
   "cell_type": "code",
   "execution_count": null,
   "id": "cd098688",
   "metadata": {},
   "outputs": [
    {
     "name": "stdout",
     "output_type": "stream",
     "text": [
      "Object obj1 created\n",
      "Object obj2 created\n",
      "Object: obj1 deleted\n",
      "Object: obj2 deleted\n"
     ]
    },
    {
     "data": {
      "text/plain": [
       "1513"
      ]
     },
     "execution_count": 19,
     "metadata": {},
     "output_type": "execute_result"
    }
   ],
   "source": [
    "## Handled Circular reference\n",
    "import gc\n",
    "\n",
    "class MyObject:\n",
    "  def __init__(self,name):\n",
    "    self.name = name\n",
    "    print(f\"Object {self.name} created\")\n",
    "  \n",
    "  def __del__(self):\n",
    "    print(f\"Object: {self.name} deleted\")\n",
    "\n",
    "## Create circular reference\n",
    "obj1 = MyObject(\"obj1\")\n",
    "obj2 = MyObject(\"obj2\")\n",
    "obj1.ref=obj2\n",
    "obj2.ref=obj1\n",
    "\n",
    "del obj1\n",
    "del obj2\n",
    "\n",
    "## Manually trigger the garbage collection\n",
    "gc.collect()"
   ]
  },
  {
   "cell_type": "code",
   "execution_count": 21,
   "id": "aa82b117",
   "metadata": {},
   "outputs": [
    {
     "name": "stdout",
     "output_type": "stream",
     "text": [
      "Garbage collected objects: []\n"
     ]
    }
   ],
   "source": [
    "# Print collected objects\n",
    "print(f\"Garbage collected objects: {gc.garbage}\")"
   ]
  },
  {
   "cell_type": "code",
   "execution_count": 22,
   "id": "9b560bbd",
   "metadata": {},
   "outputs": [
    {
     "name": "stdout",
     "output_type": "stream",
     "text": [
      "0\n",
      "1\n",
      "2\n",
      "3\n",
      "4\n",
      "5\n",
      "6\n",
      "7\n",
      "8\n",
      "9\n",
      "10\n",
      "11\n"
     ]
    }
   ],
   "source": [
    "## Generators For Memory Efficiency\n",
    "### Generators allow yout to produce items one at a time, using memory efficiently by only keeping one item in memory at a time.\n",
    "\n",
    "def generate_numbers(n):\n",
    "  for i in range(n):\n",
    "    yield i\n",
    "\n",
    "## using the generator\n",
    "for num in generate_numbers(1000):\n",
    "  print(num)\n",
    "  if num>10:\n",
    "    break"
   ]
  },
  {
   "cell_type": "code",
   "execution_count": 27,
   "id": "fcc54acf",
   "metadata": {},
   "outputs": [],
   "source": [
    "### Profilling Memory Usage with Tracemalloc\n",
    "import tracemalloc\n",
    "\n",
    "def create_list():\n",
    "  return [i for i in range(1000)]\n",
    "\n",
    "def main():\n",
    "  tracemalloc.start()\n",
    "\n",
    "  create_list()\n",
    "\n",
    "  snapshot = tracemalloc.take_snapshot()\n",
    "  top_stats = snapshot.statistics('lineno')\n",
    "\n",
    "  print(\"[ Top 10 ]\")\n",
    "  for stat in top_stats[::]:\n",
    "    print(stat)\n",
    "\n",
    "\n"
   ]
  },
  {
   "cell_type": "code",
   "execution_count": 28,
   "id": "7c9e8ddd",
   "metadata": {},
   "outputs": [
    {
     "name": "stdout",
     "output_type": "stream",
     "text": [
      "[ Top 10 ]\n",
      "c:\\Belajar\\udemy\\Data analyst Bootcamp\\python\\venv\\Lib\\ast.py:52: size=3584 KiB, count=49833, average=74 B\n",
      "c:\\Belajar\\udemy\\Data analyst Bootcamp\\python\\venv\\Lib\\site-packages\\executing\\executing.py:171: size=438 KiB, count=6032, average=74 B\n",
      "c:\\Belajar\\udemy\\Data analyst Bootcamp\\python\\venv\\Lib\\linecache.py:137: size=326 KiB, count=3459, average=97 B\n",
      "c:\\Belajar\\udemy\\Data analyst Bootcamp\\python\\venv\\Lib\\site-packages\\executing\\executing.py:154: size=323 KiB, count=3460, average=96 B\n",
      "c:\\Belajar\\udemy\\Data analyst Bootcamp\\python\\venv\\Lib\\site-packages\\executing\\executing.py:153: size=156 KiB, count=1, average=156 KiB\n",
      "<frozen ntpath>:66: size=115 KiB, count=876, average=134 B\n",
      "<frozen ntpath>:746: size=114 KiB, count=875, average=134 B\n",
      "c:\\Belajar\\udemy\\Data analyst Bootcamp\\python\\venv\\Lib\\site-packages\\executing\\executing.py:169: size=108 KiB, count=537, average=206 B\n",
      "c:\\Belajar\\udemy\\Data analyst Bootcamp\\python\\venv\\Lib\\site-packages\\pygments\\token.py:26: size=54.8 KiB, count=303, average=185 B\n",
      "c:\\Belajar\\udemy\\Data analyst Bootcamp\\python\\venv\\Lib\\inspect.py:1012: size=50.7 KiB, count=1, average=50.7 KiB\n",
      "<frozen genericpath>:89: size=49.9 KiB, count=512, average=100 B\n",
      "c:\\Belajar\\udemy\\Data analyst Bootcamp\\python\\venv\\Lib\\site-packages\\pygments\\style.py:94: size=48.3 KiB, count=767, average=64 B\n",
      "c:\\Belajar\\udemy\\Data analyst Bootcamp\\python\\venv\\Lib\\site-packages\\executing\\executing.py:1152: size=37.5 KiB, count=1199, average=32 B\n",
      "<string>:1: size=37.0 KiB, count=351, average=108 B\n",
      "c:\\Belajar\\udemy\\Data analyst Bootcamp\\python\\venv\\Lib\\site-packages\\pygments\\formatters\\terminal256.py:44: size=36.1 KiB, count=748, average=49 B\n",
      "c:\\Belajar\\udemy\\Data analyst Bootcamp\\python\\venv\\Lib\\site-packages\\executing\\executing.py:212: size=32.1 KiB, count=1, average=32.1 KiB\n",
      "c:\\Belajar\\udemy\\Data analyst Bootcamp\\python\\venv\\Lib\\site-packages\\pygments\\token.py:44: size=26.9 KiB, count=408, average=68 B\n",
      "c:\\Belajar\\udemy\\Data analyst Bootcamp\\python\\venv\\Lib\\inspect.py:1009: size=25.4 KiB, count=1, average=25.4 KiB\n",
      "c:\\Belajar\\udemy\\Data analyst Bootcamp\\python\\venv\\Lib\\site-packages\\executing\\executing.py:451: size=24.3 KiB, count=230, average=108 B\n",
      "c:\\Belajar\\udemy\\Data analyst Bootcamp\\python\\venv\\Lib\\site-packages\\pygments\\formatters\\terminal256.py:242: size=23.9 KiB, count=207, average=118 B\n",
      "c:\\Belajar\\udemy\\Data analyst Bootcamp\\python\\venv\\Lib\\site-packages\\stack_data\\core.py:458: size=18.2 KiB, count=4, average=4652 B\n",
      "c:\\Belajar\\udemy\\Data analyst Bootcamp\\python\\venv\\Lib\\site-packages\\IPython\\core\\compilerop.py:174: size=18.1 KiB, count=198, average=94 B\n",
      "c:\\Belajar\\udemy\\Data analyst Bootcamp\\python\\venv\\Lib\\site-packages\\pygments\\style.py:95: size=18.0 KiB, count=2, average=9240 B\n",
      "c:\\Belajar\\udemy\\Data analyst Bootcamp\\python\\venv\\Lib\\site-packages\\pygments\\token.py:38: size=17.9 KiB, count=87, average=210 B\n",
      "c:\\Belajar\\udemy\\Data analyst Bootcamp\\python\\venv\\Lib\\site-packages\\pygments\\lexer.py:508: size=17.2 KiB, count=220, average=80 B\n",
      "c:\\Belajar\\udemy\\Data analyst Bootcamp\\python\\venv\\Lib\\site-packages\\stack_data\\core.py:461: size=12.1 KiB, count=204, average=61 B\n",
      "c:\\Belajar\\udemy\\Data analyst Bootcamp\\python\\venv\\Lib\\site-packages\\pygments\\formatters\\terminal256.py:180: size=11.7 KiB, count=122, average=98 B\n",
      "c:\\Belajar\\udemy\\Data analyst Bootcamp\\python\\venv\\Lib\\site-packages\\pygments\\lexer.py:591: size=10.4 KiB, count=180, average=59 B\n",
      "c:\\Belajar\\udemy\\Data analyst Bootcamp\\python\\venv\\Lib\\json\\decoder.py:353: size=10.3 KiB, count=161, average=65 B\n",
      "c:\\Belajar\\udemy\\Data analyst Bootcamp\\python\\venv\\Lib\\site-packages\\pygments\\style.py:112: size=10.2 KiB, count=204, average=51 B\n",
      "<frozen abc>:123: size=10051 B, count=133, average=76 B\n",
      "c:\\Belajar\\udemy\\Data analyst Bootcamp\\python\\venv\\Lib\\dis.py:462: size=9600 B, count=300, average=32 B\n",
      "c:\\Belajar\\udemy\\Data analyst Bootcamp\\python\\venv\\Lib\\tokenize.py:537: size=9152 B, count=163, average=56 B\n",
      "c:\\Belajar\\udemy\\Data analyst Bootcamp\\python\\venv\\Lib\\site-packages\\pygments\\token.py:37: size=8936 B, count=102, average=88 B\n",
      "c:\\Belajar\\udemy\\Data analyst Bootcamp\\python\\venv\\Lib\\ast.py:405: size=8586 B, count=166, average=52 B\n",
      "c:\\Belajar\\udemy\\Data analyst Bootcamp\\python\\venv\\Lib\\site-packages\\pygments\\lexer.py:557: size=6736 B, count=68, average=99 B\n",
      "c:\\Belajar\\udemy\\Data analyst Bootcamp\\python\\venv\\Lib\\site-packages\\IPython\\core\\compilerop.py:86: size=6557 B, count=97, average=68 B\n",
      "c:\\Belajar\\udemy\\Data analyst Bootcamp\\python\\venv\\Lib\\site-packages\\IPython\\core\\builtin_trap.py:77: size=6512 B, count=1, average=6512 B\n",
      "c:\\Belajar\\udemy\\Data analyst Bootcamp\\python\\venv\\Lib\\codeop.py:118: size=5664 B, count=82, average=69 B\n",
      "c:\\Belajar\\udemy\\Data analyst Bootcamp\\python\\venv\\Lib\\site-packages\\pygments\\style.py:70: size=5264 B, count=112, average=47 B\n",
      "c:\\Belajar\\udemy\\Data analyst Bootcamp\\python\\venv\\Lib\\site-packages\\zmq\\sugar\\attrsettr.py:45: size=5029 B, count=107, average=47 B\n",
      "c:\\Belajar\\udemy\\Data analyst Bootcamp\\python\\venv\\Lib\\site-packages\\pygments\\lexer.py:46: size=4624 B, count=18, average=257 B\n",
      "c:\\Belajar\\udemy\\Data analyst Bootcamp\\python\\venv\\Lib\\site-packages\\pygments\\lexer.py:563: size=4544 B, count=26, average=175 B\n",
      "c:\\Belajar\\udemy\\Data analyst Bootcamp\\python\\venv\\Lib\\site-packages\\pygments\\style.py:61: size=4384 B, count=15, average=292 B\n",
      "c:\\Belajar\\udemy\\Data analyst Bootcamp\\python\\venv\\Lib\\dis.py:626: size=3904 B, count=122, average=32 B\n",
      "c:\\Belajar\\udemy\\Data analyst Bootcamp\\python\\venv\\Lib\\site-packages\\jupyter_client\\session.py:1057: size=3393 B, count=24, average=141 B\n",
      "c:\\Belajar\\udemy\\Data analyst Bootcamp\\python\\venv\\Lib\\site-packages\\zmq\\sugar\\socket.py:802: size=3168 B, count=18, average=176 B\n",
      "c:\\Belajar\\udemy\\Data analyst Bootcamp\\python\\venv\\Lib\\site-packages\\traitlets\\traitlets.py:731: size=3110 B, count=49, average=63 B\n",
      "c:\\Belajar\\udemy\\Data analyst Bootcamp\\python\\venv\\Lib\\site-packages\\pygments\\lexer.py:537: size=3072 B, count=32, average=96 B\n",
      "c:\\Belajar\\udemy\\Data analyst Bootcamp\\python\\venv\\Lib\\site-packages\\pygments\\style.py:96: size=2904 B, count=58, average=50 B\n",
      "c:\\Belajar\\udemy\\Data analyst Bootcamp\\python\\venv\\Lib\\site-packages\\traitlets\\traitlets.py:1543: size=2692 B, count=43, average=63 B\n",
      "c:\\Belajar\\udemy\\Data analyst Bootcamp\\python\\venv\\Lib\\site-packages\\jupyter_client\\jsonutil.py:111: size=2550 B, count=51, average=50 B\n",
      "c:\\Belajar\\udemy\\Data analyst Bootcamp\\python\\venv\\Lib\\site-packages\\jupyter_client\\jsonutil.py:75: size=2288 B, count=11, average=208 B\n",
      "c:\\Belajar\\udemy\\Data analyst Bootcamp\\python\\venv\\Lib\\site-packages\\traitlets\\traitlets.py:1514: size=2040 B, count=17, average=120 B\n",
      "c:\\Belajar\\udemy\\Data analyst Bootcamp\\python\\venv\\Lib\\site-packages\\ipykernel\\iostream.py:287: size=1992 B, count=20, average=100 B\n",
      "c:\\Belajar\\udemy\\Data analyst Bootcamp\\python\\venv\\Lib\\site-packages\\pygments\\regexopt.py:77: size=1904 B, count=34, average=56 B\n",
      "c:\\Belajar\\udemy\\Data analyst Bootcamp\\python\\venv\\Lib\\site-packages\\pygments\\lexer.py:534: size=1792 B, count=32, average=56 B\n",
      "c:\\Belajar\\udemy\\Data analyst Bootcamp\\python\\venv\\Lib\\site-packages\\IPython\\core\\interactiveshell.py:3145: size=1584 B, count=12, average=132 B\n",
      "c:\\Belajar\\udemy\\Data analyst Bootcamp\\python\\venv\\Lib\\site-packages\\executing\\_position_node_finder.py:75: size=1552 B, count=4, average=388 B\n",
      "c:\\Belajar\\udemy\\Data analyst Bootcamp\\python\\venv\\Lib\\site-packages\\pygments\\lexer.py:564: size=1544 B, count=30, average=51 B\n",
      "c:\\Belajar\\udemy\\Data analyst Bootcamp\\python\\venv\\Lib\\site-packages\\pygments\\lexer.py:540: size=1536 B, count=32, average=48 B\n",
      "c:\\Belajar\\udemy\\Data analyst Bootcamp\\python\\venv\\Lib\\site-packages\\pygments\\formatters\\terminal256.py:221: size=1536 B, count=2, average=768 B\n",
      "c:\\Belajar\\udemy\\Data analyst Bootcamp\\python\\venv\\Lib\\site-packages\\pygments\\lexer.py:532: size=1516 B, count=32, average=47 B\n",
      "c:\\Belajar\\udemy\\Data analyst Bootcamp\\python\\venv\\Lib\\contextlib.py:105: size=1496 B, count=14, average=107 B\n",
      "c:\\Belajar\\udemy\\Data analyst Bootcamp\\python\\venv\\Lib\\site-packages\\pygments\\lexer.py:573: size=1472 B, count=21, average=70 B\n",
      "c:\\Belajar\\udemy\\Data analyst Bootcamp\\python\\venv\\Lib\\site-packages\\ipykernel\\compiler.py:91: size=1366 B, count=12, average=114 B\n",
      "c:\\Belajar\\udemy\\Data analyst Bootcamp\\python\\venv\\Lib\\site-packages\\pygments\\formatters\\terminal256.py:186: size=1344 B, count=21, average=64 B\n",
      "c:\\Belajar\\udemy\\Data analyst Bootcamp\\python\\venv\\Lib\\site-packages\\ipykernel\\iostream.py:346: size=1312 B, count=14, average=94 B\n",
      "c:\\Belajar\\udemy\\Data analyst Bootcamp\\python\\venv\\Lib\\dis.py:458: size=1184 B, count=37, average=32 B\n",
      "<frozen genericpath>:92: size=1176 B, count=21, average=56 B\n",
      "c:\\Belajar\\udemy\\Data analyst Bootcamp\\python\\venv\\Lib\\site-packages\\pygments\\lexer.py:523: size=1152 B, count=24, average=48 B\n",
      "c:\\Belajar\\udemy\\Data analyst Bootcamp\\python\\venv\\Lib\\re\\_parser.py:541: size=1120 B, count=20, average=56 B\n",
      "c:\\Belajar\\udemy\\Data analyst Bootcamp\\python\\venv\\Lib\\site-packages\\IPython\\core\\interactiveshell.py:3502: size=1099 B, count=3, average=366 B\n",
      "c:\\Belajar\\udemy\\Data analyst Bootcamp\\python\\venv\\Lib\\re\\_compiler.py:759: size=1080 B, count=3, average=360 B\n",
      "c:\\Belajar\\udemy\\Data analyst Bootcamp\\python\\venv\\Lib\\ast.py:428: size=1027 B, count=20, average=51 B\n",
      "c:\\Belajar\\udemy\\Data analyst Bootcamp\\python\\venv\\Lib\\site-packages\\ipykernel\\ipkernel.py:455: size=960 B, count=6, average=160 B\n",
      "c:\\Belajar\\udemy\\Data analyst Bootcamp\\python\\venv\\Lib\\dis.py:190: size=958 B, count=4, average=240 B\n",
      "c:\\Belajar\\udemy\\Data analyst Bootcamp\\python\\venv\\Lib\\site-packages\\ipykernel\\zmqshell.py:577: size=888 B, count=8, average=111 B\n",
      "c:\\Belajar\\udemy\\Data analyst Bootcamp\\python\\venv\\Lib\\site-packages\\IPython\\core\\history.py:1011: size=832 B, count=9, average=92 B\n",
      "c:\\Belajar\\udemy\\Data analyst Bootcamp\\python\\venv\\Lib\\site-packages\\IPython\\core\\history.py:958: size=826 B, count=4, average=206 B\n",
      "c:\\Belajar\\udemy\\Data analyst Bootcamp\\python\\venv\\Lib\\site-packages\\ipykernel\\ipkernel.py:368: size=808 B, count=3, average=269 B\n",
      "c:\\Belajar\\udemy\\Data analyst Bootcamp\\python\\venv\\Lib\\site-packages\\executing\\executing.py:223: size=776 B, count=5, average=155 B\n",
      "c:\\Belajar\\udemy\\Data analyst Bootcamp\\python\\venv\\Lib\\site-packages\\IPython\\core\\interactiveshell.py:3394: size=760 B, count=2, average=380 B\n",
      "c:\\Belajar\\udemy\\Data analyst Bootcamp\\python\\venv\\Lib\\site-packages\\ipykernel\\kernelbase.py:395: size=744 B, count=3, average=248 B\n",
      "c:\\Belajar\\udemy\\Data analyst Bootcamp\\python\\venv\\Lib\\site-packages\\IPython\\core\\history.py:959: size=727 B, count=2, average=364 B\n",
      "c:\\Belajar\\udemy\\Data analyst Bootcamp\\python\\venv\\Lib\\site-packages\\IPython\\core\\compilerop.py:171: size=720 B, count=10, average=72 B\n",
      "c:\\Belajar\\udemy\\Data analyst Bootcamp\\python\\venv\\Lib\\logging\\__init__.py:1622: size=720 B, count=3, average=240 B\n",
      "c:\\Belajar\\udemy\\Data analyst Bootcamp\\python\\venv\\Lib\\site-packages\\zmq\\sugar\\socket.py:799: size=704 B, count=7, average=101 B\n",
      "c:\\Belajar\\udemy\\Data analyst Bootcamp\\python\\venv\\Lib\\site-packages\\ipykernel\\kernelbase.py:505: size=696 B, count=3, average=232 B\n",
      "c:\\Belajar\\udemy\\Data analyst Bootcamp\\python\\venv\\Lib\\site-packages\\pygments\\__init__.py:65: size=690 B, count=6, average=115 B\n",
      "c:\\Belajar\\udemy\\Data analyst Bootcamp\\python\\venv\\Lib\\site-packages\\ipykernel\\kernelbase.py:752: size=672 B, count=2, average=336 B\n",
      "c:\\Belajar\\udemy\\Data analyst Bootcamp\\python\\venv\\Lib\\site-packages\\executing\\executing.py:317: size=664 B, count=3, average=221 B\n",
      "c:\\Belajar\\udemy\\Data analyst Bootcamp\\python\\venv\\Lib\\site-packages\\stack_data\\core.py:587: size=648 B, count=5, average=130 B\n",
      "c:\\Belajar\\udemy\\Data analyst Bootcamp\\python\\venv\\Lib\\site-packages\\IPython\\core\\interactiveshell.py:3699: size=648 B, count=4, average=162 B\n",
      "c:\\Belajar\\udemy\\Data analyst Bootcamp\\python\\venv\\Lib\\site-packages\\IPython\\core\\interactiveshell.py:3639: size=648 B, count=2, average=324 B\n",
      "c:\\Belajar\\udemy\\Data analyst Bootcamp\\python\\venv\\Lib\\site-packages\\jupyter_client\\jsonutil.py:73: size=640 B, count=10, average=64 B\n",
      "c:\\Belajar\\udemy\\Data analyst Bootcamp\\python\\venv\\Lib\\site-packages\\jupyter_client\\session.py:100: size=632 B, count=4, average=158 B\n",
      "c:\\Belajar\\udemy\\Data analyst Bootcamp\\python\\venv\\Lib\\site-packages\\jupyter_client\\session.py:1085: size=624 B, count=3, average=208 B\n",
      "c:\\Belajar\\udemy\\Data analyst Bootcamp\\python\\venv\\Lib\\site-packages\\ipykernel\\kernelbase.py:744: size=624 B, count=3, average=208 B\n",
      "c:\\Belajar\\udemy\\Data analyst Bootcamp\\python\\venv\\Lib\\site-packages\\IPython\\core\\interactiveshell.py:3171: size=624 B, count=2, average=312 B\n",
      "c:\\Belajar\\udemy\\Data analyst Bootcamp\\python\\venv\\Lib\\site-packages\\stack_data\\core.py:756: size=616 B, count=4, average=154 B\n",
      "c:\\Belajar\\udemy\\Data analyst Bootcamp\\python\\venv\\Lib\\site-packages\\IPython\\core\\ultratb.py:807: size=616 B, count=4, average=154 B\n",
      "c:\\Belajar\\udemy\\Data analyst Bootcamp\\python\\venv\\Lib\\site-packages\\executing\\executing.py:287: size=592 B, count=4, average=148 B\n",
      "c:\\Belajar\\udemy\\Data analyst Bootcamp\\python\\venv\\Lib\\dis.py:389: size=590 B, count=11, average=54 B\n",
      "c:\\Belajar\\udemy\\Data analyst Bootcamp\\python\\venv\\Lib\\threading.py:1043: size=568 B, count=1, average=568 B\n",
      "c:\\Belajar\\udemy\\Data analyst Bootcamp\\python\\venv\\Lib\\dis.py:495: size=564 B, count=12, average=47 B\n",
      "c:\\Belajar\\udemy\\Data analyst Bootcamp\\python\\venv\\Lib\\site-packages\\ipykernel\\iostream.py:276: size=544 B, count=7, average=78 B\n",
      "c:\\Belajar\\udemy\\Data analyst Bootcamp\\python\\venv\\Lib\\site-packages\\pygments\\style.py:81: size=544 B, count=4, average=136 B\n",
      "c:\\Belajar\\udemy\\Data analyst Bootcamp\\python\\venv\\Lib\\site-packages\\pygments\\lexer.py:654: size=544 B, count=4, average=136 B\n",
      "c:\\Belajar\\udemy\\Data analyst Bootcamp\\python\\venv\\Lib\\site-packages\\jupyter_client\\session.py:670: size=544 B, count=4, average=136 B\n",
      "c:\\Belajar\\udemy\\Data analyst Bootcamp\\python\\venv\\Lib\\site-packages\\jupyter_client\\session.py:278: size=544 B, count=4, average=136 B\n",
      "c:\\Belajar\\udemy\\Data analyst Bootcamp\\python\\venv\\Lib\\site-packages\\IPython\\core\\interactiveshell.py:3292: size=544 B, count=4, average=136 B\n",
      "c:\\Belajar\\udemy\\Data analyst Bootcamp\\python\\venv\\Lib\\site-packages\\dateutil\\parser\\isoparser.py:146: size=528 B, count=11, average=48 B\n",
      "c:\\Belajar\\udemy\\Data analyst Bootcamp\\python\\venv\\Lib\\site-packages\\IPython\\core\\interactiveshell.py:3116: size=528 B, count=2, average=264 B\n",
      "c:\\Belajar\\udemy\\Data analyst Bootcamp\\python\\venv\\Lib\\site-packages\\pygments\\style.py:92: size=512 B, count=8, average=64 B\n",
      "c:\\Belajar\\udemy\\Data analyst Bootcamp\\python\\venv\\Lib\\site-packages\\pygments\\token.py:39: size=512 B, count=1, average=512 B\n",
      "c:\\Belajar\\udemy\\Data analyst Bootcamp\\python\\venv\\Lib\\asyncio\\events.py:84: size=504 B, count=6, average=84 B\n",
      "c:\\Belajar\\udemy\\Data analyst Bootcamp\\python\\venv\\Lib\\site-packages\\ipykernel\\kernelbase.py:749: size=504 B, count=4, average=126 B\n",
      "c:\\Belajar\\udemy\\Data analyst Bootcamp\\python\\venv\\Lib\\site-packages\\IPython\\core\\ultratb.py:804: size=488 B, count=4, average=122 B\n",
      "c:\\Belajar\\udemy\\Data analyst Bootcamp\\python\\venv\\Lib\\site-packages\\pygments\\regexopt.py:78: size=480 B, count=10, average=48 B\n",
      "c:\\Belajar\\udemy\\Data analyst Bootcamp\\python\\venv\\Lib\\site-packages\\IPython\\core\\interactiveshell.py:3271: size=480 B, count=8, average=60 B\n",
      "c:\\Belajar\\udemy\\Data analyst Bootcamp\\python\\venv\\Lib\\site-packages\\IPython\\core\\ultratb.py:212: size=462 B, count=2, average=231 B\n",
      "c:\\Belajar\\udemy\\Data analyst Bootcamp\\python\\venv\\Lib\\site-packages\\IPython\\core\\interactiveshell.py:3043: size=448 B, count=4, average=112 B\n",
      "c:\\Belajar\\udemy\\Data analyst Bootcamp\\python\\venv\\Lib\\site-packages\\IPython\\core\\interactiveshell.py:3366: size=440 B, count=2, average=220 B\n",
      "c:\\Belajar\\udemy\\Data analyst Bootcamp\\python\\venv\\Lib\\site-packages\\executing\\executing.py:316: size=432 B, count=2, average=216 B\n",
      "c:\\Belajar\\udemy\\Data analyst Bootcamp\\python\\venv\\Lib\\site-packages\\executing\\executing.py:278: size=432 B, count=2, average=216 B\n",
      "c:\\Belajar\\udemy\\Data analyst Bootcamp\\python\\venv\\Lib\\site-packages\\ipykernel\\kernelbase.py:516: size=416 B, count=2, average=208 B\n",
      "c:\\Belajar\\udemy\\Data analyst Bootcamp\\python\\venv\\Lib\\site-packages\\ipykernel\\ipkernel.py:486: size=416 B, count=2, average=208 B\n",
      "c:\\Belajar\\udemy\\Data analyst Bootcamp\\python\\venv\\Lib\\site-packages\\IPython\\core\\async_helpers.py:128: size=384 B, count=2, average=192 B\n",
      "C:\\Users\\MyBook Z Series\\AppData\\Local\\Temp\\ipykernel_19156\\4086428290.py:1: size=376 B, count=4, average=94 B\n",
      "c:\\Belajar\\udemy\\Data analyst Bootcamp\\python\\venv\\Lib\\site-packages\\stack_data\\utils.py:156: size=376 B, count=3, average=125 B\n",
      "c:\\Belajar\\udemy\\Data analyst Bootcamp\\python\\venv\\Lib\\site-packages\\jupyter_client\\session.py:989: size=333 B, count=6, average=56 B\n",
      "c:\\Belajar\\udemy\\Data analyst Bootcamp\\python\\venv\\Lib\\site-packages\\IPython\\core\\interactiveshell.py:3615: size=320 B, count=2, average=160 B\n",
      "c:\\Belajar\\udemy\\Data analyst Bootcamp\\python\\venv\\Lib\\site-packages\\IPython\\core\\interactiveshell.py:3631: size=312 B, count=7, average=45 B\n",
      "c:\\Belajar\\udemy\\Data analyst Bootcamp\\python\\venv\\Lib\\contextlib.py:289: size=312 B, count=6, average=52 B\n",
      "c:\\Belajar\\udemy\\Data analyst Bootcamp\\python\\venv\\Lib\\site-packages\\executing\\executing.py:332: size=312 B, count=2, average=156 B\n",
      "c:\\Belajar\\udemy\\Data analyst Bootcamp\\python\\venv\\Lib\\site-packages\\asttokens\\asttokens.py:43: size=312 B, count=2, average=156 B\n",
      "c:\\Belajar\\udemy\\Data analyst Bootcamp\\python\\venv\\Lib\\dis.py:477: size=309 B, count=6, average=52 B\n",
      "c:\\Belajar\\udemy\\Data analyst Bootcamp\\python\\venv\\Lib\\site-packages\\IPython\\core\\interactiveshell.py:3474: size=307 B, count=5, average=61 B\n",
      "c:\\Belajar\\udemy\\Data analyst Bootcamp\\python\\venv\\Lib\\site-packages\\executing\\executing.py:285: size=304 B, count=3, average=101 B\n",
      "c:\\Belajar\\udemy\\Data analyst Bootcamp\\python\\venv\\Lib\\site-packages\\IPython\\core\\ultratb.py:650: size=302 B, count=2, average=151 B\n",
      "c:\\Belajar\\udemy\\Data analyst Bootcamp\\python\\venv\\Lib\\site-packages\\stack_data\\utils.py:170: size=300 B, count=6, average=50 B\n",
      "c:\\Belajar\\udemy\\Data analyst Bootcamp\\python\\venv\\Lib\\site-packages\\ipykernel\\zmqshell.py:76: size=288 B, count=1, average=288 B\n",
      "c:\\Belajar\\udemy\\Data analyst Bootcamp\\python\\venv\\Lib\\site-packages\\ipykernel\\iostream.py:154: size=288 B, count=1, average=288 B\n",
      "c:\\Belajar\\udemy\\Data analyst Bootcamp\\python\\venv\\Lib\\site-packages\\ipykernel\\iostream.py:142: size=288 B, count=1, average=288 B\n",
      "c:\\Belajar\\udemy\\Data analyst Bootcamp\\python\\venv\\Lib\\site-packages\\IPython\\core\\compilerop.py:172: size=280 B, count=10, average=28 B\n",
      "c:\\Belajar\\udemy\\Data analyst Bootcamp\\python\\venv\\Lib\\site-packages\\executing\\_position_node_finder.py:117: size=272 B, count=3, average=91 B\n",
      "c:\\Belajar\\udemy\\Data analyst Bootcamp\\python\\venv\\Lib\\site-packages\\IPython\\core\\interactiveshell.py:3300: size=272 B, count=2, average=136 B\n",
      "c:\\Belajar\\udemy\\Data analyst Bootcamp\\python\\venv\\Lib\\dis.py:494: size=256 B, count=8, average=32 B\n",
      "c:\\Belajar\\udemy\\Data analyst Bootcamp\\python\\venv\\Lib\\site-packages\\IPython\\core\\interactiveshell.py:3279: size=256 B, count=6, average=43 B\n",
      "c:\\Belajar\\udemy\\Data analyst Bootcamp\\python\\venv\\Lib\\typing.py:708: size=256 B, count=4, average=64 B\n",
      "c:\\Belajar\\udemy\\Data analyst Bootcamp\\python\\venv\\Lib\\site-packages\\pygments\\formatters\\terminal256.py:136: size=248 B, count=3, average=83 B\n",
      "c:\\Belajar\\udemy\\Data analyst Bootcamp\\python\\venv\\Lib\\site-packages\\ipykernel\\iostream.py:121: size=248 B, count=1, average=248 B\n",
      "c:\\Belajar\\udemy\\Data analyst Bootcamp\\python\\venv\\Lib\\site-packages\\jupyter_client\\session.py:200: size=240 B, count=5, average=48 B\n",
      "c:\\Belajar\\udemy\\Data analyst Bootcamp\\python\\venv\\Lib\\site-packages\\jupyter_client\\session.py:672: size=240 B, count=2, average=120 B\n",
      "c:\\Belajar\\udemy\\Data analyst Bootcamp\\python\\venv\\Lib\\inspect.py:265: size=240 B, count=2, average=120 B\n",
      "c:\\Belajar\\udemy\\Data analyst Bootcamp\\python\\venv\\Lib\\threading.py:1016: size=224 B, count=8, average=28 B\n",
      "c:\\Belajar\\udemy\\Data analyst Bootcamp\\python\\venv\\Lib\\re\\_parser.py:220: size=224 B, count=4, average=56 B\n",
      "c:\\Belajar\\udemy\\Data analyst Bootcamp\\python\\venv\\Lib\\json\\encoder.py:249: size=224 B, count=2, average=112 B\n",
      "c:\\Belajar\\udemy\\Data analyst Bootcamp\\python\\venv\\Lib\\site-packages\\pygments\\style.py:90: size=216 B, count=3, average=72 B\n",
      "c:\\Belajar\\udemy\\Data analyst Bootcamp\\python\\venv\\Lib\\site-packages\\jupyter_client\\session.py:996: size=208 B, count=5, average=42 B\n",
      "c:\\Belajar\\udemy\\Data analyst Bootcamp\\python\\venv\\Lib\\site-packages\\tornado\\platform\\asyncio.py:241: size=208 B, count=3, average=69 B\n",
      "c:\\Belajar\\udemy\\Data analyst Bootcamp\\python\\venv\\Lib\\site-packages\\IPython\\core\\interactiveshell.py:3450: size=208 B, count=2, average=104 B\n",
      "c:\\Belajar\\udemy\\Data analyst Bootcamp\\python\\venv\\Lib\\asyncio\\base_events.py:792: size=208 B, count=2, average=104 B\n",
      "c:\\Belajar\\udemy\\Data analyst Bootcamp\\python\\venv\\Lib\\site-packages\\IPython\\core\\interactiveshell.py:3720: size=208 B, count=1, average=208 B\n",
      "c:\\Belajar\\udemy\\Data analyst Bootcamp\\python\\venv\\Lib\\site-packages\\IPython\\core\\interactiveshell.py:3497: size=202 B, count=4, average=50 B\n",
      "c:\\Belajar\\udemy\\Data analyst Bootcamp\\python\\venv\\Lib\\dis.py:481: size=193 B, count=3, average=64 B\n",
      "c:\\Belajar\\udemy\\Data analyst Bootcamp\\python\\venv\\Lib\\site-packages\\zmq\\sugar\\socket.py:803: size=192 B, count=3, average=64 B\n",
      "c:\\Belajar\\udemy\\Data analyst Bootcamp\\python\\venv\\Lib\\site-packages\\stack_data\\utils.py:145: size=192 B, count=3, average=64 B\n",
      "c:\\Belajar\\udemy\\Data analyst Bootcamp\\python\\venv\\Lib\\site-packages\\jupyter_client\\session.py:1053: size=192 B, count=3, average=64 B\n",
      "c:\\Belajar\\udemy\\Data analyst Bootcamp\\python\\venv\\Lib\\site-packages\\ipykernel\\kernelbase.py:695: size=192 B, count=3, average=64 B\n",
      "c:\\Belajar\\udemy\\Data analyst Bootcamp\\python\\venv\\Lib\\site-packages\\ipykernel\\kernelbase.py:68: size=192 B, count=3, average=64 B\n",
      "c:\\Belajar\\udemy\\Data analyst Bootcamp\\python\\venv\\Lib\\site-packages\\ipykernel\\ipkernel.py:390: size=192 B, count=3, average=64 B\n",
      "c:\\Belajar\\udemy\\Data analyst Bootcamp\\python\\venv\\Lib\\site-packages\\ipykernel\\ipkernel.py:389: size=192 B, count=3, average=64 B\n",
      "c:\\Belajar\\udemy\\Data analyst Bootcamp\\python\\venv\\Lib\\site-packages\\ipykernel\\ipkernel.py:387: size=192 B, count=3, average=64 B\n",
      "c:\\Belajar\\udemy\\Data analyst Bootcamp\\python\\venv\\Lib\\site-packages\\pygments\\style.py:74: size=188 B, count=4, average=47 B\n",
      "c:\\Belajar\\udemy\\Data analyst Bootcamp\\python\\venv\\Lib\\site-packages\\IPython\\core\\async_helpers.py:150: size=187 B, count=4, average=47 B\n",
      "c:\\Belajar\\udemy\\Data analyst Bootcamp\\python\\venv\\Lib\\site-packages\\IPython\\core\\interactiveshell.py:3607: size=184 B, count=5, average=37 B\n",
      "c:\\Belajar\\udemy\\Data analyst Bootcamp\\python\\venv\\Lib\\site-packages\\asttokens\\line_numbers.py:47: size=184 B, count=2, average=92 B\n",
      "c:\\Belajar\\udemy\\Data analyst Bootcamp\\python\\venv\\Lib\\site-packages\\IPython\\core\\history.py:982: size=180 B, count=4, average=45 B\n",
      "c:\\Belajar\\udemy\\Data analyst Bootcamp\\python\\venv\\Lib\\site-packages\\jupyter_client\\session.py:604: size=170 B, count=2, average=85 B\n",
      "c:\\Belajar\\udemy\\Data analyst Bootcamp\\python\\venv\\Lib\\site-packages\\jupyter_client\\session.py:1088: size=168 B, count=3, average=56 B\n",
      "c:\\Belajar\\udemy\\Data analyst Bootcamp\\python\\venv\\Lib\\site-packages\\zmq\\eventloop\\zmqstream.py:550: size=160 B, count=3, average=53 B\n",
      "c:\\Belajar\\udemy\\Data analyst Bootcamp\\python\\venv\\Lib\\shutil.py:1470: size=160 B, count=2, average=80 B\n",
      "c:\\Belajar\\udemy\\Data analyst Bootcamp\\python\\venv\\Lib\\threading.py:969: size=160 B, count=1, average=160 B\n",
      "c:\\Belajar\\udemy\\Data analyst Bootcamp\\python\\venv\\Lib\\site-packages\\ipykernel\\kernelbase.py:541: size=160 B, count=1, average=160 B\n",
      "c:\\Belajar\\udemy\\Data analyst Bootcamp\\python\\venv\\Lib\\site-packages\\executing\\executing.py:268: size=160 B, count=1, average=160 B\n",
      "c:\\Belajar\\udemy\\Data analyst Bootcamp\\python\\venv\\Lib\\site-packages\\asttokens\\line_numbers.py:49: size=160 B, count=1, average=160 B\n",
      "c:\\Belajar\\udemy\\Data analyst Bootcamp\\python\\venv\\Lib\\site-packages\\IPython\\core\\interactiveshell.py:3412: size=160 B, count=1, average=160 B\n",
      "c:\\Belajar\\udemy\\Data analyst Bootcamp\\python\\venv\\Lib\\site-packages\\IPython\\core\\interactiveshell.py:2175: size=160 B, count=1, average=160 B\n",
      "C:\\Users\\MyBook Z Series\\AppData\\Local\\Temp\\ipykernel_19156\\1759753844.py:7: size=160 B, count=1, average=160 B\n",
      "C:\\Users\\MyBook Z Series\\AppData\\Local\\Temp\\ipykernel_19156\\1759753844.py:4: size=160 B, count=1, average=160 B\n",
      "c:\\Belajar\\udemy\\Data analyst Bootcamp\\python\\venv\\Lib\\site-packages\\zmq\\sugar\\socket.py:748: size=152 B, count=3, average=51 B\n",
      "c:\\Belajar\\udemy\\Data analyst Bootcamp\\python\\venv\\Lib\\re\\__init__.py:260: size=144 B, count=3, average=48 B\n",
      "c:\\Belajar\\udemy\\Data analyst Bootcamp\\python\\venv\\Lib\\site-packages\\ipykernel\\iostream.py:722: size=144 B, count=2, average=72 B\n",
      "c:\\Belajar\\udemy\\Data analyst Bootcamp\\python\\venv\\Lib\\site-packages\\executing\\executing.py:156: size=144 B, count=2, average=72 B\n",
      "c:\\Belajar\\udemy\\Data analyst Bootcamp\\python\\venv\\Lib\\site-packages\\tornado\\queues.py:248: size=144 B, count=1, average=144 B\n",
      "c:\\Belajar\\udemy\\Data analyst Bootcamp\\python\\venv\\Lib\\asyncio\\base_events.py:427: size=144 B, count=1, average=144 B\n",
      "c:\\Belajar\\udemy\\Data analyst Bootcamp\\python\\venv\\Lib\\site-packages\\ipykernel\\iostream.py:527: size=136 B, count=2, average=68 B\n",
      "c:\\Belajar\\udemy\\Data analyst Bootcamp\\python\\venv\\Lib\\site-packages\\stack_data\\core.py:819: size=128 B, count=4, average=32 B\n",
      "c:\\Belajar\\udemy\\Data analyst Bootcamp\\python\\venv\\Lib\\site-packages\\stack_data\\utils.py:155: size=128 B, count=3, average=43 B\n",
      "c:\\Belajar\\udemy\\Data analyst Bootcamp\\python\\venv\\Lib\\typing.py:1158: size=128 B, count=2, average=64 B\n",
      "c:\\Belajar\\udemy\\Data analyst Bootcamp\\python\\venv\\Lib\\site-packages\\pygments\\lexer.py:596: size=128 B, count=2, average=64 B\n",
      "c:\\Belajar\\udemy\\Data analyst Bootcamp\\python\\venv\\Lib\\site-packages\\pygments\\formatters\\terminal256.py:140: size=128 B, count=2, average=64 B\n",
      "c:\\Belajar\\udemy\\Data analyst Bootcamp\\python\\venv\\Lib\\site-packages\\pygments\\formatters\\terminal256.py:139: size=128 B, count=2, average=64 B\n",
      "c:\\Belajar\\udemy\\Data analyst Bootcamp\\python\\venv\\Lib\\site-packages\\jupyter_client\\session.py:663: size=128 B, count=2, average=64 B\n",
      "c:\\Belajar\\udemy\\Data analyst Bootcamp\\python\\venv\\Lib\\site-packages\\ipykernel\\kernelbase.py:735: size=128 B, count=2, average=64 B\n",
      "c:\\Belajar\\udemy\\Data analyst Bootcamp\\python\\venv\\Lib\\site-packages\\ipykernel\\ipkernel.py:500: size=128 B, count=2, average=64 B\n",
      "c:\\Belajar\\udemy\\Data analyst Bootcamp\\python\\venv\\Lib\\site-packages\\ipykernel\\ipkernel.py:482: size=128 B, count=2, average=64 B\n",
      "c:\\Belajar\\udemy\\Data analyst Bootcamp\\python\\venv\\Lib\\site-packages\\executing\\executing.py:441: size=128 B, count=2, average=64 B\n",
      "c:\\Belajar\\udemy\\Data analyst Bootcamp\\python\\venv\\Lib\\site-packages\\IPython\\core\\ultratb.py:908: size=128 B, count=2, average=64 B\n",
      "c:\\Belajar\\udemy\\Data analyst Bootcamp\\python\\venv\\Lib\\site-packages\\IPython\\core\\interactiveshell.py:3114: size=128 B, count=2, average=64 B\n",
      "c:\\Belajar\\udemy\\Data analyst Bootcamp\\python\\venv\\Lib\\site-packages\\IPython\\core\\interactiveshell.py:3065: size=128 B, count=2, average=64 B\n",
      "c:\\Belajar\\udemy\\Data analyst Bootcamp\\python\\venv\\Lib\\site-packages\\IPython\\core\\interactiveshell.py:3625: size=120 B, count=3, average=40 B\n",
      "c:\\Belajar\\udemy\\Data analyst Bootcamp\\python\\venv\\Lib\\site-packages\\traitlets\\traitlets.py:1540: size=120 B, count=2, average=60 B\n",
      "c:\\Belajar\\udemy\\Data analyst Bootcamp\\python\\venv\\Lib\\site-packages\\zmq\\eventloop\\zmqstream.py:641: size=120 B, count=1, average=120 B\n",
      "c:\\Belajar\\udemy\\Data analyst Bootcamp\\python\\venv\\Lib\\site-packages\\traitlets\\traitlets.py:654: size=120 B, count=1, average=120 B\n",
      "c:\\Belajar\\udemy\\Data analyst Bootcamp\\python\\venv\\Lib\\site-packages\\ipykernel\\ipkernel.py:775: size=120 B, count=1, average=120 B\n",
      "c:\\Belajar\\udemy\\Data analyst Bootcamp\\python\\venv\\Lib\\asyncio\\base_events.py:755: size=120 B, count=1, average=120 B\n",
      "c:\\Belajar\\udemy\\Data analyst Bootcamp\\python\\venv\\Lib\\typing.py:1220: size=112 B, count=2, average=56 B\n",
      "c:\\Belajar\\udemy\\Data analyst Bootcamp\\python\\venv\\Lib\\site-packages\\zmq\\eventloop\\zmqstream.py:629: size=112 B, count=2, average=56 B\n",
      "c:\\Belajar\\udemy\\Data analyst Bootcamp\\python\\venv\\Lib\\site-packages\\stack_data\\utils.py:108: size=112 B, count=2, average=56 B\n",
      "c:\\Belajar\\udemy\\Data analyst Bootcamp\\python\\venv\\Lib\\site-packages\\stack_data\\core.py:828: size=112 B, count=2, average=56 B\n",
      "c:\\Belajar\\udemy\\Data analyst Bootcamp\\python\\venv\\Lib\\site-packages\\stack_data\\core.py:740: size=112 B, count=2, average=56 B\n",
      "c:\\Belajar\\udemy\\Data analyst Bootcamp\\python\\venv\\Lib\\site-packages\\stack_data\\core.py:615: size=112 B, count=2, average=56 B\n",
      "c:\\Belajar\\udemy\\Data analyst Bootcamp\\python\\venv\\Lib\\site-packages\\pygments\\regexopt.py:63: size=112 B, count=2, average=56 B\n",
      "c:\\Belajar\\udemy\\Data analyst Bootcamp\\python\\venv\\Lib\\site-packages\\pygments\\regexopt.py:39: size=112 B, count=2, average=56 B\n",
      "c:\\Belajar\\udemy\\Data analyst Bootcamp\\python\\venv\\Lib\\site-packages\\pygments\\formatters\\terminal256.py:138: size=112 B, count=2, average=56 B\n",
      "c:\\Belajar\\udemy\\Data analyst Bootcamp\\python\\venv\\Lib\\site-packages\\executing\\_position_node_finder.py:531: size=112 B, count=2, average=56 B\n",
      "c:\\Belajar\\udemy\\Data analyst Bootcamp\\python\\venv\\Lib\\site-packages\\executing\\_position_node_finder.py:512: size=112 B, count=2, average=56 B\n",
      "c:\\Belajar\\udemy\\Data analyst Bootcamp\\python\\venv\\Lib\\site-packages\\IPython\\core\\ultratb.py:194: size=112 B, count=2, average=56 B\n",
      "c:\\Belajar\\udemy\\Data analyst Bootcamp\\python\\venv\\Lib\\site-packages\\IPython\\core\\payload.py:54: size=112 B, count=2, average=56 B\n",
      "c:\\Belajar\\udemy\\Data analyst Bootcamp\\python\\venv\\Lib\\re\\_parser.py:502: size=112 B, count=2, average=56 B\n",
      "c:\\Belajar\\udemy\\Data analyst Bootcamp\\python\\venv\\Lib\\re\\_compiler.py:325: size=112 B, count=2, average=56 B\n",
      "c:\\Belajar\\udemy\\Data analyst Bootcamp\\python\\venv\\Lib\\re\\_compiler.py:320: size=112 B, count=2, average=56 B\n",
      "c:\\Belajar\\udemy\\Data analyst Bootcamp\\python\\venv\\Lib\\json\\__init__.py:234: size=104 B, count=1, average=104 B\n",
      "c:\\Belajar\\udemy\\Data analyst Bootcamp\\python\\venv\\Lib\\inspect.py:2102: size=104 B, count=1, average=104 B\n",
      "c:\\Belajar\\udemy\\Data analyst Bootcamp\\python\\venv\\Lib\\site-packages\\ipykernel\\ipkernel.py:476: size=102 B, count=2, average=51 B\n",
      "c:\\Belajar\\udemy\\Data analyst Bootcamp\\python\\venv\\Lib\\site-packages\\jupyter_client\\session.py:688: size=97 B, count=1, average=97 B\n",
      "c:\\Belajar\\udemy\\Data analyst Bootcamp\\python\\venv\\Lib\\site-packages\\IPython\\core\\history.py:969: size=96 B, count=2, average=48 B\n",
      "c:\\Belajar\\udemy\\Data analyst Bootcamp\\python\\venv\\Lib\\warnings.py:189: size=96 B, count=1, average=96 B\n",
      "c:\\Belajar\\udemy\\Data analyst Bootcamp\\python\\venv\\Lib\\site-packages\\jupyter_client\\session.py:750: size=96 B, count=1, average=96 B\n",
      "c:\\Belajar\\udemy\\Data analyst Bootcamp\\python\\venv\\Lib\\inspect.py:2111: size=96 B, count=1, average=96 B\n",
      "c:\\Belajar\\udemy\\Data analyst Bootcamp\\python\\venv\\Lib\\site-packages\\zmq\\sugar\\attrsettr.py:29: size=94 B, count=2, average=47 B\n",
      "c:\\Belajar\\udemy\\Data analyst Bootcamp\\python\\venv\\Lib\\site-packages\\ipykernel\\kernelbase.py:1160: size=90 B, count=1, average=90 B\n",
      "c:\\Belajar\\udemy\\Data analyst Bootcamp\\python\\venv\\Lib\\site-packages\\stack_data\\core.py:101: size=88 B, count=2, average=44 B\n",
      "c:\\Belajar\\udemy\\Data analyst Bootcamp\\python\\venv\\Lib\\site-packages\\asttokens\\line_numbers.py:32: size=88 B, count=2, average=44 B\n",
      "c:\\Belajar\\udemy\\Data analyst Bootcamp\\python\\venv\\Lib\\site-packages\\IPython\\core\\interactiveshell.py:3068: size=88 B, count=2, average=44 B\n",
      "c:\\Belajar\\udemy\\Data analyst Bootcamp\\python\\venv\\Lib\\site-packages\\ipykernel\\kernelbase.py:531: size=84 B, count=3, average=28 B\n",
      "c:\\Belajar\\udemy\\Data analyst Bootcamp\\python\\venv\\Lib\\site-packages\\stack_data\\core.py:824: size=80 B, count=2, average=40 B\n",
      "c:\\Belajar\\udemy\\Data analyst Bootcamp\\python\\venv\\Lib\\fnmatch.py:46: size=80 B, count=1, average=80 B\n",
      "c:\\Belajar\\udemy\\Data analyst Bootcamp\\python\\venv\\Lib\\site-packages\\ipykernel\\ipkernel.py:477: size=77 B, count=1, average=77 B\n",
      "c:\\Belajar\\udemy\\Data analyst Bootcamp\\python\\venv\\Lib\\site-packages\\stack_data\\core.py:684: size=72 B, count=3, average=24 B\n",
      "c:\\Belajar\\udemy\\Data analyst Bootcamp\\python\\venv\\Lib\\site-packages\\IPython\\core\\history.py:1030: size=72 B, count=1, average=72 B\n",
      "c:\\Belajar\\udemy\\Data analyst Bootcamp\\python\\venv\\Lib\\site-packages\\IPython\\core\\history.py:1013: size=72 B, count=1, average=72 B\n",
      "c:\\Belajar\\udemy\\Data analyst Bootcamp\\python\\venv\\Lib\\site-packages\\IPython\\core\\history.py:1009: size=72 B, count=1, average=72 B\n",
      "c:\\Belajar\\udemy\\Data analyst Bootcamp\\python\\venv\\Lib\\linecache.py:143: size=72 B, count=1, average=72 B\n",
      "c:\\Belajar\\udemy\\Data analyst Bootcamp\\python\\venv\\Lib\\site-packages\\stack_data\\core.py:616: size=64 B, count=2, average=32 B\n",
      "c:\\Belajar\\udemy\\Data analyst Bootcamp\\python\\venv\\Lib\\site-packages\\executing\\executing.py:258: size=64 B, count=2, average=32 B\n",
      "c:\\Belajar\\udemy\\Data analyst Bootcamp\\python\\venv\\Lib\\site-packages\\IPython\\core\\ultratb.py:213: size=64 B, count=2, average=32 B\n",
      "c:\\Belajar\\udemy\\Data analyst Bootcamp\\python\\venv\\Lib\\asyncio\\base_events.py:1935: size=64 B, count=2, average=32 B\n",
      "c:\\Belajar\\udemy\\Data analyst Bootcamp\\python\\venv\\Lib\\site-packages\\zmq\\sugar\\socket.py:737: size=64 B, count=1, average=64 B\n",
      "c:\\Belajar\\udemy\\Data analyst Bootcamp\\python\\venv\\Lib\\site-packages\\traitlets\\traitlets.py:2335: size=64 B, count=1, average=64 B\n",
      "c:\\Belajar\\udemy\\Data analyst Bootcamp\\python\\venv\\Lib\\site-packages\\ipykernel\\ipkernel.py:300: size=64 B, count=1, average=64 B\n",
      "c:\\Belajar\\udemy\\Data analyst Bootcamp\\python\\venv\\Lib\\site-packages\\ipykernel\\ipkernel.py:297: size=64 B, count=1, average=64 B\n",
      "c:\\Belajar\\udemy\\Data analyst Bootcamp\\python\\venv\\Lib\\site-packages\\executing\\executing.py:259: size=64 B, count=1, average=64 B\n",
      "c:\\Belajar\\udemy\\Data analyst Bootcamp\\python\\venv\\Lib\\site-packages\\executing\\executing.py:217: size=64 B, count=1, average=64 B\n",
      "c:\\Belajar\\udemy\\Data analyst Bootcamp\\python\\venv\\Lib\\site-packages\\decorator.py:235: size=64 B, count=1, average=64 B\n",
      "c:\\Belajar\\udemy\\Data analyst Bootcamp\\python\\venv\\Lib\\site-packages\\asttokens\\line_numbers.py:35: size=64 B, count=1, average=64 B\n",
      "c:\\Belajar\\udemy\\Data analyst Bootcamp\\python\\venv\\Lib\\site-packages\\IPython\\core\\interactiveshell.py:3688: size=64 B, count=1, average=64 B\n",
      "c:\\Belajar\\udemy\\Data analyst Bootcamp\\python\\venv\\Lib\\site-packages\\IPython\\core\\interactiveshell.py:3637: size=64 B, count=1, average=64 B\n",
      "c:\\Belajar\\udemy\\Data analyst Bootcamp\\python\\venv\\Lib\\site-packages\\IPython\\core\\interactiveshell.py:3363: size=64 B, count=1, average=64 B\n",
      "c:\\Belajar\\udemy\\Data analyst Bootcamp\\python\\venv\\Lib\\site-packages\\IPython\\core\\interactiveshell.py:3360: size=64 B, count=1, average=64 B\n",
      "c:\\Belajar\\udemy\\Data analyst Bootcamp\\python\\venv\\Lib\\site-packages\\IPython\\core\\history.py:1111: size=64 B, count=1, average=64 B\n",
      "c:\\Belajar\\udemy\\Data analyst Bootcamp\\python\\venv\\Lib\\re\\__init__.py:289: size=64 B, count=1, average=64 B\n",
      "c:\\Belajar\\udemy\\Data analyst Bootcamp\\python\\venv\\Lib\\inspect.py:2907: size=64 B, count=1, average=64 B\n",
      "c:\\Belajar\\udemy\\Data analyst Bootcamp\\python\\venv\\Lib\\warnings.py:486: size=56 B, count=1, average=56 B\n",
      "c:\\Belajar\\udemy\\Data analyst Bootcamp\\python\\venv\\Lib\\typing.py:1233: size=56 B, count=1, average=56 B\n",
      "c:\\Belajar\\udemy\\Data analyst Bootcamp\\python\\venv\\Lib\\tracemalloc.py:558: size=56 B, count=1, average=56 B\n",
      "c:\\Belajar\\udemy\\Data analyst Bootcamp\\python\\venv\\Lib\\site-packages\\zmq\\sugar\\poll.py:50: size=56 B, count=1, average=56 B\n",
      "c:\\Belajar\\udemy\\Data analyst Bootcamp\\python\\venv\\Lib\\site-packages\\traitlets\\traitlets.py:1534: size=56 B, count=1, average=56 B\n",
      "c:\\Belajar\\udemy\\Data analyst Bootcamp\\python\\venv\\Lib\\site-packages\\stack_data\\utils.py:81: size=56 B, count=1, average=56 B\n",
      "c:\\Belajar\\udemy\\Data analyst Bootcamp\\python\\venv\\Lib\\site-packages\\stack_data\\utils.py:78: size=56 B, count=1, average=56 B\n",
      "c:\\Belajar\\udemy\\Data analyst Bootcamp\\python\\venv\\Lib\\site-packages\\stack_data\\utils.py:68: size=56 B, count=1, average=56 B\n",
      "c:\\Belajar\\udemy\\Data analyst Bootcamp\\python\\venv\\Lib\\site-packages\\pygments\\regexopt.py:66: size=56 B, count=1, average=56 B\n",
      "c:\\Belajar\\udemy\\Data analyst Bootcamp\\python\\venv\\Lib\\site-packages\\jupyter_client\\session.py:738: size=56 B, count=1, average=56 B\n",
      "c:\\Belajar\\udemy\\Data analyst Bootcamp\\python\\venv\\Lib\\site-packages\\IPython\\core\\ultratb.py:875: size=56 B, count=1, average=56 B\n",
      "c:\\Belajar\\udemy\\Data analyst Bootcamp\\python\\venv\\Lib\\site-packages\\IPython\\core\\interactiveshell.py:3620: size=56 B, count=1, average=56 B\n",
      "c:\\Belajar\\udemy\\Data analyst Bootcamp\\python\\venv\\Lib\\site-packages\\IPython\\core\\interactiveshell.py:3605: size=56 B, count=1, average=56 B\n",
      "c:\\Belajar\\udemy\\Data analyst Bootcamp\\python\\venv\\Lib\\site-packages\\IPython\\core\\history.py:1058: size=56 B, count=1, average=56 B\n",
      "c:\\Belajar\\udemy\\Data analyst Bootcamp\\python\\venv\\Lib\\site-packages\\IPython\\core\\history.py:1047: size=56 B, count=1, average=56 B\n",
      "c:\\Belajar\\udemy\\Data analyst Bootcamp\\python\\venv\\Lib\\site-packages\\IPython\\core\\completer.py:3387: size=56 B, count=1, average=56 B\n",
      "c:\\Belajar\\udemy\\Data analyst Bootcamp\\python\\venv\\Lib\\re\\_parser.py:871: size=56 B, count=1, average=56 B\n",
      "c:\\Belajar\\udemy\\Data analyst Bootcamp\\python\\venv\\Lib\\re\\_parser.py:697: size=56 B, count=1, average=56 B\n",
      "c:\\Belajar\\udemy\\Data analyst Bootcamp\\python\\venv\\Lib\\re\\_parser.py:630: size=56 B, count=1, average=56 B\n",
      "c:\\Belajar\\udemy\\Data analyst Bootcamp\\python\\venv\\Lib\\re\\_parser.py:579: size=56 B, count=1, average=56 B\n",
      "c:\\Belajar\\udemy\\Data analyst Bootcamp\\python\\venv\\Lib\\re\\_compiler.py:762: size=56 B, count=1, average=56 B\n",
      "c:\\Belajar\\udemy\\Data analyst Bootcamp\\python\\venv\\Lib\\re\\_compiler.py:756: size=56 B, count=1, average=56 B\n",
      "c:\\Belajar\\udemy\\Data analyst Bootcamp\\python\\venv\\Lib\\re\\_compiler.py:281: size=56 B, count=1, average=56 B\n",
      "c:\\Belajar\\udemy\\Data analyst Bootcamp\\python\\venv\\Lib\\inspect.py:2903: size=56 B, count=1, average=56 B\n",
      "c:\\Belajar\\udemy\\Data analyst Bootcamp\\python\\venv\\Lib\\fnmatch.py:52: size=56 B, count=1, average=56 B\n",
      "c:\\Belajar\\udemy\\Data analyst Bootcamp\\python\\venv\\Lib\\asyncio\\base_events.py:738: size=56 B, count=1, average=56 B\n",
      "c:\\Belajar\\udemy\\Data analyst Bootcamp\\python\\venv\\Lib\\site-packages\\IPython\\core\\interactiveshell.py:3070: size=52 B, count=1, average=52 B\n",
      "c:\\Belajar\\udemy\\Data analyst Bootcamp\\python\\venv\\Lib\\fnmatch.py:185: size=52 B, count=1, average=52 B\n",
      "c:\\Belajar\\udemy\\Data analyst Bootcamp\\python\\venv\\Lib\\site-packages\\tornado\\concurrent.py:196: size=48 B, count=1, average=48 B\n",
      "c:\\Belajar\\udemy\\Data analyst Bootcamp\\python\\venv\\Lib\\site-packages\\stack_data\\core.py:455: size=48 B, count=1, average=48 B\n",
      "c:\\Belajar\\udemy\\Data analyst Bootcamp\\python\\venv\\Lib\\site-packages\\stack_data\\core.py:153: size=48 B, count=1, average=48 B\n",
      "c:\\Belajar\\udemy\\Data analyst Bootcamp\\python\\venv\\Lib\\site-packages\\IPython\\core\\interactiveshell.py:3627: size=48 B, count=1, average=48 B\n",
      "c:\\Belajar\\udemy\\Data analyst Bootcamp\\python\\venv\\Lib\\site-packages\\IPython\\core\\history.py:1010: size=48 B, count=1, average=48 B\n",
      "c:\\Belajar\\udemy\\Data analyst Bootcamp\\python\\venv\\Lib\\site-packages\\IPython\\core\\prefilter.py:317: size=47 B, count=1, average=47 B\n",
      "c:\\Belajar\\udemy\\Data analyst Bootcamp\\python\\venv\\Lib\\site-packages\\IPython\\core\\interactiveshell.py:3721: size=40 B, count=1, average=40 B\n",
      "c:\\Belajar\\udemy\\Data analyst Bootcamp\\python\\venv\\Lib\\site-packages\\IPython\\core\\interactiveshell.py:3413: size=40 B, count=1, average=40 B\n",
      "c:\\Belajar\\udemy\\Data analyst Bootcamp\\python\\venv\\Lib\\site-packages\\stack_data\\core.py:763: size=32 B, count=2, average=16 B\n",
      "c:\\Belajar\\udemy\\Data analyst Bootcamp\\python\\venv\\Lib\\site-packages\\tornado\\queues.py:318: size=32 B, count=1, average=32 B\n",
      "c:\\Belajar\\udemy\\Data analyst Bootcamp\\python\\venv\\Lib\\site-packages\\jupyter_client\\session.py:603: size=32 B, count=1, average=32 B\n",
      "c:\\Belajar\\udemy\\Data analyst Bootcamp\\python\\venv\\Lib\\site-packages\\ipykernel\\iostream.py:637: size=32 B, count=1, average=32 B\n",
      "c:\\Belajar\\udemy\\Data analyst Bootcamp\\python\\venv\\Lib\\site-packages\\ipykernel\\iostream.py:168: size=32 B, count=1, average=32 B\n",
      "c:\\Belajar\\udemy\\Data analyst Bootcamp\\python\\venv\\Lib\\site-packages\\executing\\executing.py:248: size=32 B, count=1, average=32 B\n",
      "c:\\Belajar\\udemy\\Data analyst Bootcamp\\python\\venv\\Lib\\site-packages\\IPython\\core\\completer.py:3136: size=32 B, count=1, average=32 B\n",
      "c:\\Belajar\\udemy\\Data analyst Bootcamp\\python\\venv\\Lib\\site-packages\\IPython\\core\\completer.py:869: size=32 B, count=1, average=32 B\n",
      "c:\\Belajar\\udemy\\Data analyst Bootcamp\\python\\venv\\Lib\\site-packages\\IPython\\core\\compilerop.py:192: size=32 B, count=1, average=32 B\n",
      "c:\\Belajar\\udemy\\Data analyst Bootcamp\\python\\venv\\Lib\\queue.py:151: size=32 B, count=1, average=32 B\n",
      "c:\\Belajar\\udemy\\Data analyst Bootcamp\\python\\venv\\Lib\\linecache.py:93: size=32 B, count=1, average=32 B\n",
      "c:\\Belajar\\udemy\\Data analyst Bootcamp\\python\\venv\\Lib\\asyncio\\base_events.py:758: size=32 B, count=1, average=32 B\n"
     ]
    }
   ],
   "source": [
    "main()"
   ]
  }
 ],
 "metadata": {
  "kernelspec": {
   "display_name": "Python 3",
   "language": "python",
   "name": "python3"
  },
  "language_info": {
   "codemirror_mode": {
    "name": "ipython",
    "version": 3
   },
   "file_extension": ".py",
   "mimetype": "text/x-python",
   "name": "python",
   "nbconvert_exporter": "python",
   "pygments_lexer": "ipython3",
   "version": "3.12.0"
  }
 },
 "nbformat": 4,
 "nbformat_minor": 5
}
